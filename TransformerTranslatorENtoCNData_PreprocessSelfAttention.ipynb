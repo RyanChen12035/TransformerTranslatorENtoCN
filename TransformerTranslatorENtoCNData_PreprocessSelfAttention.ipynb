{
  "nbformat": 4,
  "nbformat_minor": 0,
  "metadata": {
    "colab": {
      "provenance": [],
      "gpuType": "T4"
    },
    "kernelspec": {
      "name": "python3",
      "display_name": "Python 3"
    },
    "language_info": {
      "name": "python"
    },
    "accelerator": "GPU"
  },
  "cells": [
    {
      "cell_type": "markdown",
      "source": [
        "Transformer implementation by Tensorflow and make it as a ZN to EN translator\n",
        "#### 8/3 go through the code and debug it. Need to review how to do it.\n",
        "#### https://leemeng.tw/neural-machine-translation-with-transformer-and-tensorflow2.html#top\n"
      ],
      "metadata": {
        "id": "yUuYU_Y9UiXN"
      }
    },
    {
      "cell_type": "code",
      "source": [
        "import os\n",
        "import time\n",
        "import numpy as np\n",
        "import matplotlib as mpl\n",
        "import matplotlib.pyplot as plt\n",
        "from pprint import pprint\n",
        "from IPython.display import clear_output"
      ],
      "metadata": {
        "id": "1Y_asZWyUt9z"
      },
      "execution_count": 2,
      "outputs": []
    },
    {
      "cell_type": "code",
      "source": [
        "!pip install tensorflow-gpu==2.0.0-beta0\n",
        "clear_output()\n",
        "\n",
        "import tensorflow as tf\n",
        "import tensorflow_datasets as tfds\n",
        "print(tf.__version__)"
      ],
      "metadata": {
        "colab": {
          "base_uri": "https://localhost:8080/"
        },
        "id": "4_J5dQqUU1Z3",
        "outputId": "4752181e-7631-48f8-ec78-0daafa68f3e4"
      },
      "execution_count": 3,
      "outputs": [
        {
          "output_type": "stream",
          "name": "stdout",
          "text": [
            "2.12.0\n"
          ]
        }
      ]
    },
    {
      "cell_type": "code",
      "source": [
        "import logging\n",
        "logging.basicConfig(level=\"error\")\n",
        "\n",
        "np.set_printoptions(suppress=True)"
      ],
      "metadata": {
        "id": "TT8-7beEU_N9"
      },
      "execution_count": 4,
      "outputs": []
    },
    {
      "cell_type": "code",
      "source": [
        "#set up directory\n",
        "output_dir = \"nmt\"\n",
        "en_vocab_file = os.path.join(output_dir, \"en_vocab\")\n",
        "zh_vocab_file = os.path.join(output_dir, \"zh_vocab\")\n",
        "checkpoint_path = os.path.join(output_dir, \"checkpoints\")\n",
        "log_dir = os.path.join(output_dir, 'logs')\n",
        "download_dir = \"tensorflow-datasets/downloads\"\n",
        "\n",
        "if not os.path.exists(output_dir):\n",
        "  os.makedirs(output_dir)"
      ],
      "metadata": {
        "id": "E-80roiwVJrF"
      },
      "execution_count": 5,
      "outputs": []
    },
    {
      "cell_type": "code",
      "source": [
        "#check out the data source we have\n",
        "tmp_builder = tfds.builder(\"wmt19_translate/zh-en\")\n",
        "pprint(tmp_builder.subsets)"
      ],
      "metadata": {
        "colab": {
          "base_uri": "https://localhost:8080/"
        },
        "id": "XLpRjAnLVRPU",
        "outputId": "7a08a126-4b35-40ac-de20-9dc2318532f7"
      },
      "execution_count": 6,
      "outputs": [
        {
          "output_type": "stream",
          "name": "stdout",
          "text": [
            "{Split('train'): ['newscommentary_v14',\n",
            "                  'wikititles_v1',\n",
            "                  'uncorpus_v1',\n",
            "                  'casia2015',\n",
            "                  'casict2011',\n",
            "                  'casict2015',\n",
            "                  'datum2015',\n",
            "                  'datum2017',\n",
            "                  'neu2017'],\n",
            " Split('validation'): ['newstest2018']}\n"
          ]
        }
      ]
    },
    {
      "cell_type": "code",
      "source": [
        "#download data by tfds.builder\n",
        "config = tfds.translate.wmt.WmtConfig(\n",
        "  version=tfds.core.Version('0.0.3'),\n",
        "  language_pair=(\"zh\", \"en\"),\n",
        "  subsets={\n",
        "    tfds.Split.TRAIN: [\"newscommentary_v14\"]\n",
        "  }\n",
        ")\n",
        "builder = tfds.builder(\"wmt_translate\", config=config)\n",
        "builder.download_and_prepare(download_dir=download_dir)\n",
        "clear_output()"
      ],
      "metadata": {
        "id": "hJA02j6UVpRf"
      },
      "execution_count": 7,
      "outputs": []
    },
    {
      "cell_type": "code",
      "source": [
        "#set builder to dataset(data pipeline type), split it into training, validation, testing\n",
        "examples = builder.as_dataset(split=['train[:20%]','train[20%:21%]','train[21%:]'], as_supervised=True)"
      ],
      "metadata": {
        "id": "NY3PQntvW6Cu"
      },
      "execution_count": 8,
      "outputs": []
    },
    {
      "cell_type": "code",
      "source": [
        "#leave the testing examples this time.\n",
        "train_examples, val_examples, _ = examples\n",
        "print(train_examples)\n",
        "print(val_examples)"
      ],
      "metadata": {
        "colab": {
          "base_uri": "https://localhost:8080/"
        },
        "id": "i7F-GtSBcmtG",
        "outputId": "84bc02c4-dfef-47ca-a9fc-83063c90535d"
      },
      "execution_count": 9,
      "outputs": [
        {
          "output_type": "stream",
          "name": "stdout",
          "text": [
            "<_PrefetchDataset element_spec=(TensorSpec(shape=(), dtype=tf.string, name=None), TensorSpec(shape=(), dtype=tf.string, name=None))>\n",
            "<_PrefetchDataset element_spec=(TensorSpec(shape=(), dtype=tf.string, name=None), TensorSpec(shape=(), dtype=tf.string, name=None))>\n"
          ]
        }
      ]
    },
    {
      "cell_type": "code",
      "source": [
        "for en, zh in train_examples.take(3):\n",
        "  print(en)\n",
        "  print(zh)\n",
        "  print('-' * 10)"
      ],
      "metadata": {
        "colab": {
          "base_uri": "https://localhost:8080/"
        },
        "id": "HX4ve2FRcush",
        "outputId": "b607c7d7-a850-4f9d-aa13-c2fb74282294"
      },
      "execution_count": 10,
      "outputs": [
        {
          "output_type": "stream",
          "name": "stdout",
          "text": [
            "tf.Tensor(b'The fear is real and visceral, and politicians ignore it at their peril.', shape=(), dtype=string)\n",
            "tf.Tensor(b'\\xe8\\xbf\\x99\\xe7\\xa7\\x8d\\xe6\\x81\\x90\\xe6\\x83\\xa7\\xe6\\x98\\xaf\\xe7\\x9c\\x9f\\xe5\\xae\\x9e\\xe8\\x80\\x8c\\xe5\\x86\\x85\\xe5\\x9c\\xa8\\xe7\\x9a\\x84\\xe3\\x80\\x82 \\xe5\\xbf\\xbd\\xe8\\xa7\\x86\\xe5\\xae\\x83\\xe7\\x9a\\x84\\xe6\\x94\\xbf\\xe6\\xb2\\xbb\\xe5\\xae\\xb6\\xe4\\xbb\\xac\\xe5\\x89\\x8d\\xe9\\x80\\x94\\xe5\\xa0\\xaa\\xe5\\xbf\\xa7\\xe3\\x80\\x82', shape=(), dtype=string)\n",
            "----------\n",
            "tf.Tensor(b'In fact, the German political landscape needs nothing more than a truly liberal party, in the US sense of the word \\xe2\\x80\\x9cliberal\\xe2\\x80\\x9d \\xe2\\x80\\x93 a champion of the cause of individual freedom.', shape=(), dtype=string)\n",
            "tf.Tensor(b'\\xe4\\xba\\x8b\\xe5\\xae\\x9e\\xe4\\xb8\\x8a\\xef\\xbc\\x8c\\xe5\\xbe\\xb7\\xe5\\x9b\\xbd\\xe6\\x94\\xbf\\xe6\\xb2\\xbb\\xe5\\xb1\\x80\\xe5\\x8a\\xbf\\xe9\\x9c\\x80\\xe8\\xa6\\x81\\xe7\\x9a\\x84\\xe4\\xb8\\x8d\\xe8\\xbf\\x87\\xe6\\x98\\xaf\\xe4\\xb8\\x80\\xe4\\xb8\\xaa\\xe7\\xac\\xa6\\xe5\\x90\\x88\\xe7\\xbe\\x8e\\xe5\\x9b\\xbd\\xe6\\x89\\x80\\xe8\\xb0\\x93\\xe2\\x80\\x9c\\xe8\\x87\\xaa\\xe7\\x94\\xb1\\xe2\\x80\\x9d\\xe5\\xae\\x9a\\xe4\\xb9\\x89\\xe7\\x9a\\x84\\xe7\\x9c\\x9f\\xe6\\xad\\xa3\\xe7\\x9a\\x84\\xe8\\x87\\xaa\\xe7\\x94\\xb1\\xe5\\x85\\x9a\\xe6\\xb4\\xbe\\xef\\xbc\\x8c\\xe4\\xb9\\x9f\\xe5\\xb0\\xb1\\xe6\\x98\\xaf\\xe4\\xb8\\xaa\\xe4\\xba\\xba\\xe8\\x87\\xaa\\xe7\\x94\\xb1\\xe4\\xba\\x8b\\xe4\\xb8\\x9a\\xe7\\x9a\\x84\\xe5\\x80\\xa1\\xe5\\xaf\\xbc\\xe8\\x80\\x85\\xe3\\x80\\x82', shape=(), dtype=string)\n",
            "----------\n",
            "tf.Tensor(b'Shifting to renewable-energy sources will require enormous effort and major infrastructure investment.', shape=(), dtype=string)\n",
            "tf.Tensor(b'\\xe5\\xbf\\x85\\xe9\\xa1\\xbb\\xe4\\xbb\\x98\\xe5\\x87\\xba\\xe5\\xb7\\xa8\\xe5\\xa4\\xa7\\xe7\\x9a\\x84\\xe5\\x8a\\xaa\\xe5\\x8a\\x9b\\xe5\\x92\\x8c\\xe5\\x9f\\xba\\xe7\\xa1\\x80\\xe8\\xae\\xbe\\xe6\\x96\\xbd\\xe6\\x8a\\x95\\xe8\\xb5\\x84\\xe6\\x89\\x8d\\xe8\\x83\\xbd\\xe5\\xae\\x8c\\xe6\\x88\\x90\\xe5\\x90\\x91\\xe5\\x8f\\xaf\\xe5\\x86\\x8d\\xe7\\x94\\x9f\\xe8\\x83\\xbd\\xe6\\xba\\x90\\xe7\\x9a\\x84\\xe8\\xbf\\x87\\xe6\\xb8\\xa1\\xe3\\x80\\x82', shape=(), dtype=string)\n",
            "----------\n"
          ]
        }
      ]
    },
    {
      "cell_type": "code",
      "source": [
        "sample_examples = []\n",
        "num_samples = 10\n",
        "\n",
        "for en_t, zh_t in train_examples.take(num_samples):\n",
        "  en = en_t.numpy().decode(\"utf-8\")\n",
        "  zh = zh_t.numpy().decode(\"utf-8\")\n",
        "\n",
        "  print(en)\n",
        "  print(zh)\n",
        "  print('-' * 10)\n",
        "\n",
        "  # 之後用來簡單評估模型的訓練情況\n",
        "  sample_examples.append((en, zh))"
      ],
      "metadata": {
        "colab": {
          "base_uri": "https://localhost:8080/"
        },
        "id": "mwRnP2H6cxDB",
        "outputId": "8c2addba-0181-4386-a909-c8e4961bdad4"
      },
      "execution_count": 11,
      "outputs": [
        {
          "output_type": "stream",
          "name": "stdout",
          "text": [
            "The fear is real and visceral, and politicians ignore it at their peril.\n",
            "这种恐惧是真实而内在的。 忽视它的政治家们前途堪忧。\n",
            "----------\n",
            "In fact, the German political landscape needs nothing more than a truly liberal party, in the US sense of the word “liberal” – a champion of the cause of individual freedom.\n",
            "事实上，德国政治局势需要的不过是一个符合美国所谓“自由”定义的真正的自由党派，也就是个人自由事业的倡导者。\n",
            "----------\n",
            "Shifting to renewable-energy sources will require enormous effort and major infrastructure investment.\n",
            "必须付出巨大的努力和基础设施投资才能完成向可再生能源的过渡。\n",
            "----------\n",
            "In this sense, it is critical to recognize the fundamental difference between “urban villages” and their rural counterparts.\n",
            "在这方面，关键在于认识到“城市村落”和农村村落之间的根本区别。\n",
            "----------\n",
            "A strong European voice, such as Nicolas Sarkozy’s during the French presidency of the EU, may make a difference, but only for six months, and at the cost of reinforcing other European countries’ nationalist feelings in reaction to the expression of “Gallic pride.”\n",
            "法国担任轮值主席国期间尼古拉·萨科奇统一的欧洲声音可能让人耳目一新，但这种声音却只持续了短短六个月，而且付出了让其他欧洲国家在面对“高卢人的骄傲”时民族主义情感进一步被激发的代价。\n",
            "----------\n",
            "Most of Japan’s bondholders are nationals (if not the central bank) and have an interest in political stability.\n",
            "日本债券持有人大多为本国国民（甚至中央银行 ） ， 政治稳定符合他们的利益。\n",
            "----------\n",
            "Paul Romer, one of the originators of new growth theory, has accused some leading names, including the Nobel laureate Robert Lucas, of what he calls “mathiness” – using math to obfuscate rather than clarify.\n",
            "新增长理论创始人之一的保罗·罗默（Paul Romer）也批评一些著名经济学家，包括诺贝尔奖获得者罗伯特·卢卡斯（Robert Lucas）在内，说他们“数学性 ” （ 罗默的用语）太重，结果是让问题变得更加模糊而不是更加清晰。\n",
            "----------\n",
            "It is, in fact, a capsule depiction of the United States Federal Reserve and the European Central Bank.\n",
            "事实上，这就是对美联储和欧洲央行的简略描述。\n",
            "----------\n",
            "Given these variables, the degree to which migration is affected by asylum-seekers will not be easy to predict or control.\n",
            "考虑到这些变量，移民受寻求庇护者的影响程度很难预测或控制。\n",
            "----------\n",
            "WASHINGTON, DC – In the 2016 American presidential election, Hillary Clinton and Donald Trump agreed that the US economy is suffering from dilapidated infrastructure, and both called for greater investment in renovating and upgrading the country’s public capital stock.\n",
            "华盛顿—在2016年美国总统选举中，希拉里·克林顿和唐纳德·特朗普都认为美国经济饱受基础设施陈旧的拖累，两人都要求加大投资用于修缮和升级美国公共资本存量。\n",
            "----------\n"
          ]
        }
      ]
    },
    {
      "cell_type": "code",
      "source": [
        "#create own eng dictionary\n",
        "%%time\n",
        "try:\n",
        "  subword_encoder_en = tfds.deprecated.text.SubwordTextEncoder.load_from_file(en_vocab_file)\n",
        "  print(f\"載入已建立的字典： {en_vocab_file}\")\n",
        "except:\n",
        "  print(\"沒有已建立的字典，從頭建立。\")\n",
        "  subword_encoder_en = tfds.deprecated.text.SubwordTextEncoder.build_from_corpus(\n",
        "      (en.numpy() for en, _ in train_examples),\n",
        "      target_vocab_size=2**13) # 有需要可以調整字典大小\n",
        "\n",
        "  # 將字典檔案存下以方便下次 warmstart\n",
        "  subword_encoder_en.save_to_file(en_vocab_file)\n",
        "\n",
        "\n",
        "print(f\"字典大小：{subword_encoder_en.vocab_size}\")\n",
        "print(f\"前 10 個 subwords：{subword_encoder_en.subwords[:10]}\")\n",
        "print()"
      ],
      "metadata": {
        "colab": {
          "base_uri": "https://localhost:8080/"
        },
        "id": "s_h82Jm4eFD_",
        "outputId": "7f64dd65-cf85-41c5-e770-2864d84f5709"
      },
      "execution_count": 12,
      "outputs": [
        {
          "output_type": "stream",
          "name": "stdout",
          "text": [
            "沒有已建立的字典，從頭建立。\n",
            "字典大小：8113\n",
            "前 10 個 subwords：[', ', 'the_', 'of_', 'to_', 'and_', 's_', 'in_', 'a_', 'is_', 'that_']\n",
            "\n",
            "CPU times: user 1min 28s, sys: 3.59 s, total: 1min 31s\n",
            "Wall time: 1min 25s\n"
          ]
        }
      ]
    },
    {
      "cell_type": "code",
      "source": [
        "sample_string = 'Taiwan is beautiful.'\n",
        "indices = subword_encoder_en.encode(sample_string)\n",
        "indices"
      ],
      "metadata": {
        "colab": {
          "base_uri": "https://localhost:8080/"
        },
        "id": "w5fvarXdi4xc",
        "outputId": "91dfd10e-eedb-41ff-fac1-262e6c410c05"
      },
      "execution_count": 13,
      "outputs": [
        {
          "output_type": "execute_result",
          "data": {
            "text/plain": [
              "[3461, 7889, 9, 3502, 4379, 1134, 7903]"
            ]
          },
          "metadata": {},
          "execution_count": 13
        }
      ]
    },
    {
      "cell_type": "code",
      "source": [
        "print(\"{0:10}{1:6}\".format(\"Index\", \"Subword\"))\n",
        "print(\"-\" * 15)\n",
        "for idx in indices:\n",
        "  subword = subword_encoder_en.decode([idx])\n",
        "  print('{0:5}{1:6}'.format(idx, ' ' * 5 + subword))"
      ],
      "metadata": {
        "colab": {
          "base_uri": "https://localhost:8080/"
        },
        "id": "MvXXZn5sjHHs",
        "outputId": "70702171-c1fb-41ac-fdac-c340162cf746"
      },
      "execution_count": 14,
      "outputs": [
        {
          "output_type": "stream",
          "name": "stdout",
          "text": [
            "Index     Subword\n",
            "---------------\n",
            " 3461     Taiwan\n",
            " 7889      \n",
            "    9     is \n",
            " 3502     bea\n",
            " 4379     uti\n",
            " 1134     ful\n",
            " 7903     .\n"
          ]
        }
      ]
    },
    {
      "cell_type": "code",
      "source": [
        "%%time\n",
        "try:\n",
        "  subword_encoder_zh = tfds.deprecated.text.SubwordTextEncoder.load_from_file(zh_vocab_file)\n",
        "  print(f\"載入已建立的字典： {zh_vocab_file}\")\n",
        "except:\n",
        "  print(\"沒有已建立的字典，從頭建立。\")\n",
        "  subword_encoder_zh = tfds.deprecated.text.SubwordTextEncoder.build_from_corpus(\n",
        "      (zh.numpy() for _, zh in train_examples),\n",
        "      target_vocab_size=2**13, # 有需要可以調整字典大小\n",
        "      max_subword_length=1) # 每一個中文字就是字典裡的一個單位\n",
        "\n",
        "  # 將字典檔案存下以方便下次 warmstart\n",
        "  subword_encoder_zh.save_to_file(zh_vocab_file)\n",
        "\n",
        "print(f\"字典大小：{subword_encoder_zh.vocab_size}\")\n",
        "print(f\"前 10 個 subwords：{subword_encoder_zh.subwords[:10]}\")\n",
        "print()"
      ],
      "metadata": {
        "colab": {
          "base_uri": "https://localhost:8080/"
        },
        "id": "8kHMkfIWjLZh",
        "outputId": "b2226461-d145-4ac8-fe4e-6c7274d4aa9f"
      },
      "execution_count": 15,
      "outputs": [
        {
          "output_type": "stream",
          "name": "stdout",
          "text": [
            "沒有已建立的字典，從頭建立。\n",
            "字典大小：4205\n",
            "前 10 個 subwords：['的', '，', '。', '国', '在', '是', '一', '和', '不', '这']\n",
            "\n",
            "CPU times: user 7min 19s, sys: 2.81 s, total: 7min 21s\n",
            "Wall time: 8min 2s\n"
          ]
        }
      ]
    },
    {
      "cell_type": "code",
      "source": [
        "sample_string = sample_examples[0][1]\n",
        "indices = subword_encoder_zh.encode(sample_string)\n",
        "print(sample_string)\n",
        "print(indices)"
      ],
      "metadata": {
        "colab": {
          "base_uri": "https://localhost:8080/"
        },
        "id": "uzEX-WxGjVqY",
        "outputId": "de443caa-7218-411e-db43-6ddc401cdfdd"
      },
      "execution_count": 16,
      "outputs": [
        {
          "output_type": "stream",
          "name": "stdout",
          "text": [
            "这种恐惧是真实而内在的。 忽视它的政治家们前途堪忧。\n",
            "[10, 151, 574, 1298, 6, 374, 55, 29, 193, 5, 1, 3, 3981, 931, 431, 125, 1, 17, 124, 33, 20, 97, 1089, 1247, 861, 3]\n"
          ]
        }
      ]
    },
    {
      "cell_type": "code",
      "source": [
        "en = \"The eurozone’s collapse forces a major realignment of European politics.\"\n",
        "zh = \"欧元区的瓦解强迫欧洲政治进行一次重大改组。\"\n",
        "\n",
        "# 將文字轉成為 subword indices\n",
        "en_indices = subword_encoder_en.encode(en)\n",
        "zh_indices = subword_encoder_zh.encode(zh)\n",
        "\n",
        "print(\"[英中原文]（轉換前）\")\n",
        "print(en)\n",
        "print(zh)\n",
        "print()\n",
        "print('-' * 20)\n",
        "print()\n",
        "print(\"[英中序列]（轉換後）\")\n",
        "print(en_indices)\n",
        "print(zh_indices)"
      ],
      "metadata": {
        "colab": {
          "base_uri": "https://localhost:8080/"
        },
        "id": "DUuy26KRjajN",
        "outputId": "baa581cc-81b3-4a2d-83fa-865a1a8844c4"
      },
      "execution_count": 17,
      "outputs": [
        {
          "output_type": "stream",
          "name": "stdout",
          "text": [
            "[英中原文]（轉換前）\n",
            "The eurozone’s collapse forces a major realignment of European politics.\n",
            "欧元区的瓦解强迫欧洲政治进行一次重大改组。\n",
            "\n",
            "--------------------\n",
            "\n",
            "[英中序列]（轉換後）\n",
            "[16, 900, 11, 6, 1527, 874, 8, 230, 2259, 2728, 239, 3, 89, 1236, 7903]\n",
            "[44, 202, 168, 1, 852, 201, 231, 592, 44, 87, 17, 124, 106, 38, 7, 279, 86, 18, 212, 265, 3]\n"
          ]
        }
      ]
    },
    {
      "cell_type": "code",
      "source": [
        "def encode(en_t, zh_t):\n",
        "  # 因為字典的索引從 0 開始，\n",
        "  # 我們可以使用 subword_encoder_en.vocab_size 這個值作為 BOS 的索引值\n",
        "  # 用 subword_encoder_en.vocab_size + 1 作為 EOS 的索引值\n",
        "  en_indices = [subword_encoder_en.vocab_size] + subword_encoder_en.encode(\n",
        "      en_t.numpy()) + [subword_encoder_en.vocab_size + 1]\n",
        "  # 同理，不過是使用中文字典的最後一個索引 + 1\n",
        "  zh_indices = [subword_encoder_zh.vocab_size] + subword_encoder_zh.encode(\n",
        "      zh_t.numpy()) + [subword_encoder_zh.vocab_size + 1]\n",
        "\n",
        "  return en_indices, zh_indices"
      ],
      "metadata": {
        "id": "9UtvlUStk7hp"
      },
      "execution_count": 18,
      "outputs": []
    },
    {
      "cell_type": "code",
      "source": [
        "en_t, zh_t = next(iter(train_examples))\n",
        "en_indices, zh_indices = encode(en_t, zh_t)\n",
        "print('英文 BOS 的 index：', subword_encoder_en.vocab_size)\n",
        "print('英文 EOS 的 index：', subword_encoder_en.vocab_size + 1)\n",
        "print('中文 BOS 的 index：', subword_encoder_zh.vocab_size)\n",
        "print('中文 EOS 的 index：', subword_encoder_zh.vocab_size + 1)\n",
        "\n",
        "print('\\n輸入為 2 個 Tensors：')\n",
        "pprint((en_t, zh_t))\n",
        "print('-' * 15)\n",
        "print('輸出為 2 個索引序列：')\n",
        "pprint((en_indices, zh_indices))"
      ],
      "metadata": {
        "id": "4eQiwP3WlCmh",
        "colab": {
          "base_uri": "https://localhost:8080/"
        },
        "outputId": "1f45fb6e-bc0c-4b66-9e02-15f7471e78c0"
      },
      "execution_count": 19,
      "outputs": [
        {
          "output_type": "stream",
          "name": "stdout",
          "text": [
            "英文 BOS 的 index： 8113\n",
            "英文 EOS 的 index： 8114\n",
            "中文 BOS 的 index： 4205\n",
            "中文 EOS 的 index： 4206\n",
            "\n",
            "輸入為 2 個 Tensors：\n",
            "(<tf.Tensor: shape=(), dtype=string, numpy=b'The fear is real and visceral, and politicians ignore it at their peril.'>,\n",
            " <tf.Tensor: shape=(), dtype=string, numpy=b'\\xe8\\xbf\\x99\\xe7\\xa7\\x8d\\xe6\\x81\\x90\\xe6\\x83\\xa7\\xe6\\x98\\xaf\\xe7\\x9c\\x9f\\xe5\\xae\\x9e\\xe8\\x80\\x8c\\xe5\\x86\\x85\\xe5\\x9c\\xa8\\xe7\\x9a\\x84\\xe3\\x80\\x82 \\xe5\\xbf\\xbd\\xe8\\xa7\\x86\\xe5\\xae\\x83\\xe7\\x9a\\x84\\xe6\\x94\\xbf\\xe6\\xb2\\xbb\\xe5\\xae\\xb6\\xe4\\xbb\\xac\\xe5\\x89\\x8d\\xe9\\x80\\x94\\xe5\\xa0\\xaa\\xe5\\xbf\\xa7\\xe3\\x80\\x82'>)\n",
            "---------------\n",
            "輸出為 2 個索引序列：\n",
            "([8113,\n",
            "  16,\n",
            "  1284,\n",
            "  9,\n",
            "  243,\n",
            "  5,\n",
            "  1275,\n",
            "  1756,\n",
            "  156,\n",
            "  1,\n",
            "  5,\n",
            "  1016,\n",
            "  5566,\n",
            "  21,\n",
            "  38,\n",
            "  33,\n",
            "  2982,\n",
            "  7965,\n",
            "  7903,\n",
            "  8114],\n",
            " [4205,\n",
            "  10,\n",
            "  151,\n",
            "  574,\n",
            "  1298,\n",
            "  6,\n",
            "  374,\n",
            "  55,\n",
            "  29,\n",
            "  193,\n",
            "  5,\n",
            "  1,\n",
            "  3,\n",
            "  3981,\n",
            "  931,\n",
            "  431,\n",
            "  125,\n",
            "  1,\n",
            "  17,\n",
            "  124,\n",
            "  33,\n",
            "  20,\n",
            "  97,\n",
            "  1089,\n",
            "  1247,\n",
            "  861,\n",
            "  3,\n",
            "  4206])\n"
          ]
        }
      ]
    },
    {
      "cell_type": "code",
      "source": [
        "def tf_encode(en_t, zh_t):\n",
        "  # 在 `tf_encode` 函式裡頭的 `en_t` 與 `zh_t` 都不是 Eager Tensors\n",
        "  # 要到 `tf.py_funtion` 裡頭才是\n",
        "  # 另外因為索引都是整數，所以使用 `tf.int64`\n",
        "  return tf.py_function(encode, [en_t, zh_t], [tf.int64, tf.int64])\n",
        "\n",
        "# `tmp_dataset` 為說明用資料集，說明完所有重要的 func，\n",
        "# 我們會從頭建立一個正式的 `train_dataset`\n",
        "tmp_dataset = train_examples.map(tf_encode)\n",
        "en_indices, zh_indices = next(iter(tmp_dataset))\n",
        "print(en_indices)\n",
        "print(zh_indices)"
      ],
      "metadata": {
        "colab": {
          "base_uri": "https://localhost:8080/"
        },
        "id": "ishJYlKVljve",
        "outputId": "a1d0490f-762c-479e-848c-6657175347ca"
      },
      "execution_count": 20,
      "outputs": [
        {
          "output_type": "stream",
          "name": "stdout",
          "text": [
            "tf.Tensor(\n",
            "[8113   16 1284    9  243    5 1275 1756  156    1    5 1016 5566   21\n",
            "   38   33 2982 7965 7903 8114], shape=(20,), dtype=int64)\n",
            "tf.Tensor(\n",
            "[4205   10  151  574 1298    6  374   55   29  193    5    1    3 3981\n",
            "  931  431  125    1   17  124   33   20   97 1089 1247  861    3 4206], shape=(28,), dtype=int64)\n"
          ]
        }
      ]
    },
    {
      "cell_type": "code",
      "source": [
        "MAX_LENGTH = 40\n",
        "\n",
        "def filter_max_length(en, zh, max_length=MAX_LENGTH):\n",
        "  # en, zh 分別代表英文與中文的索引序列\n",
        "  return tf.logical_and(tf.size(en) <= max_length,\n",
        "                        tf.size(zh) <= max_length)\n",
        "\n",
        "# tf.data.Dataset.filter(func) 只會回傳 func 為真的例子\n",
        "train_dataset = tmp_dataset.filter(filter_max_length)"
      ],
      "metadata": {
        "id": "jHVJ4aUymTOs"
      },
      "execution_count": 21,
      "outputs": []
    },
    {
      "cell_type": "code",
      "source": [
        "# 因為我們數據量小可以這樣 count\n",
        "num_examples = 0\n",
        "for en_indices, zh_indices in train_dataset:\n",
        "  cond1 = len(en_indices) <= MAX_LENGTH\n",
        "  cond2 = len(zh_indices) <= MAX_LENGTH\n",
        "  assert cond1 and cond2\n",
        "  num_examples += 1\n",
        "\n",
        "print(f\"所有英文與中文序列長度都不超過 {MAX_LENGTH} 個 tokens\")\n",
        "print(f\"訓練資料集裡總共有 {num_examples} 筆數據\")"
      ],
      "metadata": {
        "colab": {
          "base_uri": "https://localhost:8080/"
        },
        "id": "O0foVyEemh8B",
        "outputId": "d4801baf-0a2a-4f52-ddf2-dc3e62cf9ea1"
      },
      "execution_count": 22,
      "outputs": [
        {
          "output_type": "stream",
          "name": "stdout",
          "text": [
            "所有英文與中文序列長度都不超過 40 個 tokens\n",
            "訓練資料集裡總共有 29784 筆數據\n"
          ]
        }
      ]
    },
    {
      "cell_type": "code",
      "source": [
        "BATCH_SIZE = 64\n",
        "# 將 batch 裡的所有序列都 pad 到同樣長度\n",
        "tmp_dataset = tmp_dataset.padded_batch(BATCH_SIZE, padded_shapes=([-1], [-1]))\n",
        "en_batch, zh_batch = next(iter(tmp_dataset))\n",
        "print(\"英文索引序列的 batch\")\n",
        "print(en_batch)\n",
        "print('-' * 20)\n",
        "print(\"中文索引序列的 batch\")\n",
        "print(zh_batch)"
      ],
      "metadata": {
        "colab": {
          "base_uri": "https://localhost:8080/"
        },
        "id": "svth2q8Km5ZY",
        "outputId": "5c2bd0da-fc96-470f-abf5-c003eefc6bb9"
      },
      "execution_count": 23,
      "outputs": [
        {
          "output_type": "stream",
          "name": "stdout",
          "text": [
            "英文索引序列的 batch\n",
            "tf.Tensor(\n",
            "[[8113   16 1284 ...    0    0    0]\n",
            " [8113   44  369 ...    0    0    0]\n",
            " [8113 1894 1302 ...    0    0    0]\n",
            " ...\n",
            " [8113 1668    1 ... 4024 7903 8114]\n",
            " [8113 5751 1538 ...    0    0    0]\n",
            " [8113 1809 5706 ...    0    0    0]], shape=(64, 71), dtype=int64)\n",
            "--------------------\n",
            "中文索引序列的 batch\n",
            "tf.Tensor(\n",
            "[[4205   10  151 ...    0    0    0]\n",
            " [4205  109   55 ...    0    0    0]\n",
            " [4205  206  275 ...    0    0    0]\n",
            " ...\n",
            " [4205   73   76 ...    0    0    0]\n",
            " [4205    5  115 ...    0    0    0]\n",
            " [4205    9  270 ...    0    0    0]], shape=(64, 116), dtype=int64)\n"
          ]
        }
      ]
    },
    {
      "cell_type": "code",
      "source": [
        "MAX_LENGTH = 40\n",
        "BATCH_SIZE = 128\n",
        "BUFFER_SIZE = 15000\n",
        "\n",
        "# 訓練集\n",
        "train_dataset = (train_examples  # 輸出：(英文句子, 中文句子)\n",
        "                 .map(tf_encode) # 輸出：(英文索引序列, 中文索引序列)\n",
        "                 .filter(filter_max_length) # 同上，且序列長度都不超過 40\n",
        "                 .cache() # 加快讀取數據\n",
        "                 .shuffle(BUFFER_SIZE) # 將例子洗牌確保隨機性\n",
        "                 .padded_batch(BATCH_SIZE, # 將 batch 裡的序列都 pad 到一樣長度\n",
        "                               padded_shapes=([-1], [-1]))\n",
        "                 .prefetch(tf.data.experimental.AUTOTUNE)) # 加速\n",
        "# 驗證集\n",
        "val_dataset = (val_examples\n",
        "               .map(tf_encode)\n",
        "               .filter(filter_max_length)\n",
        "               .padded_batch(BATCH_SIZE,\n",
        "                             padded_shapes=([-1], [-1])))"
      ],
      "metadata": {
        "id": "i2uYQzDvnDVj"
      },
      "execution_count": 24,
      "outputs": []
    },
    {
      "cell_type": "code",
      "source": [
        "en_batch, zh_batch = next(iter(train_dataset))\n",
        "print(\"英文索引序列的 batch\")\n",
        "print(en_batch)\n",
        "print('-' * 20)\n",
        "print(\"中文索引序列的 batch\")\n",
        "print(zh_batch)"
      ],
      "metadata": {
        "colab": {
          "base_uri": "https://localhost:8080/"
        },
        "id": "ME__uxI_nHvb",
        "outputId": "14dfb10b-9ce3-4fd8-e988-83934dec56d5"
      },
      "execution_count": 25,
      "outputs": [
        {
          "output_type": "stream",
          "name": "stdout",
          "text": [
            "英文索引序列的 batch\n",
            "tf.Tensor(\n",
            "[[8113 7442  263 ...    0    0    0]\n",
            " [8113 7850 3028 ...    0    0    0]\n",
            " [8113 2477  690 ...    0    0    0]\n",
            " ...\n",
            " [8113 6564 5500 ...    0    0    0]\n",
            " [8113   16 5025 ...    0    0    0]\n",
            " [8113   16  376 ...    0    0    0]], shape=(128, 39), dtype=int64)\n",
            "--------------------\n",
            "中文索引序列的 batch\n",
            "tf.Tensor(\n",
            "[[4205   10   66 ...  282    3 4206]\n",
            " [4205  113   57 ...    0    0    0]\n",
            " [4205  380  138 ...    0    0    0]\n",
            " ...\n",
            " [4205  762  248 ...    0    0    0]\n",
            " [4205  125   20 ...    0    0    0]\n",
            " [4205  122  142 ...    0    0    0]], shape=(128, 40), dtype=int64)\n"
          ]
        }
      ]
    },
    {
      "cell_type": "code",
      "source": [
        "demo_examples = [\n",
        "    (\"It is important.\", \"这很重要。\"),\n",
        "    (\"The numbers speak for themselves.\", \"数字证明了一切。\"),\n",
        "]\n",
        "pprint(demo_examples)"
      ],
      "metadata": {
        "colab": {
          "base_uri": "https://localhost:8080/"
        },
        "id": "8GY4jTq0nWBd",
        "outputId": "b0b23911-c2ec-4579-f0b1-b115f9dc74ed"
      },
      "execution_count": 26,
      "outputs": [
        {
          "output_type": "stream",
          "name": "stdout",
          "text": [
            "[('It is important.', '这很重要。'),\n",
            " ('The numbers speak for themselves.', '数字证明了一切。')]\n"
          ]
        }
      ]
    },
    {
      "cell_type": "code",
      "source": [
        "batch_size = 2\n",
        "demo_examples = tf.data.Dataset.from_tensor_slices((\n",
        "    [en for en, _ in demo_examples], [zh for _, zh in demo_examples]\n",
        "))\n",
        "\n",
        "# 將兩個句子透過之前定義的字典轉換成子詞的序列（sequence of subwords）\n",
        "# 並添加 padding token: <pad> 來確保 batch 裡的句子有一樣長度\n",
        "demo_dataset = demo_examples.map(tf_encode)\\\n",
        "  .padded_batch(batch_size, padded_shapes=([-1], [-1]))\n",
        "\n",
        "# 取出這個 demo dataset 裡唯一一個 batch\n",
        "inp, tar = next(iter(demo_dataset))\n",
        "print('inp:', inp)\n",
        "print('' * 10)\n",
        "print('tar:', tar)"
      ],
      "metadata": {
        "colab": {
          "base_uri": "https://localhost:8080/"
        },
        "id": "VrdNMrOKnc9J",
        "outputId": "5b430ffe-95fd-4957-bf9a-b6fd9ec2d15b"
      },
      "execution_count": 27,
      "outputs": [
        {
          "output_type": "stream",
          "name": "stdout",
          "text": [
            "inp: tf.Tensor(\n",
            "[[8113  103    9 1066 7903 8114    0    0]\n",
            " [8113   16 4111 6735   12 2750 7903 8114]], shape=(2, 8), dtype=int64)\n",
            "\n",
            "tar: tf.Tensor(\n",
            "[[4205   10  241   86   27    3 4206    0    0    0]\n",
            " [4205  165  489  398  191   14    7  560    3 4206]], shape=(2, 10), dtype=int64)\n"
          ]
        }
      ]
    },
    {
      "cell_type": "code",
      "source": [
        "# + 2 是因為我們額外加了 <start> 以及 <end> tokens\n",
        "vocab_size_en = subword_encoder_en.vocab_size + 2\n",
        "vocab_size_zh = subword_encoder_zh.vocab_size + 2\n",
        "\n",
        "# 為了方便 demo, 將詞彙轉換到一個 4 維的詞嵌入空間\n",
        "d_model = 4\n",
        "embedding_layer_en = tf.keras.layers.Embedding(vocab_size_en, d_model)\n",
        "embedding_layer_zh = tf.keras.layers.Embedding(vocab_size_zh, d_model)\n",
        "\n",
        "emb_inp = embedding_layer_en(inp)\n",
        "emb_tar = embedding_layer_zh(tar)\n",
        "emb_inp, emb_tar"
      ],
      "metadata": {
        "colab": {
          "base_uri": "https://localhost:8080/"
        },
        "id": "g19vVT_Lnd5V",
        "outputId": "7572edf0-4fc1-472d-c221-b3979f1ea1f0"
      },
      "execution_count": 28,
      "outputs": [
        {
          "output_type": "execute_result",
          "data": {
            "text/plain": [
              "(<tf.Tensor: shape=(2, 8, 4), dtype=float32, numpy=\n",
              " array([[[-0.01637832,  0.03400192, -0.00486914, -0.02727315],\n",
              "         [ 0.01807672,  0.04586885, -0.00837681, -0.01868344],\n",
              "         [ 0.03254446, -0.03692192, -0.04143903,  0.01203753],\n",
              "         [-0.03374638, -0.02751192, -0.02851299, -0.03671575],\n",
              "         [-0.0397326 ,  0.01103113,  0.02805561,  0.03553073],\n",
              "         [-0.04084475, -0.01713504, -0.03573289, -0.00080014],\n",
              "         [-0.04951513,  0.02047533, -0.00041007, -0.04462561],\n",
              "         [-0.04951513,  0.02047533, -0.00041007, -0.04462561]],\n",
              " \n",
              "        [[-0.01637832,  0.03400192, -0.00486914, -0.02727315],\n",
              "         [-0.03728326, -0.01829024,  0.01303029,  0.04857924],\n",
              "         [-0.02846702, -0.0301271 , -0.01792432, -0.02161928],\n",
              "         [ 0.04052008, -0.01152984, -0.0100124 ,  0.04973086],\n",
              "         [-0.03867329,  0.03325143,  0.02873326, -0.02955965],\n",
              "         [-0.04257087, -0.04273322,  0.03774521, -0.00022129],\n",
              "         [-0.0397326 ,  0.01103113,  0.02805561,  0.03553073],\n",
              "         [-0.04084475, -0.01713504, -0.03573289, -0.00080014]]],\n",
              "       dtype=float32)>,\n",
              " <tf.Tensor: shape=(2, 10, 4), dtype=float32, numpy=\n",
              " array([[[-0.03370434, -0.00040915,  0.01621002,  0.02959156],\n",
              "         [ 0.00020893, -0.02146518, -0.01734713, -0.04848955],\n",
              "         [-0.02004542,  0.04567743,  0.01952017,  0.03763341],\n",
              "         [ 0.04656069,  0.00940622, -0.02387552, -0.00291573],\n",
              "         [-0.04445958, -0.03811692, -0.03323603, -0.00427986],\n",
              "         [-0.03769994,  0.0101443 ,  0.02870115, -0.04249842],\n",
              "         [ 0.02782292, -0.02117069, -0.01088843,  0.01868758],\n",
              "         [ 0.03875598, -0.02139729, -0.03621877, -0.04835099],\n",
              "         [ 0.03875598, -0.02139729, -0.03621877, -0.04835099],\n",
              "         [ 0.03875598, -0.02139729, -0.03621877, -0.04835099]],\n",
              " \n",
              "        [[-0.03370434, -0.00040915,  0.01621002,  0.02959156],\n",
              "         [-0.00072296,  0.00133721,  0.04996287, -0.02974154],\n",
              "         [-0.0315287 ,  0.00096459, -0.03869132,  0.03721639],\n",
              "         [ 0.03348037,  0.04117829, -0.01081663, -0.03712411],\n",
              "         [-0.01982154,  0.00042848,  0.03554371,  0.00115931],\n",
              "         [ 0.04716489, -0.01372367, -0.03882816,  0.0093639 ],\n",
              "         [ 0.00294013, -0.01908912, -0.00398605,  0.04855062],\n",
              "         [ 0.02742532, -0.00719453,  0.03052774, -0.02020096],\n",
              "         [-0.03769994,  0.0101443 ,  0.02870115, -0.04249842],\n",
              "         [ 0.02782292, -0.02117069, -0.01088843,  0.01868758]]],\n",
              "       dtype=float32)>)"
            ]
          },
          "metadata": {},
          "execution_count": 28
        }
      ]
    },
    {
      "cell_type": "markdown",
      "source": [
        "# Attention"
      ],
      "metadata": {
        "id": "J8abWyXMiosN"
      }
    },
    {
      "cell_type": "code",
      "source": [
        "def create_padding_mask(seq):\n",
        "  # padding mask 的工作就是把索引序列中為 0 的位置設為 1\n",
        "  mask = tf.cast(tf.equal(seq, 0), tf.float32)\n",
        "  return mask[:, tf.newaxis, tf.newaxis, :] #　broadcasting\n",
        "\n",
        "inp_mask = create_padding_mask(inp)\n",
        "inp_mask"
      ],
      "metadata": {
        "colab": {
          "base_uri": "https://localhost:8080/"
        },
        "id": "AwQhBT7xobi1",
        "outputId": "e6c7b10b-f417-47c1-ed48-ccc6833c84ea"
      },
      "execution_count": 29,
      "outputs": [
        {
          "output_type": "execute_result",
          "data": {
            "text/plain": [
              "<tf.Tensor: shape=(2, 1, 1, 8), dtype=float32, numpy=\n",
              "array([[[[0., 0., 0., 0., 0., 0., 1., 1.]]],\n",
              "\n",
              "\n",
              "       [[[0., 0., 0., 0., 0., 0., 0., 0.]]]], dtype=float32)>"
            ]
          },
          "metadata": {},
          "execution_count": 29
        }
      ]
    },
    {
      "cell_type": "code",
      "source": [
        "print(\"inp:\", inp)\n",
        "print(\"-\" * 20)\n",
        "print(\"tf.squeeze(inp_mask):\", tf.squeeze(inp_mask))"
      ],
      "metadata": {
        "colab": {
          "base_uri": "https://localhost:8080/"
        },
        "id": "OlbEMTQxo0zn",
        "outputId": "f9ba4add-0752-42ed-9245-4f1284d102e6"
      },
      "execution_count": 30,
      "outputs": [
        {
          "output_type": "stream",
          "name": "stdout",
          "text": [
            "inp: tf.Tensor(\n",
            "[[8113  103    9 1066 7903 8114    0    0]\n",
            " [8113   16 4111 6735   12 2750 7903 8114]], shape=(2, 8), dtype=int64)\n",
            "--------------------\n",
            "tf.squeeze(inp_mask): tf.Tensor(\n",
            "[[0. 0. 0. 0. 0. 0. 1. 1.]\n",
            " [0. 0. 0. 0. 0. 0. 0. 0.]], shape=(2, 8), dtype=float32)\n"
          ]
        }
      ]
    },
    {
      "cell_type": "code",
      "source": [
        "# 設定一個 seed 確保我們每次都拿到一樣的隨機結果\n",
        "tf.random.set_seed(9527)\n",
        "\n",
        "# 自注意力機制：查詢 `q` 跟鍵值 `k` 都是 `emb_inp`\n",
        "q = emb_inp\n",
        "k = emb_inp\n",
        "# 簡單產生一個跟 `emb_inp` 同樣 shape 的 binary vector\n",
        "v = tf.cast(tf.math.greater(tf.random.uniform(shape=emb_inp.shape), 0.5), tf.float32)\n",
        "v"
      ],
      "metadata": {
        "colab": {
          "base_uri": "https://localhost:8080/"
        },
        "id": "NEU9Rv6Uo6kD",
        "outputId": "50493ba1-2ed6-48f6-b2f2-e76f93950ac8"
      },
      "execution_count": 31,
      "outputs": [
        {
          "output_type": "execute_result",
          "data": {
            "text/plain": [
              "<tf.Tensor: shape=(2, 8, 4), dtype=float32, numpy=\n",
              "array([[[1., 0., 0., 0.],\n",
              "        [0., 1., 0., 1.],\n",
              "        [0., 0., 0., 1.],\n",
              "        [1., 0., 1., 0.],\n",
              "        [1., 0., 1., 0.],\n",
              "        [0., 1., 0., 1.],\n",
              "        [0., 0., 1., 0.],\n",
              "        [0., 1., 0., 1.]],\n",
              "\n",
              "       [[1., 0., 1., 1.],\n",
              "        [1., 0., 1., 0.],\n",
              "        [1., 0., 0., 0.],\n",
              "        [1., 0., 1., 0.],\n",
              "        [0., 1., 0., 1.],\n",
              "        [1., 1., 1., 1.],\n",
              "        [0., 0., 0., 0.],\n",
              "        [0., 0., 1., 0.]]], dtype=float32)>"
            ]
          },
          "metadata": {},
          "execution_count": 31
        }
      ]
    },
    {
      "cell_type": "code",
      "source": [
        "def scaled_dot_product_attention(q, k, v, mask):\n",
        "  \"\"\"Calculate the attention weights.\n",
        "  q, k, v must have matching leading dimensions.\n",
        "  k, v must have matching penultimate dimension, i.e.: seq_len_k = seq_len_v.\n",
        "  The mask has different shapes depending on its type(padding or look ahead)\n",
        "  but it must be broadcastable for addition.\n",
        "\n",
        "  Args:\n",
        "    q: query shape == (..., seq_len_q, depth)\n",
        "    k: key shape == (..., seq_len_k, depth)\n",
        "    v: value shape == (..., seq_len_v, depth_v)\n",
        "    mask: Float tensor with shape broadcastable\n",
        "          to (..., seq_len_q, seq_len_k). Defaults to None.\n",
        "\n",
        "  Returns:\n",
        "    output, attention_weights\n",
        "  \"\"\"\n",
        "  # 將 `q`、 `k` 做點積再 scale\n",
        "  # 2D np.dot = tf.matmul\n",
        "  matmul_qk = tf.matmul(q, k, transpose_b=True)  # (..., seq_len_q, seq_len_k)\n",
        "\n",
        "  dk = tf.cast(tf.shape(k)[-1], tf.float32)  # 取得 seq_k 的序列長度\n",
        "  scaled_attention_logits = matmul_qk / tf.math.sqrt(dk)  # scale by sqrt(dk)\n",
        "\n",
        "  # 將遮罩「加」到被丟入 softmax 前的 logits\n",
        "  # in this case, scaled_attention_logits a tensor with size of (2,8,8) and mask size of (2,1,8), the mask would atuo expand to (2,8,8). It's broadcasting\n",
        "  if mask is not None:\n",
        "    scaled_attention_logits += (mask * -1e9)\n",
        "\n",
        "  # 取 softmax 是為了得到總和為 1 的比例之後對 `v` 做加權平均\n",
        "  attention_weights = tf.nn.softmax(scaled_attention_logits, axis=-1)  # (..., seq_len_q, seq_len_k)\n",
        "\n",
        "  # 以注意權重對 v 做加權平均（weighted average）\n",
        "  output = tf.matmul(attention_weights, v)  # (..., seq_len_q, depth_v)\n",
        "\n",
        "  return output, attention_weights"
      ],
      "metadata": {
        "id": "BCwhyenso7uy"
      },
      "execution_count": 32,
      "outputs": []
    },
    {
      "cell_type": "code",
      "source": [
        "mask = None\n",
        "output, attention_weights = scaled_dot_product_attention(q, k, v, mask)\n",
        "print(\"output:\", output)\n",
        "print(\"-\" * 20)\n",
        "print(\"attention_weights:\", attention_weights)\n",
        "\n",
        "#the shape of out still remain (2,8,4). 2 sentences, 8 token long for each sentence and embedding dimension 4. But right now, it has the context and was distilled to a abstract concept of language."
      ],
      "metadata": {
        "colab": {
          "base_uri": "https://localhost:8080/"
        },
        "id": "LE3PR6MCo-7Q",
        "outputId": "133c352b-5ac8-4cfe-9d3d-6d40422bb6cd"
      },
      "execution_count": 33,
      "outputs": [
        {
          "output_type": "stream",
          "name": "stdout",
          "text": [
            "output: tf.Tensor(\n",
            "[[[0.37497997 0.37510204 0.3750134  0.49991602]\n",
            "  [0.37493372 0.37510663 0.37487543 0.5000282 ]\n",
            "  [0.3748954  0.37493277 0.37483466 0.50024295]\n",
            "  [0.374956   0.37501606 0.37508106 0.49996436]\n",
            "  [0.37514746 0.3749776  0.37518972 0.49982035]\n",
            "  [0.3749935  0.3750041  0.3750835  0.49997568]\n",
            "  [0.37501603 0.37510276 0.37514967 0.49980128]\n",
            "  [0.37501603 0.37510276 0.37514967 0.49980128]]\n",
            "\n",
            " [[0.6248413  0.25008973 0.62485147 0.37522483]\n",
            "  [0.62498975 0.24998426 0.6250524  0.37480706]\n",
            "  [0.6249907  0.25004742 0.62498003 0.37501445]\n",
            "  [0.625191   0.24975207 0.6252261  0.37464693]\n",
            "  [0.6247677  0.25025737 0.6247542  0.37536234]\n",
            "  [0.6249846  0.25021294 0.6249405  0.3750617 ]\n",
            "  [0.6248864  0.25007915 0.62494105 0.37499094]\n",
            "  [0.62494963 0.24995206 0.6250061  0.37491044]]], shape=(2, 8, 4), dtype=float32)\n",
            "--------------------\n",
            "attention_weights: tf.Tensor(\n",
            "[[[0.12507054 0.12504691 0.12481398 0.12498087 0.12492856 0.12495118\n",
            "   0.12510397 0.12510397]\n",
            "  [0.12509638 0.1251612  0.12492156 0.1249238  0.12491356 0.12490738\n",
            "   0.12503806 0.12503806]\n",
            "  [0.12492238 0.12498061 0.12531021 0.12508313 0.12488989 0.1250905\n",
            "   0.12486164 0.12486164]\n",
            "  [0.12495455 0.12484811 0.12494829 0.12516086 0.12484061 0.12508836\n",
            "   0.1250796  0.1250796 ]\n",
            "  [0.12498987 0.12492543 0.12484276 0.12492818 0.12522943 0.12502004\n",
            "   0.12503211 0.12503211]\n",
            "  [0.12494081 0.12484763 0.12497157 0.12510434 0.12494836 0.12512569\n",
            "   0.1250308  0.1250308 ]\n",
            "  [0.12504905 0.12493376 0.12469854 0.12505102 0.12491595 0.12498628\n",
            "   0.1251827  0.1251827 ]\n",
            "  [0.12504905 0.12493376 0.12469854 0.12505102 0.12491595 0.12498628\n",
            "   0.1251827  0.1251827 ]]\n",
            "\n",
            " [[0.1251351  0.1249106  0.12500545 0.12485043 0.12515002 0.1249397\n",
            "   0.12499305 0.12501568]\n",
            "  [0.1248228  0.12517618 0.12493071 0.12497175 0.12489596 0.1250883\n",
            "   0.12512091 0.12499339]\n",
            "  [0.12496703 0.12498014 0.12511632 0.12485333 0.12497356 0.12507385\n",
            "   0.12493011 0.1251057 ]\n",
            "  [0.12489485 0.12510414 0.12493615 0.12531467 0.12481089 0.12494119\n",
            "   0.12502682 0.12497129]\n",
            "  [0.12510498 0.12493882 0.124967   0.1247216  0.12522203 0.12503533\n",
            "   0.12505676 0.12495348]\n",
            "  [0.12484875 0.12508515 0.12502123 0.12480582 0.12498928 0.12522365\n",
            "   0.12504897 0.12497716]\n",
            "  [0.12491179 0.12512751 0.12488728 0.12490109 0.12502046 0.12505871\n",
            "   0.1251512  0.12494195]\n",
            "  [0.12495837 0.12502396 0.12508681 0.12486959 0.12494117 0.1250109\n",
            "   0.12496592 0.12514327]]], shape=(2, 8, 8), dtype=float32)\n"
          ]
        }
      ]
    },
    {
      "cell_type": "code",
      "source": [
        "# 這次讓我們將 padding mask 放入注意函式並觀察\n",
        "# 注意權重的變化\n",
        "mask = tf.squeeze(inp_mask, axis=1) # (batch_size, 1, seq_len_q)\n",
        "_, attention_weights = scaled_dot_product_attention(q, k, v, mask)\n",
        "print(\"attention_weights:\", attention_weights)"
      ],
      "metadata": {
        "colab": {
          "base_uri": "https://localhost:8080/"
        },
        "id": "aj3pdz1YpayS",
        "outputId": "a24aa09e-ba4a-4db2-c069-caf030c15874"
      },
      "execution_count": 34,
      "outputs": [
        {
          "output_type": "stream",
          "name": "stdout",
          "text": [
            "attention_weights: tf.Tensor(\n",
            "[[[0.16680698 0.16677545 0.1664648  0.16668738 0.16661762 0.16664778\n",
            "   0.         0.        ]\n",
            "  [0.16681209 0.16689853 0.16657898 0.16658197 0.16656831 0.16656007\n",
            "   0.         0.        ]\n",
            "  [0.16650175 0.16657935 0.16701865 0.16671601 0.16645844 0.1667258\n",
            "   0.         0.        ]\n",
            "  [0.16664146 0.1664995  0.1666331  0.16691658 0.1664895  0.16681992\n",
            "   0.         0.        ]\n",
            "  [0.16666745 0.16658153 0.16647127 0.16658518 0.1669869  0.16670768\n",
            "   0.         0.        ]\n",
            "  [0.16660143 0.16647717 0.16664244 0.16681948 0.1666115  0.16684796\n",
            "   0.         0.        ]\n",
            "  [0.16681334 0.16665953 0.16634576 0.16681597 0.16663577 0.1667296\n",
            "   0.         0.        ]\n",
            "  [0.16681334 0.16665953 0.16634576 0.16681597 0.16663577 0.1667296\n",
            "   0.         0.        ]]\n",
            "\n",
            " [[0.1251351  0.1249106  0.12500545 0.12485043 0.12515002 0.1249397\n",
            "   0.12499305 0.12501568]\n",
            "  [0.1248228  0.12517618 0.12493071 0.12497175 0.12489596 0.1250883\n",
            "   0.12512091 0.12499339]\n",
            "  [0.12496703 0.12498014 0.12511632 0.12485333 0.12497356 0.12507385\n",
            "   0.12493011 0.1251057 ]\n",
            "  [0.12489485 0.12510414 0.12493615 0.12531467 0.12481089 0.12494119\n",
            "   0.12502682 0.12497129]\n",
            "  [0.12510498 0.12493882 0.124967   0.1247216  0.12522203 0.12503533\n",
            "   0.12505676 0.12495348]\n",
            "  [0.12484875 0.12508515 0.12502123 0.12480582 0.12498928 0.12522365\n",
            "   0.12504897 0.12497716]\n",
            "  [0.12491179 0.12512751 0.12488728 0.12490109 0.12502046 0.12505871\n",
            "   0.1251512  0.12494195]\n",
            "  [0.12495837 0.12502396 0.12508681 0.12486959 0.12494117 0.1250109\n",
            "   0.12496592 0.12514327]]], shape=(2, 8, 8), dtype=float32)\n"
          ]
        }
      ]
    },
    {
      "cell_type": "code",
      "source": [
        "# 建立一個 2 維矩陣，維度為 (size, size)，\n",
        "# 其遮罩為一個右上角的三角形\n",
        "def create_look_ahead_mask(size):\n",
        "  mask = 1 - tf.linalg.band_part(tf.ones((size, size)), -1, 0)\n",
        "  return mask  # (seq_len, seq_len)\n",
        "\n",
        "seq_len = emb_tar.shape[1] # 注意這次我們用中文的詞嵌入張量 `emb_tar`\n",
        "look_ahead_mask = create_look_ahead_mask(seq_len)\n",
        "print(\"emb_tar:\", emb_tar)\n",
        "print(\"-\" * 20)\n",
        "print(\"look_ahead_mask\", look_ahead_mask)"
      ],
      "metadata": {
        "colab": {
          "base_uri": "https://localhost:8080/"
        },
        "id": "igmroCsKpfbs",
        "outputId": "86d3b545-544f-4785-e4e4-8e7277485f0c"
      },
      "execution_count": 35,
      "outputs": [
        {
          "output_type": "stream",
          "name": "stdout",
          "text": [
            "emb_tar: tf.Tensor(\n",
            "[[[-0.03370434 -0.00040915  0.01621002  0.02959156]\n",
            "  [ 0.00020893 -0.02146518 -0.01734713 -0.04848955]\n",
            "  [-0.02004542  0.04567743  0.01952017  0.03763341]\n",
            "  [ 0.04656069  0.00940622 -0.02387552 -0.00291573]\n",
            "  [-0.04445958 -0.03811692 -0.03323603 -0.00427986]\n",
            "  [-0.03769994  0.0101443   0.02870115 -0.04249842]\n",
            "  [ 0.02782292 -0.02117069 -0.01088843  0.01868758]\n",
            "  [ 0.03875598 -0.02139729 -0.03621877 -0.04835099]\n",
            "  [ 0.03875598 -0.02139729 -0.03621877 -0.04835099]\n",
            "  [ 0.03875598 -0.02139729 -0.03621877 -0.04835099]]\n",
            "\n",
            " [[-0.03370434 -0.00040915  0.01621002  0.02959156]\n",
            "  [-0.00072296  0.00133721  0.04996287 -0.02974154]\n",
            "  [-0.0315287   0.00096459 -0.03869132  0.03721639]\n",
            "  [ 0.03348037  0.04117829 -0.01081663 -0.03712411]\n",
            "  [-0.01982154  0.00042848  0.03554371  0.00115931]\n",
            "  [ 0.04716489 -0.01372367 -0.03882816  0.0093639 ]\n",
            "  [ 0.00294013 -0.01908912 -0.00398605  0.04855062]\n",
            "  [ 0.02742532 -0.00719453  0.03052774 -0.02020096]\n",
            "  [-0.03769994  0.0101443   0.02870115 -0.04249842]\n",
            "  [ 0.02782292 -0.02117069 -0.01088843  0.01868758]]], shape=(2, 10, 4), dtype=float32)\n",
            "--------------------\n",
            "look_ahead_mask tf.Tensor(\n",
            "[[0. 1. 1. 1. 1. 1. 1. 1. 1. 1.]\n",
            " [0. 0. 1. 1. 1. 1. 1. 1. 1. 1.]\n",
            " [0. 0. 0. 1. 1. 1. 1. 1. 1. 1.]\n",
            " [0. 0. 0. 0. 1. 1. 1. 1. 1. 1.]\n",
            " [0. 0. 0. 0. 0. 1. 1. 1. 1. 1.]\n",
            " [0. 0. 0. 0. 0. 0. 1. 1. 1. 1.]\n",
            " [0. 0. 0. 0. 0. 0. 0. 1. 1. 1.]\n",
            " [0. 0. 0. 0. 0. 0. 0. 0. 1. 1.]\n",
            " [0. 0. 0. 0. 0. 0. 0. 0. 0. 1.]\n",
            " [0. 0. 0. 0. 0. 0. 0. 0. 0. 0.]], shape=(10, 10), dtype=float32)\n"
          ]
        }
      ]
    },
    {
      "cell_type": "code",
      "source": [
        "# 讓我們用目標語言（中文）的 batch\n",
        "# 來模擬 Decoder 處理的情況\n",
        "temp_q = temp_k = emb_tar\n",
        "temp_v = tf.cast(tf.math.greater(\n",
        "    tf.random.uniform(shape=emb_tar.shape), 0.5), tf.float32)\n",
        "\n",
        "# 將 look_ahead_mask 放入注意函式\n",
        "_, attention_weights = scaled_dot_product_attention(\n",
        "    temp_q, temp_k, temp_v, look_ahead_mask)\n",
        "\n",
        "print(\"attention_weights:\", attention_weights)"
      ],
      "metadata": {
        "colab": {
          "base_uri": "https://localhost:8080/"
        },
        "id": "vVwnbxJ_pl2R",
        "outputId": "16f4e230-5d04-41c3-c5fc-daf9bbc91f18"
      },
      "execution_count": 36,
      "outputs": [
        {
          "output_type": "stream",
          "name": "stdout",
          "text": [
            "attention_weights: tf.Tensor(\n",
            "[[[1.         0.         0.         0.         0.         0.\n",
            "   0.         0.         0.         0.        ]\n",
            "  [0.4993966  0.50060344 0.         0.         0.         0.\n",
            "   0.         0.         0.         0.        ]\n",
            "  [0.33350167 0.33262983 0.33386847 0.         0.         0.\n",
            "   0.         0.         0.         0.        ]\n",
            "  [0.24974197 0.25004306 0.24986275 0.25035226 0.         0.\n",
            "   0.         0.         0.         0.        ]\n",
            "  [0.2000105  0.20008494 0.1997598  0.19976352 0.20038123 0.\n",
            "   0.         0.         0.         0.        ]\n",
            "  [0.16664442 0.16671635 0.16661991 0.16641998 0.16664803 0.16695131\n",
            "   0.         0.         0.         0.        ]\n",
            "  [0.14283162 0.14285274 0.14279725 0.14296411 0.1428605  0.14270186\n",
            "   0.14299187 0.         0.         0.        ]\n",
            "  [0.1247544  0.12517652 0.12469419 0.1251245  0.12499283 0.12491997\n",
            "   0.12502526 0.12531236 0.         0.        ]\n",
            "  [0.11086202 0.11123713 0.11080852 0.11119091 0.1110739  0.11100916\n",
            "   0.11110272 0.11135785 0.11135785 0.        ]\n",
            "  [0.09975367 0.10009119 0.09970552 0.1000496  0.09994432 0.09988606\n",
            "   0.09997025 0.10019981 0.10019981 0.10019981]]\n",
            "\n",
            " [[1.         0.         0.         0.         0.         0.\n",
            "   0.         0.         0.         0.        ]\n",
            "  [0.4995713  0.5004287  0.         0.         0.         0.\n",
            "   0.         0.         0.         0.        ]\n",
            "  [0.3334559  0.33269775 0.33384636 0.         0.         0.\n",
            "   0.         0.         0.         0.        ]\n",
            "  [0.2496817  0.2500582  0.24973667 0.25052342 0.         0.\n",
            "   0.         0.         0.         0.        ]\n",
            "  [0.20006956 0.20011736 0.19987108 0.19983442 0.20010751 0.\n",
            "   0.         0.         0.         0.        ]\n",
            "  [0.16652016 0.1664923  0.16671067 0.16677201 0.16648905 0.16701584\n",
            "   0.         0.         0.         0.        ]\n",
            "  [0.14292188 0.14271112 0.14296256 0.14265575 0.14281954 0.14290254\n",
            "   0.14302664 0.         0.         0.        ]\n",
            "  [0.12492736 0.12512246 0.12481621 0.12505648 0.12502354 0.12499247\n",
            "   0.1249361  0.12512541 0.         0.        ]\n",
            "  [0.1111205  0.1112464  0.11101123 0.11111765 0.11118988 0.11090382\n",
            "   0.11095636 0.11112904 0.11132514 0.        ]\n",
            "  [0.09997117 0.0999414  0.10000975 0.09997298 0.0999525  0.10010888\n",
            "   0.10007065 0.10000906 0.09988034 0.10008333]]], shape=(2, 10, 10), dtype=float32)\n"
          ]
        }
      ]
    },
    {
      "cell_type": "code",
      "source": [
        "#multi-head split the demension of embedding, process them seperately\n",
        "\n",
        "def split_heads(x, d_model, num_heads):\n",
        "  # x.shape: (batch_size, seq_len, d_model)\n",
        "  batch_size = tf.shape(x)[0]\n",
        "\n",
        "  # 我們要確保維度 `d_model` 可以被平分成 `num_heads` 個 `depth` 維度\n",
        "  assert d_model % num_heads == 0\n",
        "  depth = d_model // num_heads  # 這是分成多頭以後每個向量的維度\n",
        "\n",
        "  # 將最後一個 d_model 維度分成 num_heads 個 depth 維度。\n",
        "  # 最後一個維度變成兩個維度，張量 x 從 3 維到 4 維\n",
        "  # fill in the rest to -1 dimenstion\n",
        "  # (batch_size, seq_len, num_heads, depth)\n",
        "  reshaped_x = tf.reshape(x, shape=(batch_size, -1, num_heads, depth))\n",
        "\n",
        "  # 將 head 的維度拉前使得最後兩個維度為子詞以及其對應的 depth 向量\n",
        "  # change the sequence of dimension for better understanding.\n",
        "  # (batch_size, num_heads, seq_len, depth)\n",
        "  output = tf.transpose(reshaped_x, perm=[0, 2, 1, 3])\n",
        "\n",
        "  return output\n",
        "\n",
        "# 我們的 `emb_inp` 裡頭的子詞本來就是 4 維的詞嵌入向量\n",
        "d_model = 4\n",
        "# 將 4 維詞嵌入向量分為 2 個 head 的 2 維矩陣\n",
        "num_heads = 2\n",
        "x = emb_inp\n",
        "\n",
        "output = split_heads(x, d_model, num_heads)\n",
        "print(\"x:\", x)\n",
        "print(\"output:\", output)"
      ],
      "metadata": {
        "colab": {
          "base_uri": "https://localhost:8080/"
        },
        "id": "wAq54KzbpmrA",
        "outputId": "359b9adf-73c8-432a-9086-bdd382b18346"
      },
      "execution_count": 37,
      "outputs": [
        {
          "output_type": "stream",
          "name": "stdout",
          "text": [
            "x: tf.Tensor(\n",
            "[[[-0.01637832  0.03400192 -0.00486914 -0.02727315]\n",
            "  [ 0.01807672  0.04586885 -0.00837681 -0.01868344]\n",
            "  [ 0.03254446 -0.03692192 -0.04143903  0.01203753]\n",
            "  [-0.03374638 -0.02751192 -0.02851299 -0.03671575]\n",
            "  [-0.0397326   0.01103113  0.02805561  0.03553073]\n",
            "  [-0.04084475 -0.01713504 -0.03573289 -0.00080014]\n",
            "  [-0.04951513  0.02047533 -0.00041007 -0.04462561]\n",
            "  [-0.04951513  0.02047533 -0.00041007 -0.04462561]]\n",
            "\n",
            " [[-0.01637832  0.03400192 -0.00486914 -0.02727315]\n",
            "  [-0.03728326 -0.01829024  0.01303029  0.04857924]\n",
            "  [-0.02846702 -0.0301271  -0.01792432 -0.02161928]\n",
            "  [ 0.04052008 -0.01152984 -0.0100124   0.04973086]\n",
            "  [-0.03867329  0.03325143  0.02873326 -0.02955965]\n",
            "  [-0.04257087 -0.04273322  0.03774521 -0.00022129]\n",
            "  [-0.0397326   0.01103113  0.02805561  0.03553073]\n",
            "  [-0.04084475 -0.01713504 -0.03573289 -0.00080014]]], shape=(2, 8, 4), dtype=float32)\n",
            "output: tf.Tensor(\n",
            "[[[[-0.01637832  0.03400192]\n",
            "   [ 0.01807672  0.04586885]\n",
            "   [ 0.03254446 -0.03692192]\n",
            "   [-0.03374638 -0.02751192]\n",
            "   [-0.0397326   0.01103113]\n",
            "   [-0.04084475 -0.01713504]\n",
            "   [-0.04951513  0.02047533]\n",
            "   [-0.04951513  0.02047533]]\n",
            "\n",
            "  [[-0.00486914 -0.02727315]\n",
            "   [-0.00837681 -0.01868344]\n",
            "   [-0.04143903  0.01203753]\n",
            "   [-0.02851299 -0.03671575]\n",
            "   [ 0.02805561  0.03553073]\n",
            "   [-0.03573289 -0.00080014]\n",
            "   [-0.00041007 -0.04462561]\n",
            "   [-0.00041007 -0.04462561]]]\n",
            "\n",
            "\n",
            " [[[-0.01637832  0.03400192]\n",
            "   [-0.03728326 -0.01829024]\n",
            "   [-0.02846702 -0.0301271 ]\n",
            "   [ 0.04052008 -0.01152984]\n",
            "   [-0.03867329  0.03325143]\n",
            "   [-0.04257087 -0.04273322]\n",
            "   [-0.0397326   0.01103113]\n",
            "   [-0.04084475 -0.01713504]]\n",
            "\n",
            "  [[-0.00486914 -0.02727315]\n",
            "   [ 0.01303029  0.04857924]\n",
            "   [-0.01792432 -0.02161928]\n",
            "   [-0.0100124   0.04973086]\n",
            "   [ 0.02873326 -0.02955965]\n",
            "   [ 0.03774521 -0.00022129]\n",
            "   [ 0.02805561  0.03553073]\n",
            "   [-0.03573289 -0.00080014]]]], shape=(2, 2, 8, 2), dtype=float32)\n"
          ]
        }
      ]
    },
    {
      "cell_type": "code",
      "source": [
        "# 實作一個執行多頭注意力機制的 keras layer\n",
        "# 在初始的時候指定輸出維度 `d_model` & `num_heads，\n",
        "# 在呼叫的時候輸入 `v`, `k`, `q` 以及 `mask`\n",
        "# 輸出跟 scaled_dot_product_attention 函式一樣有兩個：\n",
        "# output.shape            == (batch_size, seq_len_q, d_model)\n",
        "# attention_weights.shape == (batch_size, num_heads, seq_len_q, seq_len_k)\n",
        "class MultiHeadAttention(tf.keras.layers.Layer):\n",
        "  # 在初始的時候建立一些必要參數\n",
        "  def __init__(self, d_model, num_heads):\n",
        "    super(MultiHeadAttention, self).__init__()\n",
        "    self.num_heads = num_heads # 指定要將 `d_model` 拆成幾個 heads\n",
        "    self.d_model = d_model # 在 split_heads 之前的基底維度\n",
        "\n",
        "    assert d_model % self.num_heads == 0  # 前面看過，要確保可以平分\n",
        "\n",
        "    self.depth = d_model // self.num_heads  # 每個 head 裡子詞的新的 repr. 維度\n",
        "\n",
        "    self.wq = tf.keras.layers.Dense(d_model)  # 分別給 q, k, v 的 3 個線性轉換\n",
        "    self.wk = tf.keras.layers.Dense(d_model)  # 注意我們並沒有指定 activation func\n",
        "    self.wv = tf.keras.layers.Dense(d_model)\n",
        "\n",
        "    self.dense = tf.keras.layers.Dense(d_model)  # 多 heads 串接後通過的線性轉換\n",
        "\n",
        "  # 這跟我們前面看過的函式有 87% 相似\n",
        "  def split_heads(self, x, batch_size):\n",
        "    \"\"\"Split the last dimension into (num_heads, depth).\n",
        "    Transpose the result such that the shape is (batch_size, num_heads, seq_len, depth)\n",
        "    \"\"\"\n",
        "    x = tf.reshape(x, (batch_size, -1, self.num_heads, self.depth))\n",
        "    return tf.transpose(x, perm=[0, 2, 1, 3])\n",
        "\n",
        "  # multi-head attention 的實際執行流程，注意參數順序（這邊跟論文以及 TensorFlow 官方教學一致）\n",
        "  def call(self, v, k, q, mask):\n",
        "    batch_size = tf.shape(q)[0]\n",
        "\n",
        "    # 將輸入的 q, k, v 都各自做一次線性轉換到 `d_model` 維空間\n",
        "    q = self.wq(q)  # (batch_size, seq_len, d_model)\n",
        "    k = self.wk(k)  # (batch_size, seq_len, d_model)\n",
        "    v = self.wv(v)  # (batch_size, seq_len, d_model)\n",
        "\n",
        "    # 前面看過的，將最後一個 `d_model` 維度分成 `num_heads` 個 `depth` 維度\n",
        "    q = self.split_heads(q, batch_size)  # (batch_size, num_heads, seq_len_q, depth)\n",
        "    k = self.split_heads(k, batch_size)  # (batch_size, num_heads, seq_len_k, depth)\n",
        "    v = self.split_heads(v, batch_size)  # (batch_size, num_heads, seq_len_v, depth)\n",
        "\n",
        "    # 利用 broadcasting 讓每個句子的每個 head 的 qi, ki, vi 都各自進行注意力機制\n",
        "    # 輸出會多一個 head 維度\n",
        "    scaled_attention, attention_weights = scaled_dot_product_attention(\n",
        "        q, k, v, mask)\n",
        "    # scaled_attention.shape == (batch_size, num_heads, seq_len_q, depth)\n",
        "    # attention_weights.shape == (batch_size, num_heads, seq_len_q, seq_len_k)\n",
        "\n",
        "    # 跟我們在 `split_heads` 函式做的事情剛好相反，先做 transpose 再做 reshape\n",
        "    # 將 `num_heads` 個 `depth` 維度串接回原來的 `d_model` 維度\n",
        "    scaled_attention = tf.transpose(scaled_attention, perm=[0, 2, 1, 3])\n",
        "    # (batch_size, seq_len_q, num_heads, depth)\n",
        "    concat_attention = tf.reshape(scaled_attention,\n",
        "                                  (batch_size, -1, self.d_model))\n",
        "    # (batch_size, seq_len_q, d_model)\n",
        "\n",
        "    # 通過最後一個線性轉換\n",
        "    output = self.dense(concat_attention)  # (batch_size, seq_len_q, d_model)\n",
        "\n",
        "    return output, attention_weights"
      ],
      "metadata": {
        "id": "wb57O1-mpt8J"
      },
      "execution_count": 38,
      "outputs": []
    },
    {
      "cell_type": "code",
      "source": [
        "class MultiHeadAttention(tf.keras.layers.Layer):\n",
        "\n",
        "  def __init__(self, d_model, num_heads):\n",
        "    super(MultiHeadAttention, self).__init__()\n",
        "    self.d_model = d_model\n",
        "    self.num_heads = num_heads\n",
        "\n",
        "    assert d_model % self.num_heads == 0\n",
        "    self.depth = self.d_model // self.num_heads\n",
        "\n",
        "    self.wq = tf.keras.layers.Dense(d_model)\n",
        "    self.wk = tf.keras.layers.Dense(d_model)\n",
        "    self.wv = tf.keras.layers.Dense(d_model)\n",
        "    self.dense = tf.keras.layers.Dense(d_model)\n",
        "\n",
        "  def split_heads(self, x, batch_size):\n",
        "    x = tf.reshape(x, (batch_size, -1, self.nun_heads, self.depth))\n",
        "    return tf.transpose(x, perm=[0, 2, 1, 3])\n",
        "\n",
        "  def call(self, v, k, q, mask):\n",
        "\n",
        "    q = self.wq(q)\n",
        "    k = self.wk(k)\n",
        "    v = self.wv(v)\n",
        "\n",
        "    q = self.split_heads(q, batch_size)\n",
        "    k = self.split_heads(k, batch_size)\n",
        "    k = self.split_heads(v, batch_size)\n",
        "\n",
        "    scaled_attention, attention_weights = scaled_dot_product_attention(q, k, v, mask)\n",
        "\n",
        "    scaled_attention = tf.transpose(scaled_attention, perm=[0, 2, 1, 3])\n",
        "    # (batch_size, seq_len_q, num_heads, depth)\n",
        "    concat_attention = tf.reshape(scaled_attention,\n",
        "                                  (batch_size, -1, self.d_model))\n",
        "\n",
        "\n",
        "    output = self.dense(concat_attention)\n",
        "    return output, attention_weights\n",
        "\n",
        "\n",
        "\n",
        "\n"
      ],
      "metadata": {
        "colab": {
          "base_uri": "https://localhost:8080/"
        },
        "id": "oZcKnsb0yyft",
        "outputId": "5baf21f2-7c8e-4862-d18d-b74f8abea019"
      },
      "execution_count": 39,
      "outputs": [
        {
          "output_type": "execute_result",
          "data": {
            "text/plain": [
              "keras.engine.base_layer.Layer"
            ]
          },
          "metadata": {},
          "execution_count": 39
        }
      ]
    },
    {
      "cell_type": "code",
      "source": [
        "# emb_inp.shape == (batch_size, seq_len, d_model)\n",
        "#               == (2, 8, 4)\n",
        "assert d_model == emb_inp.shape[-1]  == 4\n",
        "num_heads = 2\n",
        "\n",
        "print(f\"d_model: {d_model}\")\n",
        "print(f\"num_heads: {num_heads}\\n\")\n",
        "\n",
        "# 初始化一個 multi-head attention layer\n",
        "mha = MultiHeadAttention(d_model, num_heads)\n",
        "\n",
        "# 簡單將 v, k, q 都設置為 `emb_inp`\n",
        "# 順便看看 padding mask 的作用。\n",
        "# 別忘記，第一個英文序列的最後兩個 tokens 是 <pad>\n",
        "v = k = q = emb_inp\n",
        "padding_mask = create_padding_mask(inp)\n",
        "print(\"q.shape:\", q.shape)\n",
        "print(\"k.shape:\", k.shape)\n",
        "print(\"v.shape:\", v.shape)\n",
        "print(\"padding_mask.shape:\", padding_mask.shape)\n",
        "\n",
        "output, attention_weights = mha(v, k, q, padding_mask)\n",
        "print(\"output.shape:\", output.shape)\n",
        "print(\"attention_weights.shape:\", attention_weights.shape)\n",
        "\n",
        "print(\"\\noutput:\", output)\n",
        "\n",
        "# attention_weights.shape: (2, 2, 8, 8): 2 batches, 2 heads, 8 words (attention: 8x8)\n",
        "# mask shape=(2, 1, 8)"
      ],
      "metadata": {
        "colab": {
          "base_uri": "https://localhost:8080/"
        },
        "id": "ZlaUvaTPp0Iy",
        "outputId": "b14c8e7a-363d-48f7-cad8-64ad3345e5cc"
      },
      "execution_count": 43,
      "outputs": [
        {
          "output_type": "stream",
          "name": "stdout",
          "text": [
            "d_model: 4\n",
            "num_heads: 2\n",
            "\n",
            "q.shape: (2, 8, 4)\n",
            "k.shape: (2, 8, 4)\n",
            "v.shape: (2, 8, 4)\n",
            "padding_mask.shape: (2, 1, 1, 8)\n",
            "output.shape: (2, 8, 4)\n",
            "attention_weights.shape: (2, 2, 8, 8)\n",
            "\n",
            "output: tf.Tensor(\n",
            "[[[-0.00060512 -0.01457466 -0.00658548 -0.01146265]\n",
            "  [-0.00061261 -0.01458989 -0.0065666  -0.01147302]\n",
            "  [-0.00061183 -0.01458296 -0.00656422 -0.01147658]\n",
            "  [-0.00060048 -0.014562   -0.00659162 -0.01145305]\n",
            "  [-0.0005931  -0.01454898 -0.006623   -0.01146185]\n",
            "  [-0.00059827 -0.01455795 -0.00660314 -0.01146363]\n",
            "  [-0.0005982  -0.01456054 -0.00660157 -0.01144997]\n",
            "  [-0.0005982  -0.01456054 -0.00660157 -0.01144997]]\n",
            "\n",
            " [[-0.00676482 -0.03125166  0.01224514 -0.008991  ]\n",
            "  [-0.00676341 -0.03124959  0.01222505 -0.0090265 ]\n",
            "  [-0.00676319 -0.03125259  0.01223842 -0.00899632]\n",
            "  [-0.00677501 -0.03127174  0.01225787 -0.00903843]\n",
            "  [-0.00675821 -0.03123474  0.0122324  -0.00897157]\n",
            "  [-0.00675597 -0.03123136  0.01222305 -0.00897895]\n",
            "  [-0.00676154 -0.03124293  0.01222487 -0.00901248]\n",
            "  [-0.00676569 -0.03126084  0.01223481 -0.00902123]]], shape=(2, 8, 4), dtype=float32)\n"
          ]
        }
      ]
    }
  ]
}