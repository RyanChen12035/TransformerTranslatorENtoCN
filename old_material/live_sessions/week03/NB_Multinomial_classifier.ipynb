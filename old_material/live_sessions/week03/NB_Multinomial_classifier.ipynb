{
 "cells": [
  {
   "cell_type": "markdown",
   "source": [
    "### Week 3: The Naive Bayes classifier - Multinomial model\n",
    "\n",
    "Instructor: Nedelina Teneva <br>\n",
    "Email: cilin@ischool.berkeley.edu <br>\n",
    "\n",
    "\n",
    "Citations: <br>\n",
    " - https://monkeylearn.com/blog/practical-explanation-naive-bayes-classifier/\n",
    " - https://github.com/MIDS-W207/cilin-coursework/tree/master/live_sessions\n",
    " \n"
   ],
   "metadata": {}
  },
  {
   "cell_type": "markdown",
   "source": [
    "### Objectives: \n",
    " - short intro, and \n",
    " - examples of supervised classification using the Naive Bayes classifier."
   ],
   "metadata": {}
  },
  {
   "cell_type": "markdown",
   "source": [
    "### Naive Bayes classifier:\n",
    "- is a linear classfier, simple but efficient.\n",
    "- the probabilistic model is based on Bayes' theorem.\n",
    "- 'naive' because of the assumption that the features in the dataset are mutually independent.\n",
    "- tends to perform well even under the unrealistic assumption of independence. \n",
    "- for example, if the sample size is small, it can outperform more powerful classifiers.\n",
    "- performs well especially in the fields of document classification and disease prediction.\n",
    "- however, if the assumption of indepence is strongly violated and the classification problem is non-linear, then the model can perform very poorly.\n"
   ],
   "metadata": {}
  },
  {
   "cell_type": "markdown",
   "source": [
    "Two types of Naive Bayes classifiers we will be studying today:\n",
    "- **multi-variate Bernoulli model**: based on binary data (tokens in the feature vector of a document can take the value of 1 or 0)\n",
    "- **multinomial model**: rather than binary data, use term frequency (the number of times a given token appears in a document). Note: we will be focusing on this model here."
   ],
   "metadata": {}
  },
  {
   "cell_type": "markdown",
   "source": [
    "### Step 1: Import packages"
   ],
   "metadata": {}
  },
  {
   "cell_type": "code",
   "execution_count": 22,
   "source": [
    "import os \n",
    "import pandas as pd\n",
    "import numpy as np\n",
    "from sklearn.feature_extraction.text import CountVectorizer"
   ],
   "outputs": [],
   "metadata": {}
  },
  {
   "cell_type": "markdown",
   "source": [
    "### Step 2: Define working directories"
   ],
   "metadata": {}
  },
  {
   "cell_type": "code",
   "execution_count": 23,
   "source": [
    "in_dir = os.getcwd()[:-len(\"live_sessions/week03\")] + \"data/week03/\"\n",
    "print(in_dir)"
   ],
   "outputs": [
    {
     "output_type": "stream",
     "name": "stdout",
     "text": [
      "/Users/nteneva/Downloads/berkeley/cilin-coursework-master/data/week03/\n"
     ]
    }
   ],
   "metadata": {}
  },
  {
   "cell_type": "markdown",
   "source": [
    "### Step 3: Define classes"
   ],
   "metadata": {}
  },
  {
   "cell_type": "markdown",
   "source": [
    "### Step 4: Define functions"
   ],
   "metadata": {}
  },
  {
   "cell_type": "markdown",
   "source": [
    "### Step 5: Read data\n",
    "\n",
    "the data has only 5 Sport and Not sports sentences."
   ],
   "metadata": {}
  },
  {
   "cell_type": "code",
   "execution_count": 24,
   "source": [
    "df = pd.read_csv(in_dir + 'sport_text.csv')\n",
    "df.head()"
   ],
   "outputs": [
    {
     "output_type": "execute_result",
     "data": {
      "text/plain": [
       "                           Text    Category\n",
       "0            A great great game      Sports\n",
       "1         The election was over  Not sports\n",
       "2              Very clean match      Sports\n",
       "3  A clean but forgettable game      Sports\n",
       "4       It was a close election  Not sports"
      ],
      "text/html": [
       "<div>\n",
       "<style scoped>\n",
       "    .dataframe tbody tr th:only-of-type {\n",
       "        vertical-align: middle;\n",
       "    }\n",
       "\n",
       "    .dataframe tbody tr th {\n",
       "        vertical-align: top;\n",
       "    }\n",
       "\n",
       "    .dataframe thead th {\n",
       "        text-align: right;\n",
       "    }\n",
       "</style>\n",
       "<table border=\"1\" class=\"dataframe\">\n",
       "  <thead>\n",
       "    <tr style=\"text-align: right;\">\n",
       "      <th></th>\n",
       "      <th>Text</th>\n",
       "      <th>Category</th>\n",
       "    </tr>\n",
       "  </thead>\n",
       "  <tbody>\n",
       "    <tr>\n",
       "      <th>0</th>\n",
       "      <td>A great great game</td>\n",
       "      <td>Sports</td>\n",
       "    </tr>\n",
       "    <tr>\n",
       "      <th>1</th>\n",
       "      <td>The election was over</td>\n",
       "      <td>Not sports</td>\n",
       "    </tr>\n",
       "    <tr>\n",
       "      <th>2</th>\n",
       "      <td>Very clean match</td>\n",
       "      <td>Sports</td>\n",
       "    </tr>\n",
       "    <tr>\n",
       "      <th>3</th>\n",
       "      <td>A clean but forgettable game</td>\n",
       "      <td>Sports</td>\n",
       "    </tr>\n",
       "    <tr>\n",
       "      <th>4</th>\n",
       "      <td>It was a close election</td>\n",
       "      <td>Not sports</td>\n",
       "    </tr>\n",
       "  </tbody>\n",
       "</table>\n",
       "</div>"
      ]
     },
     "metadata": {},
     "execution_count": 24
    }
   ],
   "metadata": {}
  },
  {
   "cell_type": "markdown",
   "source": [
    "___\n",
    "**Problem statement**: we want to know if the sentence 'a very close game' belongs to the 'Sport' or 'Not sports' class."
   ],
   "metadata": {}
  },
  {
   "cell_type": "markdown",
   "source": [
    "**Idea**: calculate the probability that P(Sports|'a very close game') and the probability that  P(Not sports|'a very close game'). Then classify the sentence based on the largest probabiltiy we get."
   ],
   "metadata": {}
  },
  {
   "cell_type": "markdown",
   "source": [
    "**Tools**: Bayes' Theorem! useful when working with conditional probabilities.\n",
    "\n",
    "$ P(Sports|a\\, very\\, close\\, game) = \\frac{P(a\\, very\\, close\\, game| Sports) \\times P(Sports)}{P(a\\, very\\, close\\, game)}$ \n",
    "\n",
    "$ P(Not \\, Sports|a\\, very\\, close\\, game) = \\frac{P(a\\, very\\, close\\, game| Not \\, Sports) \\times P(Not \\, Sports)}{P(a\\, very\\, close\\, game)} $"
   ],
   "metadata": {}
  },
  {
   "cell_type": "markdown",
   "source": [
    "___\n",
    "Question:\n",
    "\n",
    "Looking at the formula above, define the following terms:\n",
    "   - posterior probability\n",
    "   - conditional probability\n",
    "   - prior probability\n",
    "   - evidence"
   ],
   "metadata": {}
  },
  {
   "cell_type": "markdown",
   "source": [
    "___\n",
    "We can discard the denomitor because we are interested to compare the two probabilities, so we only need to compare:\n",
    "\n",
    "$ P(a\\, very\\, close\\, game| Sports) \\times P(sports)$ \n",
    "\n",
    "with\n",
    "\n",
    "$P(a\\, very\\, close\\, game| Not\\, Sports) \\times P(Not\\, Sports)$"
   ],
   "metadata": {}
  },
  {
   "cell_type": "markdown",
   "source": [
    "---\n",
    "Question:\n",
    "\n",
    "Assumming conditional independence (pretty 'naive' to do so) how can we rewrite the conditional probabilities?\n",
    "\n",
    "$ P(a\\, very\\, close\\, game| Sports) = P(a|Sports) \\times P(very|Sports) \\times P(close|Sports) \\times P(game|Sports)$\n",
    "\n",
    "---"
   ],
   "metadata": {}
  },
  {
   "cell_type": "markdown",
   "source": [
    "### Step 6: Data preprocessing "
   ],
   "metadata": {}
  },
  {
   "cell_type": "markdown",
   "source": [
    "#### Step 6.1: Cleaning text data\n",
    "\n",
    "Before we build our feature vector (X) it's important to clean the data by stripping it of all unwanted characters. Fortunately, our sport dataset looks pretty clean. \n",
    "\n",
    "The only thing we want to do is to convert the strings in the Text column to lowercase."
   ],
   "metadata": {}
  },
  {
   "cell_type": "code",
   "execution_count": 25,
   "source": [
    "df['Text'] = df.Text.str.lower()\n",
    "df.head()"
   ],
   "outputs": [
    {
     "output_type": "execute_result",
     "data": {
      "text/plain": [
       "                           Text    Category\n",
       "0            a great great game      Sports\n",
       "1         the election was over  Not sports\n",
       "2              very clean match      Sports\n",
       "3  a clean but forgettable game      Sports\n",
       "4       it was a close election  Not sports"
      ],
      "text/html": [
       "<div>\n",
       "<style scoped>\n",
       "    .dataframe tbody tr th:only-of-type {\n",
       "        vertical-align: middle;\n",
       "    }\n",
       "\n",
       "    .dataframe tbody tr th {\n",
       "        vertical-align: top;\n",
       "    }\n",
       "\n",
       "    .dataframe thead th {\n",
       "        text-align: right;\n",
       "    }\n",
       "</style>\n",
       "<table border=\"1\" class=\"dataframe\">\n",
       "  <thead>\n",
       "    <tr style=\"text-align: right;\">\n",
       "      <th></th>\n",
       "      <th>Text</th>\n",
       "      <th>Category</th>\n",
       "    </tr>\n",
       "  </thead>\n",
       "  <tbody>\n",
       "    <tr>\n",
       "      <th>0</th>\n",
       "      <td>a great great game</td>\n",
       "      <td>Sports</td>\n",
       "    </tr>\n",
       "    <tr>\n",
       "      <th>1</th>\n",
       "      <td>the election was over</td>\n",
       "      <td>Not sports</td>\n",
       "    </tr>\n",
       "    <tr>\n",
       "      <th>2</th>\n",
       "      <td>very clean match</td>\n",
       "      <td>Sports</td>\n",
       "    </tr>\n",
       "    <tr>\n",
       "      <th>3</th>\n",
       "      <td>a clean but forgettable game</td>\n",
       "      <td>Sports</td>\n",
       "    </tr>\n",
       "    <tr>\n",
       "      <th>4</th>\n",
       "      <td>it was a close election</td>\n",
       "      <td>Not sports</td>\n",
       "    </tr>\n",
       "  </tbody>\n",
       "</table>\n",
       "</div>"
      ]
     },
     "metadata": {},
     "execution_count": 25
    }
   ],
   "metadata": {}
  },
  {
   "cell_type": "markdown",
   "source": [
    "#### Step 6.2: Transform words into feature vectors\n",
    "\n",
    "Remember that last week we discussed how important is to convert categorical data (text or words) into a numerical form before we can pass them to a ML algorithm. \n",
    "\n",
    "The feature names will be the unique tokens(words) in the Text column. The feature values will be the word frequency for each sentence in the dataset.\n",
    "\n",
    "Question: why the frequency and not just a binary measure for each token in the feature vector?"
   ],
   "metadata": {}
  },
  {
   "cell_type": "code",
   "execution_count": 26,
   "source": [
    "## construct X_train\n",
    "count = CountVectorizer(token_pattern='\\\\b\\\\w+\\\\b')\n",
    "\n",
    "# create a np.array with all train sentences\n",
    "train_sentence = []\n",
    "for row, row in df.iterrows():\n",
    "    train_sentence.append(row.Text)  \n",
    "    \n",
    "train_sentence = np.array(train_sentence)\n",
    "print('Sentences in train data:')\n",
    "print(train_sentence)\n",
    "\n",
    "# get feature names and values\n",
    "X_train = count.fit_transform(train_sentence)\n",
    "\n",
    "# feature names\n",
    "X_train_names = count.get_feature_names()\n",
    "print('\\nUnique tokens(words) in the data: ', list(X_train_names))\n",
    "\n",
    "# feature values\n",
    "X_train_values = X_train.toarray()\n",
    "print('\\nFeature values: ')\n",
    "print(X_train_values)\n",
    "\n",
    "# put everything together\n",
    "X_train = pd.DataFrame(X_train_values)\n",
    "X_train.columns = X_train_names\n",
    "\n",
    "## construct y train\n",
    "y_train = df['Category']\n",
    "\n",
    "# print the dataset\n",
    "print('\\nTraining data after transformation:')\n",
    "train_df = pd.concat((y_train, X_train), axis=1)\n",
    "train_df"
   ],
   "outputs": [
    {
     "output_type": "stream",
     "name": "stdout",
     "text": [
      "Sentences in train data:\n",
      "['a great great game' 'the election was over' 'very clean match'\n",
      " 'a clean but forgettable game' 'it was a close election']\n",
      "\n",
      "Unique tokens(words) in the data:  ['a', 'but', 'clean', 'close', 'election', 'forgettable', 'game', 'great', 'it', 'match', 'over', 'the', 'very', 'was']\n",
      "\n",
      "Feature values: \n",
      "[[1 0 0 0 0 0 1 2 0 0 0 0 0 0]\n",
      " [0 0 0 0 1 0 0 0 0 0 1 1 0 1]\n",
      " [0 0 1 0 0 0 0 0 0 1 0 0 1 0]\n",
      " [1 1 1 0 0 1 1 0 0 0 0 0 0 0]\n",
      " [1 0 0 1 1 0 0 0 1 0 0 0 0 1]]\n",
      "\n",
      "Training data after transformation:\n"
     ]
    },
    {
     "output_type": "execute_result",
     "data": {
      "text/plain": [
       "     Category  a  but  clean  close  election  forgettable  game  great  it  \\\n",
       "0      Sports  1    0      0      0         0            0     1      2   0   \n",
       "1  Not sports  0    0      0      0         1            0     0      0   0   \n",
       "2      Sports  0    0      1      0         0            0     0      0   0   \n",
       "3      Sports  1    1      1      0         0            1     1      0   0   \n",
       "4  Not sports  1    0      0      1         1            0     0      0   1   \n",
       "\n",
       "   match  over  the  very  was  \n",
       "0      0     0    0     0    0  \n",
       "1      0     1    1     0    1  \n",
       "2      1     0    0     1    0  \n",
       "3      0     0    0     0    0  \n",
       "4      0     0    0     0    1  "
      ],
      "text/html": [
       "<div>\n",
       "<style scoped>\n",
       "    .dataframe tbody tr th:only-of-type {\n",
       "        vertical-align: middle;\n",
       "    }\n",
       "\n",
       "    .dataframe tbody tr th {\n",
       "        vertical-align: top;\n",
       "    }\n",
       "\n",
       "    .dataframe thead th {\n",
       "        text-align: right;\n",
       "    }\n",
       "</style>\n",
       "<table border=\"1\" class=\"dataframe\">\n",
       "  <thead>\n",
       "    <tr style=\"text-align: right;\">\n",
       "      <th></th>\n",
       "      <th>Category</th>\n",
       "      <th>a</th>\n",
       "      <th>but</th>\n",
       "      <th>clean</th>\n",
       "      <th>close</th>\n",
       "      <th>election</th>\n",
       "      <th>forgettable</th>\n",
       "      <th>game</th>\n",
       "      <th>great</th>\n",
       "      <th>it</th>\n",
       "      <th>match</th>\n",
       "      <th>over</th>\n",
       "      <th>the</th>\n",
       "      <th>very</th>\n",
       "      <th>was</th>\n",
       "    </tr>\n",
       "  </thead>\n",
       "  <tbody>\n",
       "    <tr>\n",
       "      <th>0</th>\n",
       "      <td>Sports</td>\n",
       "      <td>1</td>\n",
       "      <td>0</td>\n",
       "      <td>0</td>\n",
       "      <td>0</td>\n",
       "      <td>0</td>\n",
       "      <td>0</td>\n",
       "      <td>1</td>\n",
       "      <td>2</td>\n",
       "      <td>0</td>\n",
       "      <td>0</td>\n",
       "      <td>0</td>\n",
       "      <td>0</td>\n",
       "      <td>0</td>\n",
       "      <td>0</td>\n",
       "    </tr>\n",
       "    <tr>\n",
       "      <th>1</th>\n",
       "      <td>Not sports</td>\n",
       "      <td>0</td>\n",
       "      <td>0</td>\n",
       "      <td>0</td>\n",
       "      <td>0</td>\n",
       "      <td>1</td>\n",
       "      <td>0</td>\n",
       "      <td>0</td>\n",
       "      <td>0</td>\n",
       "      <td>0</td>\n",
       "      <td>0</td>\n",
       "      <td>1</td>\n",
       "      <td>1</td>\n",
       "      <td>0</td>\n",
       "      <td>1</td>\n",
       "    </tr>\n",
       "    <tr>\n",
       "      <th>2</th>\n",
       "      <td>Sports</td>\n",
       "      <td>0</td>\n",
       "      <td>0</td>\n",
       "      <td>1</td>\n",
       "      <td>0</td>\n",
       "      <td>0</td>\n",
       "      <td>0</td>\n",
       "      <td>0</td>\n",
       "      <td>0</td>\n",
       "      <td>0</td>\n",
       "      <td>1</td>\n",
       "      <td>0</td>\n",
       "      <td>0</td>\n",
       "      <td>1</td>\n",
       "      <td>0</td>\n",
       "    </tr>\n",
       "    <tr>\n",
       "      <th>3</th>\n",
       "      <td>Sports</td>\n",
       "      <td>1</td>\n",
       "      <td>1</td>\n",
       "      <td>1</td>\n",
       "      <td>0</td>\n",
       "      <td>0</td>\n",
       "      <td>1</td>\n",
       "      <td>1</td>\n",
       "      <td>0</td>\n",
       "      <td>0</td>\n",
       "      <td>0</td>\n",
       "      <td>0</td>\n",
       "      <td>0</td>\n",
       "      <td>0</td>\n",
       "      <td>0</td>\n",
       "    </tr>\n",
       "    <tr>\n",
       "      <th>4</th>\n",
       "      <td>Not sports</td>\n",
       "      <td>1</td>\n",
       "      <td>0</td>\n",
       "      <td>0</td>\n",
       "      <td>1</td>\n",
       "      <td>1</td>\n",
       "      <td>0</td>\n",
       "      <td>0</td>\n",
       "      <td>0</td>\n",
       "      <td>1</td>\n",
       "      <td>0</td>\n",
       "      <td>0</td>\n",
       "      <td>0</td>\n",
       "      <td>0</td>\n",
       "      <td>1</td>\n",
       "    </tr>\n",
       "  </tbody>\n",
       "</table>\n",
       "</div>"
      ]
     },
     "metadata": {},
     "execution_count": 26
    }
   ],
   "metadata": {}
  },
  {
   "cell_type": "markdown",
   "source": [
    "#### Step 6.3: Compute stats needed for Bayes' probabilities"
   ],
   "metadata": {}
  },
  {
   "cell_type": "code",
   "execution_count": 27,
   "source": [
    "# compute word frequency for each category (this will facilitate computation of conditional probabilities)\n",
    "words_sum = train_df.groupby(['Category']).sum()\n",
    "words_sum"
   ],
   "outputs": [
    {
     "output_type": "execute_result",
     "data": {
      "text/plain": [
       "            a  but  clean  close  election  forgettable  game  great  it  \\\n",
       "Category                                                                   \n",
       "Not sports  1    0      0      1         2            0     0      0   1   \n",
       "Sports      2    1      2      0         0            1     2      2   0   \n",
       "\n",
       "            match  over  the  very  was  \n",
       "Category                                 \n",
       "Not sports      0     1    1     0    2  \n",
       "Sports          1     0    0     1    0  "
      ],
      "text/html": [
       "<div>\n",
       "<style scoped>\n",
       "    .dataframe tbody tr th:only-of-type {\n",
       "        vertical-align: middle;\n",
       "    }\n",
       "\n",
       "    .dataframe tbody tr th {\n",
       "        vertical-align: top;\n",
       "    }\n",
       "\n",
       "    .dataframe thead th {\n",
       "        text-align: right;\n",
       "    }\n",
       "</style>\n",
       "<table border=\"1\" class=\"dataframe\">\n",
       "  <thead>\n",
       "    <tr style=\"text-align: right;\">\n",
       "      <th></th>\n",
       "      <th>a</th>\n",
       "      <th>but</th>\n",
       "      <th>clean</th>\n",
       "      <th>close</th>\n",
       "      <th>election</th>\n",
       "      <th>forgettable</th>\n",
       "      <th>game</th>\n",
       "      <th>great</th>\n",
       "      <th>it</th>\n",
       "      <th>match</th>\n",
       "      <th>over</th>\n",
       "      <th>the</th>\n",
       "      <th>very</th>\n",
       "      <th>was</th>\n",
       "    </tr>\n",
       "    <tr>\n",
       "      <th>Category</th>\n",
       "      <th></th>\n",
       "      <th></th>\n",
       "      <th></th>\n",
       "      <th></th>\n",
       "      <th></th>\n",
       "      <th></th>\n",
       "      <th></th>\n",
       "      <th></th>\n",
       "      <th></th>\n",
       "      <th></th>\n",
       "      <th></th>\n",
       "      <th></th>\n",
       "      <th></th>\n",
       "      <th></th>\n",
       "    </tr>\n",
       "  </thead>\n",
       "  <tbody>\n",
       "    <tr>\n",
       "      <th>Not sports</th>\n",
       "      <td>1</td>\n",
       "      <td>0</td>\n",
       "      <td>0</td>\n",
       "      <td>1</td>\n",
       "      <td>2</td>\n",
       "      <td>0</td>\n",
       "      <td>0</td>\n",
       "      <td>0</td>\n",
       "      <td>1</td>\n",
       "      <td>0</td>\n",
       "      <td>1</td>\n",
       "      <td>1</td>\n",
       "      <td>0</td>\n",
       "      <td>2</td>\n",
       "    </tr>\n",
       "    <tr>\n",
       "      <th>Sports</th>\n",
       "      <td>2</td>\n",
       "      <td>1</td>\n",
       "      <td>2</td>\n",
       "      <td>0</td>\n",
       "      <td>0</td>\n",
       "      <td>1</td>\n",
       "      <td>2</td>\n",
       "      <td>2</td>\n",
       "      <td>0</td>\n",
       "      <td>1</td>\n",
       "      <td>0</td>\n",
       "      <td>0</td>\n",
       "      <td>1</td>\n",
       "      <td>0</td>\n",
       "    </tr>\n",
       "  </tbody>\n",
       "</table>\n",
       "</div>"
      ]
     },
     "metadata": {},
     "execution_count": 27
    }
   ],
   "metadata": {}
  },
  {
   "cell_type": "code",
   "execution_count": 28,
   "source": [
    "# compute number of words in each category (this will facilitate computation of prior probabilities)\n",
    "category_sum = words_sum.sum(axis=1)\n",
    "category_sum"
   ],
   "outputs": [
    {
     "output_type": "execute_result",
     "data": {
      "text/plain": [
       "Category\n",
       "Not sports     9\n",
       "Sports        12\n",
       "dtype: int64"
      ]
     },
     "metadata": {},
     "execution_count": 28
    }
   ],
   "metadata": {}
  },
  {
   "cell_type": "code",
   "execution_count": 29,
   "source": [
    "# compute number of y, y=Sports, y=Not sports\n",
    "count_y_all = train_df['Category'].count()\n",
    "count_y_sports = train_df[train_df.Category=='Sports']['Category'].count()\n",
    "count_y_not_sports = train_df[train_df.Category=='Not sports']['Category'].count()\n",
    "\n",
    "print('count_y_all: ', count_y_all)\n",
    "print('count_y_sports: ', count_y_sports)\n",
    "print('count_y_not_sports: ', count_y_not_sports)"
   ],
   "outputs": [
    {
     "output_type": "stream",
     "name": "stdout",
     "text": [
      "count_y_all:  5\n",
      "count_y_sports:  3\n",
      "count_y_not_sports:  2\n"
     ]
    }
   ],
   "metadata": {}
  },
  {
   "cell_type": "markdown",
   "source": [
    "---\n",
    "### Step 7: Analysis - Naive Bayes as a classification algorithm"
   ],
   "metadata": {}
  },
  {
   "cell_type": "markdown",
   "source": [
    "In particular, we want to know if the sentence \"A very close game\" belongs to the 'Sport' or 'Non sports' class."
   ],
   "metadata": {}
  },
  {
   "cell_type": "markdown",
   "source": [
    "Idea: calculate the probability that P(Sports|'a very close game') and the probability that  P(Not Sports|'a very close game'). Then classify the sentence based on the largest probabiltiy we get."
   ],
   "metadata": {}
  },
  {
   "cell_type": "markdown",
   "source": [
    "#### Step 7.1 Define test example and tokenize"
   ],
   "metadata": {}
  },
  {
   "cell_type": "code",
   "execution_count": 30,
   "source": [
    "test_sentence = \"A very close game\"\n",
    "test_words = test_sentence.lower().split()\n",
    "test_words"
   ],
   "outputs": [
    {
     "output_type": "execute_result",
     "data": {
      "text/plain": [
       "['a', 'very', 'close', 'game']"
      ]
     },
     "metadata": {},
     "execution_count": 30
    }
   ],
   "metadata": {}
  },
  {
   "cell_type": "markdown",
   "source": [
    "#### Step 7.2 Compute conditional probabilities"
   ],
   "metadata": {}
  },
  {
   "cell_type": "markdown",
   "source": [
    "$ P(a\\, very\\, close\\, game| Not\\, sports) = P(a|Not\\, sports) \\times P(very|Not\\, sports) \\times P(close|Not\\, sports) \\times P(game|Not\\, sports)$\n",
    "\n",
    "$ P(a\\, very\\, close\\, game| Sports) = P(a|Sports) \\times P(very|Sports) \\times P(close|Sports) \\times P(game|Sports)$"
   ],
   "metadata": {}
  },
  {
   "cell_type": "code",
   "execution_count": 31,
   "source": [
    "# compute conditional probability for each word\n",
    "cond_prob = words_sum[test_words].apply(lambda x: x/category_sum)\n",
    "\n",
    "## add conditional probability for all words\n",
    "cond_prob['cond_prob'] = cond_prob.apply(lambda x: x.a * x.very * x.close * x.game, axis=1)\n",
    "cond_prob"
   ],
   "outputs": [
    {
     "output_type": "execute_result",
     "data": {
      "text/plain": [
       "                   a      very     close      game  cond_prob\n",
       "Category                                                     \n",
       "Not sports  0.111111  0.000000  0.111111  0.000000        0.0\n",
       "Sports      0.166667  0.083333  0.000000  0.166667        0.0"
      ],
      "text/html": [
       "<div>\n",
       "<style scoped>\n",
       "    .dataframe tbody tr th:only-of-type {\n",
       "        vertical-align: middle;\n",
       "    }\n",
       "\n",
       "    .dataframe tbody tr th {\n",
       "        vertical-align: top;\n",
       "    }\n",
       "\n",
       "    .dataframe thead th {\n",
       "        text-align: right;\n",
       "    }\n",
       "</style>\n",
       "<table border=\"1\" class=\"dataframe\">\n",
       "  <thead>\n",
       "    <tr style=\"text-align: right;\">\n",
       "      <th></th>\n",
       "      <th>a</th>\n",
       "      <th>very</th>\n",
       "      <th>close</th>\n",
       "      <th>game</th>\n",
       "      <th>cond_prob</th>\n",
       "    </tr>\n",
       "    <tr>\n",
       "      <th>Category</th>\n",
       "      <th></th>\n",
       "      <th></th>\n",
       "      <th></th>\n",
       "      <th></th>\n",
       "      <th></th>\n",
       "    </tr>\n",
       "  </thead>\n",
       "  <tbody>\n",
       "    <tr>\n",
       "      <th>Not sports</th>\n",
       "      <td>0.111111</td>\n",
       "      <td>0.000000</td>\n",
       "      <td>0.111111</td>\n",
       "      <td>0.000000</td>\n",
       "      <td>0.0</td>\n",
       "    </tr>\n",
       "    <tr>\n",
       "      <th>Sports</th>\n",
       "      <td>0.166667</td>\n",
       "      <td>0.083333</td>\n",
       "      <td>0.000000</td>\n",
       "      <td>0.166667</td>\n",
       "      <td>0.0</td>\n",
       "    </tr>\n",
       "  </tbody>\n",
       "</table>\n",
       "</div>"
      ]
     },
     "metadata": {},
     "execution_count": 31
    }
   ],
   "metadata": {}
  },
  {
   "cell_type": "markdown",
   "source": [
    "These results don't look promissing at all. The conditional probabilities are 0. Why?"
   ],
   "metadata": {}
  },
  {
   "cell_type": "markdown",
   "source": [
    "To avoid the problem of zero probabilities, we can add a smoothing term (α) to the\n",
    "multinomial Bayes model. \n",
    "\n",
    "Options for additive smoothing:\n",
    " - Lidstone smoothing (α < 1). \n",
    " - Laplace smoothing (α = 1)."
   ],
   "metadata": {}
  },
  {
   "cell_type": "code",
   "execution_count": 32,
   "source": [
    "# recompute word frequency for each category\n",
    "words_sum_smooth = words_sum.apply(lambda x: x+1)\n",
    "words_sum_smooth"
   ],
   "outputs": [
    {
     "output_type": "execute_result",
     "data": {
      "text/plain": [
       "            a  but  clean  close  election  forgettable  game  great  it  \\\n",
       "Category                                                                   \n",
       "Not sports  2    1      1      2         3            1     1      1   2   \n",
       "Sports      3    2      3      1         1            2     3      3   1   \n",
       "\n",
       "            match  over  the  very  was  \n",
       "Category                                 \n",
       "Not sports      1     2    2     1    3  \n",
       "Sports          2     1    1     2    1  "
      ],
      "text/html": [
       "<div>\n",
       "<style scoped>\n",
       "    .dataframe tbody tr th:only-of-type {\n",
       "        vertical-align: middle;\n",
       "    }\n",
       "\n",
       "    .dataframe tbody tr th {\n",
       "        vertical-align: top;\n",
       "    }\n",
       "\n",
       "    .dataframe thead th {\n",
       "        text-align: right;\n",
       "    }\n",
       "</style>\n",
       "<table border=\"1\" class=\"dataframe\">\n",
       "  <thead>\n",
       "    <tr style=\"text-align: right;\">\n",
       "      <th></th>\n",
       "      <th>a</th>\n",
       "      <th>but</th>\n",
       "      <th>clean</th>\n",
       "      <th>close</th>\n",
       "      <th>election</th>\n",
       "      <th>forgettable</th>\n",
       "      <th>game</th>\n",
       "      <th>great</th>\n",
       "      <th>it</th>\n",
       "      <th>match</th>\n",
       "      <th>over</th>\n",
       "      <th>the</th>\n",
       "      <th>very</th>\n",
       "      <th>was</th>\n",
       "    </tr>\n",
       "    <tr>\n",
       "      <th>Category</th>\n",
       "      <th></th>\n",
       "      <th></th>\n",
       "      <th></th>\n",
       "      <th></th>\n",
       "      <th></th>\n",
       "      <th></th>\n",
       "      <th></th>\n",
       "      <th></th>\n",
       "      <th></th>\n",
       "      <th></th>\n",
       "      <th></th>\n",
       "      <th></th>\n",
       "      <th></th>\n",
       "      <th></th>\n",
       "    </tr>\n",
       "  </thead>\n",
       "  <tbody>\n",
       "    <tr>\n",
       "      <th>Not sports</th>\n",
       "      <td>2</td>\n",
       "      <td>1</td>\n",
       "      <td>1</td>\n",
       "      <td>2</td>\n",
       "      <td>3</td>\n",
       "      <td>1</td>\n",
       "      <td>1</td>\n",
       "      <td>1</td>\n",
       "      <td>2</td>\n",
       "      <td>1</td>\n",
       "      <td>2</td>\n",
       "      <td>2</td>\n",
       "      <td>1</td>\n",
       "      <td>3</td>\n",
       "    </tr>\n",
       "    <tr>\n",
       "      <th>Sports</th>\n",
       "      <td>3</td>\n",
       "      <td>2</td>\n",
       "      <td>3</td>\n",
       "      <td>1</td>\n",
       "      <td>1</td>\n",
       "      <td>2</td>\n",
       "      <td>3</td>\n",
       "      <td>3</td>\n",
       "      <td>1</td>\n",
       "      <td>2</td>\n",
       "      <td>1</td>\n",
       "      <td>1</td>\n",
       "      <td>2</td>\n",
       "      <td>1</td>\n",
       "    </tr>\n",
       "  </tbody>\n",
       "</table>\n",
       "</div>"
      ]
     },
     "metadata": {},
     "execution_count": 32
    }
   ],
   "metadata": {}
  },
  {
   "cell_type": "code",
   "execution_count": 33,
   "source": [
    "# recompute number of words in each category\n",
    "category_sum_smooth = words_sum_smooth.sum(axis=1)\n",
    "category_sum_smooth"
   ],
   "outputs": [
    {
     "output_type": "execute_result",
     "data": {
      "text/plain": [
       "Category\n",
       "Not sports    23\n",
       "Sports        26\n",
       "dtype: int64"
      ]
     },
     "metadata": {},
     "execution_count": 33
    }
   ],
   "metadata": {}
  },
  {
   "cell_type": "code",
   "execution_count": 34,
   "source": [
    "# compute conditional probability for each word\n",
    "cond_prob_smooth = words_sum_smooth[test_words].apply(lambda x: x/category_sum_smooth)\n",
    "\n",
    "# add conditional probability for all words\n",
    "cond_prob_smooth['cond_prob'] = cond_prob_smooth.apply(lambda x: x.a * x.very * x.close * x.game, axis=1)\n",
    "cond_prob_smooth"
   ],
   "outputs": [
    {
     "output_type": "execute_result",
     "data": {
      "text/plain": [
       "                   a      very     close      game  cond_prob\n",
       "Category                                                     \n",
       "Not sports  0.086957  0.043478  0.086957  0.043478   0.000014\n",
       "Sports      0.115385  0.076923  0.038462  0.115385   0.000039"
      ],
      "text/html": [
       "<div>\n",
       "<style scoped>\n",
       "    .dataframe tbody tr th:only-of-type {\n",
       "        vertical-align: middle;\n",
       "    }\n",
       "\n",
       "    .dataframe tbody tr th {\n",
       "        vertical-align: top;\n",
       "    }\n",
       "\n",
       "    .dataframe thead th {\n",
       "        text-align: right;\n",
       "    }\n",
       "</style>\n",
       "<table border=\"1\" class=\"dataframe\">\n",
       "  <thead>\n",
       "    <tr style=\"text-align: right;\">\n",
       "      <th></th>\n",
       "      <th>a</th>\n",
       "      <th>very</th>\n",
       "      <th>close</th>\n",
       "      <th>game</th>\n",
       "      <th>cond_prob</th>\n",
       "    </tr>\n",
       "    <tr>\n",
       "      <th>Category</th>\n",
       "      <th></th>\n",
       "      <th></th>\n",
       "      <th></th>\n",
       "      <th></th>\n",
       "      <th></th>\n",
       "    </tr>\n",
       "  </thead>\n",
       "  <tbody>\n",
       "    <tr>\n",
       "      <th>Not sports</th>\n",
       "      <td>0.086957</td>\n",
       "      <td>0.043478</td>\n",
       "      <td>0.086957</td>\n",
       "      <td>0.043478</td>\n",
       "      <td>0.000014</td>\n",
       "    </tr>\n",
       "    <tr>\n",
       "      <th>Sports</th>\n",
       "      <td>0.115385</td>\n",
       "      <td>0.076923</td>\n",
       "      <td>0.038462</td>\n",
       "      <td>0.115385</td>\n",
       "      <td>0.000039</td>\n",
       "    </tr>\n",
       "  </tbody>\n",
       "</table>\n",
       "</div>"
      ]
     },
     "metadata": {},
     "execution_count": 34
    }
   ],
   "metadata": {}
  },
  {
   "cell_type": "markdown",
   "source": [
    "#### Step 7.3 Compute prior probabilities"
   ],
   "metadata": {}
  },
  {
   "cell_type": "markdown",
   "source": [
    "P(Sports) and P(Not sports)"
   ],
   "metadata": {}
  },
  {
   "cell_type": "code",
   "execution_count": 35,
   "source": [
    "prior_sports = count_y_sports/count_y_all\n",
    "prior_not_sports = count_y_not_sports/count_y_all\n",
    "\n",
    "print('P(Sports)=', prior_sports)\n",
    "print('P(Not sports)=', prior_not_sports)"
   ],
   "outputs": [
    {
     "output_type": "stream",
     "name": "stdout",
     "text": [
      "P(Sports)= 0.6\n",
      "P(Not sports)= 0.4\n"
     ]
    }
   ],
   "metadata": {}
  },
  {
   "cell_type": "markdown",
   "source": [
    "#### Step 7.4 Compute conditional probabilities * prior probabilities"
   ],
   "metadata": {}
  },
  {
   "cell_type": "code",
   "execution_count": 36,
   "source": [
    "numerator_sports =  cond_prob_smooth.loc['Sports','cond_prob'] * prior_sports\n",
    "numerator_sports"
   ],
   "outputs": [
    {
     "output_type": "execute_result",
     "data": {
      "text/plain": [
       "2.363362627358986e-05"
      ]
     },
     "metadata": {},
     "execution_count": 36
    }
   ],
   "metadata": {}
  },
  {
   "cell_type": "code",
   "execution_count": 37,
   "source": [
    "numerator_not_sports =  cond_prob_smooth.loc['Not sports','cond_prob'] * prior_not_sports\n",
    "numerator_not_sports"
   ],
   "outputs": [
    {
     "output_type": "execute_result",
     "data": {
      "text/plain": [
       "5.7175324559303314e-06"
      ]
     },
     "metadata": {},
     "execution_count": 37
    }
   ],
   "metadata": {}
  },
  {
   "cell_type": "markdown",
   "source": [
    "#### Step 7.5 Compute evidence"
   ],
   "metadata": {}
  },
  {
   "cell_type": "markdown",
   "source": [
    "P(a very close game)"
   ],
   "metadata": {}
  },
  {
   "cell_type": "code",
   "execution_count": 38,
   "source": [
    "denominator = (numerator_sports + numerator_not_sports)\n",
    "denominator"
   ],
   "outputs": [
    {
     "output_type": "execute_result",
     "data": {
      "text/plain": [
       "2.9351158729520193e-05"
      ]
     },
     "metadata": {},
     "execution_count": 38
    }
   ],
   "metadata": {}
  },
  {
   "cell_type": "markdown",
   "source": [
    "#### Step 7.6 Compute posterior probabilities and compare"
   ],
   "metadata": {}
  },
  {
   "cell_type": "markdown",
   "source": [
    "P(Sports|a very close game)\n",
    "\n",
    "P(Not sports| a very close game)"
   ],
   "metadata": {}
  },
  {
   "cell_type": "code",
   "execution_count": 39,
   "source": [
    "posterior_prob = [numerator_sports/denominator, numerator_not_sports/denominator]\n",
    "posterior_prob"
   ],
   "outputs": [
    {
     "output_type": "execute_result",
     "data": {
      "text/plain": [
       "[0.8052024961392794, 0.19479750386072053]"
      ]
     },
     "metadata": {},
     "execution_count": 39
    }
   ],
   "metadata": {}
  },
  {
   "cell_type": "markdown",
   "source": [
    "Question: So what is the class assigned to \"A very close game'?"
   ],
   "metadata": {}
  },
  {
   "cell_type": "code",
   "execution_count": 40,
   "source": [
    "max(posterior_prob)"
   ],
   "outputs": [
    {
     "output_type": "execute_result",
     "data": {
      "text/plain": [
       "0.8052024961392794"
      ]
     },
     "metadata": {},
     "execution_count": 40
    }
   ],
   "metadata": {}
  },
  {
   "cell_type": "code",
   "execution_count": null,
   "source": [],
   "outputs": [],
   "metadata": {}
  }
 ],
 "metadata": {
  "kernelspec": {
   "name": "python3",
   "display_name": "Python 3.8.5 64-bit ('base': conda)"
  },
  "language_info": {
   "codemirror_mode": {
    "name": "ipython",
    "version": 3
   },
   "file_extension": ".py",
   "mimetype": "text/x-python",
   "name": "python",
   "nbconvert_exporter": "python",
   "pygments_lexer": "ipython3",
   "version": "3.8.5"
  },
  "interpreter": {
   "hash": "ac790038bef2eac1a9d9ccab13fd5e8972b5c1c9ef161fffafb9eb23a97c981f"
  }
 },
 "nbformat": 4,
 "nbformat_minor": 4
}