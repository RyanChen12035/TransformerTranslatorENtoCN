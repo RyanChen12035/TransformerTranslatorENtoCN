{
  "cells": [
    {
      "cell_type": "markdown",
      "id": "exclusive-matthew",
      "metadata": {
        "id": "exclusive-matthew"
      },
      "source": [
        "## Week 13: Sentiment Analysis using Bert embeddings and Logistic for the downstream task\n",
        "\n"
      ]
    },
    {
      "cell_type": "markdown",
      "id": "fleet-notice",
      "metadata": {
        "id": "fleet-notice"
      },
      "source": [
        "#### ``Objectives``\n",
        "1. Load a pre-trained BERT embeddings model. Let's call this **bert_model**.\n",
        "2. Use the BERT sentence embeddings to clasify the sentiment of drug reviews (this is a downstream task). Let's call this **logit_model**.\n",
        "3. Fine-tune the classification model."
      ]
    },
    {
      "cell_type": "markdown",
      "id": "mediterranean-gasoline",
      "metadata": {
        "id": "mediterranean-gasoline"
      },
      "source": [
        "#### ``Motivation``"
      ]
    },
    {
      "cell_type": "markdown",
      "id": "buried-spice",
      "metadata": {
        "id": "buried-spice"
      },
      "source": [
        "1. Drug reviews can provide medical care information for both healthcare professionals and patients. They help understand the side effects and effectiveness level of drugs before prescribing or taking them.\n",
        "\n",
        "2. Try a different embedding strategy: remember that we need to convert sequences of word tokens to a vector representation that we can then use in a prediction model (downstream task). We will do this using a pre-trained BERT model (this is what transfer learning means).\n",
        "\n",
        "3. Fine-tune your prediction model by unfreezing layers of your BERT model.\n",
        "\n",
        "4. BERT provides a nice balance between popularity and having a manageable model size. It can be fine-tuned on a single GPU!"
      ]
    },
    {
      "cell_type": "markdown",
      "id": "further-celebrity",
      "metadata": {
        "id": "further-celebrity"
      },
      "source": [
        "#### ``Motivating papers``\n",
        "\n",
        "\n",
        "Transformer models have revolutionized NLP and have been at the forefront of many impressive applications. Transformers rely on *self-attention* mechanisms. The architecture was first proporsed in the NeurIPS 2017 paper [Attention is All you Need](https://proceedings.neurips.cc/paper/2017/file/3f5ee243547dee91fbd053c1c4a845aa-Paper.pdf).\n",
        "\n",
        "A popular language model that uses the transformer architecture is [BERT](https://arxiv.org/abs/1810.04805). To familiarize yourself with BERT, briefly describe the 2 pretraining tasks discussed in the introduction to the paper."
      ]
    },
    {
      "cell_type": "markdown",
      "id": "proved-stocks",
      "metadata": {
        "id": "proved-stocks"
      },
      "source": [
        "#### ``Pre-trained BERT model (PubMedBert)``"
      ]
    },
    {
      "cell_type": "markdown",
      "id": "little-subsection",
      "metadata": {
        "id": "little-subsection"
      },
      "source": [
        "[HuggingFace](https://huggingface.co/docs/transformers/index) provides a standard interface for tokenizers and transformers in Tensorflow and PyTorch. They also provide a platform for reserachers to share pretrained models. For example, we will load a pretrained BERT model from HuggingFace: the [PubMedBERT model + tokenizer](https://huggingface.co/cambridgeltl/SapBERT-from-PubMedBERT-fulltext) that has been trained on a dataset of biomedical texts.\n",
        "\n",
        "<span style=\"color:chocolate\">Question:</span> Is there a benefit to using a BERT model that has been pretrained on biomedical text compared with, for example, a BERT model trained on Wikipedia?"
      ]
    },
    {
      "cell_type": "markdown",
      "id": "better-cloud",
      "metadata": {
        "id": "better-cloud"
      },
      "source": [
        "#### ``BERT architecture``"
      ]
    },
    {
      "cell_type": "markdown",
      "id": "extreme-split",
      "metadata": {
        "id": "extreme-split"
      },
      "source": [
        "I mentioned above that BERT relies on the transformer architecture. What does it mean? Well, instead of processing sequence data one-at-a-time (this is what RNN/LSTM does), transformers process entire sequences at once. The good thing is that they still model dependencies between sequence elements.\n",
        "\n",
        "<span style=\"color:chocolate\">Question:</span> What is the mechanism that transformers use to model sequence dependencies? (you can refer to the [Attention is all you need](https://proceedings.neurips.cc/paper/2017/file/3f5ee243547dee91fbd053c1c4a845aa-Paper.pdf) paper)"
      ]
    },
    {
      "cell_type": "markdown",
      "id": "valid-injury",
      "metadata": {
        "id": "valid-injury"
      },
      "source": [
        "#### ``Data``"
      ]
    },
    {
      "cell_type": "markdown",
      "id": "floppy-prime",
      "metadata": {
        "id": "floppy-prime"
      },
      "source": [
        "Our data ([download link](https://drive.google.com/file/d/1ZWzmnIykk63pJuEBTonxbC4CBXJjI6t5/view?usp=sharing)) provides patient reviews on specific drugs and related conditions, and a 10-star rating reflecting overall patient satisfaction. The data was obtained by crawling online pharmaceutical review sites.\n",
        "\n",
        "We will **build** and **train** a NN model to predict if a review is positive (1) or negative (0).\n",
        "\n",
        "\n",
        "<u>Note</u>: the original dataset is hosted by UCI - Machine Learning Repository [[Source]](https://archive.ics.uci.edu/ml/datasets/Drug+Review+Dataset+%28Drugs.com%29)."
      ]
    },
    {
      "cell_type": "markdown",
      "id": "superb-college",
      "metadata": {
        "id": "superb-college"
      },
      "source": [
        "Import the necessary libraries and make sure to replace DATA_PATH with the path to the directories where you saved the data."
      ]
    },
    {
      "cell_type": "code",
      "source": [
        "pip install transformers"
      ],
      "metadata": {
        "id": "uO0kRWND3VY7"
      },
      "id": "uO0kRWND3VY7",
      "execution_count": null,
      "outputs": []
    },
    {
      "cell_type": "code",
      "execution_count": null,
      "id": "spanish-lobby",
      "metadata": {
        "id": "spanish-lobby"
      },
      "outputs": [],
      "source": [
        "# standard\n",
        "import pandas as pd\n",
        "import numpy as np\n",
        "import random\n",
        "import os\n",
        "\n",
        "# sklearn\n",
        "from sklearn.model_selection import train_test_split\n",
        "from sklearn.dummy import DummyClassifier\n",
        "from sklearn.model_selection import cross_val_score\n",
        "\n",
        "# tf and keras\n",
        "import tensorflow as tf\n",
        "from tensorflow import keras\n",
        "from tensorflow.keras import Sequential\n",
        "from tensorflow.keras.layers import Dense\n",
        "from tensorflow.keras.layers import Flatten\n",
        "from tensorflow.keras.layers import Conv1D\n",
        "from tensorflow.keras.layers import MaxPooling1D\n",
        "from tensorflow.keras.layers import GlobalAveragePooling1D\n",
        "from tensorflow.keras.layers import Embedding\n",
        "from tensorflow.keras.preprocessing.text import Tokenizer\n",
        "from tensorflow.keras.preprocessing import sequence\n",
        "from sklearn.preprocessing import LabelEncoder\n",
        "import tensorflow_datasets as tfds\n",
        "\n",
        "# BERT\n",
        "import transformers\n",
        "from transformers import AutoTokenizer, TFAutoModel\n",
        "\n",
        "\n",
        "# plots and images\n",
        "import seaborn as sns\n",
        "import matplotlib.pyplot as plt\n",
        "from IPython.display import Image\n",
        "\n",
        "# others\n",
        "import re\n",
        "import tqdm\n",
        "import warnings\n",
        "warnings.filterwarnings(\"ignore\")\n",
        "\n",
        "#silence TF\n",
        "os.environ['TF_CPP_MIN_LOG_LEVEL'] = '3'\n",
        "\n",
        "\n",
        "random.seed(2)\n",
        "%matplotlib inline\n",
        "\n",
        "# FILL IN CODE HERE #\n",
        "DATA_PATH = '/content/drive/MyDrive/drugs_raw.csv' # replace with your path"
      ]
    },
    {
      "cell_type": "markdown",
      "id": "green-baptist",
      "metadata": {
        "id": "green-baptist"
      },
      "source": [
        "``Functions``"
      ]
    },
    {
      "cell_type": "code",
      "execution_count": null,
      "id": "minimal-carbon",
      "metadata": {
        "id": "minimal-carbon"
      },
      "outputs": [],
      "source": [
        "def preprocessor(text):\n",
        "    text = re.sub('<[^>]*>', '', text)\n",
        "    emoticons = re.findall('(?::|;|=)(?:-)?(?:\\)|\\(|D|P)',\n",
        "                           text)\n",
        "    text = (re.sub('[\\W]+', ' ', text.lower()) +\n",
        "            ' '.join(emoticons).replace('-', ''))\n",
        "    return text"
      ]
    },
    {
      "cell_type": "code",
      "execution_count": null,
      "id": "august-february",
      "metadata": {
        "id": "august-february"
      },
      "outputs": [],
      "source": [
        "def tokenize(reviews, labels, tokenizer, seq_length):\n",
        "    ''''''\n",
        "    # tokenize reviews (this will give you: input_ids, token_type_ids, attention_mask)\n",
        "    reviews_tokenized = [\n",
        "        tokenizer(\n",
        "            n,\n",
        "            return_tensors='tf',\n",
        "            truncation=True,\n",
        "            padding='max_length',\n",
        "            max_length=seq_length) for n in reviews\n",
        "    ]\n",
        "\n",
        "    reviews_tokenized_tensor = tf.convert_to_tensor([\n",
        "                            (reviews_tokenized[i]['input_ids'],\n",
        "                              reviews_tokenized[i]['token_type_ids'],\n",
        "                              reviews_tokenized[i]['attention_mask'])\n",
        "                         for i in range(len(reviews_tokenized))\n",
        "    ])\n",
        "\n",
        "    # remove empty dimension\n",
        "    reviews_tokenized_tensor = reviews_tokenized_tensor[:,:,0,:]\n",
        "\n",
        "    # tensor labels\n",
        "    labels_tensor = np.array(labels)\n",
        "\n",
        "    return reviews_tokenized_tensor, labels_tensor"
      ]
    },
    {
      "cell_type": "code",
      "execution_count": null,
      "id": "competent-absorption",
      "metadata": {
        "id": "competent-absorption"
      },
      "outputs": [],
      "source": [
        "def get_bert_embeddings(bert_auto_model, reviews_tokenized_tensor, feature_size=768):\n",
        "    ''''''\n",
        "    n = len(reviews_tokenized_tensor)\n",
        "    seq_len = reviews_tokenized_tensor[0][0].shape[0]\n",
        "    #bert_pool_embeddings = np.zeros((n, seq_len, feature_size)) # for token embeddings\n",
        "    bert_pool_embeddings = np.zeros((n, feature_size)) # for sentence embeddings\n",
        "    bs = 128\n",
        "    nsteps = n//bs+1\n",
        "\n",
        "    for i in tqdm.trange(n//bs+1):\n",
        "        slc = slice(i*bs, (i+1)*bs)\n",
        "        data = reviews_tokenized_tensor[slc]\n",
        "        input_ids, token_type_ids, attention_mask = data[:,0], data[:,1], data[:,2]\n",
        "        #embedding = bert_auto_model(input_ids, token_type_ids, attention_mask).last_hidden_state # for token embeddings\n",
        "        embedding = bert_auto_model(input_ids, token_type_ids, attention_mask).pooler_output # for sentence embeddings\n",
        "        bert_pool_embeddings[slc] = embedding\n",
        "\n",
        "    return bert_pool_embeddings"
      ]
    },
    {
      "cell_type": "code",
      "execution_count": null,
      "id": "pacific-patent",
      "metadata": {
        "id": "pacific-patent"
      },
      "outputs": [],
      "source": [
        "def confusion_matrix_plot(conf_matrix):\n",
        "    \"\"\" Confusion matrix matplotlib plot\n",
        "    # param conf_matrix: nested list of TP, TN, FP, FN\n",
        "    # return: None\n",
        "    \"\"\"\n",
        "    fig, ax = plt.subplots(figsize=(2.5, 2.5))\n",
        "    ax.matshow(conf_matrix, cmap=plt.cm.Blues, alpha=0.3)\n",
        "    for i in range(conf_matrix.shape[0]):\n",
        "        for j in range(conf_matrix.shape[1]):\n",
        "            ax.text(x=j, y=i, s=conf_matrix[i, j], va='center', ha='center')\n",
        "\n",
        "    plt.xlabel('Predicted label')\n",
        "    plt.ylabel('True label')\n",
        "\n",
        "    plt.tight_layout()\n",
        "    plt.show()"
      ]
    },
    {
      "cell_type": "code",
      "source": [
        "from google.colab import drive\n",
        "drive.mount('/content/drive')"
      ],
      "metadata": {
        "colab": {
          "base_uri": "https://localhost:8080/"
        },
        "id": "jiVVJnE41iXW",
        "outputId": "6efc6303-8f64-4dc7-e4a7-8e37414dc700"
      },
      "id": "jiVVJnE41iXW",
      "execution_count": null,
      "outputs": [
        {
          "output_type": "stream",
          "name": "stdout",
          "text": [
            "Drive already mounted at /content/drive; to attempt to forcibly remount, call drive.mount(\"/content/drive\", force_remount=True).\n"
          ]
        }
      ]
    },
    {
      "cell_type": "markdown",
      "id": "treated-health",
      "metadata": {
        "id": "treated-health"
      },
      "source": [
        "---\n",
        "## Read data"
      ]
    },
    {
      "cell_type": "code",
      "execution_count": null,
      "id": "uniform-terrorist",
      "metadata": {
        "colab": {
          "base_uri": "https://localhost:8080/",
          "height": 255
        },
        "id": "uniform-terrorist",
        "outputId": "5f94cbc2-008c-469f-b475-6756d49f863b"
      },
      "outputs": [
        {
          "output_type": "stream",
          "name": "stdout",
          "text": [
            "Number of reviews: 215063\n",
            "Reviews collected between: April 1, 2008 and  September 9, 2017\n",
            "Unique rating values: [ 1.  2.  3.  4.  5.  6.  7.  8.  9. 10.]\n"
          ]
        },
        {
          "output_type": "execute_result",
          "data": {
            "text/plain": [
              "   Unnamed: 0                  drugName                     condition  \\\n",
              "0           0                 Valsartan  Left Ventricular Dysfunction   \n",
              "1           1                Guanfacine                          ADHD   \n",
              "2           2                    Lybrel                 Birth Control   \n",
              "3           3                Ortho Evra                 Birth Control   \n",
              "4           4  Buprenorphine / naloxone             Opiate Dependence   \n",
              "\n",
              "                                              review  rating  \\\n",
              "0  \"It has no side effect, I take it in combinati...     9.0   \n",
              "1  \"My son is halfway through his fourth week of ...     8.0   \n",
              "2  \"I used to take another oral contraceptive, wh...     5.0   \n",
              "3  \"This is my first time using any form of birth...     8.0   \n",
              "4  \"Suboxone has completely turned my life around...     9.0   \n",
              "\n",
              "                date  usefulCount  \n",
              "0       May 20, 2012           27  \n",
              "1     April 27, 2010          192  \n",
              "2  December 14, 2009           17  \n",
              "3   November 3, 2015           10  \n",
              "4  November 27, 2016           37  "
            ],
            "text/html": [
              "\n",
              "\n",
              "  <div id=\"df-ba1c1cd2-c4a4-4933-bf6b-d5cb8b8ffe92\">\n",
              "    <div class=\"colab-df-container\">\n",
              "      <div>\n",
              "<style scoped>\n",
              "    .dataframe tbody tr th:only-of-type {\n",
              "        vertical-align: middle;\n",
              "    }\n",
              "\n",
              "    .dataframe tbody tr th {\n",
              "        vertical-align: top;\n",
              "    }\n",
              "\n",
              "    .dataframe thead th {\n",
              "        text-align: right;\n",
              "    }\n",
              "</style>\n",
              "<table border=\"1\" class=\"dataframe\">\n",
              "  <thead>\n",
              "    <tr style=\"text-align: right;\">\n",
              "      <th></th>\n",
              "      <th>Unnamed: 0</th>\n",
              "      <th>drugName</th>\n",
              "      <th>condition</th>\n",
              "      <th>review</th>\n",
              "      <th>rating</th>\n",
              "      <th>date</th>\n",
              "      <th>usefulCount</th>\n",
              "    </tr>\n",
              "  </thead>\n",
              "  <tbody>\n",
              "    <tr>\n",
              "      <th>0</th>\n",
              "      <td>0</td>\n",
              "      <td>Valsartan</td>\n",
              "      <td>Left Ventricular Dysfunction</td>\n",
              "      <td>\"It has no side effect, I take it in combinati...</td>\n",
              "      <td>9.0</td>\n",
              "      <td>May 20, 2012</td>\n",
              "      <td>27</td>\n",
              "    </tr>\n",
              "    <tr>\n",
              "      <th>1</th>\n",
              "      <td>1</td>\n",
              "      <td>Guanfacine</td>\n",
              "      <td>ADHD</td>\n",
              "      <td>\"My son is halfway through his fourth week of ...</td>\n",
              "      <td>8.0</td>\n",
              "      <td>April 27, 2010</td>\n",
              "      <td>192</td>\n",
              "    </tr>\n",
              "    <tr>\n",
              "      <th>2</th>\n",
              "      <td>2</td>\n",
              "      <td>Lybrel</td>\n",
              "      <td>Birth Control</td>\n",
              "      <td>\"I used to take another oral contraceptive, wh...</td>\n",
              "      <td>5.0</td>\n",
              "      <td>December 14, 2009</td>\n",
              "      <td>17</td>\n",
              "    </tr>\n",
              "    <tr>\n",
              "      <th>3</th>\n",
              "      <td>3</td>\n",
              "      <td>Ortho Evra</td>\n",
              "      <td>Birth Control</td>\n",
              "      <td>\"This is my first time using any form of birth...</td>\n",
              "      <td>8.0</td>\n",
              "      <td>November 3, 2015</td>\n",
              "      <td>10</td>\n",
              "    </tr>\n",
              "    <tr>\n",
              "      <th>4</th>\n",
              "      <td>4</td>\n",
              "      <td>Buprenorphine / naloxone</td>\n",
              "      <td>Opiate Dependence</td>\n",
              "      <td>\"Suboxone has completely turned my life around...</td>\n",
              "      <td>9.0</td>\n",
              "      <td>November 27, 2016</td>\n",
              "      <td>37</td>\n",
              "    </tr>\n",
              "  </tbody>\n",
              "</table>\n",
              "</div>\n",
              "      <button class=\"colab-df-convert\" onclick=\"convertToInteractive('df-ba1c1cd2-c4a4-4933-bf6b-d5cb8b8ffe92')\"\n",
              "              title=\"Convert this dataframe to an interactive table.\"\n",
              "              style=\"display:none;\">\n",
              "\n",
              "  <svg xmlns=\"http://www.w3.org/2000/svg\" height=\"24px\"viewBox=\"0 0 24 24\"\n",
              "       width=\"24px\">\n",
              "    <path d=\"M0 0h24v24H0V0z\" fill=\"none\"/>\n",
              "    <path d=\"M18.56 5.44l.94 2.06.94-2.06 2.06-.94-2.06-.94-.94-2.06-.94 2.06-2.06.94zm-11 1L8.5 8.5l.94-2.06 2.06-.94-2.06-.94L8.5 2.5l-.94 2.06-2.06.94zm10 10l.94 2.06.94-2.06 2.06-.94-2.06-.94-.94-2.06-.94 2.06-2.06.94z\"/><path d=\"M17.41 7.96l-1.37-1.37c-.4-.4-.92-.59-1.43-.59-.52 0-1.04.2-1.43.59L10.3 9.45l-7.72 7.72c-.78.78-.78 2.05 0 2.83L4 21.41c.39.39.9.59 1.41.59.51 0 1.02-.2 1.41-.59l7.78-7.78 2.81-2.81c.8-.78.8-2.07 0-2.86zM5.41 20L4 18.59l7.72-7.72 1.47 1.35L5.41 20z\"/>\n",
              "  </svg>\n",
              "      </button>\n",
              "\n",
              "\n",
              "\n",
              "    <div id=\"df-16fc80f2-28f7-427f-994f-afa27076cf35\">\n",
              "      <button class=\"colab-df-quickchart\" onclick=\"quickchart('df-16fc80f2-28f7-427f-994f-afa27076cf35')\"\n",
              "              title=\"Suggest charts.\"\n",
              "              style=\"display:none;\">\n",
              "\n",
              "<svg xmlns=\"http://www.w3.org/2000/svg\" height=\"24px\"viewBox=\"0 0 24 24\"\n",
              "     width=\"24px\">\n",
              "    <g>\n",
              "        <path d=\"M19 3H5c-1.1 0-2 .9-2 2v14c0 1.1.9 2 2 2h14c1.1 0 2-.9 2-2V5c0-1.1-.9-2-2-2zM9 17H7v-7h2v7zm4 0h-2V7h2v10zm4 0h-2v-4h2v4z\"/>\n",
              "    </g>\n",
              "</svg>\n",
              "      </button>\n",
              "    </div>\n",
              "\n",
              "<style>\n",
              "  .colab-df-quickchart {\n",
              "    background-color: #E8F0FE;\n",
              "    border: none;\n",
              "    border-radius: 50%;\n",
              "    cursor: pointer;\n",
              "    display: none;\n",
              "    fill: #1967D2;\n",
              "    height: 32px;\n",
              "    padding: 0 0 0 0;\n",
              "    width: 32px;\n",
              "  }\n",
              "\n",
              "  .colab-df-quickchart:hover {\n",
              "    background-color: #E2EBFA;\n",
              "    box-shadow: 0px 1px 2px rgba(60, 64, 67, 0.3), 0px 1px 3px 1px rgba(60, 64, 67, 0.15);\n",
              "    fill: #174EA6;\n",
              "  }\n",
              "\n",
              "  [theme=dark] .colab-df-quickchart {\n",
              "    background-color: #3B4455;\n",
              "    fill: #D2E3FC;\n",
              "  }\n",
              "\n",
              "  [theme=dark] .colab-df-quickchart:hover {\n",
              "    background-color: #434B5C;\n",
              "    box-shadow: 0px 1px 3px 1px rgba(0, 0, 0, 0.15);\n",
              "    filter: drop-shadow(0px 1px 2px rgba(0, 0, 0, 0.3));\n",
              "    fill: #FFFFFF;\n",
              "  }\n",
              "</style>\n",
              "\n",
              "    <script>\n",
              "      async function quickchart(key) {\n",
              "        const containerElement = document.querySelector('#' + key);\n",
              "        const charts = await google.colab.kernel.invokeFunction(\n",
              "            'suggestCharts', [key], {});\n",
              "      }\n",
              "    </script>\n",
              "\n",
              "      <script>\n",
              "\n",
              "function displayQuickchartButton(domScope) {\n",
              "  let quickchartButtonEl =\n",
              "    domScope.querySelector('#df-16fc80f2-28f7-427f-994f-afa27076cf35 button.colab-df-quickchart');\n",
              "  quickchartButtonEl.style.display =\n",
              "    google.colab.kernel.accessAllowed ? 'block' : 'none';\n",
              "}\n",
              "\n",
              "        displayQuickchartButton(document);\n",
              "      </script>\n",
              "      <style>\n",
              "    .colab-df-container {\n",
              "      display:flex;\n",
              "      flex-wrap:wrap;\n",
              "      gap: 12px;\n",
              "    }\n",
              "\n",
              "    .colab-df-convert {\n",
              "      background-color: #E8F0FE;\n",
              "      border: none;\n",
              "      border-radius: 50%;\n",
              "      cursor: pointer;\n",
              "      display: none;\n",
              "      fill: #1967D2;\n",
              "      height: 32px;\n",
              "      padding: 0 0 0 0;\n",
              "      width: 32px;\n",
              "    }\n",
              "\n",
              "    .colab-df-convert:hover {\n",
              "      background-color: #E2EBFA;\n",
              "      box-shadow: 0px 1px 2px rgba(60, 64, 67, 0.3), 0px 1px 3px 1px rgba(60, 64, 67, 0.15);\n",
              "      fill: #174EA6;\n",
              "    }\n",
              "\n",
              "    [theme=dark] .colab-df-convert {\n",
              "      background-color: #3B4455;\n",
              "      fill: #D2E3FC;\n",
              "    }\n",
              "\n",
              "    [theme=dark] .colab-df-convert:hover {\n",
              "      background-color: #434B5C;\n",
              "      box-shadow: 0px 1px 3px 1px rgba(0, 0, 0, 0.15);\n",
              "      filter: drop-shadow(0px 1px 2px rgba(0, 0, 0, 0.3));\n",
              "      fill: #FFFFFF;\n",
              "    }\n",
              "  </style>\n",
              "\n",
              "      <script>\n",
              "        const buttonEl =\n",
              "          document.querySelector('#df-ba1c1cd2-c4a4-4933-bf6b-d5cb8b8ffe92 button.colab-df-convert');\n",
              "        buttonEl.style.display =\n",
              "          google.colab.kernel.accessAllowed ? 'block' : 'none';\n",
              "\n",
              "        async function convertToInteractive(key) {\n",
              "          const element = document.querySelector('#df-ba1c1cd2-c4a4-4933-bf6b-d5cb8b8ffe92');\n",
              "          const dataTable =\n",
              "            await google.colab.kernel.invokeFunction('convertToInteractive',\n",
              "                                                     [key], {});\n",
              "          if (!dataTable) return;\n",
              "\n",
              "          const docLinkHtml = 'Like what you see? Visit the ' +\n",
              "            '<a target=\"_blank\" href=https://colab.research.google.com/notebooks/data_table.ipynb>data table notebook</a>'\n",
              "            + ' to learn more about interactive tables.';\n",
              "          element.innerHTML = '';\n",
              "          dataTable['output_type'] = 'display_data';\n",
              "          await google.colab.output.renderOutput(dataTable, element);\n",
              "          const docLink = document.createElement('div');\n",
              "          docLink.innerHTML = docLinkHtml;\n",
              "          element.appendChild(docLink);\n",
              "        }\n",
              "      </script>\n",
              "    </div>\n",
              "  </div>\n"
            ]
          },
          "metadata": {},
          "execution_count": 8
        }
      ],
      "source": [
        "df_init = pd.read_csv(DATA_PATH)\n",
        "print('Number of reviews:', df_init.shape[0])\n",
        "print('Reviews collected between:', df_init.date.min(), 'and ', df_init.date.max())\n",
        "print('Unique rating values:', np.sort(df_init.rating.unique()))\n",
        "df_init.head()"
      ]
    },
    {
      "cell_type": "markdown",
      "id": "manual-comedy",
      "metadata": {
        "id": "manual-comedy"
      },
      "source": [
        "---\n",
        "## Data preprocessing"
      ]
    },
    {
      "cell_type": "markdown",
      "id": "collect-hurricane",
      "metadata": {
        "id": "collect-hurricane"
      },
      "source": [
        "When building a neural network, it is import to get the data into the proper form. Let's do a couple of text preprocessing steps."
      ]
    },
    {
      "cell_type": "markdown",
      "id": "latter-korean",
      "metadata": {
        "id": "latter-korean"
      },
      "source": [
        "``Step 1: Remove unwanted review characters``"
      ]
    },
    {
      "cell_type": "code",
      "execution_count": null,
      "id": "otherwise-nicholas",
      "metadata": {
        "id": "otherwise-nicholas"
      },
      "outputs": [],
      "source": [
        "# remove HTML markup, punctuation, and other non-letter characters\n",
        "df_init['review'] = df_init['review'].apply(preprocessor)"
      ]
    },
    {
      "cell_type": "markdown",
      "id": "according-authentication",
      "metadata": {
        "id": "according-authentication"
      },
      "source": [
        "``Step 2: Remove outlier reviews``"
      ]
    },
    {
      "cell_type": "markdown",
      "id": "induced-salem",
      "metadata": {
        "id": "induced-salem"
      },
      "source": [
        "I want to remove any reviews with no text or extremely long text. Let's see if we find any such reviews."
      ]
    },
    {
      "cell_type": "code",
      "execution_count": null,
      "id": "fifteen-spiritual",
      "metadata": {
        "colab": {
          "base_uri": "https://localhost:8080/",
          "height": 128
        },
        "id": "fifteen-spiritual",
        "outputId": "5e599504-8a75-4139-ff69-070706f368ae"
      },
      "outputs": [
        {
          "output_type": "stream",
          "name": "stdout",
          "text": [
            "Zero-length reviews: 2\n"
          ]
        },
        {
          "output_type": "display_data",
          "data": {
            "text/plain": [
              "        Unnamed: 0    drugName         condition review  rating  \\\n",
              "123174      123174  Ifosfamide  Testicular Cance           10.0   \n",
              "128652      128652        Ifex  Testicular Cance           10.0   \n",
              "\n",
              "                   date  usefulCount  \n",
              "123174  January 8, 2017            0  \n",
              "128652  January 8, 2017            0  "
            ],
            "text/html": [
              "\n",
              "\n",
              "  <div id=\"df-10c88adb-4a28-4902-bcad-0084181b2a96\">\n",
              "    <div class=\"colab-df-container\">\n",
              "      <div>\n",
              "<style scoped>\n",
              "    .dataframe tbody tr th:only-of-type {\n",
              "        vertical-align: middle;\n",
              "    }\n",
              "\n",
              "    .dataframe tbody tr th {\n",
              "        vertical-align: top;\n",
              "    }\n",
              "\n",
              "    .dataframe thead th {\n",
              "        text-align: right;\n",
              "    }\n",
              "</style>\n",
              "<table border=\"1\" class=\"dataframe\">\n",
              "  <thead>\n",
              "    <tr style=\"text-align: right;\">\n",
              "      <th></th>\n",
              "      <th>Unnamed: 0</th>\n",
              "      <th>drugName</th>\n",
              "      <th>condition</th>\n",
              "      <th>review</th>\n",
              "      <th>rating</th>\n",
              "      <th>date</th>\n",
              "      <th>usefulCount</th>\n",
              "    </tr>\n",
              "  </thead>\n",
              "  <tbody>\n",
              "    <tr>\n",
              "      <th>123174</th>\n",
              "      <td>123174</td>\n",
              "      <td>Ifosfamide</td>\n",
              "      <td>Testicular Cance</td>\n",
              "      <td></td>\n",
              "      <td>10.0</td>\n",
              "      <td>January 8, 2017</td>\n",
              "      <td>0</td>\n",
              "    </tr>\n",
              "    <tr>\n",
              "      <th>128652</th>\n",
              "      <td>128652</td>\n",
              "      <td>Ifex</td>\n",
              "      <td>Testicular Cance</td>\n",
              "      <td></td>\n",
              "      <td>10.0</td>\n",
              "      <td>January 8, 2017</td>\n",
              "      <td>0</td>\n",
              "    </tr>\n",
              "  </tbody>\n",
              "</table>\n",
              "</div>\n",
              "      <button class=\"colab-df-convert\" onclick=\"convertToInteractive('df-10c88adb-4a28-4902-bcad-0084181b2a96')\"\n",
              "              title=\"Convert this dataframe to an interactive table.\"\n",
              "              style=\"display:none;\">\n",
              "\n",
              "  <svg xmlns=\"http://www.w3.org/2000/svg\" height=\"24px\"viewBox=\"0 0 24 24\"\n",
              "       width=\"24px\">\n",
              "    <path d=\"M0 0h24v24H0V0z\" fill=\"none\"/>\n",
              "    <path d=\"M18.56 5.44l.94 2.06.94-2.06 2.06-.94-2.06-.94-.94-2.06-.94 2.06-2.06.94zm-11 1L8.5 8.5l.94-2.06 2.06-.94-2.06-.94L8.5 2.5l-.94 2.06-2.06.94zm10 10l.94 2.06.94-2.06 2.06-.94-2.06-.94-.94-2.06-.94 2.06-2.06.94z\"/><path d=\"M17.41 7.96l-1.37-1.37c-.4-.4-.92-.59-1.43-.59-.52 0-1.04.2-1.43.59L10.3 9.45l-7.72 7.72c-.78.78-.78 2.05 0 2.83L4 21.41c.39.39.9.59 1.41.59.51 0 1.02-.2 1.41-.59l7.78-7.78 2.81-2.81c.8-.78.8-2.07 0-2.86zM5.41 20L4 18.59l7.72-7.72 1.47 1.35L5.41 20z\"/>\n",
              "  </svg>\n",
              "      </button>\n",
              "\n",
              "\n",
              "\n",
              "    <div id=\"df-05f599c6-2a4c-4483-a59b-e002eadf6f02\">\n",
              "      <button class=\"colab-df-quickchart\" onclick=\"quickchart('df-05f599c6-2a4c-4483-a59b-e002eadf6f02')\"\n",
              "              title=\"Suggest charts.\"\n",
              "              style=\"display:none;\">\n",
              "\n",
              "<svg xmlns=\"http://www.w3.org/2000/svg\" height=\"24px\"viewBox=\"0 0 24 24\"\n",
              "     width=\"24px\">\n",
              "    <g>\n",
              "        <path d=\"M19 3H5c-1.1 0-2 .9-2 2v14c0 1.1.9 2 2 2h14c1.1 0 2-.9 2-2V5c0-1.1-.9-2-2-2zM9 17H7v-7h2v7zm4 0h-2V7h2v10zm4 0h-2v-4h2v4z\"/>\n",
              "    </g>\n",
              "</svg>\n",
              "      </button>\n",
              "    </div>\n",
              "\n",
              "<style>\n",
              "  .colab-df-quickchart {\n",
              "    background-color: #E8F0FE;\n",
              "    border: none;\n",
              "    border-radius: 50%;\n",
              "    cursor: pointer;\n",
              "    display: none;\n",
              "    fill: #1967D2;\n",
              "    height: 32px;\n",
              "    padding: 0 0 0 0;\n",
              "    width: 32px;\n",
              "  }\n",
              "\n",
              "  .colab-df-quickchart:hover {\n",
              "    background-color: #E2EBFA;\n",
              "    box-shadow: 0px 1px 2px rgba(60, 64, 67, 0.3), 0px 1px 3px 1px rgba(60, 64, 67, 0.15);\n",
              "    fill: #174EA6;\n",
              "  }\n",
              "\n",
              "  [theme=dark] .colab-df-quickchart {\n",
              "    background-color: #3B4455;\n",
              "    fill: #D2E3FC;\n",
              "  }\n",
              "\n",
              "  [theme=dark] .colab-df-quickchart:hover {\n",
              "    background-color: #434B5C;\n",
              "    box-shadow: 0px 1px 3px 1px rgba(0, 0, 0, 0.15);\n",
              "    filter: drop-shadow(0px 1px 2px rgba(0, 0, 0, 0.3));\n",
              "    fill: #FFFFFF;\n",
              "  }\n",
              "</style>\n",
              "\n",
              "    <script>\n",
              "      async function quickchart(key) {\n",
              "        const containerElement = document.querySelector('#' + key);\n",
              "        const charts = await google.colab.kernel.invokeFunction(\n",
              "            'suggestCharts', [key], {});\n",
              "      }\n",
              "    </script>\n",
              "\n",
              "      <script>\n",
              "\n",
              "function displayQuickchartButton(domScope) {\n",
              "  let quickchartButtonEl =\n",
              "    domScope.querySelector('#df-05f599c6-2a4c-4483-a59b-e002eadf6f02 button.colab-df-quickchart');\n",
              "  quickchartButtonEl.style.display =\n",
              "    google.colab.kernel.accessAllowed ? 'block' : 'none';\n",
              "}\n",
              "\n",
              "        displayQuickchartButton(document);\n",
              "      </script>\n",
              "      <style>\n",
              "    .colab-df-container {\n",
              "      display:flex;\n",
              "      flex-wrap:wrap;\n",
              "      gap: 12px;\n",
              "    }\n",
              "\n",
              "    .colab-df-convert {\n",
              "      background-color: #E8F0FE;\n",
              "      border: none;\n",
              "      border-radius: 50%;\n",
              "      cursor: pointer;\n",
              "      display: none;\n",
              "      fill: #1967D2;\n",
              "      height: 32px;\n",
              "      padding: 0 0 0 0;\n",
              "      width: 32px;\n",
              "    }\n",
              "\n",
              "    .colab-df-convert:hover {\n",
              "      background-color: #E2EBFA;\n",
              "      box-shadow: 0px 1px 2px rgba(60, 64, 67, 0.3), 0px 1px 3px 1px rgba(60, 64, 67, 0.15);\n",
              "      fill: #174EA6;\n",
              "    }\n",
              "\n",
              "    [theme=dark] .colab-df-convert {\n",
              "      background-color: #3B4455;\n",
              "      fill: #D2E3FC;\n",
              "    }\n",
              "\n",
              "    [theme=dark] .colab-df-convert:hover {\n",
              "      background-color: #434B5C;\n",
              "      box-shadow: 0px 1px 3px 1px rgba(0, 0, 0, 0.15);\n",
              "      filter: drop-shadow(0px 1px 2px rgba(0, 0, 0, 0.3));\n",
              "      fill: #FFFFFF;\n",
              "    }\n",
              "  </style>\n",
              "\n",
              "      <script>\n",
              "        const buttonEl =\n",
              "          document.querySelector('#df-10c88adb-4a28-4902-bcad-0084181b2a96 button.colab-df-convert');\n",
              "        buttonEl.style.display =\n",
              "          google.colab.kernel.accessAllowed ? 'block' : 'none';\n",
              "\n",
              "        async function convertToInteractive(key) {\n",
              "          const element = document.querySelector('#df-10c88adb-4a28-4902-bcad-0084181b2a96');\n",
              "          const dataTable =\n",
              "            await google.colab.kernel.invokeFunction('convertToInteractive',\n",
              "                                                     [key], {});\n",
              "          if (!dataTable) return;\n",
              "\n",
              "          const docLinkHtml = 'Like what you see? Visit the ' +\n",
              "            '<a target=\"_blank\" href=https://colab.research.google.com/notebooks/data_table.ipynb>data table notebook</a>'\n",
              "            + ' to learn more about interactive tables.';\n",
              "          element.innerHTML = '';\n",
              "          dataTable['output_type'] = 'display_data';\n",
              "          await google.colab.output.renderOutput(dataTable, element);\n",
              "          const docLink = document.createElement('div');\n",
              "          docLink.innerHTML = docLinkHtml;\n",
              "          element.appendChild(docLink);\n",
              "        }\n",
              "      </script>\n",
              "    </div>\n",
              "  </div>\n"
            ]
          },
          "metadata": {}
        }
      ],
      "source": [
        "# find zero-length reviews\n",
        "zero_len_reviews = df_init[df_init['review'].str.len().eq(1)]\n",
        "print(\"Zero-length reviews: {}\".format(zero_len_reviews.shape[0]))\n",
        "display(zero_len_reviews)"
      ]
    },
    {
      "cell_type": "code",
      "execution_count": null,
      "id": "willing-gothic",
      "metadata": {
        "colab": {
          "base_uri": "https://localhost:8080/",
          "height": 221
        },
        "id": "willing-gothic",
        "outputId": "f5912cd8-5510-42c5-d70a-163cfa53fde6"
      },
      "outputs": [
        {
          "output_type": "stream",
          "name": "stdout",
          "text": [
            "Distribution of review length:\n"
          ]
        },
        {
          "output_type": "display_data",
          "data": {
            "text/plain": [
              "count    215063.000000\n",
              "mean        444.877552\n",
              "std         233.744124\n",
              "min           1.000000\n",
              "25%         254.000000\n",
              "50%         443.000000\n",
              "75%         670.000000\n",
              "max       10416.000000\n",
              "Name: review, dtype: float64"
            ]
          },
          "metadata": {}
        },
        {
          "output_type": "stream",
          "name": "stdout",
          "text": [
            "\n",
            "Reviews with more than 800 tokens: 690\n"
          ]
        }
      ],
      "source": [
        "# find extremely long text reviews\n",
        "print('Distribution of review length:')\n",
        "display(df_init.review.str.len().describe())\n",
        "\n",
        "# print number of reviews with more than 800 tokens\n",
        "print('\\nReviews with more than 800 tokens:', df_init[df_init.review.str.len().gt(800)].shape[0])"
      ]
    },
    {
      "cell_type": "markdown",
      "id": "computational-swift",
      "metadata": {
        "id": "computational-swift"
      },
      "source": [
        "It seems that I have two reviews with zero length and 374 reviews with more than 1000 tokens. I am going to remove them from our data."
      ]
    },
    {
      "cell_type": "code",
      "execution_count": null,
      "id": "demanding-christopher",
      "metadata": {
        "colab": {
          "base_uri": "https://localhost:8080/"
        },
        "id": "demanding-christopher",
        "outputId": "d6b46fbc-55c8-4f2a-b18f-a21248fe72f4"
      },
      "outputs": [
        {
          "output_type": "stream",
          "name": "stdout",
          "text": [
            "Number of reviews: 214371\n"
          ]
        }
      ],
      "source": [
        "# remove zero length and extremely long reviews\n",
        "df_init = df_init[df_init['review'].str.len().gt(1) & df_init['review'].str.len().le(800)]\n",
        "print('Number of reviews:', df_init.shape[0])"
      ]
    },
    {
      "cell_type": "markdown",
      "id": "rubber-anxiety",
      "metadata": {
        "id": "rubber-anxiety"
      },
      "source": [
        "Finally, let's look at the distribution of our reviews length after preprocessing"
      ]
    },
    {
      "cell_type": "code",
      "execution_count": null,
      "id": "international-screen",
      "metadata": {
        "colab": {
          "base_uri": "https://localhost:8080/",
          "height": 466
        },
        "id": "international-screen",
        "outputId": "94649702-5e13-4a82-907b-3161f29a8b6a"
      },
      "outputs": [
        {
          "output_type": "execute_result",
          "data": {
            "text/plain": [
              "Text(0.5, 0, 'Number of tokens per review')"
            ]
          },
          "metadata": {},
          "execution_count": 13
        },
        {
          "output_type": "display_data",
          "data": {
            "text/plain": [
              "<Figure size 640x480 with 1 Axes>"
            ],
            "image/png": "[encoded data removed]"
          },
          "metadata": {}
        }
      ],
      "source": [
        "plt.hist(df_init.review.str.len());\n",
        "plt.ylabel('Count of reviews')\n",
        "plt.xlabel('Number of tokens per review')"
      ]
    },
    {
      "cell_type": "markdown",
      "id": "knowing-address",
      "metadata": {
        "id": "knowing-address"
      },
      "source": [
        "``Step 2: Create binary sentiment column``"
      ]
    },
    {
      "cell_type": "markdown",
      "id": "independent-rover",
      "metadata": {
        "id": "independent-rover"
      },
      "source": [
        "We will define our sentiment column as follows:\n",
        "\n",
        "   - positive (1) if rating score is between 8-10\n",
        "   - negative (0) if rating score is between 1-3\n",
        "    \n",
        "We dill drop any reviews that are netural, i.e., rating is between 4-7."
      ]
    },
    {
      "cell_type": "code",
      "execution_count": null,
      "id": "crucial-account",
      "metadata": {
        "id": "crucial-account"
      },
      "outputs": [],
      "source": [
        "# create sentiment column\n",
        "df_init['sentiment'] = np.where(df_init.rating.isin((1, 2, 3)), 'negative',\n",
        "                          np.where(df_init.rating.isin((8,9,10)), 'positive', 'neutral'))\n",
        "\n",
        "# drop review if sentiment is netural\n",
        "df = df_init[~df_init.sentiment.eq('neutral')]\n",
        "\n",
        "# rename sentiment to positive = 1, negative = 0\n",
        "df['sentiment'] = np.where(df.sentiment.eq('positive'), 1, 0)"
      ]
    },
    {
      "cell_type": "markdown",
      "id": "adolescent-investigator",
      "metadata": {
        "id": "adolescent-investigator"
      },
      "source": [
        "Let's do a quick inspection of our rating and sentiment columns"
      ]
    },
    {
      "cell_type": "code",
      "execution_count": null,
      "id": "entertaining-internet",
      "metadata": {
        "colab": {
          "base_uri": "https://localhost:8080/",
          "height": 313
        },
        "id": "entertaining-internet",
        "outputId": "019c3c2b-dfb6-407b-c60b-9eaecc3cf35d"
      },
      "outputs": [
        {
          "output_type": "display_data",
          "data": {
            "text/plain": [
              "<Figure size 1000x300 with 2 Axes>"
            ],
            "image/png": "[encoded data removed]"
          },
          "metadata": {}
        }
      ],
      "source": [
        "# rating and sentiment histogram after preprocessing\n",
        "cols = ['rating', 'sentiment']\n",
        "nrows, ncols = 1, 2\n",
        "\n",
        "f, axs = plt.subplots(1, 2, figsize=(10,3))\n",
        "for idx, ax in enumerate(axs):\n",
        "    sns.histplot(\n",
        "    data=df,\n",
        "    stat=\"count\",\n",
        "    x = cols[idx],\n",
        "    ax=ax\n",
        "    )\n",
        "\n",
        "    # add labels and ticks\n",
        "    ax.set(xlabel=cols[idx])\n",
        "    #plt.xticks(np.arange(1,11,1))\n",
        "    sns.despine()"
      ]
    },
    {
      "cell_type": "markdown",
      "id": "romantic-missile",
      "metadata": {
        "id": "romantic-missile"
      },
      "source": [
        "Our dataset is very imbalanced. We will correct for class imbalance by taking only 46,000 random examples from each class."
      ]
    },
    {
      "cell_type": "code",
      "execution_count": null,
      "id": "behind-absence",
      "metadata": {
        "colab": {
          "base_uri": "https://localhost:8080/"
        },
        "id": "behind-absence",
        "outputId": "156461b5-0710-4632-c64b-43b164f4f397"
      },
      "outputs": [
        {
          "output_type": "stream",
          "name": "stdout",
          "text": [
            "After preprocessing, our data contains 92000 reviews.\n"
          ]
        }
      ],
      "source": [
        "# randomly draw 46000 examples from each class\n",
        "temp_positive = df[df.sentiment.eq(1)].sample(\n",
        "    n=46000,\n",
        "    replace=False\n",
        ")\n",
        "\n",
        "temp_negative = df[df.sentiment.eq(0)].sample(\n",
        "    n=46000,\n",
        "    replace=False\n",
        ")\n",
        "\n",
        "df_balanced = pd.concat(\n",
        "    [temp_positive, temp_negative],\n",
        "    axis=0)\n",
        "\n",
        "# shuffle df_balanced\n",
        "df_balanced.sample(frac=1) # frac=1 retains all the data\n",
        "df_balanced.reset_index(drop=True, inplace=True) # reset index\n",
        "\n",
        "print('After preprocessing, our data contains', df_balanced.shape[0], 'reviews.')"
      ]
    },
    {
      "cell_type": "markdown",
      "id": "entire-working",
      "metadata": {
        "id": "entire-working"
      },
      "source": [
        "``Step 3: Split data into training, val, test``"
      ]
    },
    {
      "cell_type": "markdown",
      "id": "continent-digit",
      "metadata": {
        "id": "continent-digit"
      },
      "source": [
        "We will do a [60, 20, 20] split between training, validation and test sets"
      ]
    },
    {
      "cell_type": "code",
      "execution_count": null,
      "id": "brazilian-range",
      "metadata": {
        "colab": {
          "base_uri": "https://localhost:8080/",
          "height": 204
        },
        "id": "brazilian-range",
        "outputId": "b20dbe8e-ca77-4b6e-d672-2817bf5dd22c"
      },
      "outputs": [
        {
          "output_type": "execute_result",
          "data": {
            "text/plain": [
              "                                              review  sentiment\n",
              "0   this medicine has got me off herion after a 1...          1\n",
              "1   when i started mononessa a year ago the first...          1\n",
              "2   the ring became pale in 2 days and was gone i...          1\n",
              "3   i became addicted to opiates when i started h...          1\n",
              "4   lol don 039 t be such babies men are supposed...          1"
            ],
            "text/html": [
              "\n",
              "\n",
              "  <div id=\"df-a59d0713-0acd-486e-9ebb-593f539c24d4\">\n",
              "    <div class=\"colab-df-container\">\n",
              "      <div>\n",
              "<style scoped>\n",
              "    .dataframe tbody tr th:only-of-type {\n",
              "        vertical-align: middle;\n",
              "    }\n",
              "\n",
              "    .dataframe tbody tr th {\n",
              "        vertical-align: top;\n",
              "    }\n",
              "\n",
              "    .dataframe thead th {\n",
              "        text-align: right;\n",
              "    }\n",
              "</style>\n",
              "<table border=\"1\" class=\"dataframe\">\n",
              "  <thead>\n",
              "    <tr style=\"text-align: right;\">\n",
              "      <th></th>\n",
              "      <th>review</th>\n",
              "      <th>sentiment</th>\n",
              "    </tr>\n",
              "  </thead>\n",
              "  <tbody>\n",
              "    <tr>\n",
              "      <th>0</th>\n",
              "      <td>this medicine has got me off herion after a 1...</td>\n",
              "      <td>1</td>\n",
              "    </tr>\n",
              "    <tr>\n",
              "      <th>1</th>\n",
              "      <td>when i started mononessa a year ago the first...</td>\n",
              "      <td>1</td>\n",
              "    </tr>\n",
              "    <tr>\n",
              "      <th>2</th>\n",
              "      <td>the ring became pale in 2 days and was gone i...</td>\n",
              "      <td>1</td>\n",
              "    </tr>\n",
              "    <tr>\n",
              "      <th>3</th>\n",
              "      <td>i became addicted to opiates when i started h...</td>\n",
              "      <td>1</td>\n",
              "    </tr>\n",
              "    <tr>\n",
              "      <th>4</th>\n",
              "      <td>lol don 039 t be such babies men are supposed...</td>\n",
              "      <td>1</td>\n",
              "    </tr>\n",
              "  </tbody>\n",
              "</table>\n",
              "</div>\n",
              "      <button class=\"colab-df-convert\" onclick=\"convertToInteractive('df-a59d0713-0acd-486e-9ebb-593f539c24d4')\"\n",
              "              title=\"Convert this dataframe to an interactive table.\"\n",
              "              style=\"display:none;\">\n",
              "\n",
              "  <svg xmlns=\"http://www.w3.org/2000/svg\" height=\"24px\"viewBox=\"0 0 24 24\"\n",
              "       width=\"24px\">\n",
              "    <path d=\"M0 0h24v24H0V0z\" fill=\"none\"/>\n",
              "    <path d=\"M18.56 5.44l.94 2.06.94-2.06 2.06-.94-2.06-.94-.94-2.06-.94 2.06-2.06.94zm-11 1L8.5 8.5l.94-2.06 2.06-.94-2.06-.94L8.5 2.5l-.94 2.06-2.06.94zm10 10l.94 2.06.94-2.06 2.06-.94-2.06-.94-.94-2.06-.94 2.06-2.06.94z\"/><path d=\"M17.41 7.96l-1.37-1.37c-.4-.4-.92-.59-1.43-.59-.52 0-1.04.2-1.43.59L10.3 9.45l-7.72 7.72c-.78.78-.78 2.05 0 2.83L4 21.41c.39.39.9.59 1.41.59.51 0 1.02-.2 1.41-.59l7.78-7.78 2.81-2.81c.8-.78.8-2.07 0-2.86zM5.41 20L4 18.59l7.72-7.72 1.47 1.35L5.41 20z\"/>\n",
              "  </svg>\n",
              "      </button>\n",
              "\n",
              "\n",
              "\n",
              "    <div id=\"df-d79fd2e9-d721-4da0-840d-0b19f967e5d1\">\n",
              "      <button class=\"colab-df-quickchart\" onclick=\"quickchart('df-d79fd2e9-d721-4da0-840d-0b19f967e5d1')\"\n",
              "              title=\"Suggest charts.\"\n",
              "              style=\"display:none;\">\n",
              "\n",
              "<svg xmlns=\"http://www.w3.org/2000/svg\" height=\"24px\"viewBox=\"0 0 24 24\"\n",
              "     width=\"24px\">\n",
              "    <g>\n",
              "        <path d=\"M19 3H5c-1.1 0-2 .9-2 2v14c0 1.1.9 2 2 2h14c1.1 0 2-.9 2-2V5c0-1.1-.9-2-2-2zM9 17H7v-7h2v7zm4 0h-2V7h2v10zm4 0h-2v-4h2v4z\"/>\n",
              "    </g>\n",
              "</svg>\n",
              "      </button>\n",
              "    </div>\n",
              "\n",
              "<style>\n",
              "  .colab-df-quickchart {\n",
              "    background-color: #E8F0FE;\n",
              "    border: none;\n",
              "    border-radius: 50%;\n",
              "    cursor: pointer;\n",
              "    display: none;\n",
              "    fill: #1967D2;\n",
              "    height: 32px;\n",
              "    padding: 0 0 0 0;\n",
              "    width: 32px;\n",
              "  }\n",
              "\n",
              "  .colab-df-quickchart:hover {\n",
              "    background-color: #E2EBFA;\n",
              "    box-shadow: 0px 1px 2px rgba(60, 64, 67, 0.3), 0px 1px 3px 1px rgba(60, 64, 67, 0.15);\n",
              "    fill: #174EA6;\n",
              "  }\n",
              "\n",
              "  [theme=dark] .colab-df-quickchart {\n",
              "    background-color: #3B4455;\n",
              "    fill: #D2E3FC;\n",
              "  }\n",
              "\n",
              "  [theme=dark] .colab-df-quickchart:hover {\n",
              "    background-color: #434B5C;\n",
              "    box-shadow: 0px 1px 3px 1px rgba(0, 0, 0, 0.15);\n",
              "    filter: drop-shadow(0px 1px 2px rgba(0, 0, 0, 0.3));\n",
              "    fill: #FFFFFF;\n",
              "  }\n",
              "</style>\n",
              "\n",
              "    <script>\n",
              "      async function quickchart(key) {\n",
              "        const containerElement = document.querySelector('#' + key);\n",
              "        const charts = await google.colab.kernel.invokeFunction(\n",
              "            'suggestCharts', [key], {});\n",
              "      }\n",
              "    </script>\n",
              "\n",
              "      <script>\n",
              "\n",
              "function displayQuickchartButton(domScope) {\n",
              "  let quickchartButtonEl =\n",
              "    domScope.querySelector('#df-d79fd2e9-d721-4da0-840d-0b19f967e5d1 button.colab-df-quickchart');\n",
              "  quickchartButtonEl.style.display =\n",
              "    google.colab.kernel.accessAllowed ? 'block' : 'none';\n",
              "}\n",
              "\n",
              "        displayQuickchartButton(document);\n",
              "      </script>\n",
              "      <style>\n",
              "    .colab-df-container {\n",
              "      display:flex;\n",
              "      flex-wrap:wrap;\n",
              "      gap: 12px;\n",
              "    }\n",
              "\n",
              "    .colab-df-convert {\n",
              "      background-color: #E8F0FE;\n",
              "      border: none;\n",
              "      border-radius: 50%;\n",
              "      cursor: pointer;\n",
              "      display: none;\n",
              "      fill: #1967D2;\n",
              "      height: 32px;\n",
              "      padding: 0 0 0 0;\n",
              "      width: 32px;\n",
              "    }\n",
              "\n",
              "    .colab-df-convert:hover {\n",
              "      background-color: #E2EBFA;\n",
              "      box-shadow: 0px 1px 2px rgba(60, 64, 67, 0.3), 0px 1px 3px 1px rgba(60, 64, 67, 0.15);\n",
              "      fill: #174EA6;\n",
              "    }\n",
              "\n",
              "    [theme=dark] .colab-df-convert {\n",
              "      background-color: #3B4455;\n",
              "      fill: #D2E3FC;\n",
              "    }\n",
              "\n",
              "    [theme=dark] .colab-df-convert:hover {\n",
              "      background-color: #434B5C;\n",
              "      box-shadow: 0px 1px 3px 1px rgba(0, 0, 0, 0.15);\n",
              "      filter: drop-shadow(0px 1px 2px rgba(0, 0, 0, 0.3));\n",
              "      fill: #FFFFFF;\n",
              "    }\n",
              "  </style>\n",
              "\n",
              "      <script>\n",
              "        const buttonEl =\n",
              "          document.querySelector('#df-a59d0713-0acd-486e-9ebb-593f539c24d4 button.colab-df-convert');\n",
              "        buttonEl.style.display =\n",
              "          google.colab.kernel.accessAllowed ? 'block' : 'none';\n",
              "\n",
              "        async function convertToInteractive(key) {\n",
              "          const element = document.querySelector('#df-a59d0713-0acd-486e-9ebb-593f539c24d4');\n",
              "          const dataTable =\n",
              "            await google.colab.kernel.invokeFunction('convertToInteractive',\n",
              "                                                     [key], {});\n",
              "          if (!dataTable) return;\n",
              "\n",
              "          const docLinkHtml = 'Like what you see? Visit the ' +\n",
              "            '<a target=\"_blank\" href=https://colab.research.google.com/notebooks/data_table.ipynb>data table notebook</a>'\n",
              "            + ' to learn more about interactive tables.';\n",
              "          element.innerHTML = '';\n",
              "          dataTable['output_type'] = 'display_data';\n",
              "          await google.colab.output.renderOutput(dataTable, element);\n",
              "          const docLink = document.createElement('div');\n",
              "          docLink.innerHTML = docLinkHtml;\n",
              "          element.appendChild(docLink);\n",
              "        }\n",
              "      </script>\n",
              "    </div>\n",
              "  </div>\n"
            ]
          },
          "metadata": {},
          "execution_count": 17
        }
      ],
      "source": [
        "# first, keep only review and sentiment from df_balanced\n",
        "df_balanced = df_balanced[['review', 'sentiment']]\n",
        "df_balanced.head(5)"
      ]
    },
    {
      "cell_type": "code",
      "execution_count": null,
      "id": "rocky-investor",
      "metadata": {
        "id": "rocky-investor"
      },
      "outputs": [],
      "source": [
        "# split = [60, 20, 20]\n",
        "train_valid_reviews, test_reviews, train_valid_labels, test_labels =train_test_split(\n",
        "    df_balanced.review,\n",
        "    df_balanced.sentiment,\n",
        "    test_size=0.20,\n",
        "    random_state=1,\n",
        "    shuffle=True\n",
        ")\n",
        "\n",
        "train_reviews, valid_reviews, train_labels, valid_labels = train_test_split(\n",
        "    train_valid_reviews,\n",
        "    train_valid_labels,\n",
        "    test_size=0.20,\n",
        "    random_state=1,\n",
        "    shuffle=True\n",
        ")"
      ]
    },
    {
      "cell_type": "code",
      "execution_count": null,
      "id": "variable-junior",
      "metadata": {
        "colab": {
          "base_uri": "https://localhost:8080/"
        },
        "id": "variable-junior",
        "outputId": "7296ece4-bb53-4bfd-bcef-6d7f1654d7f2"
      },
      "outputs": [
        {
          "output_type": "stream",
          "name": "stdout",
          "text": [
            "Size train reviews: 58880\n",
            "Size dev reviews 14720\n",
            "Size test reviews 18400\n"
          ]
        }
      ],
      "source": [
        "print('Size train reviews:', len(train_reviews))\n",
        "print('Size dev reviews', len(valid_reviews))\n",
        "print('Size test reviews', len(test_reviews))"
      ]
    },
    {
      "cell_type": "markdown",
      "id": "western-amsterdam",
      "metadata": {
        "id": "western-amsterdam"
      },
      "source": [
        "``Step 4: Pre-trained embeddings``"
      ]
    },
    {
      "cell_type": "markdown",
      "id": "terminal-thompson",
      "metadata": {
        "id": "terminal-thompson"
      },
      "source": [
        "We will start by loading the pre-trained PubMedBert tokenizer and model."
      ]
    },
    {
      "cell_type": "code",
      "execution_count": null,
      "id": "middle-antibody",
      "metadata": {
        "colab": {
          "base_uri": "https://localhost:8080/"
        },
        "id": "middle-antibody",
        "outputId": "6374b631-bdfc-49da-affa-acbeba45a018"
      },
      "outputs": [
        {
          "output_type": "stream",
          "name": "stderr",
          "text": [
            "Some weights of the PyTorch model were not used when initializing the TF 2.0 model TFBertModel: ['embeddings.position_ids']\n",
            "- This IS expected if you are initializing TFBertModel from a PyTorch model trained on another task or with another architecture (e.g. initializing a TFBertForSequenceClassification model from a BertForPreTraining model).\n",
            "- This IS NOT expected if you are initializing TFBertModel from a PyTorch model that you expect to be exactly identical (e.g. initializing a TFBertForSequenceClassification model from a BertForSequenceClassification model).\n",
            "All the weights of TFBertModel were initialized from the PyTorch model.\n",
            "If your task is similar to the task the model of the checkpoint was trained on, you can already use TFBertModel for predictions without further training.\n",
            "Some weights of the PyTorch model were not used when initializing the TF 2.0 model TFBertModel: ['embeddings.position_ids']\n",
            "- This IS expected if you are initializing TFBertModel from a PyTorch model trained on another task or with another architecture (e.g. initializing a TFBertForSequenceClassification model from a BertForPreTraining model).\n",
            "- This IS NOT expected if you are initializing TFBertModel from a PyTorch model that you expect to be exactly identical (e.g. initializing a TFBertForSequenceClassification model from a BertForSequenceClassification model).\n",
            "All the weights of TFBertModel were initialized from the PyTorch model.\n",
            "If your task is similar to the task the model of the checkpoint was trained on, you can already use TFBertModel for predictions without further training.\n"
          ]
        },
        {
          "output_type": "stream",
          "name": "stdout",
          "text": [
            "Model: \"tf_bert_model_1\"\n",
            "_________________________________________________________________\n",
            " Layer (type)                Output Shape              Param #   \n",
            "=================================================================\n",
            " bert (TFBertMainLayer)      multiple                  109482240 \n",
            "                                                                 \n",
            "=================================================================\n",
            "Total params: 109,482,240\n",
            "Trainable params: 109,482,240\n",
            "Non-trainable params: 0\n",
            "_________________________________________________________________\n"
          ]
        }
      ],
      "source": [
        "#from transformers import AutoTokenizer, TFAutoModel\n",
        "hf_model = \"cambridgeltl/SapBERT-from-PubMedBERT-fulltext\"\n",
        "if 'tokenizer' not in locals().keys(): tokenizer = AutoTokenizer.from_pretrained(hf_model)\n",
        "if 'bert_auto_model' not in locals().keys(): bert_model = TFAutoModel.from_pretrained(hf_model)\n",
        "tokenizer = AutoTokenizer.from_pretrained(hf_model)\n",
        "bert_model = TFAutoModel.from_pretrained(hf_model)\n",
        "bert_model.summary()"
      ]
    },
    {
      "cell_type": "markdown",
      "id": "incoming-illness",
      "metadata": {
        "id": "incoming-illness"
      },
      "source": [
        "The **AutoTokenizer** class turns the list of words that make up a given review into a list of tokenized integers that represent those words. The tokenizer then pads all examples to the same size (`input_ids`). The tokenizer also creates another variable to tell BERT to ignore (`attention_mask`) the padding it added when it processed each sentence.\n",
        "\n",
        "\n",
        "The **TFAutoModel** class creates the embeddings that we will use in a downstram task, i.e., to predict the setiment of drug reviews.\n",
        "\n",
        "Our pre-trained BERT Model has 109,482,240 parameters! This is a lot, but luckily, we don't need to train the model because it was already pre-trained for us. We will just do transfer learning."
      ]
    },
    {
      "cell_type": "markdown",
      "id": "widespread-separate",
      "metadata": {
        "id": "widespread-separate"
      },
      "source": [
        "Let's look at one example to see how our BERT tokenizer works:"
      ]
    },
    {
      "cell_type": "code",
      "execution_count": null,
      "id": "educated-survey",
      "metadata": {
        "colab": {
          "base_uri": "https://localhost:8080/"
        },
        "id": "educated-survey",
        "outputId": "269d8331-4fcf-48a7-b4b6-fea6e05335e6"
      },
      "outputs": [
        {
          "output_type": "execute_result",
          "data": {
            "text/plain": [
              "{'input_ids': [2, 51, 9248, 11258, 2256, 6303, 2052, 6093, 3], 'token_type_ids': [0, 0, 0, 0, 0, 0, 0, 0, 0], 'attention_mask': [1, 1, 1, 1, 1, 1, 1, 1, 1]}"
            ]
          },
          "metadata": {},
          "execution_count": 21
        }
      ],
      "source": [
        "example = 'I feel sick after taking this medication'\n",
        "tokenizer(example)"
      ]
    },
    {
      "cell_type": "markdown",
      "id": "dense-soundtrack",
      "metadata": {
        "id": "dense-soundtrack"
      },
      "source": [
        "We can now apply the tokenizer to our trainining, validation and test datasets."
      ]
    },
    {
      "cell_type": "markdown",
      "id": "united-fruit",
      "metadata": {
        "id": "united-fruit"
      },
      "source": [
        "<span style=\"color:chocolate\">Tokenize, pad and mask training, valid, test data </span>"
      ]
    },
    {
      "cell_type": "markdown",
      "id": "informational-prague",
      "metadata": {
        "id": "informational-prague"
      },
      "source": [
        "The function **tokenize()** defined at the top of the notebook will do his for us"
      ]
    },
    {
      "cell_type": "code",
      "execution_count": null,
      "id": "polish-luxembourg",
      "metadata": {
        "id": "polish-luxembourg"
      },
      "outputs": [],
      "source": [
        "train_reviews_tokenized_tensor, train_labels_tensor = tokenize(\n",
        "    train_reviews, train_labels, tokenizer, seq_length=125\n",
        ")\n",
        "\n",
        "valid_reviews_tokenized_tensor, valid_labels_tensor = tokenize(\n",
        "    valid_reviews, valid_labels, tokenizer, seq_length=125\n",
        ")\n",
        "\n",
        "test_reviews_tokenized_tensor, test_labels_tensor = tokenize(\n",
        "    test_reviews, test_labels, tokenizer, seq_length=125\n",
        ")"
      ]
    },
    {
      "cell_type": "markdown",
      "id": "manufactured-infrastructure",
      "metadata": {
        "id": "manufactured-infrastructure"
      },
      "source": [
        "I will print an example to see how the output looks looks like"
      ]
    },
    {
      "cell_type": "code",
      "execution_count": null,
      "id": "considered-invite",
      "metadata": {
        "colab": {
          "base_uri": "https://localhost:8080/"
        },
        "id": "considered-invite",
        "outputId": "352336fd-4167-4a79-aabe-fa20b3857505"
      },
      "outputs": [
        {
          "output_type": "stream",
          "name": "stdout",
          "text": [
            "Tokenized train reviews shape: (58880, 3, 125)\n",
            "Train labels shape: (58880,)\n"
          ]
        }
      ],
      "source": [
        "print('Tokenized train reviews shape:', train_reviews_tokenized_tensor.shape)  # explain what the 3 channels mean\n",
        "\n",
        "print('Train labels shape:', train_labels_tensor.shape)"
      ]
    },
    {
      "cell_type": "markdown",
      "id": "blond-member",
      "metadata": {
        "id": "blond-member"
      },
      "source": [
        "The first dimension of train_reviews_tokenized_tensor represents the number of examples we have in the training data. The second dimension represents the *input_ids*, *token_type_ids*, and *attention_mask* keys of the tokenizer class. The third dimension represents the length of each review in our data (remember, we truncated it down to 125 tokens)."
      ]
    },
    {
      "cell_type": "code",
      "execution_count": null,
      "id": "internal-brooklyn",
      "metadata": {
        "colab": {
          "base_uri": "https://localhost:8080/"
        },
        "id": "internal-brooklyn",
        "outputId": "93c6d9e2-d0e5-42f7-e515-ec5cf5699b5e"
      },
      "outputs": [
        {
          "output_type": "execute_result",
          "data": {
            "text/plain": [
              "<tf.Tensor: shape=(125,), dtype=int32, numpy=\n",
              "array([    2,    51,  8659, 12258,  1924,  1958,  2559,  2739,  1956,\n",
              "        2447,  4159,  2564,  2406,  3057,  8017,  5463,  2237,  5410,\n",
              "        4637, 12075,  2485,    43, 10838,  2469,  4703,     3,     0,\n",
              "           0,     0,     0,     0,     0,     0,     0,     0,     0,\n",
              "           0,     0,     0,     0,     0,     0,     0,     0,     0,\n",
              "           0,     0,     0,     0,     0,     0,     0,     0,     0,\n",
              "           0,     0,     0,     0,     0,     0,     0,     0,     0,\n",
              "           0,     0,     0,     0,     0,     0,     0,     0,     0,\n",
              "           0,     0,     0,     0,     0,     0,     0,     0,     0,\n",
              "           0,     0,     0,     0,     0,     0,     0,     0,     0,\n",
              "           0,     0,     0,     0,     0,     0,     0,     0,     0,\n",
              "           0,     0,     0,     0,     0,     0,     0,     0,     0,\n",
              "           0,     0,     0,     0,     0,     0,     0,     0,     0,\n",
              "           0,     0,     0,     0,     0,     0,     0,     0],\n",
              "      dtype=int32)>"
            ]
          },
          "metadata": {},
          "execution_count": 24
        }
      ],
      "source": [
        "# print input_ids for the first example in our trainining data\n",
        "train_reviews_tokenized_tensor[0][0]"
      ]
    },
    {
      "cell_type": "code",
      "execution_count": null,
      "id": "drawn-radius",
      "metadata": {
        "colab": {
          "base_uri": "https://localhost:8080/"
        },
        "id": "drawn-radius",
        "outputId": "015e051c-fc5a-49c2-f530-39d22183f1c1"
      },
      "outputs": [
        {
          "output_type": "execute_result",
          "data": {
            "text/plain": [
              "<tf.Tensor: shape=(125,), dtype=int32, numpy=\n",
              "array([1, 1, 1, 1, 1, 1, 1, 1, 1, 1, 1, 1, 1, 1, 1, 1, 1, 1, 1, 1, 1, 1,\n",
              "       1, 1, 1, 1, 0, 0, 0, 0, 0, 0, 0, 0, 0, 0, 0, 0, 0, 0, 0, 0, 0, 0,\n",
              "       0, 0, 0, 0, 0, 0, 0, 0, 0, 0, 0, 0, 0, 0, 0, 0, 0, 0, 0, 0, 0, 0,\n",
              "       0, 0, 0, 0, 0, 0, 0, 0, 0, 0, 0, 0, 0, 0, 0, 0, 0, 0, 0, 0, 0, 0,\n",
              "       0, 0, 0, 0, 0, 0, 0, 0, 0, 0, 0, 0, 0, 0, 0, 0, 0, 0, 0, 0, 0, 0,\n",
              "       0, 0, 0, 0, 0, 0, 0, 0, 0, 0, 0, 0, 0, 0, 0], dtype=int32)>"
            ]
          },
          "metadata": {},
          "execution_count": 25
        }
      ],
      "source": [
        "# print attention_mask for the first example in our trainining data\n",
        "train_reviews_tokenized_tensor[0][2]"
      ]
    },
    {
      "cell_type": "markdown",
      "id": "senior-chapel",
      "metadata": {
        "id": "senior-chapel"
      },
      "source": [
        "<span style=\"color:chocolate\">Create BERT sentence embeddings </span>"
      ]
    },
    {
      "cell_type": "markdown",
      "id": "ancient-invitation",
      "metadata": {
        "id": "ancient-invitation"
      },
      "source": [
        "We will use the bert_model imported above to generate text embeddings applied to our own data. This will take about 11 hours to run on a less powerful but you can also subset to work with less data. Notice that BERT can give you:\n",
        "\n",
        " - token embeddings\n",
        " - sentence embeddings (this is similar to applying GlobalAveragePooling1D() over token embeddings!)\n",
        "\n",
        "I set up the get_bert_embeddings() function to output ``sentence embeddings`` directly. What does it mean? Each drug review will have a 1D embedding, and we will use this embeddings to predict if the review is positive (1) or negative (0)."
      ]
    },
    {
      "cell_type": "code",
      "execution_count": null,
      "id": "overall-taylor",
      "metadata": {
        "colab": {
          "base_uri": "https://localhost:8080/"
        },
        "id": "overall-taylor",
        "outputId": "38d8afdd-2fb3-4e95-ba4c-c28fe46b6042"
      },
      "outputs": [
        {
          "output_type": "stream",
          "name": "stdout",
          "text": [
            "Doing BERT train embeddings\n"
          ]
        },
        {
          "output_type": "stream",
          "name": "stderr",
          "text": [
            "100%|██████████| 16/16 [18:49<00:00, 70.60s/it]\n"
          ]
        },
        {
          "output_type": "stream",
          "name": "stdout",
          "text": [
            "Doing BERT val embeddings\n"
          ]
        },
        {
          "output_type": "stream",
          "name": "stderr",
          "text": [
            "100%|██████████| 2/2 [01:49<00:00, 54.56s/it]\n"
          ]
        },
        {
          "output_type": "stream",
          "name": "stdout",
          "text": [
            "Doing BERT test embeddings\n"
          ]
        },
        {
          "output_type": "stream",
          "name": "stderr",
          "text": [
            "100%|██████████| 2/2 [01:46<00:00, 53.15s/it]\n"
          ]
        }
      ],
      "source": [
        "print(\"Doing BERT train embeddings\")\n",
        "train_bert_embeddings = get_bert_embeddings(\n",
        "    bert_model, train_reviews_tokenized_tensor[:1000,:,:]\n",
        ") #do train_reviews_tokenized_tensor[:2000,:,:] for only 2000 examples\n",
        "\n",
        "print(\"Doing BERT val embeddings\")\n",
        "valid_bert_embeddings = get_bert_embeddings(\n",
        "    bert_model, valid_reviews_tokenized_tensor [:100,:,:]\n",
        ") #do valid_reviews_tokenized_tensor[:200,:,:] for only 200 examples\n",
        "\n",
        "print(\"Doing BERT test embeddings\")\n",
        "test_bert_embeddings = get_bert_embeddings(\n",
        "    bert_model, test_reviews_tokenized_tensor [:100,:,:]\n",
        ") #do test_reviews_tokenized_tensor[:200,:,:] for only 200 examples"
      ]
    },
    {
      "cell_type": "code",
      "execution_count": null,
      "id": "transparent-bradley",
      "metadata": {
        "colab": {
          "base_uri": "https://localhost:8080/"
        },
        "id": "transparent-bradley",
        "outputId": "7cc69102-4788-430d-ae62-33610b80023e"
      },
      "outputs": [
        {
          "output_type": "execute_result",
          "data": {
            "text/plain": [
              "(2000, 768)"
            ]
          },
          "metadata": {},
          "execution_count": 27
        }
      ],
      "source": [
        "train_bert_embeddings.shape  # an embedding vector of size 768 for each review in our data (Note: we chose the embedding size in get_bert_embeddings() function)"
      ]
    },
    {
      "cell_type": "markdown",
      "id": "parallel-stockholm",
      "metadata": {
        "id": "parallel-stockholm"
      },
      "source": [
        "These embeddings are going to be our BERT features that we can next use in a downstream task."
      ]
    },
    {
      "cell_type": "markdown",
      "id": "fossil-bidder",
      "metadata": {
        "id": "fossil-bidder"
      },
      "source": [
        "---\n",
        "## Fine-tune a sentiment classification model"
      ]
    },
    {
      "cell_type": "markdown",
      "id": "suited-significance",
      "metadata": {
        "id": "suited-significance"
      },
      "source": [
        "We will fine-tune our BERT model on a downstream task of sentiment classification.\n",
        "To do this, we will create a classifier by adding a `Dense` layer on top of the pretrained BERT features."
      ]
    },
    {
      "cell_type": "markdown",
      "id": "deluxe-implementation",
      "metadata": {
        "id": "deluxe-implementation"
      },
      "source": [
        "<span style=\"color:chocolate\">Make BERT layers untrainable (freeze)</span>"
      ]
    },
    {
      "cell_type": "code",
      "execution_count": null,
      "id": "measured-barrier",
      "metadata": {
        "id": "measured-barrier"
      },
      "outputs": [],
      "source": [
        "# freeze BERT layers\n",
        "for layer in bert_model.layers:\n",
        "    layer.trainable = False"
      ]
    },
    {
      "cell_type": "code",
      "execution_count": null,
      "id": "medical-perry",
      "metadata": {
        "id": "medical-perry"
      },
      "outputs": [],
      "source": [
        "# create copy of our objects (a bit inefficient (memory size) but let's abstract away from this)\n",
        "train_x = train_bert_embeddings\n",
        "train_y = train_labels_tensor[:2000] #do train_labels_tensor[:2000,:,:] for only 2000 examples if you subset the data above\n",
        "\n",
        "valid_x = valid_bert_embeddings\n",
        "valid_y = valid_labels_tensor[:200]#do valid_labels_tensor[:200,:,:] for only 200 examples if you subset the data above\n",
        "\n",
        "test_x = test_bert_embeddings\n",
        "test_y = test_labels_tensor[:200] #do test_labels_tensor[:200,:,:] for only 200 examples if you subset the data above"
      ]
    },
    {
      "cell_type": "markdown",
      "id": "affected-examination",
      "metadata": {
        "id": "affected-examination"
      },
      "source": [
        "Define a model for our Downstream task"
      ]
    },
    {
      "cell_type": "code",
      "execution_count": null,
      "id": "straight-equipment",
      "metadata": {
        "colab": {
          "base_uri": "https://localhost:8080/"
        },
        "id": "straight-equipment",
        "outputId": "eea4be2b-a40c-4e82-deb3-5bfd3f9540cb"
      },
      "outputs": [
        {
          "output_type": "stream",
          "name": "stdout",
          "text": [
            "Model: \"sequential\"\n",
            "_________________________________________________________________\n",
            " Layer (type)                Output Shape              Param #   \n",
            "=================================================================\n",
            " dense (Dense)               (None, 1)                 768       \n",
            "                                                                 \n",
            "=================================================================\n",
            "Total params: 768\n",
            "Trainable params: 768\n",
            "Non-trainable params: 0\n",
            "_________________________________________________________________\n"
          ]
        }
      ],
      "source": [
        "def build_model(num_features):\n",
        "    \"\"\"Return a simple logistic regression model using the Keras Sequential API.\"\"\"\n",
        "    # clear session and set a random seed for consistent behavior.\n",
        "    tf.keras.backend.clear_session()\n",
        "    tf.random.set_seed(1234)\n",
        "\n",
        "\n",
        "    # sse Keras Sequential API to build a logistic regression\n",
        "    model = keras.Sequential()\n",
        "\n",
        "    # create input layer (this will be the sentence embeddings)\n",
        "    model.add(tf.keras.Input(shape=(num_features, ),\n",
        "         name='Input'\n",
        "    ))\n",
        "\n",
        "\n",
        "\n",
        "    # add output layer for binary classification task\n",
        "    model.add(Dense(1, use_bias=False, activation='sigmoid'))\n",
        "\n",
        "    # print model summary\n",
        "    model.summary()\n",
        "\n",
        "    return model\n",
        "\n",
        "\n",
        "# Build the model\n",
        "logit_model = build_model(num_features=train_x.shape[1])"
      ]
    },
    {
      "cell_type": "code",
      "execution_count": null,
      "id": "ordered-institution",
      "metadata": {
        "id": "ordered-institution"
      },
      "outputs": [],
      "source": [
        "# compile logit model\n",
        "logit_model.compile(\n",
        "    loss=tf.keras.losses.BinaryCrossentropy(),\n",
        "    optimizer=tf.keras.optimizers.SGD(learning_rate=0.01),\n",
        "    metrics=[tf.keras.metrics.BinaryAccuracy()]\n",
        ")"
      ]
    },
    {
      "cell_type": "code",
      "execution_count": null,
      "id": "royal-swimming",
      "metadata": {
        "id": "royal-swimming"
      },
      "outputs": [],
      "source": [
        "# train logit model\n",
        "tf.random.set_seed(1234)\n",
        "np.random.seed(1234)\n",
        "hist= logit_model.fit(x=train_x,\n",
        "                y=train_y,\n",
        "                #validation_data=[X_test_std, y_test],\n",
        "                validation_data=(valid_x, valid_y),\n",
        "                batch_size=240,\n",
        "                epochs=100,\n",
        "                verbose=0 #silence fit\n",
        ")"
      ]
    },
    {
      "cell_type": "code",
      "execution_count": null,
      "id": "starting-diagnosis",
      "metadata": {
        "colab": {
          "base_uri": "https://localhost:8080/",
          "height": 410
        },
        "id": "starting-diagnosis",
        "outputId": "552eb835-36a5-44cc-bc04-e505c8a23e64"
      },
      "outputs": [
        {
          "output_type": "display_data",
          "data": {
            "text/plain": [
              "<Figure size 1600x400 with 2 Axes>"
            ],
            "image/png": "[encoded data removed]"
          },
          "metadata": {}
        }
      ],
      "source": [
        "# grab history\n",
        "history = hist.history\n",
        "\n",
        "# plot loss for train and validation\n",
        "fig = plt.figure(figsize=(16, 4))\n",
        "ax = fig.add_subplot(1, 3, 1)\n",
        "plt.plot(history['loss'], lw=2, color='darkgoldenrod')\n",
        "plt.plot(history['val_loss'], lw=2, color='indianred')\n",
        "plt.legend(['Train', 'Validation'], fontsize=10)\n",
        "#plt.ylim(0.5,0.7)\n",
        "ax.set_xlabel('Epochs', size=10)\n",
        "ax.set_title('Loss');\n",
        "\n",
        "# plot accuracy for train and validation\n",
        "ax = fig.add_subplot(1, 3, 2)\n",
        "plt.plot(history['binary_accuracy'], lw=2, color='darkgoldenrod')\n",
        "plt.plot(history['val_binary_accuracy'], lw=2, color='indianred')\n",
        "plt.legend(['Train', 'Validation'], fontsize=10)\n",
        "#plt.ylim(0.7,0.8)\n",
        "ax.set_xlabel('Epochs', size=10)\n",
        "ax.set_title('Accuracy');"
      ]
    },
    {
      "cell_type": "code",
      "execution_count": null,
      "id": "systematic-connectivity",
      "metadata": {
        "colab": {
          "base_uri": "https://localhost:8080/"
        },
        "id": "systematic-connectivity",
        "outputId": "bde4d08a-3576-41ce-a588-b548ac7f27fd"
      },
      "outputs": [
        {
          "output_type": "stream",
          "name": "stdout",
          "text": [
            "After training this model, evaluation on the validation data shows an accuracy of: 74.0 %\n"
          ]
        }
      ],
      "source": [
        "print('After training this model, evaluation on the validation data shows an accuracy of:',\n",
        "      np.round(history['val_binary_accuracy'][-1]*100,2), '%'\n",
        ")"
      ]
    },
    {
      "cell_type": "markdown",
      "id": "sublime-basis",
      "metadata": {
        "id": "sublime-basis"
      },
      "source": [
        "<span style=\"color:chocolate\">Make BERT layers available for training (unfreeze)</span>"
      ]
    },
    {
      "cell_type": "code",
      "execution_count": null,
      "id": "commercial-dublin",
      "metadata": {
        "id": "commercial-dublin"
      },
      "outputs": [],
      "source": [
        "# unfreeze BERT layers\n",
        "for layer in bert_model.layers:\n",
        "    layer.trainable = True"
      ]
    },
    {
      "cell_type": "code",
      "execution_count": null,
      "id": "severe-caution",
      "metadata": {
        "id": "severe-caution"
      },
      "outputs": [],
      "source": [
        "# recompile logit model\n",
        "logit_model.compile(\n",
        "    loss=tf.keras.losses.BinaryCrossentropy(),\n",
        "    optimizer=tf.keras.optimizers.SGD(learning_rate=0.015),\n",
        "    metrics=[tf.keras.metrics.BinaryAccuracy()]\n",
        ")"
      ]
    },
    {
      "cell_type": "code",
      "execution_count": null,
      "id": "active-charlotte",
      "metadata": {
        "id": "active-charlotte"
      },
      "outputs": [],
      "source": [
        "# retrain logit model\n",
        "tf.random.set_seed(1234)\n",
        "np.random.seed(1234)\n",
        "hist= logit_model.fit(x=train_x,\n",
        "                y=train_y,\n",
        "                validation_data=(valid_x, valid_y),\n",
        "                batch_size=240,\n",
        "                epochs=300,\n",
        "                verbose=0 #silence fit\n",
        ")"
      ]
    },
    {
      "cell_type": "code",
      "execution_count": null,
      "id": "atlantic-solid",
      "metadata": {
        "colab": {
          "base_uri": "https://localhost:8080/",
          "height": 410
        },
        "id": "atlantic-solid",
        "outputId": "0bece611-9ec6-49f9-a7ba-3d90408e2383"
      },
      "outputs": [
        {
          "output_type": "display_data",
          "data": {
            "text/plain": [
              "<Figure size 1600x400 with 2 Axes>"
            ],
            "image/png": "[encoded data removed]"
          },
          "metadata": {}
        }
      ],
      "source": [
        "# grab history\n",
        "history = hist.history\n",
        "\n",
        "# plot loss for train and validation\n",
        "fig = plt.figure(figsize=(16, 4))\n",
        "ax = fig.add_subplot(1, 3, 1)\n",
        "plt.plot(history['loss'], lw=2, color='darkgoldenrod')\n",
        "plt.plot(history['val_loss'], lw=2, color='indianred')\n",
        "plt.legend(['Train', 'Validation'], fontsize=10)\n",
        "plt.ylim(0.5,0.7)\n",
        "ax.set_xlabel('Epochs', size=10)\n",
        "ax.set_title('Loss');\n",
        "\n",
        "# plot accuracy for train and validation\n",
        "ax = fig.add_subplot(1, 3, 2)\n",
        "plt.plot(history['binary_accuracy'], lw=2, color='darkgoldenrod')\n",
        "plt.plot(history['val_binary_accuracy'], lw=2, color='indianred')\n",
        "plt.legend(['Train', 'Validation'], fontsize=10)\n",
        "#plt.ylim(0.7,0.8)\n",
        "ax.set_xlabel('Epochs', size=10)\n",
        "ax.set_title('Accuracy');"
      ]
    },
    {
      "cell_type": "code",
      "execution_count": null,
      "id": "facial-pantyhose",
      "metadata": {
        "colab": {
          "base_uri": "https://localhost:8080/"
        },
        "id": "facial-pantyhose",
        "outputId": "df8c9d32-b03d-432b-d993-b5440ec5a371"
      },
      "outputs": [
        {
          "output_type": "stream",
          "name": "stdout",
          "text": [
            "After fine-tuning this model, evaluation on the validation data shows an accuracy of: 72.0 %\n"
          ]
        }
      ],
      "source": [
        "print('After fine-tuning this model, evaluation on the validation data shows an accuracy of:',\n",
        "      np.round(history['val_binary_accuracy'][-1]*100,2), '%'\n",
        ")"
      ]
    },
    {
      "cell_type": "markdown",
      "id": "double-presence",
      "metadata": {
        "id": "double-presence"
      },
      "source": [
        "How good is this score? Let's compare it with a dummy classifier.\n",
        "\n",
        "<span style=\"color:chocolate\">Question: </span> what is a dummy classifier?"
      ]
    },
    {
      "cell_type": "code",
      "execution_count": null,
      "id": "ignored-toronto",
      "metadata": {
        "colab": {
          "base_uri": "https://localhost:8080/"
        },
        "id": "ignored-toronto",
        "outputId": "196f2c8d-fb71-42e9-e6cf-e47a8b616802"
      },
      "outputs": [
        {
          "output_type": "stream",
          "name": "stdout",
          "text": [
            "Dummy classifier score: 0.513 (+/- 0.00)\n"
          ]
        }
      ],
      "source": [
        "clf = DummyClassifier() # uses Sklearn\n",
        "\n",
        "scores = cross_val_score(clf, train_x, train_y)\n",
        "print(\"Dummy classifier score: %0.3f (+/- %0.2f)\" % (scores.mean(), scores.std() * 2))"
      ]
    },
    {
      "cell_type": "markdown",
      "id": "alert-rhythm",
      "metadata": {
        "id": "alert-rhythm"
      },
      "source": [
        "---\n",
        "## Evaluation"
      ]
    },
    {
      "cell_type": "markdown",
      "id": "charitable-florida",
      "metadata": {
        "id": "charitable-florida"
      },
      "source": [
        "<span style=\"color:chocolate\">predictions on test data</span>"
      ]
    },
    {
      "cell_type": "code",
      "execution_count": null,
      "id": "polar-study",
      "metadata": {
        "colab": {
          "base_uri": "https://localhost:8080/"
        },
        "id": "polar-study",
        "outputId": "f99faf90-b159-4ca7-90c2-07c8a7f6b089"
      },
      "outputs": [
        {
          "output_type": "stream",
          "name": "stdout",
          "text": [
            "7/7 [==============================] - 0s 2ms/step\n"
          ]
        },
        {
          "output_type": "execute_result",
          "data": {
            "text/plain": [
              "array([0, 1, 1, 0, 0, 1, 0, 1, 1, 0])"
            ]
          },
          "metadata": {},
          "execution_count": 44
        }
      ],
      "source": [
        "# run the trained model on the test data (the model outputs probabilities)\n",
        "y_test_pred_p = logit_model.predict(x=test_x).flatten()\n",
        "\n",
        "# apply the threshold function to create a 0, 1 outcome\n",
        "y_test_pred = np.where(y_test_pred_p>=0.5, 1, 0)\n",
        "y_test_pred[:10] # first 10 only"
      ]
    },
    {
      "cell_type": "markdown",
      "id": "crucial-recruitment",
      "metadata": {
        "id": "crucial-recruitment"
      },
      "source": [
        "<span style=\"color:chocolate\">confussion matrix</span>"
      ]
    },
    {
      "cell_type": "code",
      "execution_count": null,
      "id": "beautiful-attendance",
      "metadata": {
        "colab": {
          "base_uri": "https://localhost:8080/",
          "height": 257
        },
        "id": "beautiful-attendance",
        "outputId": "d2e5a8e2-e09c-4e0b-c012-898c3297bb02"
      },
      "outputs": [
        {
          "output_type": "display_data",
          "data": {
            "text/plain": [
              "<Figure size 250x250 with 1 Axes>"
            ],
            "image/png": "[encoded data removed]"
          },
          "metadata": {}
        }
      ],
      "source": [
        "conf_matrix = tf.math.confusion_matrix(\n",
        "    test_y,\n",
        "    y_test_pred,\n",
        "    num_classes=None,\n",
        "    weights=None,\n",
        "    dtype=tf.dtypes.int32,\n",
        "    name=None\n",
        ")\n",
        "\n",
        "confusion_matrix_plot(conf_matrix.numpy())"
      ]
    },
    {
      "cell_type": "markdown",
      "id": "indoor-poverty",
      "metadata": {
        "id": "indoor-poverty"
      },
      "source": [
        "<span style=\"color:chocolate\">precision score</span>"
      ]
    },
    {
      "cell_type": "code",
      "execution_count": null,
      "id": "structured-filename",
      "metadata": {
        "colab": {
          "base_uri": "https://localhost:8080/"
        },
        "id": "structured-filename",
        "outputId": "57fac55d-ab1a-48dd-83b0-e8f99fd7259a"
      },
      "outputs": [
        {
          "output_type": "stream",
          "name": "stdout",
          "text": [
            "Precision score: 0.636364\n"
          ]
        }
      ],
      "source": [
        "# note that TensorFlow assumes that the positive class is cultivar 1\n",
        "p = tf.keras.metrics.Precision(\n",
        "    thresholds=None, top_k=None, class_id=None, name=None, dtype=None\n",
        ")\n",
        "p.update_state(test_y, y_test_pred)  #18/(18+3)\n",
        "print(\"Precision score: %3f\" %p.result().numpy())"
      ]
    },
    {
      "cell_type": "markdown",
      "id": "certified-analyst",
      "metadata": {
        "id": "certified-analyst"
      },
      "source": [
        "<span style=\"color:chocolate\">recall score</span>"
      ]
    },
    {
      "cell_type": "code",
      "execution_count": null,
      "id": "quiet-drain",
      "metadata": {
        "colab": {
          "base_uri": "https://localhost:8080/"
        },
        "id": "quiet-drain",
        "outputId": "01af2eaf-5ff9-48a3-d128-7e05db0c83a0"
      },
      "outputs": [
        {
          "output_type": "stream",
          "name": "stdout",
          "text": [
            "Recall score: 0.485\n"
          ]
        }
      ],
      "source": [
        "# note that TensorFlow assumes that the positive class is cultivar 1\n",
        "r = tf.keras.metrics.Recall(\n",
        "    thresholds=None, top_k=None, class_id=None, name=None, dtype=None\n",
        ")\n",
        "r.update_state(test_y, y_test_pred) #18/(18+1)\n",
        "print(\"Recall score: %.3f\" %r.result().numpy())"
      ]
    },
    {
      "cell_type": "markdown",
      "id": "official-benefit",
      "metadata": {
        "id": "official-benefit"
      },
      "source": [
        "<span style=\"color:chocolate\">F1 score</span>"
      ]
    },
    {
      "cell_type": "code",
      "execution_count": null,
      "id": "healthy-refrigerator",
      "metadata": {
        "colab": {
          "base_uri": "https://localhost:8080/"
        },
        "id": "healthy-refrigerator",
        "outputId": "17d9b333-7291-4dc0-c640-f01f8d26a082"
      },
      "outputs": [
        {
          "output_type": "stream",
          "name": "stdout",
          "text": [
            "F1 score: 0.550561785697937\n"
          ]
        }
      ],
      "source": [
        "print(\"F1 score:\",\n",
        "    2*((p.result().numpy()*r.result().numpy())/(p.result().numpy()+r.result().numpy())))"
      ]
    },
    {
      "cell_type": "markdown",
      "id": "abstract-updating",
      "metadata": {
        "id": "abstract-updating"
      },
      "source": [
        "<span style=\"color:chocolate\">ROC AUC</span>"
      ]
    },
    {
      "cell_type": "code",
      "execution_count": null,
      "id": "complex-madrid",
      "metadata": {
        "colab": {
          "base_uri": "https://localhost:8080/",
          "height": 466
        },
        "id": "complex-madrid",
        "outputId": "3b9653d4-4978-4b7e-bfe2-021cb4afc118"
      },
      "outputs": [
        {
          "output_type": "stream",
          "name": "stdout",
          "text": [
            "ROC AUC: 0.682\n"
          ]
        },
        {
          "output_type": "display_data",
          "data": {
            "text/plain": [
              "<Figure size 640x480 with 1 Axes>"
            ],
            "image/png": "[encoded data removed]"
          },
          "metadata": {}
        }
      ],
      "source": [
        "from sklearn import datasets, metrics, model_selection, svm\n",
        "fpr, tpr, _ = metrics.roc_curve(test_y,  y_test_pred_p)\n",
        "auc = metrics.roc_auc_score(test_y, y_test_pred_p)\n",
        "plt.plot(fpr,tpr,label=\"data, auc=\"+str(np.round(auc,3)))\n",
        "plt.legend(loc=4)\n",
        "plt.xlabel('False Positive Rate')\n",
        "plt.ylabel('True Positive Rate')\n",
        "\n",
        "\n",
        "# add dummy classifier\n",
        "plt.plot([0, 1], [0, 1], linestyle='--', lw=2, color='r',\n",
        "         label='dummy (chance)', alpha=.8)\n",
        "\n",
        "plt.legend(loc=4)\n",
        "print('ROC AUC:', np.round(auc,3))"
      ]
    },
    {
      "cell_type": "markdown",
      "id": "practical-swaziland",
      "metadata": {
        "id": "practical-swaziland"
      },
      "source": [
        "---\n",
        "### <span style=\"color:chocolate\">What's next?</span>"
      ]
    },
    {
      "cell_type": "markdown",
      "id": "filled-dodge",
      "metadata": {
        "id": "filled-dodge"
      },
      "source": [
        "A few suggestions for performance improvement:\n",
        "\n",
        "-  hyperparameter tuning\n",
        "\n",
        "-  try a different BERT model, e.g., one that has been trained on Wikipedia text. Our PubMedBERT model has been trained on biomedical text - this may be too technical for our drug reviews text.\n",
        "\n",
        "\n",
        "Below I provide some code snippets to get you started with another BERT model (DistilBert trained on Wikipedia text)."
      ]
    },
    {
      "cell_type": "code",
      "execution_count": null,
      "id": "average-fundamental",
      "metadata": {
        "colab": {
          "base_uri": "https://localhost:8080/",
          "height": 260,
          "referenced_widgets": [
            "3eefc62ea42f487897fe7e15138abf88",
            "f6ec258237bc483393f2ba0cf5d2903e",
            "2ad2605ca2774648804e18e104cdf467",
            "6da24570a7684b76897c50119bb1e724",
            "00ab9cf02c4f4e28822bce78928ec8da",
            "09076e8674b042db8658e1de480a3124",
            "e820f8f95eeb40fa9dcbf8d7162aa61a",
            "ab26a6f8822e4cfca3bf6f24f3023d0d",
            "ddeeab09b2ea413083a2f9f5a6a920c3",
            "8e953670005746e98b124855a114a303",
            "32209242b57b46d78357cb74456d9503",
            "742f1cbaecb14bf7874185444ee77902",
            "64cf8af4bb654a7fa239bfe0fe551470",
            "b857af34bb294dd2896342518603674c",
            "61e53aaf600b4d7bbac96fcaa6680e1f",
            "2f5868749db54282bdf84f4fd733fa45",
            "d0d1c3e23f254ae4b0b938f67d472f24",
            "330d3078795043b0b332f03aad0ba0c4",
            "e8652513dff844ad85fbcfc4b9f3d6f5",
            "bdb5c98940ae4cec88f37b97e6d93924",
            "585288b4ee3a42c19294573c95b18083",
            "8a95fc341cf947c2bd14ac3f91b289ee",
            "095bfd88de8345efa8e866c306945fa1",
            "b25c483c0e094c4390325a17a095843f",
            "567bb128d6fc4150867e27485b62d1e2",
            "49a7453fd2f14baf852d8064e1e635ef",
            "da96b305fd054f448d5b0ed8526ee6e2",
            "56fdb71bc813433c8ed6d276cdc9fb63",
            "15012e7c602a49bd8b8c0990f0949819",
            "aa6fd076371f4e5fae7269a0d76d7b75",
            "4ec9e24a43344cc8a358a6ffb51dd67a",
            "8784af948f47405e9c21d0b59fc07a56",
            "3f82bed0e00d402095ad87222cfb8c6f",
            "cf86fbef4e914ba6993ae52f2092b053",
            "c09af728733a424d87631a6a87271228",
            "f2312cf550784861829014f484527ac4",
            "365e0a7e2cee45e8b6cf0ac1706e8bba",
            "ece8aec53ae14f74ac5934901e2eac0a",
            "5bcabd372a7d495e9b10eeed1483fc67",
            "3c6d09db358e478e905556f57c217d22",
            "6d39b33897e14679aa8d9a4d5f8d470c",
            "b7ad1dc35f2642dba54fc04ae0468c36",
            "27940dda9b42437b9fd8b66a5e61ece1",
            "626c5db1403b4d068d42fcf364da6e81",
            "2a49e23a82ea4ea1b75ca3de1e90053d",
            "062700f13c3a4a68ada65a9598b144fc",
            "fc67a1c693a844e7ade3a934a0f2e942",
            "1b42a676fb1140309a0cddbca57c0e25",
            "07bcf59867cf4ca7bff3fe12fff3d0ff",
            "cf8a19f837bd48feb5e7b39ff38697da",
            "f71fec218f7c49c08a64de709f26a934",
            "0d8a0cd6df1f4c2f801f3799b4e98a4d",
            "264b0e695a96462a8baa465aa4da8167",
            "2d80bccce16a48c5b24f06d2e0b19cc0",
            "60b304d20cb044f1a0b3eba03f018f05",
            "3ca0c4cf009946748343205de5cb9161",
            "794a1ee4e79743da9fb9aa4bbf2097fb",
            "dd43ce9e54a24a1e955bde980828eef8",
            "5e24a3a7f8c94569985b09426b35c31c",
            "e302628d585e4045a907cdca552e12c9",
            "281981bb85524f7a99af36dbfa9bab40",
            "966373a4c7cc47e8bb8a9ae0eafa5eeb",
            "8f80df4e800140d2a26f6f54b4b10049",
            "c5056fb93ba04d5f82a297c7be73fcc3",
            "7cb6b005b8994f3eb407dc85ecf41cc3",
            "3cf2fb8400134aa39184dfa7be152aaa"
          ]
        },
        "id": "average-fundamental",
        "outputId": "c9a84f4c-1a1b-47ed-d31e-2c2540e80f2f"
      },
      "outputs": [
        {
          "output_type": "display_data",
          "data": {
            "text/plain": [
              "Downloading (…)okenizer_config.json:   0%|          | 0.00/28.0 [00:00<?, ?B/s]"
            ],
            "application/vnd.jupyter.widget-view+json": {
              "version_major": 2,
              "version_minor": 0,
              "model_id": "3eefc62ea42f487897fe7e15138abf88"
            }
          },
          "metadata": {}
        },
        {
          "output_type": "display_data",
          "data": {
            "text/plain": [
              "Downloading (…)solve/main/vocab.txt:   0%|          | 0.00/232k [00:00<?, ?B/s]"
            ],
            "application/vnd.jupyter.widget-view+json": {
              "version_major": 2,
              "version_minor": 0,
              "model_id": "742f1cbaecb14bf7874185444ee77902"
            }
          },
          "metadata": {}
        },
        {
          "output_type": "display_data",
          "data": {
            "text/plain": [
              "Downloading (…)/main/tokenizer.json:   0%|          | 0.00/466k [00:00<?, ?B/s]"
            ],
            "application/vnd.jupyter.widget-view+json": {
              "version_major": 2,
              "version_minor": 0,
              "model_id": "095bfd88de8345efa8e866c306945fa1"
            }
          },
          "metadata": {}
        },
        {
          "output_type": "display_data",
          "data": {
            "text/plain": [
              "Downloading (…)lve/main/config.json:   0%|          | 0.00/483 [00:00<?, ?B/s]"
            ],
            "application/vnd.jupyter.widget-view+json": {
              "version_major": 2,
              "version_minor": 0,
              "model_id": "cf86fbef4e914ba6993ae52f2092b053"
            }
          },
          "metadata": {}
        },
        {
          "output_type": "display_data",
          "data": {
            "text/plain": [
              "Downloading (…)lve/main/config.json:   0%|          | 0.00/629 [00:00<?, ?B/s]"
            ],
            "application/vnd.jupyter.widget-view+json": {
              "version_major": 2,
              "version_minor": 0,
              "model_id": "2a49e23a82ea4ea1b75ca3de1e90053d"
            }
          },
          "metadata": {}
        },
        {
          "output_type": "display_data",
          "data": {
            "text/plain": [
              "Downloading model.safetensors:   0%|          | 0.00/268M [00:00<?, ?B/s]"
            ],
            "application/vnd.jupyter.widget-view+json": {
              "version_major": 2,
              "version_minor": 0,
              "model_id": "3ca0c4cf009946748343205de5cb9161"
            }
          },
          "metadata": {}
        },
        {
          "output_type": "stream",
          "name": "stderr",
          "text": [
            "No CUDA runtime is found, using CUDA_HOME='/usr/local/cuda'\n",
            "Xformers is not installed correctly. If you want to use memory_efficient_attention to accelerate training use the following command to install Xformers\n",
            "pip install xformers.\n"
          ]
        }
      ],
      "source": [
        "from transformers import (AutoTokenizer,\n",
        "                          AutoModelForSequenceClassification,\n",
        "                          TextClassificationPipeline)\n",
        "\n",
        "tokenizer_name = \"distilbert-base-uncased\"\n",
        "model_name = \"distilbert-base-uncased-finetuned-sst-2-english\"\n",
        "\n",
        "tokenizer = transformers.DistilBertTokenizerFast.from_pretrained(tokenizer_name)\n",
        "model = transformers.DistilBertForSequenceClassification.from_pretrained(model_name).cpu()\n",
        "\n",
        "pipe = TextClassificationPipeline(model=model, tokenizer=tokenizer, return_all_scores=True)"
      ]
    }
  ],
  "metadata": {
    "kernelspec": {
      "display_name": "Python 3",
      "language": "python",
      "name": "python3"
    },
    "language_info": {
      "codemirror_mode": {
        "name": "ipython",
        "version": 3
      },
      "file_extension": ".py",
      "mimetype": "text/x-python",
      "name": "python",
      "nbconvert_exporter": "python",
      "pygments_lexer": "ipython3",
      "version": "3.8.3"
    },
    "colab": {
      "provenance": []
    },
    "widgets": {
      "application/vnd.jupyter.widget-state+json": {
        "3eefc62ea42f487897fe7e15138abf88": {
          "model_module": "@jupyter-widgets/controls",
          "model_name": "HBoxModel",
          "model_module_version": "1.5.0",
          "state": {
            "_dom_classes": [],
            "_model_module": "@jupyter-widgets/controls",
            "_model_module_version": "1.5.0",
            "_model_name": "HBoxModel",
            "_view_count": null,
            "_view_module": "@jupyter-widgets/controls",
            "_view_module_version": "1.5.0",
            "_view_name": "HBoxView",
            "box_style": "",
            "children": [
              "IPY_MODEL_f6ec258237bc483393f2ba0cf5d2903e",
              "IPY_MODEL_2ad2605ca2774648804e18e104cdf467",
              "IPY_MODEL_6da24570a7684b76897c50119bb1e724"
            ],
            "layout": "IPY_MODEL_00ab9cf02c4f4e28822bce78928ec8da"
          }
        },
        "f6ec258237bc483393f2ba0cf5d2903e": {
          "model_module": "@jupyter-widgets/controls",
          "model_name": "HTMLModel",
          "model_module_version": "1.5.0",
          "state": {
            "_dom_classes": [],
            "_model_module": "@jupyter-widgets/controls",
            "_model_module_version": "1.5.0",
            "_model_name": "HTMLModel",
            "_view_count": null,
            "_view_module": "@jupyter-widgets/controls",
            "_view_module_version": "1.5.0",
            "_view_name": "HTMLView",
            "description": "",
            "description_tooltip": null,
            "layout": "IPY_MODEL_09076e8674b042db8658e1de480a3124",
            "placeholder": "​",
            "style": "IPY_MODEL_e820f8f95eeb40fa9dcbf8d7162aa61a",
            "value": "Downloading (…)okenizer_config.json: 100%"
          }
        },
        "2ad2605ca2774648804e18e104cdf467": {
          "model_module": "@jupyter-widgets/controls",
          "model_name": "FloatProgressModel",
          "model_module_version": "1.5.0",
          "state": {
            "_dom_classes": [],
            "_model_module": "@jupyter-widgets/controls",
            "_model_module_version": "1.5.0",
            "_model_name": "FloatProgressModel",
            "_view_count": null,
            "_view_module": "@jupyter-widgets/controls",
            "_view_module_version": "1.5.0",
            "_view_name": "ProgressView",
            "bar_style": "success",
            "description": "",
            "description_tooltip": null,
            "layout": "IPY_MODEL_ab26a6f8822e4cfca3bf6f24f3023d0d",
            "max": 28,
            "min": 0,
            "orientation": "horizontal",
            "style": "IPY_MODEL_ddeeab09b2ea413083a2f9f5a6a920c3",
            "value": 28
          }
        },
        "6da24570a7684b76897c50119bb1e724": {
          "model_module": "@jupyter-widgets/controls",
          "model_name": "HTMLModel",
          "model_module_version": "1.5.0",
          "state": {
            "_dom_classes": [],
            "_model_module": "@jupyter-widgets/controls",
            "_model_module_version": "1.5.0",
            "_model_name": "HTMLModel",
            "_view_count": null,
            "_view_module": "@jupyter-widgets/controls",
            "_view_module_version": "1.5.0",
            "_view_name": "HTMLView",
            "description": "",
            "description_tooltip": null,
            "layout": "IPY_MODEL_8e953670005746e98b124855a114a303",
            "placeholder": "​",
            "style": "IPY_MODEL_32209242b57b46d78357cb74456d9503",
            "value": " 28.0/28.0 [00:00&lt;00:00, 1.51kB/s]"
          }
        },
        "00ab9cf02c4f4e28822bce78928ec8da": {
          "model_module": "@jupyter-widgets/base",
          "model_name": "LayoutModel",
          "model_module_version": "1.2.0",
          "state": {
            "_model_module": "@jupyter-widgets/base",
            "_model_module_version": "1.2.0",
            "_model_name": "LayoutModel",
            "_view_count": null,
            "_view_module": "@jupyter-widgets/base",
            "_view_module_version": "1.2.0",
            "_view_name": "LayoutView",
            "align_content": null,
            "align_items": null,
            "align_self": null,
            "border": null,
            "bottom": null,
            "display": null,
            "flex": null,
            "flex_flow": null,
            "grid_area": null,
            "grid_auto_columns": null,
            "grid_auto_flow": null,
            "grid_auto_rows": null,
            "grid_column": null,
            "grid_gap": null,
            "grid_row": null,
            "grid_template_areas": null,
            "grid_template_columns": null,
            "grid_template_rows": null,
            "height": null,
            "justify_content": null,
            "justify_items": null,
            "left": null,
            "margin": null,
            "max_height": null,
            "max_width": null,
            "min_height": null,
            "min_width": null,
            "object_fit": null,
            "object_position": null,
            "order": null,
            "overflow": null,
            "overflow_x": null,
            "overflow_y": null,
            "padding": null,
            "right": null,
            "top": null,
            "visibility": null,
            "width": null
          }
        },
        "09076e8674b042db8658e1de480a3124": {
          "model_module": "@jupyter-widgets/base",
          "model_name": "LayoutModel",
          "model_module_version": "1.2.0",
          "state": {
            "_model_module": "@jupyter-widgets/base",
            "_model_module_version": "1.2.0",
            "_model_name": "LayoutModel",
            "_view_count": null,
            "_view_module": "@jupyter-widgets/base",
            "_view_module_version": "1.2.0",
            "_view_name": "LayoutView",
            "align_content": null,
            "align_items": null,
            "align_self": null,
            "border": null,
            "bottom": null,
            "display": null,
            "flex": null,
            "flex_flow": null,
            "grid_area": null,
            "grid_auto_columns": null,
            "grid_auto_flow": null,
            "grid_auto_rows": null,
            "grid_column": null,
            "grid_gap": null,
            "grid_row": null,
            "grid_template_areas": null,
            "grid_template_columns": null,
            "grid_template_rows": null,
            "height": null,
            "justify_content": null,
            "justify_items": null,
            "left": null,
            "margin": null,
            "max_height": null,
            "max_width": null,
            "min_height": null,
            "min_width": null,
            "object_fit": null,
            "object_position": null,
            "order": null,
            "overflow": null,
            "overflow_x": null,
            "overflow_y": null,
            "padding": null,
            "right": null,
            "top": null,
            "visibility": null,
            "width": null
          }
        },
        "e820f8f95eeb40fa9dcbf8d7162aa61a": {
          "model_module": "@jupyter-widgets/controls",
          "model_name": "DescriptionStyleModel",
          "model_module_version": "1.5.0",
          "state": {
            "_model_module": "@jupyter-widgets/controls",
            "_model_module_version": "1.5.0",
            "_model_name": "DescriptionStyleModel",
            "_view_count": null,
            "_view_module": "@jupyter-widgets/base",
            "_view_module_version": "1.2.0",
            "_view_name": "StyleView",
            "description_width": ""
          }
        },
        "ab26a6f8822e4cfca3bf6f24f3023d0d": {
          "model_module": "@jupyter-widgets/base",
          "model_name": "LayoutModel",
          "model_module_version": "1.2.0",
          "state": {
            "_model_module": "@jupyter-widgets/base",
            "_model_module_version": "1.2.0",
            "_model_name": "LayoutModel",
            "_view_count": null,
            "_view_module": "@jupyter-widgets/base",
            "_view_module_version": "1.2.0",
            "_view_name": "LayoutView",
            "align_content": null,
            "align_items": null,
            "align_self": null,
            "border": null,
            "bottom": null,
            "display": null,
            "flex": null,
            "flex_flow": null,
            "grid_area": null,
            "grid_auto_columns": null,
            "grid_auto_flow": null,
            "grid_auto_rows": null,
            "grid_column": null,
            "grid_gap": null,
            "grid_row": null,
            "grid_template_areas": null,
            "grid_template_columns": null,
            "grid_template_rows": null,
            "height": null,
            "justify_content": null,
            "justify_items": null,
            "left": null,
            "margin": null,
            "max_height": null,
            "max_width": null,
            "min_height": null,
            "min_width": null,
            "object_fit": null,
            "object_position": null,
            "order": null,
            "overflow": null,
            "overflow_x": null,
            "overflow_y": null,
            "padding": null,
            "right": null,
            "top": null,
            "visibility": null,
            "width": null
          }
        },
        "ddeeab09b2ea413083a2f9f5a6a920c3": {
          "model_module": "@jupyter-widgets/controls",
          "model_name": "ProgressStyleModel",
          "model_module_version": "1.5.0",
          "state": {
            "_model_module": "@jupyter-widgets/controls",
            "_model_module_version": "1.5.0",
            "_model_name": "ProgressStyleModel",
            "_view_count": null,
            "_view_module": "@jupyter-widgets/base",
            "_view_module_version": "1.2.0",
            "_view_name": "StyleView",
            "bar_color": null,
            "description_width": ""
          }
        },
        "8e953670005746e98b124855a114a303": {
          "model_module": "@jupyter-widgets/base",
          "model_name": "LayoutModel",
          "model_module_version": "1.2.0",
          "state": {
            "_model_module": "@jupyter-widgets/base",
            "_model_module_version": "1.2.0",
            "_model_name": "LayoutModel",
            "_view_count": null,
            "_view_module": "@jupyter-widgets/base",
            "_view_module_version": "1.2.0",
            "_view_name": "LayoutView",
            "align_content": null,
            "align_items": null,
            "align_self": null,
            "border": null,
            "bottom": null,
            "display": null,
            "flex": null,
            "flex_flow": null,
            "grid_area": null,
            "grid_auto_columns": null,
            "grid_auto_flow": null,
            "grid_auto_rows": null,
            "grid_column": null,
            "grid_gap": null,
            "grid_row": null,
            "grid_template_areas": null,
            "grid_template_columns": null,
            "grid_template_rows": null,
            "height": null,
            "justify_content": null,
            "justify_items": null,
            "left": null,
            "margin": null,
            "max_height": null,
            "max_width": null,
            "min_height": null,
            "min_width": null,
            "object_fit": null,
            "object_position": null,
            "order": null,
            "overflow": null,
            "overflow_x": null,
            "overflow_y": null,
            "padding": null,
            "right": null,
            "top": null,
            "visibility": null,
            "width": null
          }
        },
        "32209242b57b46d78357cb74456d9503": {
          "model_module": "@jupyter-widgets/controls",
          "model_name": "DescriptionStyleModel",
          "model_module_version": "1.5.0",
          "state": {
            "_model_module": "@jupyter-widgets/controls",
            "_model_module_version": "1.5.0",
            "_model_name": "DescriptionStyleModel",
            "_view_count": null,
            "_view_module": "@jupyter-widgets/base",
            "_view_module_version": "1.2.0",
            "_view_name": "StyleView",
            "description_width": ""
          }
        },
        "742f1cbaecb14bf7874185444ee77902": {
          "model_module": "@jupyter-widgets/controls",
          "model_name": "HBoxModel",
          "model_module_version": "1.5.0",
          "state": {
            "_dom_classes": [],
            "_model_module": "@jupyter-widgets/controls",
            "_model_module_version": "1.5.0",
            "_model_name": "HBoxModel",
            "_view_count": null,
            "_view_module": "@jupyter-widgets/controls",
            "_view_module_version": "1.5.0",
            "_view_name": "HBoxView",
            "box_style": "",
            "children": [
              "IPY_MODEL_64cf8af4bb654a7fa239bfe0fe551470",
              "IPY_MODEL_b857af34bb294dd2896342518603674c",
              "IPY_MODEL_61e53aaf600b4d7bbac96fcaa6680e1f"
            ],
            "layout": "IPY_MODEL_2f5868749db54282bdf84f4fd733fa45"
          }
        },
        "64cf8af4bb654a7fa239bfe0fe551470": {
          "model_module": "@jupyter-widgets/controls",
          "model_name": "HTMLModel",
          "model_module_version": "1.5.0",
          "state": {
            "_dom_classes": [],
            "_model_module": "@jupyter-widgets/controls",
            "_model_module_version": "1.5.0",
            "_model_name": "HTMLModel",
            "_view_count": null,
            "_view_module": "@jupyter-widgets/controls",
            "_view_module_version": "1.5.0",
            "_view_name": "HTMLView",
            "description": "",
            "description_tooltip": null,
            "layout": "IPY_MODEL_d0d1c3e23f254ae4b0b938f67d472f24",
            "placeholder": "​",
            "style": "IPY_MODEL_330d3078795043b0b332f03aad0ba0c4",
            "value": "Downloading (…)solve/main/vocab.txt: 100%"
          }
        },
        "b857af34bb294dd2896342518603674c": {
          "model_module": "@jupyter-widgets/controls",
          "model_name": "FloatProgressModel",
          "model_module_version": "1.5.0",
          "state": {
            "_dom_classes": [],
            "_model_module": "@jupyter-widgets/controls",
            "_model_module_version": "1.5.0",
            "_model_name": "FloatProgressModel",
            "_view_count": null,
            "_view_module": "@jupyter-widgets/controls",
            "_view_module_version": "1.5.0",
            "_view_name": "ProgressView",
            "bar_style": "success",
            "description": "",
            "description_tooltip": null,
            "layout": "IPY_MODEL_e8652513dff844ad85fbcfc4b9f3d6f5",
            "max": 231508,
            "min": 0,
            "orientation": "horizontal",
            "style": "IPY_MODEL_bdb5c98940ae4cec88f37b97e6d93924",
            "value": 231508
          }
        },
        "61e53aaf600b4d7bbac96fcaa6680e1f": {
          "model_module": "@jupyter-widgets/controls",
          "model_name": "HTMLModel",
          "model_module_version": "1.5.0",
          "state": {
            "_dom_classes": [],
            "_model_module": "@jupyter-widgets/controls",
            "_model_module_version": "1.5.0",
            "_model_name": "HTMLModel",
            "_view_count": null,
            "_view_module": "@jupyter-widgets/controls",
            "_view_module_version": "1.5.0",
            "_view_name": "HTMLView",
            "description": "",
            "description_tooltip": null,
            "layout": "IPY_MODEL_585288b4ee3a42c19294573c95b18083",
            "placeholder": "​",
            "style": "IPY_MODEL_8a95fc341cf947c2bd14ac3f91b289ee",
            "value": " 232k/232k [00:00&lt;00:00, 678kB/s]"
          }
        },
        "2f5868749db54282bdf84f4fd733fa45": {
          "model_module": "@jupyter-widgets/base",
          "model_name": "LayoutModel",
          "model_module_version": "1.2.0",
          "state": {
            "_model_module": "@jupyter-widgets/base",
            "_model_module_version": "1.2.0",
            "_model_name": "LayoutModel",
            "_view_count": null,
            "_view_module": "@jupyter-widgets/base",
            "_view_module_version": "1.2.0",
            "_view_name": "LayoutView",
            "align_content": null,
            "align_items": null,
            "align_self": null,
            "border": null,
            "bottom": null,
            "display": null,
            "flex": null,
            "flex_flow": null,
            "grid_area": null,
            "grid_auto_columns": null,
            "grid_auto_flow": null,
            "grid_auto_rows": null,
            "grid_column": null,
            "grid_gap": null,
            "grid_row": null,
            "grid_template_areas": null,
            "grid_template_columns": null,
            "grid_template_rows": null,
            "height": null,
            "justify_content": null,
            "justify_items": null,
            "left": null,
            "margin": null,
            "max_height": null,
            "max_width": null,
            "min_height": null,
            "min_width": null,
            "object_fit": null,
            "object_position": null,
            "order": null,
            "overflow": null,
            "overflow_x": null,
            "overflow_y": null,
            "padding": null,
            "right": null,
            "top": null,
            "visibility": null,
            "width": null
          }
        },
        "d0d1c3e23f254ae4b0b938f67d472f24": {
          "model_module": "@jupyter-widgets/base",
          "model_name": "LayoutModel",
          "model_module_version": "1.2.0",
          "state": {
            "_model_module": "@jupyter-widgets/base",
            "_model_module_version": "1.2.0",
            "_model_name": "LayoutModel",
            "_view_count": null,
            "_view_module": "@jupyter-widgets/base",
            "_view_module_version": "1.2.0",
            "_view_name": "LayoutView",
            "align_content": null,
            "align_items": null,
            "align_self": null,
            "border": null,
            "bottom": null,
            "display": null,
            "flex": null,
            "flex_flow": null,
            "grid_area": null,
            "grid_auto_columns": null,
            "grid_auto_flow": null,
            "grid_auto_rows": null,
            "grid_column": null,
            "grid_gap": null,
            "grid_row": null,
            "grid_template_areas": null,
            "grid_template_columns": null,
            "grid_template_rows": null,
            "height": null,
            "justify_content": null,
            "justify_items": null,
            "left": null,
            "margin": null,
            "max_height": null,
            "max_width": null,
            "min_height": null,
            "min_width": null,
            "object_fit": null,
            "object_position": null,
            "order": null,
            "overflow": null,
            "overflow_x": null,
            "overflow_y": null,
            "padding": null,
            "right": null,
            "top": null,
            "visibility": null,
            "width": null
          }
        },
        "330d3078795043b0b332f03aad0ba0c4": {
          "model_module": "@jupyter-widgets/controls",
          "model_name": "DescriptionStyleModel",
          "model_module_version": "1.5.0",
          "state": {
            "_model_module": "@jupyter-widgets/controls",
            "_model_module_version": "1.5.0",
            "_model_name": "DescriptionStyleModel",
            "_view_count": null,
            "_view_module": "@jupyter-widgets/base",
            "_view_module_version": "1.2.0",
            "_view_name": "StyleView",
            "description_width": ""
          }
        },
        "e8652513dff844ad85fbcfc4b9f3d6f5": {
          "model_module": "@jupyter-widgets/base",
          "model_name": "LayoutModel",
          "model_module_version": "1.2.0",
          "state": {
            "_model_module": "@jupyter-widgets/base",
            "_model_module_version": "1.2.0",
            "_model_name": "LayoutModel",
            "_view_count": null,
            "_view_module": "@jupyter-widgets/base",
            "_view_module_version": "1.2.0",
            "_view_name": "LayoutView",
            "align_content": null,
            "align_items": null,
            "align_self": null,
            "border": null,
            "bottom": null,
            "display": null,
            "flex": null,
            "flex_flow": null,
            "grid_area": null,
            "grid_auto_columns": null,
            "grid_auto_flow": null,
            "grid_auto_rows": null,
            "grid_column": null,
            "grid_gap": null,
            "grid_row": null,
            "grid_template_areas": null,
            "grid_template_columns": null,
            "grid_template_rows": null,
            "height": null,
            "justify_content": null,
            "justify_items": null,
            "left": null,
            "margin": null,
            "max_height": null,
            "max_width": null,
            "min_height": null,
            "min_width": null,
            "object_fit": null,
            "object_position": null,
            "order": null,
            "overflow": null,
            "overflow_x": null,
            "overflow_y": null,
            "padding": null,
            "right": null,
            "top": null,
            "visibility": null,
            "width": null
          }
        },
        "bdb5c98940ae4cec88f37b97e6d93924": {
          "model_module": "@jupyter-widgets/controls",
          "model_name": "ProgressStyleModel",
          "model_module_version": "1.5.0",
          "state": {
            "_model_module": "@jupyter-widgets/controls",
            "_model_module_version": "1.5.0",
            "_model_name": "ProgressStyleModel",
            "_view_count": null,
            "_view_module": "@jupyter-widgets/base",
            "_view_module_version": "1.2.0",
            "_view_name": "StyleView",
            "bar_color": null,
            "description_width": ""
          }
        },
        "585288b4ee3a42c19294573c95b18083": {
          "model_module": "@jupyter-widgets/base",
          "model_name": "LayoutModel",
          "model_module_version": "1.2.0",
          "state": {
            "_model_module": "@jupyter-widgets/base",
            "_model_module_version": "1.2.0",
            "_model_name": "LayoutModel",
            "_view_count": null,
            "_view_module": "@jupyter-widgets/base",
            "_view_module_version": "1.2.0",
            "_view_name": "LayoutView",
            "align_content": null,
            "align_items": null,
            "align_self": null,
            "border": null,
            "bottom": null,
            "display": null,
            "flex": null,
            "flex_flow": null,
            "grid_area": null,
            "grid_auto_columns": null,
            "grid_auto_flow": null,
            "grid_auto_rows": null,
            "grid_column": null,
            "grid_gap": null,
            "grid_row": null,
            "grid_template_areas": null,
            "grid_template_columns": null,
            "grid_template_rows": null,
            "height": null,
            "justify_content": null,
            "justify_items": null,
            "left": null,
            "margin": null,
            "max_height": null,
            "max_width": null,
            "min_height": null,
            "min_width": null,
            "object_fit": null,
            "object_position": null,
            "order": null,
            "overflow": null,
            "overflow_x": null,
            "overflow_y": null,
            "padding": null,
            "right": null,
            "top": null,
            "visibility": null,
            "width": null
          }
        },
        "8a95fc341cf947c2bd14ac3f91b289ee": {
          "model_module": "@jupyter-widgets/controls",
          "model_name": "DescriptionStyleModel",
          "model_module_version": "1.5.0",
          "state": {
            "_model_module": "@jupyter-widgets/controls",
            "_model_module_version": "1.5.0",
            "_model_name": "DescriptionStyleModel",
            "_view_count": null,
            "_view_module": "@jupyter-widgets/base",
            "_view_module_version": "1.2.0",
            "_view_name": "StyleView",
            "description_width": ""
          }
        },
        "095bfd88de8345efa8e866c306945fa1": {
          "model_module": "@jupyter-widgets/controls",
          "model_name": "HBoxModel",
          "model_module_version": "1.5.0",
          "state": {
            "_dom_classes": [],
            "_model_module": "@jupyter-widgets/controls",
            "_model_module_version": "1.5.0",
            "_model_name": "HBoxModel",
            "_view_count": null,
            "_view_module": "@jupyter-widgets/controls",
            "_view_module_version": "1.5.0",
            "_view_name": "HBoxView",
            "box_style": "",
            "children": [
              "IPY_MODEL_b25c483c0e094c4390325a17a095843f",
              "IPY_MODEL_567bb128d6fc4150867e27485b62d1e2",
              "IPY_MODEL_49a7453fd2f14baf852d8064e1e635ef"
            ],
            "layout": "IPY_MODEL_da96b305fd054f448d5b0ed8526ee6e2"
          }
        },
        "b25c483c0e094c4390325a17a095843f": {
          "model_module": "@jupyter-widgets/controls",
          "model_name": "HTMLModel",
          "model_module_version": "1.5.0",
          "state": {
            "_dom_classes": [],
            "_model_module": "@jupyter-widgets/controls",
            "_model_module_version": "1.5.0",
            "_model_name": "HTMLModel",
            "_view_count": null,
            "_view_module": "@jupyter-widgets/controls",
            "_view_module_version": "1.5.0",
            "_view_name": "HTMLView",
            "description": "",
            "description_tooltip": null,
            "layout": "IPY_MODEL_56fdb71bc813433c8ed6d276cdc9fb63",
            "placeholder": "​",
            "style": "IPY_MODEL_15012e7c602a49bd8b8c0990f0949819",
            "value": "Downloading (…)/main/tokenizer.json: 100%"
          }
        },
        "567bb128d6fc4150867e27485b62d1e2": {
          "model_module": "@jupyter-widgets/controls",
          "model_name": "FloatProgressModel",
          "model_module_version": "1.5.0",
          "state": {
            "_dom_classes": [],
            "_model_module": "@jupyter-widgets/controls",
            "_model_module_version": "1.5.0",
            "_model_name": "FloatProgressModel",
            "_view_count": null,
            "_view_module": "@jupyter-widgets/controls",
            "_view_module_version": "1.5.0",
            "_view_name": "ProgressView",
            "bar_style": "success",
            "description": "",
            "description_tooltip": null,
            "layout": "IPY_MODEL_aa6fd076371f4e5fae7269a0d76d7b75",
            "max": 466062,
            "min": 0,
            "orientation": "horizontal",
            "style": "IPY_MODEL_4ec9e24a43344cc8a358a6ffb51dd67a",
            "value": 466062
          }
        },
        "49a7453fd2f14baf852d8064e1e635ef": {
          "model_module": "@jupyter-widgets/controls",
          "model_name": "HTMLModel",
          "model_module_version": "1.5.0",
          "state": {
            "_dom_classes": [],
            "_model_module": "@jupyter-widgets/controls",
            "_model_module_version": "1.5.0",
            "_model_name": "HTMLModel",
            "_view_count": null,
            "_view_module": "@jupyter-widgets/controls",
            "_view_module_version": "1.5.0",
            "_view_name": "HTMLView",
            "description": "",
            "description_tooltip": null,
            "layout": "IPY_MODEL_8784af948f47405e9c21d0b59fc07a56",
            "placeholder": "​",
            "style": "IPY_MODEL_3f82bed0e00d402095ad87222cfb8c6f",
            "value": " 466k/466k [00:00&lt;00:00, 915kB/s]"
          }
        },
        "da96b305fd054f448d5b0ed8526ee6e2": {
          "model_module": "@jupyter-widgets/base",
          "model_name": "LayoutModel",
          "model_module_version": "1.2.0",
          "state": {
            "_model_module": "@jupyter-widgets/base",
            "_model_module_version": "1.2.0",
            "_model_name": "LayoutModel",
            "_view_count": null,
            "_view_module": "@jupyter-widgets/base",
            "_view_module_version": "1.2.0",
            "_view_name": "LayoutView",
            "align_content": null,
            "align_items": null,
            "align_self": null,
            "border": null,
            "bottom": null,
            "display": null,
            "flex": null,
            "flex_flow": null,
            "grid_area": null,
            "grid_auto_columns": null,
            "grid_auto_flow": null,
            "grid_auto_rows": null,
            "grid_column": null,
            "grid_gap": null,
            "grid_row": null,
            "grid_template_areas": null,
            "grid_template_columns": null,
            "grid_template_rows": null,
            "height": null,
            "justify_content": null,
            "justify_items": null,
            "left": null,
            "margin": null,
            "max_height": null,
            "max_width": null,
            "min_height": null,
            "min_width": null,
            "object_fit": null,
            "object_position": null,
            "order": null,
            "overflow": null,
            "overflow_x": null,
            "overflow_y": null,
            "padding": null,
            "right": null,
            "top": null,
            "visibility": null,
            "width": null
          }
        },
        "56fdb71bc813433c8ed6d276cdc9fb63": {
          "model_module": "@jupyter-widgets/base",
          "model_name": "LayoutModel",
          "model_module_version": "1.2.0",
          "state": {
            "_model_module": "@jupyter-widgets/base",
            "_model_module_version": "1.2.0",
            "_model_name": "LayoutModel",
            "_view_count": null,
            "_view_module": "@jupyter-widgets/base",
            "_view_module_version": "1.2.0",
            "_view_name": "LayoutView",
            "align_content": null,
            "align_items": null,
            "align_self": null,
            "border": null,
            "bottom": null,
            "display": null,
            "flex": null,
            "flex_flow": null,
            "grid_area": null,
            "grid_auto_columns": null,
            "grid_auto_flow": null,
            "grid_auto_rows": null,
            "grid_column": null,
            "grid_gap": null,
            "grid_row": null,
            "grid_template_areas": null,
            "grid_template_columns": null,
            "grid_template_rows": null,
            "height": null,
            "justify_content": null,
            "justify_items": null,
            "left": null,
            "margin": null,
            "max_height": null,
            "max_width": null,
            "min_height": null,
            "min_width": null,
            "object_fit": null,
            "object_position": null,
            "order": null,
            "overflow": null,
            "overflow_x": null,
            "overflow_y": null,
            "padding": null,
            "right": null,
            "top": null,
            "visibility": null,
            "width": null
          }
        },
        "15012e7c602a49bd8b8c0990f0949819": {
          "model_module": "@jupyter-widgets/controls",
          "model_name": "DescriptionStyleModel",
          "model_module_version": "1.5.0",
          "state": {
            "_model_module": "@jupyter-widgets/controls",
            "_model_module_version": "1.5.0",
            "_model_name": "DescriptionStyleModel",
            "_view_count": null,
            "_view_module": "@jupyter-widgets/base",
            "_view_module_version": "1.2.0",
            "_view_name": "StyleView",
            "description_width": ""
          }
        },
        "aa6fd076371f4e5fae7269a0d76d7b75": {
          "model_module": "@jupyter-widgets/base",
          "model_name": "LayoutModel",
          "model_module_version": "1.2.0",
          "state": {
            "_model_module": "@jupyter-widgets/base",
            "_model_module_version": "1.2.0",
            "_model_name": "LayoutModel",
            "_view_count": null,
            "_view_module": "@jupyter-widgets/base",
            "_view_module_version": "1.2.0",
            "_view_name": "LayoutView",
            "align_content": null,
            "align_items": null,
            "align_self": null,
            "border": null,
            "bottom": null,
            "display": null,
            "flex": null,
            "flex_flow": null,
            "grid_area": null,
            "grid_auto_columns": null,
            "grid_auto_flow": null,
            "grid_auto_rows": null,
            "grid_column": null,
            "grid_gap": null,
            "grid_row": null,
            "grid_template_areas": null,
            "grid_template_columns": null,
            "grid_template_rows": null,
            "height": null,
            "justify_content": null,
            "justify_items": null,
            "left": null,
            "margin": null,
            "max_height": null,
            "max_width": null,
            "min_height": null,
            "min_width": null,
            "object_fit": null,
            "object_position": null,
            "order": null,
            "overflow": null,
            "overflow_x": null,
            "overflow_y": null,
            "padding": null,
            "right": null,
            "top": null,
            "visibility": null,
            "width": null
          }
        },
        "4ec9e24a43344cc8a358a6ffb51dd67a": {
          "model_module": "@jupyter-widgets/controls",
          "model_name": "ProgressStyleModel",
          "model_module_version": "1.5.0",
          "state": {
            "_model_module": "@jupyter-widgets/controls",
            "_model_module_version": "1.5.0",
            "_model_name": "ProgressStyleModel",
            "_view_count": null,
            "_view_module": "@jupyter-widgets/base",
            "_view_module_version": "1.2.0",
            "_view_name": "StyleView",
            "bar_color": null,
            "description_width": ""
          }
        },
        "8784af948f47405e9c21d0b59fc07a56": {
          "model_module": "@jupyter-widgets/base",
          "model_name": "LayoutModel",
          "model_module_version": "1.2.0",
          "state": {
            "_model_module": "@jupyter-widgets/base",
            "_model_module_version": "1.2.0",
            "_model_name": "LayoutModel",
            "_view_count": null,
            "_view_module": "@jupyter-widgets/base",
            "_view_module_version": "1.2.0",
            "_view_name": "LayoutView",
            "align_content": null,
            "align_items": null,
            "align_self": null,
            "border": null,
            "bottom": null,
            "display": null,
            "flex": null,
            "flex_flow": null,
            "grid_area": null,
            "grid_auto_columns": null,
            "grid_auto_flow": null,
            "grid_auto_rows": null,
            "grid_column": null,
            "grid_gap": null,
            "grid_row": null,
            "grid_template_areas": null,
            "grid_template_columns": null,
            "grid_template_rows": null,
            "height": null,
            "justify_content": null,
            "justify_items": null,
            "left": null,
            "margin": null,
            "max_height": null,
            "max_width": null,
            "min_height": null,
            "min_width": null,
            "object_fit": null,
            "object_position": null,
            "order": null,
            "overflow": null,
            "overflow_x": null,
            "overflow_y": null,
            "padding": null,
            "right": null,
            "top": null,
            "visibility": null,
            "width": null
          }
        },
        "3f82bed0e00d402095ad87222cfb8c6f": {
          "model_module": "@jupyter-widgets/controls",
          "model_name": "DescriptionStyleModel",
          "model_module_version": "1.5.0",
          "state": {
            "_model_module": "@jupyter-widgets/controls",
            "_model_module_version": "1.5.0",
            "_model_name": "DescriptionStyleModel",
            "_view_count": null,
            "_view_module": "@jupyter-widgets/base",
            "_view_module_version": "1.2.0",
            "_view_name": "StyleView",
            "description_width": ""
          }
        },
        "cf86fbef4e914ba6993ae52f2092b053": {
          "model_module": "@jupyter-widgets/controls",
          "model_name": "HBoxModel",
          "model_module_version": "1.5.0",
          "state": {
            "_dom_classes": [],
            "_model_module": "@jupyter-widgets/controls",
            "_model_module_version": "1.5.0",
            "_model_name": "HBoxModel",
            "_view_count": null,
            "_view_module": "@jupyter-widgets/controls",
            "_view_module_version": "1.5.0",
            "_view_name": "HBoxView",
            "box_style": "",
            "children": [
              "IPY_MODEL_c09af728733a424d87631a6a87271228",
              "IPY_MODEL_f2312cf550784861829014f484527ac4",
              "IPY_MODEL_365e0a7e2cee45e8b6cf0ac1706e8bba"
            ],
            "layout": "IPY_MODEL_ece8aec53ae14f74ac5934901e2eac0a"
          }
        },
        "c09af728733a424d87631a6a87271228": {
          "model_module": "@jupyter-widgets/controls",
          "model_name": "HTMLModel",
          "model_module_version": "1.5.0",
          "state": {
            "_dom_classes": [],
            "_model_module": "@jupyter-widgets/controls",
            "_model_module_version": "1.5.0",
            "_model_name": "HTMLModel",
            "_view_count": null,
            "_view_module": "@jupyter-widgets/controls",
            "_view_module_version": "1.5.0",
            "_view_name": "HTMLView",
            "description": "",
            "description_tooltip": null,
            "layout": "IPY_MODEL_5bcabd372a7d495e9b10eeed1483fc67",
            "placeholder": "​",
            "style": "IPY_MODEL_3c6d09db358e478e905556f57c217d22",
            "value": "Downloading (…)lve/main/config.json: 100%"
          }
        },
        "f2312cf550784861829014f484527ac4": {
          "model_module": "@jupyter-widgets/controls",
          "model_name": "FloatProgressModel",
          "model_module_version": "1.5.0",
          "state": {
            "_dom_classes": [],
            "_model_module": "@jupyter-widgets/controls",
            "_model_module_version": "1.5.0",
            "_model_name": "FloatProgressModel",
            "_view_count": null,
            "_view_module": "@jupyter-widgets/controls",
            "_view_module_version": "1.5.0",
            "_view_name": "ProgressView",
            "bar_style": "success",
            "description": "",
            "description_tooltip": null,
            "layout": "IPY_MODEL_6d39b33897e14679aa8d9a4d5f8d470c",
            "max": 483,
            "min": 0,
            "orientation": "horizontal",
            "style": "IPY_MODEL_b7ad1dc35f2642dba54fc04ae0468c36",
            "value": 483
          }
        },
        "365e0a7e2cee45e8b6cf0ac1706e8bba": {
          "model_module": "@jupyter-widgets/controls",
          "model_name": "HTMLModel",
          "model_module_version": "1.5.0",
          "state": {
            "_dom_classes": [],
            "_model_module": "@jupyter-widgets/controls",
            "_model_module_version": "1.5.0",
            "_model_name": "HTMLModel",
            "_view_count": null,
            "_view_module": "@jupyter-widgets/controls",
            "_view_module_version": "1.5.0",
            "_view_name": "HTMLView",
            "description": "",
            "description_tooltip": null,
            "layout": "IPY_MODEL_27940dda9b42437b9fd8b66a5e61ece1",
            "placeholder": "​",
            "style": "IPY_MODEL_626c5db1403b4d068d42fcf364da6e81",
            "value": " 483/483 [00:00&lt;00:00, 14.3kB/s]"
          }
        },
        "ece8aec53ae14f74ac5934901e2eac0a": {
          "model_module": "@jupyter-widgets/base",
          "model_name": "LayoutModel",
          "model_module_version": "1.2.0",
          "state": {
            "_model_module": "@jupyter-widgets/base",
            "_model_module_version": "1.2.0",
            "_model_name": "LayoutModel",
            "_view_count": null,
            "_view_module": "@jupyter-widgets/base",
            "_view_module_version": "1.2.0",
            "_view_name": "LayoutView",
            "align_content": null,
            "align_items": null,
            "align_self": null,
            "border": null,
            "bottom": null,
            "display": null,
            "flex": null,
            "flex_flow": null,
            "grid_area": null,
            "grid_auto_columns": null,
            "grid_auto_flow": null,
            "grid_auto_rows": null,
            "grid_column": null,
            "grid_gap": null,
            "grid_row": null,
            "grid_template_areas": null,
            "grid_template_columns": null,
            "grid_template_rows": null,
            "height": null,
            "justify_content": null,
            "justify_items": null,
            "left": null,
            "margin": null,
            "max_height": null,
            "max_width": null,
            "min_height": null,
            "min_width": null,
            "object_fit": null,
            "object_position": null,
            "order": null,
            "overflow": null,
            "overflow_x": null,
            "overflow_y": null,
            "padding": null,
            "right": null,
            "top": null,
            "visibility": null,
            "width": null
          }
        },
        "5bcabd372a7d495e9b10eeed1483fc67": {
          "model_module": "@jupyter-widgets/base",
          "model_name": "LayoutModel",
          "model_module_version": "1.2.0",
          "state": {
            "_model_module": "@jupyter-widgets/base",
            "_model_module_version": "1.2.0",
            "_model_name": "LayoutModel",
            "_view_count": null,
            "_view_module": "@jupyter-widgets/base",
            "_view_module_version": "1.2.0",
            "_view_name": "LayoutView",
            "align_content": null,
            "align_items": null,
            "align_self": null,
            "border": null,
            "bottom": null,
            "display": null,
            "flex": null,
            "flex_flow": null,
            "grid_area": null,
            "grid_auto_columns": null,
            "grid_auto_flow": null,
            "grid_auto_rows": null,
            "grid_column": null,
            "grid_gap": null,
            "grid_row": null,
            "grid_template_areas": null,
            "grid_template_columns": null,
            "grid_template_rows": null,
            "height": null,
            "justify_content": null,
            "justify_items": null,
            "left": null,
            "margin": null,
            "max_height": null,
            "max_width": null,
            "min_height": null,
            "min_width": null,
            "object_fit": null,
            "object_position": null,
            "order": null,
            "overflow": null,
            "overflow_x": null,
            "overflow_y": null,
            "padding": null,
            "right": null,
            "top": null,
            "visibility": null,
            "width": null
          }
        },
        "3c6d09db358e478e905556f57c217d22": {
          "model_module": "@jupyter-widgets/controls",
          "model_name": "DescriptionStyleModel",
          "model_module_version": "1.5.0",
          "state": {
            "_model_module": "@jupyter-widgets/controls",
            "_model_module_version": "1.5.0",
            "_model_name": "DescriptionStyleModel",
            "_view_count": null,
            "_view_module": "@jupyter-widgets/base",
            "_view_module_version": "1.2.0",
            "_view_name": "StyleView",
            "description_width": ""
          }
        },
        "6d39b33897e14679aa8d9a4d5f8d470c": {
          "model_module": "@jupyter-widgets/base",
          "model_name": "LayoutModel",
          "model_module_version": "1.2.0",
          "state": {
            "_model_module": "@jupyter-widgets/base",
            "_model_module_version": "1.2.0",
            "_model_name": "LayoutModel",
            "_view_count": null,
            "_view_module": "@jupyter-widgets/base",
            "_view_module_version": "1.2.0",
            "_view_name": "LayoutView",
            "align_content": null,
            "align_items": null,
            "align_self": null,
            "border": null,
            "bottom": null,
            "display": null,
            "flex": null,
            "flex_flow": null,
            "grid_area": null,
            "grid_auto_columns": null,
            "grid_auto_flow": null,
            "grid_auto_rows": null,
            "grid_column": null,
            "grid_gap": null,
            "grid_row": null,
            "grid_template_areas": null,
            "grid_template_columns": null,
            "grid_template_rows": null,
            "height": null,
            "justify_content": null,
            "justify_items": null,
            "left": null,
            "margin": null,
            "max_height": null,
            "max_width": null,
            "min_height": null,
            "min_width": null,
            "object_fit": null,
            "object_position": null,
            "order": null,
            "overflow": null,
            "overflow_x": null,
            "overflow_y": null,
            "padding": null,
            "right": null,
            "top": null,
            "visibility": null,
            "width": null
          }
        },
        "b7ad1dc35f2642dba54fc04ae0468c36": {
          "model_module": "@jupyter-widgets/controls",
          "model_name": "ProgressStyleModel",
          "model_module_version": "1.5.0",
          "state": {
            "_model_module": "@jupyter-widgets/controls",
            "_model_module_version": "1.5.0",
            "_model_name": "ProgressStyleModel",
            "_view_count": null,
            "_view_module": "@jupyter-widgets/base",
            "_view_module_version": "1.2.0",
            "_view_name": "StyleView",
            "bar_color": null,
            "description_width": ""
          }
        },
        "27940dda9b42437b9fd8b66a5e61ece1": {
          "model_module": "@jupyter-widgets/base",
          "model_name": "LayoutModel",
          "model_module_version": "1.2.0",
          "state": {
            "_model_module": "@jupyter-widgets/base",
            "_model_module_version": "1.2.0",
            "_model_name": "LayoutModel",
            "_view_count": null,
            "_view_module": "@jupyter-widgets/base",
            "_view_module_version": "1.2.0",
            "_view_name": "LayoutView",
            "align_content": null,
            "align_items": null,
            "align_self": null,
            "border": null,
            "bottom": null,
            "display": null,
            "flex": null,
            "flex_flow": null,
            "grid_area": null,
            "grid_auto_columns": null,
            "grid_auto_flow": null,
            "grid_auto_rows": null,
            "grid_column": null,
            "grid_gap": null,
            "grid_row": null,
            "grid_template_areas": null,
            "grid_template_columns": null,
            "grid_template_rows": null,
            "height": null,
            "justify_content": null,
            "justify_items": null,
            "left": null,
            "margin": null,
            "max_height": null,
            "max_width": null,
            "min_height": null,
            "min_width": null,
            "object_fit": null,
            "object_position": null,
            "order": null,
            "overflow": null,
            "overflow_x": null,
            "overflow_y": null,
            "padding": null,
            "right": null,
            "top": null,
            "visibility": null,
            "width": null
          }
        },
        "626c5db1403b4d068d42fcf364da6e81": {
          "model_module": "@jupyter-widgets/controls",
          "model_name": "DescriptionStyleModel",
          "model_module_version": "1.5.0",
          "state": {
            "_model_module": "@jupyter-widgets/controls",
            "_model_module_version": "1.5.0",
            "_model_name": "DescriptionStyleModel",
            "_view_count": null,
            "_view_module": "@jupyter-widgets/base",
            "_view_module_version": "1.2.0",
            "_view_name": "StyleView",
            "description_width": ""
          }
        },
        "2a49e23a82ea4ea1b75ca3de1e90053d": {
          "model_module": "@jupyter-widgets/controls",
          "model_name": "HBoxModel",
          "model_module_version": "1.5.0",
          "state": {
            "_dom_classes": [],
            "_model_module": "@jupyter-widgets/controls",
            "_model_module_version": "1.5.0",
            "_model_name": "HBoxModel",
            "_view_count": null,
            "_view_module": "@jupyter-widgets/controls",
            "_view_module_version": "1.5.0",
            "_view_name": "HBoxView",
            "box_style": "",
            "children": [
              "IPY_MODEL_062700f13c3a4a68ada65a9598b144fc",
              "IPY_MODEL_fc67a1c693a844e7ade3a934a0f2e942",
              "IPY_MODEL_1b42a676fb1140309a0cddbca57c0e25"
            ],
            "layout": "IPY_MODEL_07bcf59867cf4ca7bff3fe12fff3d0ff"
          }
        },
        "062700f13c3a4a68ada65a9598b144fc": {
          "model_module": "@jupyter-widgets/controls",
          "model_name": "HTMLModel",
          "model_module_version": "1.5.0",
          "state": {
            "_dom_classes": [],
            "_model_module": "@jupyter-widgets/controls",
            "_model_module_version": "1.5.0",
            "_model_name": "HTMLModel",
            "_view_count": null,
            "_view_module": "@jupyter-widgets/controls",
            "_view_module_version": "1.5.0",
            "_view_name": "HTMLView",
            "description": "",
            "description_tooltip": null,
            "layout": "IPY_MODEL_cf8a19f837bd48feb5e7b39ff38697da",
            "placeholder": "​",
            "style": "IPY_MODEL_f71fec218f7c49c08a64de709f26a934",
            "value": "Downloading (…)lve/main/config.json: 100%"
          }
        },
        "fc67a1c693a844e7ade3a934a0f2e942": {
          "model_module": "@jupyter-widgets/controls",
          "model_name": "FloatProgressModel",
          "model_module_version": "1.5.0",
          "state": {
            "_dom_classes": [],
            "_model_module": "@jupyter-widgets/controls",
            "_model_module_version": "1.5.0",
            "_model_name": "FloatProgressModel",
            "_view_count": null,
            "_view_module": "@jupyter-widgets/controls",
            "_view_module_version": "1.5.0",
            "_view_name": "ProgressView",
            "bar_style": "success",
            "description": "",
            "description_tooltip": null,
            "layout": "IPY_MODEL_0d8a0cd6df1f4c2f801f3799b4e98a4d",
            "max": 629,
            "min": 0,
            "orientation": "horizontal",
            "style": "IPY_MODEL_264b0e695a96462a8baa465aa4da8167",
            "value": 629
          }
        },
        "1b42a676fb1140309a0cddbca57c0e25": {
          "model_module": "@jupyter-widgets/controls",
          "model_name": "HTMLModel",
          "model_module_version": "1.5.0",
          "state": {
            "_dom_classes": [],
            "_model_module": "@jupyter-widgets/controls",
            "_model_module_version": "1.5.0",
            "_model_name": "HTMLModel",
            "_view_count": null,
            "_view_module": "@jupyter-widgets/controls",
            "_view_module_version": "1.5.0",
            "_view_name": "HTMLView",
            "description": "",
            "description_tooltip": null,
            "layout": "IPY_MODEL_2d80bccce16a48c5b24f06d2e0b19cc0",
            "placeholder": "​",
            "style": "IPY_MODEL_60b304d20cb044f1a0b3eba03f018f05",
            "value": " 629/629 [00:00&lt;00:00, 18.6kB/s]"
          }
        },
        "07bcf59867cf4ca7bff3fe12fff3d0ff": {
          "model_module": "@jupyter-widgets/base",
          "model_name": "LayoutModel",
          "model_module_version": "1.2.0",
          "state": {
            "_model_module": "@jupyter-widgets/base",
            "_model_module_version": "1.2.0",
            "_model_name": "LayoutModel",
            "_view_count": null,
            "_view_module": "@jupyter-widgets/base",
            "_view_module_version": "1.2.0",
            "_view_name": "LayoutView",
            "align_content": null,
            "align_items": null,
            "align_self": null,
            "border": null,
            "bottom": null,
            "display": null,
            "flex": null,
            "flex_flow": null,
            "grid_area": null,
            "grid_auto_columns": null,
            "grid_auto_flow": null,
            "grid_auto_rows": null,
            "grid_column": null,
            "grid_gap": null,
            "grid_row": null,
            "grid_template_areas": null,
            "grid_template_columns": null,
            "grid_template_rows": null,
            "height": null,
            "justify_content": null,
            "justify_items": null,
            "left": null,
            "margin": null,
            "max_height": null,
            "max_width": null,
            "min_height": null,
            "min_width": null,
            "object_fit": null,
            "object_position": null,
            "order": null,
            "overflow": null,
            "overflow_x": null,
            "overflow_y": null,
            "padding": null,
            "right": null,
            "top": null,
            "visibility": null,
            "width": null
          }
        },
        "cf8a19f837bd48feb5e7b39ff38697da": {
          "model_module": "@jupyter-widgets/base",
          "model_name": "LayoutModel",
          "model_module_version": "1.2.0",
          "state": {
            "_model_module": "@jupyter-widgets/base",
            "_model_module_version": "1.2.0",
            "_model_name": "LayoutModel",
            "_view_count": null,
            "_view_module": "@jupyter-widgets/base",
            "_view_module_version": "1.2.0",
            "_view_name": "LayoutView",
            "align_content": null,
            "align_items": null,
            "align_self": null,
            "border": null,
            "bottom": null,
            "display": null,
            "flex": null,
            "flex_flow": null,
            "grid_area": null,
            "grid_auto_columns": null,
            "grid_auto_flow": null,
            "grid_auto_rows": null,
            "grid_column": null,
            "grid_gap": null,
            "grid_row": null,
            "grid_template_areas": null,
            "grid_template_columns": null,
            "grid_template_rows": null,
            "height": null,
            "justify_content": null,
            "justify_items": null,
            "left": null,
            "margin": null,
            "max_height": null,
            "max_width": null,
            "min_height": null,
            "min_width": null,
            "object_fit": null,
            "object_position": null,
            "order": null,
            "overflow": null,
            "overflow_x": null,
            "overflow_y": null,
            "padding": null,
            "right": null,
            "top": null,
            "visibility": null,
            "width": null
          }
        },
        "f71fec218f7c49c08a64de709f26a934": {
          "model_module": "@jupyter-widgets/controls",
          "model_name": "DescriptionStyleModel",
          "model_module_version": "1.5.0",
          "state": {
            "_model_module": "@jupyter-widgets/controls",
            "_model_module_version": "1.5.0",
            "_model_name": "DescriptionStyleModel",
            "_view_count": null,
            "_view_module": "@jupyter-widgets/base",
            "_view_module_version": "1.2.0",
            "_view_name": "StyleView",
            "description_width": ""
          }
        },
        "0d8a0cd6df1f4c2f801f3799b4e98a4d": {
          "model_module": "@jupyter-widgets/base",
          "model_name": "LayoutModel",
          "model_module_version": "1.2.0",
          "state": {
            "_model_module": "@jupyter-widgets/base",
            "_model_module_version": "1.2.0",
            "_model_name": "LayoutModel",
            "_view_count": null,
            "_view_module": "@jupyter-widgets/base",
            "_view_module_version": "1.2.0",
            "_view_name": "LayoutView",
            "align_content": null,
            "align_items": null,
            "align_self": null,
            "border": null,
            "bottom": null,
            "display": null,
            "flex": null,
            "flex_flow": null,
            "grid_area": null,
            "grid_auto_columns": null,
            "grid_auto_flow": null,
            "grid_auto_rows": null,
            "grid_column": null,
            "grid_gap": null,
            "grid_row": null,
            "grid_template_areas": null,
            "grid_template_columns": null,
            "grid_template_rows": null,
            "height": null,
            "justify_content": null,
            "justify_items": null,
            "left": null,
            "margin": null,
            "max_height": null,
            "max_width": null,
            "min_height": null,
            "min_width": null,
            "object_fit": null,
            "object_position": null,
            "order": null,
            "overflow": null,
            "overflow_x": null,
            "overflow_y": null,
            "padding": null,
            "right": null,
            "top": null,
            "visibility": null,
            "width": null
          }
        },
        "264b0e695a96462a8baa465aa4da8167": {
          "model_module": "@jupyter-widgets/controls",
          "model_name": "ProgressStyleModel",
          "model_module_version": "1.5.0",
          "state": {
            "_model_module": "@jupyter-widgets/controls",
            "_model_module_version": "1.5.0",
            "_model_name": "ProgressStyleModel",
            "_view_count": null,
            "_view_module": "@jupyter-widgets/base",
            "_view_module_version": "1.2.0",
            "_view_name": "StyleView",
            "bar_color": null,
            "description_width": ""
          }
        },
        "2d80bccce16a48c5b24f06d2e0b19cc0": {
          "model_module": "@jupyter-widgets/base",
          "model_name": "LayoutModel",
          "model_module_version": "1.2.0",
          "state": {
            "_model_module": "@jupyter-widgets/base",
            "_model_module_version": "1.2.0",
            "_model_name": "LayoutModel",
            "_view_count": null,
            "_view_module": "@jupyter-widgets/base",
            "_view_module_version": "1.2.0",
            "_view_name": "LayoutView",
            "align_content": null,
            "align_items": null,
            "align_self": null,
            "border": null,
            "bottom": null,
            "display": null,
            "flex": null,
            "flex_flow": null,
            "grid_area": null,
            "grid_auto_columns": null,
            "grid_auto_flow": null,
            "grid_auto_rows": null,
            "grid_column": null,
            "grid_gap": null,
            "grid_row": null,
            "grid_template_areas": null,
            "grid_template_columns": null,
            "grid_template_rows": null,
            "height": null,
            "justify_content": null,
            "justify_items": null,
            "left": null,
            "margin": null,
            "max_height": null,
            "max_width": null,
            "min_height": null,
            "min_width": null,
            "object_fit": null,
            "object_position": null,
            "order": null,
            "overflow": null,
            "overflow_x": null,
            "overflow_y": null,
            "padding": null,
            "right": null,
            "top": null,
            "visibility": null,
            "width": null
          }
        },
        "60b304d20cb044f1a0b3eba03f018f05": {
          "model_module": "@jupyter-widgets/controls",
          "model_name": "DescriptionStyleModel",
          "model_module_version": "1.5.0",
          "state": {
            "_model_module": "@jupyter-widgets/controls",
            "_model_module_version": "1.5.0",
            "_model_name": "DescriptionStyleModel",
            "_view_count": null,
            "_view_module": "@jupyter-widgets/base",
            "_view_module_version": "1.2.0",
            "_view_name": "StyleView",
            "description_width": ""
          }
        },
        "3ca0c4cf009946748343205de5cb9161": {
          "model_module": "@jupyter-widgets/controls",
          "model_name": "HBoxModel",
          "model_module_version": "1.5.0",
          "state": {
            "_dom_classes": [],
            "_model_module": "@jupyter-widgets/controls",
            "_model_module_version": "1.5.0",
            "_model_name": "HBoxModel",
            "_view_count": null,
            "_view_module": "@jupyter-widgets/controls",
            "_view_module_version": "1.5.0",
            "_view_name": "HBoxView",
            "box_style": "",
            "children": [
              "IPY_MODEL_794a1ee4e79743da9fb9aa4bbf2097fb",
              "IPY_MODEL_dd43ce9e54a24a1e955bde980828eef8",
              "IPY_MODEL_5e24a3a7f8c94569985b09426b35c31c"
            ],
            "layout": "IPY_MODEL_e302628d585e4045a907cdca552e12c9"
          }
        },
        "794a1ee4e79743da9fb9aa4bbf2097fb": {
          "model_module": "@jupyter-widgets/controls",
          "model_name": "HTMLModel",
          "model_module_version": "1.5.0",
          "state": {
            "_dom_classes": [],
            "_model_module": "@jupyter-widgets/controls",
            "_model_module_version": "1.5.0",
            "_model_name": "HTMLModel",
            "_view_count": null,
            "_view_module": "@jupyter-widgets/controls",
            "_view_module_version": "1.5.0",
            "_view_name": "HTMLView",
            "description": "",
            "description_tooltip": null,
            "layout": "IPY_MODEL_281981bb85524f7a99af36dbfa9bab40",
            "placeholder": "​",
            "style": "IPY_MODEL_966373a4c7cc47e8bb8a9ae0eafa5eeb",
            "value": "Downloading model.safetensors: 100%"
          }
        },
        "dd43ce9e54a24a1e955bde980828eef8": {
          "model_module": "@jupyter-widgets/controls",
          "model_name": "FloatProgressModel",
          "model_module_version": "1.5.0",
          "state": {
            "_dom_classes": [],
            "_model_module": "@jupyter-widgets/controls",
            "_model_module_version": "1.5.0",
            "_model_name": "FloatProgressModel",
            "_view_count": null,
            "_view_module": "@jupyter-widgets/controls",
            "_view_module_version": "1.5.0",
            "_view_name": "ProgressView",
            "bar_style": "success",
            "description": "",
            "description_tooltip": null,
            "layout": "IPY_MODEL_8f80df4e800140d2a26f6f54b4b10049",
            "max": 267832558,
            "min": 0,
            "orientation": "horizontal",
            "style": "IPY_MODEL_c5056fb93ba04d5f82a297c7be73fcc3",
            "value": 267832558
          }
        },
        "5e24a3a7f8c94569985b09426b35c31c": {
          "model_module": "@jupyter-widgets/controls",
          "model_name": "HTMLModel",
          "model_module_version": "1.5.0",
          "state": {
            "_dom_classes": [],
            "_model_module": "@jupyter-widgets/controls",
            "_model_module_version": "1.5.0",
            "_model_name": "HTMLModel",
            "_view_count": null,
            "_view_module": "@jupyter-widgets/controls",
            "_view_module_version": "1.5.0",
            "_view_name": "HTMLView",
            "description": "",
            "description_tooltip": null,
            "layout": "IPY_MODEL_7cb6b005b8994f3eb407dc85ecf41cc3",
            "placeholder": "​",
            "style": "IPY_MODEL_3cf2fb8400134aa39184dfa7be152aaa",
            "value": " 268M/268M [00:07&lt;00:00, 47.5MB/s]"
          }
        },
        "e302628d585e4045a907cdca552e12c9": {
          "model_module": "@jupyter-widgets/base",
          "model_name": "LayoutModel",
          "model_module_version": "1.2.0",
          "state": {
            "_model_module": "@jupyter-widgets/base",
            "_model_module_version": "1.2.0",
            "_model_name": "LayoutModel",
            "_view_count": null,
            "_view_module": "@jupyter-widgets/base",
            "_view_module_version": "1.2.0",
            "_view_name": "LayoutView",
            "align_content": null,
            "align_items": null,
            "align_self": null,
            "border": null,
            "bottom": null,
            "display": null,
            "flex": null,
            "flex_flow": null,
            "grid_area": null,
            "grid_auto_columns": null,
            "grid_auto_flow": null,
            "grid_auto_rows": null,
            "grid_column": null,
            "grid_gap": null,
            "grid_row": null,
            "grid_template_areas": null,
            "grid_template_columns": null,
            "grid_template_rows": null,
            "height": null,
            "justify_content": null,
            "justify_items": null,
            "left": null,
            "margin": null,
            "max_height": null,
            "max_width": null,
            "min_height": null,
            "min_width": null,
            "object_fit": null,
            "object_position": null,
            "order": null,
            "overflow": null,
            "overflow_x": null,
            "overflow_y": null,
            "padding": null,
            "right": null,
            "top": null,
            "visibility": null,
            "width": null
          }
        },
        "281981bb85524f7a99af36dbfa9bab40": {
          "model_module": "@jupyter-widgets/base",
          "model_name": "LayoutModel",
          "model_module_version": "1.2.0",
          "state": {
            "_model_module": "@jupyter-widgets/base",
            "_model_module_version": "1.2.0",
            "_model_name": "LayoutModel",
            "_view_count": null,
            "_view_module": "@jupyter-widgets/base",
            "_view_module_version": "1.2.0",
            "_view_name": "LayoutView",
            "align_content": null,
            "align_items": null,
            "align_self": null,
            "border": null,
            "bottom": null,
            "display": null,
            "flex": null,
            "flex_flow": null,
            "grid_area": null,
            "grid_auto_columns": null,
            "grid_auto_flow": null,
            "grid_auto_rows": null,
            "grid_column": null,
            "grid_gap": null,
            "grid_row": null,
            "grid_template_areas": null,
            "grid_template_columns": null,
            "grid_template_rows": null,
            "height": null,
            "justify_content": null,
            "justify_items": null,
            "left": null,
            "margin": null,
            "max_height": null,
            "max_width": null,
            "min_height": null,
            "min_width": null,
            "object_fit": null,
            "object_position": null,
            "order": null,
            "overflow": null,
            "overflow_x": null,
            "overflow_y": null,
            "padding": null,
            "right": null,
            "top": null,
            "visibility": null,
            "width": null
          }
        },
        "966373a4c7cc47e8bb8a9ae0eafa5eeb": {
          "model_module": "@jupyter-widgets/controls",
          "model_name": "DescriptionStyleModel",
          "model_module_version": "1.5.0",
          "state": {
            "_model_module": "@jupyter-widgets/controls",
            "_model_module_version": "1.5.0",
            "_model_name": "DescriptionStyleModel",
            "_view_count": null,
            "_view_module": "@jupyter-widgets/base",
            "_view_module_version": "1.2.0",
            "_view_name": "StyleView",
            "description_width": ""
          }
        },
        "8f80df4e800140d2a26f6f54b4b10049": {
          "model_module": "@jupyter-widgets/base",
          "model_name": "LayoutModel",
          "model_module_version": "1.2.0",
          "state": {
            "_model_module": "@jupyter-widgets/base",
            "_model_module_version": "1.2.0",
            "_model_name": "LayoutModel",
            "_view_count": null,
            "_view_module": "@jupyter-widgets/base",
            "_view_module_version": "1.2.0",
            "_view_name": "LayoutView",
            "align_content": null,
            "align_items": null,
            "align_self": null,
            "border": null,
            "bottom": null,
            "display": null,
            "flex": null,
            "flex_flow": null,
            "grid_area": null,
            "grid_auto_columns": null,
            "grid_auto_flow": null,
            "grid_auto_rows": null,
            "grid_column": null,
            "grid_gap": null,
            "grid_row": null,
            "grid_template_areas": null,
            "grid_template_columns": null,
            "grid_template_rows": null,
            "height": null,
            "justify_content": null,
            "justify_items": null,
            "left": null,
            "margin": null,
            "max_height": null,
            "max_width": null,
            "min_height": null,
            "min_width": null,
            "object_fit": null,
            "object_position": null,
            "order": null,
            "overflow": null,
            "overflow_x": null,
            "overflow_y": null,
            "padding": null,
            "right": null,
            "top": null,
            "visibility": null,
            "width": null
          }
        },
        "c5056fb93ba04d5f82a297c7be73fcc3": {
          "model_module": "@jupyter-widgets/controls",
          "model_name": "ProgressStyleModel",
          "model_module_version": "1.5.0",
          "state": {
            "_model_module": "@jupyter-widgets/controls",
            "_model_module_version": "1.5.0",
            "_model_name": "ProgressStyleModel",
            "_view_count": null,
            "_view_module": "@jupyter-widgets/base",
            "_view_module_version": "1.2.0",
            "_view_name": "StyleView",
            "bar_color": null,
            "description_width": ""
          }
        },
        "7cb6b005b8994f3eb407dc85ecf41cc3": {
          "model_module": "@jupyter-widgets/base",
          "model_name": "LayoutModel",
          "model_module_version": "1.2.0",
          "state": {
            "_model_module": "@jupyter-widgets/base",
            "_model_module_version": "1.2.0",
            "_model_name": "LayoutModel",
            "_view_count": null,
            "_view_module": "@jupyter-widgets/base",
            "_view_module_version": "1.2.0",
            "_view_name": "LayoutView",
            "align_content": null,
            "align_items": null,
            "align_self": null,
            "border": null,
            "bottom": null,
            "display": null,
            "flex": null,
            "flex_flow": null,
            "grid_area": null,
            "grid_auto_columns": null,
            "grid_auto_flow": null,
            "grid_auto_rows": null,
            "grid_column": null,
            "grid_gap": null,
            "grid_row": null,
            "grid_template_areas": null,
            "grid_template_columns": null,
            "grid_template_rows": null,
            "height": null,
            "justify_content": null,
            "justify_items": null,
            "left": null,
            "margin": null,
            "max_height": null,
            "max_width": null,
            "min_height": null,
            "min_width": null,
            "object_fit": null,
            "object_position": null,
            "order": null,
            "overflow": null,
            "overflow_x": null,
            "overflow_y": null,
            "padding": null,
            "right": null,
            "top": null,
            "visibility": null,
            "width": null
          }
        },
        "3cf2fb8400134aa39184dfa7be152aaa": {
          "model_module": "@jupyter-widgets/controls",
          "model_name": "DescriptionStyleModel",
          "model_module_version": "1.5.0",
          "state": {
            "_model_module": "@jupyter-widgets/controls",
            "_model_module_version": "1.5.0",
            "_model_name": "DescriptionStyleModel",
            "_view_count": null,
            "_view_module": "@jupyter-widgets/base",
            "_view_module_version": "1.2.0",
            "_view_name": "StyleView",
            "description_width": ""
          }
        }
      }
    }
  },
  "nbformat": 4,
  "nbformat_minor": 5
}