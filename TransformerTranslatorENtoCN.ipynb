{
  "nbformat": 4,
  "nbformat_minor": 0,
  "metadata": {
    "colab": {
      "provenance": [],
      "gpuType": "T4"
    },
    "kernelspec": {
      "name": "python3",
      "display_name": "Python 3"
    },
    "language_info": {
      "name": "python"
    },
    "accelerator": "GPU"
  },
  "cells": [
    {
      "cell_type": "markdown",
      "source": [
        "*Transformer* implementation by Tensorflow and make it as a EN to Zh translator\n",
        "#### What's you can learn from this notebook\n",
        "1. Word embedding and tokenization\n",
        "2. Mask mechanisim\n",
        "3. Basic structure of transformer and it's application as a translator\n",
        "4. Customized layer and model of tensorflow\n",
        "5. Checkpoint, tensorflow dashboard\n",
        "\n",
        "\n",
        "#### Reference:\n",
        "1. https://leemeng.tw/neural-machine-translation-with-transformer-and-tensorflow2.html#top\n",
        "2. https://www.tensorflow.org/text/tutorials/transformer\n"
      ],
      "metadata": {
        "id": "yUuYU_Y9UiXN"
      }
    },
    {
      "cell_type": "code",
      "source": [
        "import os\n",
        "import time\n",
        "import numpy as np\n",
        "import matplotlib as mpl\n",
        "import matplotlib.pyplot as plt\n",
        "from pprint import pprint\n",
        "from IPython.display import clear_output"
      ],
      "metadata": {
        "id": "1Y_asZWyUt9z"
      },
      "execution_count": 1,
      "outputs": []
    },
    {
      "cell_type": "code",
      "source": [
        "!pip install tensorflow-gpu==2.0.0-beta0\n",
        "clear_output()\n",
        "\n",
        "import tensorflow as tf\n",
        "import tensorflow_datasets as tfds\n",
        "print(tf.__version__)"
      ],
      "metadata": {
        "colab": {
          "base_uri": "https://localhost:8080/"
        },
        "id": "4_J5dQqUU1Z3",
        "outputId": "54a7a39c-8501-44f1-d829-faca52537873"
      },
      "execution_count": 2,
      "outputs": [
        {
          "output_type": "stream",
          "name": "stdout",
          "text": [
            "2.12.0\n"
          ]
        }
      ]
    },
    {
      "cell_type": "code",
      "source": [
        "import logging\n",
        "logging.basicConfig(level=\"error\")\n",
        "\n",
        "np.set_printoptions(suppress=True)"
      ],
      "metadata": {
        "id": "TT8-7beEU_N9"
      },
      "execution_count": 3,
      "outputs": []
    },
    {
      "cell_type": "code",
      "source": [
        "#set up directory\n",
        "output_dir = \"nmt\"\n",
        "en_vocab_file = os.path.join(output_dir, \"en_vocab\")\n",
        "zh_vocab_file = os.path.join(output_dir, \"zh_vocab\")\n",
        "checkpoint_path = os.path.join(output_dir, \"checkpoints\")\n",
        "log_dir = os.path.join(output_dir, 'logs')\n",
        "download_dir = \"tensorflow-datasets/downloads\"\n",
        "\n",
        "if not os.path.exists(output_dir):\n",
        "  os.makedirs(output_dir)"
      ],
      "metadata": {
        "id": "E-80roiwVJrF"
      },
      "execution_count": 4,
      "outputs": []
    },
    {
      "cell_type": "code",
      "source": [
        "#check out the data source we have\n",
        "tmp_builder = tfds.builder(\"wmt19_translate/zh-en\")\n",
        "pprint(tmp_builder.subsets)"
      ],
      "metadata": {
        "colab": {
          "base_uri": "https://localhost:8080/"
        },
        "id": "XLpRjAnLVRPU",
        "outputId": "94cdc2e4-ee83-46e7-afe8-667b9daa8533"
      },
      "execution_count": 5,
      "outputs": [
        {
          "output_type": "stream",
          "name": "stdout",
          "text": [
            "{Split('train'): ['newscommentary_v14',\n",
            "                  'wikititles_v1',\n",
            "                  'uncorpus_v1',\n",
            "                  'casia2015',\n",
            "                  'casict2011',\n",
            "                  'casict2015',\n",
            "                  'datum2015',\n",
            "                  'datum2017',\n",
            "                  'neu2017'],\n",
            " Split('validation'): ['newstest2018']}\n"
          ]
        }
      ]
    },
    {
      "cell_type": "code",
      "source": [
        "#download data by tfds.builder\n",
        "config = tfds.translate.wmt.WmtConfig(\n",
        "  version=tfds.core.Version('0.0.3'),\n",
        "  language_pair=(\"zh\", \"en\"),\n",
        "  subsets={\n",
        "    tfds.Split.TRAIN: [\"newscommentary_v14\"]\n",
        "  }\n",
        ")\n",
        "builder = tfds.builder(\"wmt_translate\", config=config)\n",
        "builder.download_and_prepare(download_dir=download_dir)\n",
        "clear_output()"
      ],
      "metadata": {
        "id": "hJA02j6UVpRf"
      },
      "execution_count": 6,
      "outputs": []
    },
    {
      "cell_type": "code",
      "source": [
        "#set builder to dataset(data pipeline type), split it into training, validation, testing\n",
        "examples = builder.as_dataset(split=['train[:20%]','train[20%:21%]','train[21%:]'], as_supervised=True)"
      ],
      "metadata": {
        "id": "NY3PQntvW6Cu"
      },
      "execution_count": 7,
      "outputs": []
    },
    {
      "cell_type": "code",
      "source": [
        "#leave the testing examples this time.\n",
        "train_examples, val_examples, _ = examples\n",
        "print(train_examples)\n",
        "print(val_examples)"
      ],
      "metadata": {
        "colab": {
          "base_uri": "https://localhost:8080/"
        },
        "id": "i7F-GtSBcmtG",
        "outputId": "9954e7e2-55c8-4e66-fb6b-691de0d83526"
      },
      "execution_count": 8,
      "outputs": [
        {
          "output_type": "stream",
          "name": "stdout",
          "text": [
            "<_PrefetchDataset element_spec=(TensorSpec(shape=(), dtype=tf.string, name=None), TensorSpec(shape=(), dtype=tf.string, name=None))>\n",
            "<_PrefetchDataset element_spec=(TensorSpec(shape=(), dtype=tf.string, name=None), TensorSpec(shape=(), dtype=tf.string, name=None))>\n"
          ]
        }
      ]
    },
    {
      "cell_type": "code",
      "source": [
        "for en, zh in train_examples.take(3):\n",
        "  print(en)\n",
        "  print(zh)\n",
        "  print('-' * 10)"
      ],
      "metadata": {
        "colab": {
          "base_uri": "https://localhost:8080/"
        },
        "id": "HX4ve2FRcush",
        "outputId": "3ecbb87f-387c-4be6-9e9e-af50c94dc46e"
      },
      "execution_count": 9,
      "outputs": [
        {
          "output_type": "stream",
          "name": "stdout",
          "text": [
            "tf.Tensor(b'The fear is real and visceral, and politicians ignore it at their peril.', shape=(), dtype=string)\n",
            "tf.Tensor(b'\\xe8\\xbf\\x99\\xe7\\xa7\\x8d\\xe6\\x81\\x90\\xe6\\x83\\xa7\\xe6\\x98\\xaf\\xe7\\x9c\\x9f\\xe5\\xae\\x9e\\xe8\\x80\\x8c\\xe5\\x86\\x85\\xe5\\x9c\\xa8\\xe7\\x9a\\x84\\xe3\\x80\\x82 \\xe5\\xbf\\xbd\\xe8\\xa7\\x86\\xe5\\xae\\x83\\xe7\\x9a\\x84\\xe6\\x94\\xbf\\xe6\\xb2\\xbb\\xe5\\xae\\xb6\\xe4\\xbb\\xac\\xe5\\x89\\x8d\\xe9\\x80\\x94\\xe5\\xa0\\xaa\\xe5\\xbf\\xa7\\xe3\\x80\\x82', shape=(), dtype=string)\n",
            "----------\n",
            "tf.Tensor(b'In fact, the German political landscape needs nothing more than a truly liberal party, in the US sense of the word \\xe2\\x80\\x9cliberal\\xe2\\x80\\x9d \\xe2\\x80\\x93 a champion of the cause of individual freedom.', shape=(), dtype=string)\n",
            "tf.Tensor(b'\\xe4\\xba\\x8b\\xe5\\xae\\x9e\\xe4\\xb8\\x8a\\xef\\xbc\\x8c\\xe5\\xbe\\xb7\\xe5\\x9b\\xbd\\xe6\\x94\\xbf\\xe6\\xb2\\xbb\\xe5\\xb1\\x80\\xe5\\x8a\\xbf\\xe9\\x9c\\x80\\xe8\\xa6\\x81\\xe7\\x9a\\x84\\xe4\\xb8\\x8d\\xe8\\xbf\\x87\\xe6\\x98\\xaf\\xe4\\xb8\\x80\\xe4\\xb8\\xaa\\xe7\\xac\\xa6\\xe5\\x90\\x88\\xe7\\xbe\\x8e\\xe5\\x9b\\xbd\\xe6\\x89\\x80\\xe8\\xb0\\x93\\xe2\\x80\\x9c\\xe8\\x87\\xaa\\xe7\\x94\\xb1\\xe2\\x80\\x9d\\xe5\\xae\\x9a\\xe4\\xb9\\x89\\xe7\\x9a\\x84\\xe7\\x9c\\x9f\\xe6\\xad\\xa3\\xe7\\x9a\\x84\\xe8\\x87\\xaa\\xe7\\x94\\xb1\\xe5\\x85\\x9a\\xe6\\xb4\\xbe\\xef\\xbc\\x8c\\xe4\\xb9\\x9f\\xe5\\xb0\\xb1\\xe6\\x98\\xaf\\xe4\\xb8\\xaa\\xe4\\xba\\xba\\xe8\\x87\\xaa\\xe7\\x94\\xb1\\xe4\\xba\\x8b\\xe4\\xb8\\x9a\\xe7\\x9a\\x84\\xe5\\x80\\xa1\\xe5\\xaf\\xbc\\xe8\\x80\\x85\\xe3\\x80\\x82', shape=(), dtype=string)\n",
            "----------\n",
            "tf.Tensor(b'Shifting to renewable-energy sources will require enormous effort and major infrastructure investment.', shape=(), dtype=string)\n",
            "tf.Tensor(b'\\xe5\\xbf\\x85\\xe9\\xa1\\xbb\\xe4\\xbb\\x98\\xe5\\x87\\xba\\xe5\\xb7\\xa8\\xe5\\xa4\\xa7\\xe7\\x9a\\x84\\xe5\\x8a\\xaa\\xe5\\x8a\\x9b\\xe5\\x92\\x8c\\xe5\\x9f\\xba\\xe7\\xa1\\x80\\xe8\\xae\\xbe\\xe6\\x96\\xbd\\xe6\\x8a\\x95\\xe8\\xb5\\x84\\xe6\\x89\\x8d\\xe8\\x83\\xbd\\xe5\\xae\\x8c\\xe6\\x88\\x90\\xe5\\x90\\x91\\xe5\\x8f\\xaf\\xe5\\x86\\x8d\\xe7\\x94\\x9f\\xe8\\x83\\xbd\\xe6\\xba\\x90\\xe7\\x9a\\x84\\xe8\\xbf\\x87\\xe6\\xb8\\xa1\\xe3\\x80\\x82', shape=(), dtype=string)\n",
            "----------\n"
          ]
        }
      ]
    },
    {
      "cell_type": "code",
      "source": [
        "sample_examples = []\n",
        "num_samples = 10\n",
        "\n",
        "for en_t, zh_t in train_examples.take(num_samples):\n",
        "  en = en_t.numpy().decode(\"utf-8\")\n",
        "  zh = zh_t.numpy().decode(\"utf-8\")\n",
        "\n",
        "  print(en)\n",
        "  print(zh)\n",
        "  print('-' * 10)\n",
        "\n",
        "\n",
        "  sample_examples.append((en, zh))"
      ],
      "metadata": {
        "colab": {
          "base_uri": "https://localhost:8080/"
        },
        "id": "mwRnP2H6cxDB",
        "outputId": "d66425d2-6f14-4ecd-e70f-45979c928474"
      },
      "execution_count": 10,
      "outputs": [
        {
          "output_type": "stream",
          "name": "stdout",
          "text": [
            "The fear is real and visceral, and politicians ignore it at their peril.\n",
            "这种恐惧是真实而内在的。 忽视它的政治家们前途堪忧。\n",
            "----------\n",
            "In fact, the German political landscape needs nothing more than a truly liberal party, in the US sense of the word “liberal” – a champion of the cause of individual freedom.\n",
            "事实上，德国政治局势需要的不过是一个符合美国所谓“自由”定义的真正的自由党派，也就是个人自由事业的倡导者。\n",
            "----------\n",
            "Shifting to renewable-energy sources will require enormous effort and major infrastructure investment.\n",
            "必须付出巨大的努力和基础设施投资才能完成向可再生能源的过渡。\n",
            "----------\n",
            "In this sense, it is critical to recognize the fundamental difference between “urban villages” and their rural counterparts.\n",
            "在这方面，关键在于认识到“城市村落”和农村村落之间的根本区别。\n",
            "----------\n",
            "A strong European voice, such as Nicolas Sarkozy’s during the French presidency of the EU, may make a difference, but only for six months, and at the cost of reinforcing other European countries’ nationalist feelings in reaction to the expression of “Gallic pride.”\n",
            "法国担任轮值主席国期间尼古拉·萨科奇统一的欧洲声音可能让人耳目一新，但这种声音却只持续了短短六个月，而且付出了让其他欧洲国家在面对“高卢人的骄傲”时民族主义情感进一步被激发的代价。\n",
            "----------\n",
            "Most of Japan’s bondholders are nationals (if not the central bank) and have an interest in political stability.\n",
            "日本债券持有人大多为本国国民（甚至中央银行 ） ， 政治稳定符合他们的利益。\n",
            "----------\n",
            "Paul Romer, one of the originators of new growth theory, has accused some leading names, including the Nobel laureate Robert Lucas, of what he calls “mathiness” – using math to obfuscate rather than clarify.\n",
            "新增长理论创始人之一的保罗·罗默（Paul Romer）也批评一些著名经济学家，包括诺贝尔奖获得者罗伯特·卢卡斯（Robert Lucas）在内，说他们“数学性 ” （ 罗默的用语）太重，结果是让问题变得更加模糊而不是更加清晰。\n",
            "----------\n",
            "It is, in fact, a capsule depiction of the United States Federal Reserve and the European Central Bank.\n",
            "事实上，这就是对美联储和欧洲央行的简略描述。\n",
            "----------\n",
            "Given these variables, the degree to which migration is affected by asylum-seekers will not be easy to predict or control.\n",
            "考虑到这些变量，移民受寻求庇护者的影响程度很难预测或控制。\n",
            "----------\n",
            "WASHINGTON, DC – In the 2016 American presidential election, Hillary Clinton and Donald Trump agreed that the US economy is suffering from dilapidated infrastructure, and both called for greater investment in renovating and upgrading the country’s public capital stock.\n",
            "华盛顿—在2016年美国总统选举中，希拉里·克林顿和唐纳德·特朗普都认为美国经济饱受基础设施陈旧的拖累，两人都要求加大投资用于修缮和升级美国公共资本存量。\n",
            "----------\n"
          ]
        }
      ]
    },
    {
      "cell_type": "markdown",
      "source": [
        "Word tokenization\n",
        "1. Scan through the example and create a dictionary of tokens\n",
        "2. Add BOS and EOS into every sentence\n",
        "3. Set up a sentence length limitation.\n",
        "4. Padding every sentence to the same length.\n",
        "5. Index dictionary as dimension to represent tokens, reducing the dimensions by embedding\n"
      ],
      "metadata": {
        "id": "5hdIgIyIrTPN"
      }
    },
    {
      "cell_type": "code",
      "source": [
        "#create own eng dictionary in the file of content/nmt/en_vocab #en_vocab_file\n",
        "#character-delimited + word-delimited\n",
        "%%time\n",
        "try:\n",
        "  subword_encoder_en = tfds.deprecated.text.SubwordTextEncoder.load_from_file(en_vocab_file)\n",
        "  print(f\"Upload the dictionary： {en_vocab_file}\")\n",
        "except:\n",
        "  print(\"No dictionary in the file path, create it.\")\n",
        "  subword_encoder_en = tfds.deprecated.text.SubwordTextEncoder.build_from_corpus(\n",
        "      (en.numpy() for en, _ in train_examples),\n",
        "      target_vocab_size=2**13) # The size of dictionary is changable.\n",
        "  # Subwords as tokens.\n",
        "  # Save the dictionary to target file path.\n",
        "  subword_encoder_en.save_to_file(en_vocab_file)\n",
        "\n",
        "\n",
        "print(f\"size of dictionary：{subword_encoder_en.vocab_size}\")\n",
        "print(f\"first 10 subwords：{subword_encoder_en.subwords[:10]}\")\n",
        "print()"
      ],
      "metadata": {
        "colab": {
          "base_uri": "https://localhost:8080/"
        },
        "id": "s_h82Jm4eFD_",
        "outputId": "c5d2dfae-53c6-4048-8beb-1ab193f1e819"
      },
      "execution_count": 11,
      "outputs": [
        {
          "output_type": "stream",
          "name": "stdout",
          "text": [
            "No dictionary in the file path, create it.\n",
            "size of dictionary：8113\n",
            "first 10 subwords：[', ', 'the_', 'of_', 'to_', 'and_', 's_', 'in_', 'a_', 'is_', 'that_']\n",
            "\n",
            "CPU times: user 1min 26s, sys: 3.63 s, total: 1min 30s\n",
            "Wall time: 1min 22s\n"
          ]
        }
      ]
    },
    {
      "cell_type": "code",
      "source": [
        "sample_string = 'Taiwan is beautiful.'\n",
        "indices = subword_encoder_en.encode(sample_string)\n",
        "indices"
      ],
      "metadata": {
        "colab": {
          "base_uri": "https://localhost:8080/"
        },
        "id": "w5fvarXdi4xc",
        "outputId": "c78ca8fe-794d-4370-e4cc-56ed897c7ecc"
      },
      "execution_count": 12,
      "outputs": [
        {
          "output_type": "execute_result",
          "data": {
            "text/plain": [
              "[3461, 7889, 9, 3502, 4379, 1134, 7903]"
            ]
          },
          "metadata": {},
          "execution_count": 12
        }
      ]
    },
    {
      "cell_type": "code",
      "source": [
        "print(\"{0:10}{1:6}\".format(\"Index\", \"Subword\"))\n",
        "print(\"-\" * 15)\n",
        "for idx in indices:\n",
        "  subword = subword_encoder_en.decode([idx])\n",
        "  print('{0:5}{1:6}'.format(idx, ' ' * 5 + subword))"
      ],
      "metadata": {
        "colab": {
          "base_uri": "https://localhost:8080/"
        },
        "id": "MvXXZn5sjHHs",
        "outputId": "1afd0ee4-613d-42f2-e8d4-4e3fb642d3db"
      },
      "execution_count": 13,
      "outputs": [
        {
          "output_type": "stream",
          "name": "stdout",
          "text": [
            "Index     Subword\n",
            "---------------\n",
            " 3461     Taiwan\n",
            " 7889      \n",
            "    9     is \n",
            " 3502     bea\n",
            " 4379     uti\n",
            " 1134     ful\n",
            " 7903     .\n"
          ]
        }
      ]
    },
    {
      "cell_type": "code",
      "source": [
        "%%time\n",
        "try:\n",
        "  subword_encoder_zh = tfds.deprecated.text.SubwordTextEncoder.load_from_file(zh_vocab_file)\n",
        "  print(f\"Upload the dictionary： {zh_vocab_file}\")\n",
        "except:\n",
        "  print(\"No dictionary in the file path, create it.\")\n",
        "  subword_encoder_zh = tfds.deprecated.text.SubwordTextEncoder.build_from_corpus(\n",
        "      (zh.numpy() for _, zh in train_examples),\n",
        "      target_vocab_size=2**13, # A Chineses word is a token\n",
        "      max_subword_length=1)\n",
        "\n",
        "  subword_encoder_zh.save_to_file(zh_vocab_file)\n",
        "\n",
        "print(f\"size of dictionary：{subword_encoder_zh.vocab_size}\")\n",
        "print(f\"first 10 subwords：{subword_encoder_zh.subwords[:10]}\")\n",
        "print()"
      ],
      "metadata": {
        "colab": {
          "base_uri": "https://localhost:8080/"
        },
        "id": "8kHMkfIWjLZh",
        "outputId": "11822bfc-202f-4538-a447-162ec888c2b0"
      },
      "execution_count": 14,
      "outputs": [
        {
          "output_type": "stream",
          "name": "stdout",
          "text": [
            "No dictionary in the file path, create it.\n",
            "size of dictionary：4205\n",
            "first 10 subwords：['的', '，', '。', '国', '在', '是', '一', '和', '不', '这']\n",
            "\n",
            "CPU times: user 6min 43s, sys: 2.58 s, total: 6min 45s\n",
            "Wall time: 6min 42s\n"
          ]
        }
      ]
    },
    {
      "cell_type": "code",
      "source": [
        "sample_string = sample_examples[0][1]\n",
        "indices = subword_encoder_zh.encode(sample_string)\n",
        "print(sample_string)\n",
        "print(indices)"
      ],
      "metadata": {
        "colab": {
          "base_uri": "https://localhost:8080/"
        },
        "id": "uzEX-WxGjVqY",
        "outputId": "c7ea361c-c6b1-4d98-b3d0-8d0d124b5a1a"
      },
      "execution_count": 15,
      "outputs": [
        {
          "output_type": "stream",
          "name": "stdout",
          "text": [
            "这种恐惧是真实而内在的。 忽视它的政治家们前途堪忧。\n",
            "[10, 151, 574, 1298, 6, 374, 55, 29, 193, 5, 1, 3, 3981, 931, 431, 125, 1, 17, 124, 33, 20, 97, 1089, 1247, 861, 3]\n"
          ]
        }
      ]
    },
    {
      "cell_type": "code",
      "source": [
        "en = \"The eurozone’s collapse forces a major realignment of European politics.\"\n",
        "zh = \"欧元区的瓦解强迫欧洲政治进行一次重大改组。\"\n",
        "\n",
        "# 將文字轉成為 subword indices\n",
        "en_indices = subword_encoder_en.encode(en)\n",
        "zh_indices = subword_encoder_zh.encode(zh)\n",
        "\n",
        "print(\"[英中原文]（轉換前）\")\n",
        "print(en)\n",
        "print(zh)\n",
        "print()\n",
        "print('-' * 20)\n",
        "print()\n",
        "print(\"[英中序列]（轉換後）\")\n",
        "print(en_indices)\n",
        "print(zh_indices)"
      ],
      "metadata": {
        "colab": {
          "base_uri": "https://localhost:8080/"
        },
        "id": "DUuy26KRjajN",
        "outputId": "7d84a0ae-c761-4f32-abc1-ec673cb81334"
      },
      "execution_count": 16,
      "outputs": [
        {
          "output_type": "stream",
          "name": "stdout",
          "text": [
            "[英中原文]（轉換前）\n",
            "The eurozone’s collapse forces a major realignment of European politics.\n",
            "欧元区的瓦解强迫欧洲政治进行一次重大改组。\n",
            "\n",
            "--------------------\n",
            "\n",
            "[英中序列]（轉換後）\n",
            "[16, 900, 11, 6, 1527, 874, 8, 230, 2259, 2728, 239, 3, 89, 1236, 7903]\n",
            "[44, 202, 168, 1, 852, 201, 231, 592, 44, 87, 17, 124, 106, 38, 7, 279, 86, 18, 212, 265, 3]\n"
          ]
        }
      ]
    },
    {
      "cell_type": "code",
      "source": [
        "def add_bos_eos(en_t, zh_t):\n",
        "  # This function will be applied to data set.\n",
        "  # Add bengin of sentence (BOS) and End of sentence (EOS) and the index of BOS and EOS are the last two index of dictionary\n",
        "  # Since the index of dictionary start with 0 so subword_encoder_en.vocab_size can be the index of BOS\n",
        "  # and subword_encoder_en.vocab_size + 1 as index of EOS\n",
        "  en_indices = [subword_encoder_en.vocab_size] + subword_encoder_en.encode(\n",
        "      en_t.numpy()) + [subword_encoder_en.vocab_size + 1]\n",
        "  # Same for Zh\n",
        "  zh_indices = [subword_encoder_zh.vocab_size] + subword_encoder_zh.encode(\n",
        "      zh_t.numpy()) + [subword_encoder_zh.vocab_size + 1]\n",
        "\n",
        "  return en_indices, zh_indices"
      ],
      "metadata": {
        "id": "9UtvlUStk7hp"
      },
      "execution_count": 17,
      "outputs": []
    },
    {
      "cell_type": "code",
      "source": [
        "en_t, zh_t = next(iter(train_examples))\n",
        "en_indices, zh_indices = add_bos_eos(en_t, zh_t)\n",
        "print('英文 BOS 的 index：', subword_encoder_en.vocab_size)\n",
        "print('英文 EOS 的 index：', subword_encoder_en.vocab_size + 1)\n",
        "print('中文 BOS 的 index：', subword_encoder_zh.vocab_size)\n",
        "print('中文 EOS 的 index：', subword_encoder_zh.vocab_size + 1)\n",
        "\n",
        "print('\\n輸入為 2 個 Tensors：')\n",
        "pprint((en_t, zh_t))\n",
        "print('-' * 15)\n",
        "print('輸出為 2 個索引序列：')\n",
        "pprint((en_indices, zh_indices))"
      ],
      "metadata": {
        "id": "4eQiwP3WlCmh",
        "colab": {
          "base_uri": "https://localhost:8080/"
        },
        "outputId": "c077dbeb-59e0-4d75-9694-8db857d4e0e3"
      },
      "execution_count": 18,
      "outputs": [
        {
          "output_type": "stream",
          "name": "stdout",
          "text": [
            "英文 BOS 的 index： 8113\n",
            "英文 EOS 的 index： 8114\n",
            "中文 BOS 的 index： 4205\n",
            "中文 EOS 的 index： 4206\n",
            "\n",
            "輸入為 2 個 Tensors：\n",
            "(<tf.Tensor: shape=(), dtype=string, numpy=b'The fear is real and visceral, and politicians ignore it at their peril.'>,\n",
            " <tf.Tensor: shape=(), dtype=string, numpy=b'\\xe8\\xbf\\x99\\xe7\\xa7\\x8d\\xe6\\x81\\x90\\xe6\\x83\\xa7\\xe6\\x98\\xaf\\xe7\\x9c\\x9f\\xe5\\xae\\x9e\\xe8\\x80\\x8c\\xe5\\x86\\x85\\xe5\\x9c\\xa8\\xe7\\x9a\\x84\\xe3\\x80\\x82 \\xe5\\xbf\\xbd\\xe8\\xa7\\x86\\xe5\\xae\\x83\\xe7\\x9a\\x84\\xe6\\x94\\xbf\\xe6\\xb2\\xbb\\xe5\\xae\\xb6\\xe4\\xbb\\xac\\xe5\\x89\\x8d\\xe9\\x80\\x94\\xe5\\xa0\\xaa\\xe5\\xbf\\xa7\\xe3\\x80\\x82'>)\n",
            "---------------\n",
            "輸出為 2 個索引序列：\n",
            "([8113,\n",
            "  16,\n",
            "  1284,\n",
            "  9,\n",
            "  243,\n",
            "  5,\n",
            "  1275,\n",
            "  1756,\n",
            "  156,\n",
            "  1,\n",
            "  5,\n",
            "  1016,\n",
            "  5566,\n",
            "  21,\n",
            "  38,\n",
            "  33,\n",
            "  2982,\n",
            "  7965,\n",
            "  7903,\n",
            "  8114],\n",
            " [4205,\n",
            "  10,\n",
            "  151,\n",
            "  574,\n",
            "  1298,\n",
            "  6,\n",
            "  374,\n",
            "  55,\n",
            "  29,\n",
            "  193,\n",
            "  5,\n",
            "  1,\n",
            "  3,\n",
            "  3981,\n",
            "  931,\n",
            "  431,\n",
            "  125,\n",
            "  1,\n",
            "  17,\n",
            "  124,\n",
            "  33,\n",
            "  20,\n",
            "  97,\n",
            "  1089,\n",
            "  1247,\n",
            "  861,\n",
            "  3,\n",
            "  4206])\n"
          ]
        }
      ]
    },
    {
      "cell_type": "code",
      "source": [
        "def tf_add_bos_eos(en_t, zh_t):\n",
        "  # Both en_t and zh_t are not eager tensors but tensors so it needs to be encapsulated using tf.py_function\n",
        "  # before applying it to tf.data.dataset.\n",
        "  # input index can use `tf.int64`\n",
        "  return tf.py_function(add_bos_eos, [en_t, zh_t], [tf.int64, tf.int64])\n",
        "\n",
        "# tmp_dataset` for exhibite func\n",
        "tmp_dataset = train_examples.map(tf_add_bos_eos)\n",
        "en_indices, zh_indices = next(iter(tmp_dataset))\n",
        "print(en_indices)\n",
        "print(zh_indices)"
      ],
      "metadata": {
        "colab": {
          "base_uri": "https://localhost:8080/"
        },
        "id": "ishJYlKVljve",
        "outputId": "217789d7-5869-4c00-b52e-1abc84add53a"
      },
      "execution_count": 19,
      "outputs": [
        {
          "output_type": "stream",
          "name": "stdout",
          "text": [
            "tf.Tensor(\n",
            "[8113   16 1284    9  243    5 1275 1756  156    1    5 1016 5566   21\n",
            "   38   33 2982 7965 7903 8114], shape=(20,), dtype=int64)\n",
            "tf.Tensor(\n",
            "[4205   10  151  574 1298    6  374   55   29  193    5    1    3 3981\n",
            "  931  431  125    1   17  124   33   20   97 1089 1247  861    3 4206], shape=(28,), dtype=int64)\n"
          ]
        }
      ]
    },
    {
      "cell_type": "code",
      "source": [
        "MAX_LENGTH = 40\n",
        "\n",
        "def filter_max_length(en, zh, max_length=MAX_LENGTH):\n",
        "  # en, zh are the index list of input\n",
        "  return tf.logical_and(tf.size(en) <= max_length,\n",
        "                        tf.size(zh) <= max_length)\n",
        "\n",
        "# tf.data.Dataset.filter(func) 只會回傳 func 為真的例子\n",
        "train_dataset = tmp_dataset.filter(filter_max_length)"
      ],
      "metadata": {
        "id": "jHVJ4aUymTOs"
      },
      "execution_count": 20,
      "outputs": []
    },
    {
      "cell_type": "code",
      "source": [
        "\n",
        "num_examples = 0\n",
        "for en_indices, zh_indices in train_dataset:\n",
        "  cond1 = len(en_indices) <= MAX_LENGTH\n",
        "  cond2 = len(zh_indices) <= MAX_LENGTH\n",
        "  assert cond1 and cond2\n",
        "  num_examples += 1\n",
        "\n",
        "print(f\"所有英文與中文序列長度都不超過 {MAX_LENGTH} 個 tokens\")\n",
        "print(f\"訓練資料集裡總共有 {num_examples} 筆數據\")"
      ],
      "metadata": {
        "colab": {
          "base_uri": "https://localhost:8080/"
        },
        "id": "O0foVyEemh8B",
        "outputId": "889e4a05-5351-4d35-cb6e-904178ea04dd"
      },
      "execution_count": 21,
      "outputs": [
        {
          "output_type": "stream",
          "name": "stdout",
          "text": [
            "所有英文與中文序列長度都不超過 40 個 tokens\n",
            "訓練資料集裡總共有 29784 筆數據\n"
          ]
        }
      ]
    },
    {
      "cell_type": "code",
      "source": [
        "BATCH_SIZE = 64\n",
        "# padding the sentences.\n",
        "tmp_dataset = tmp_dataset.padded_batch(BATCH_SIZE, padded_shapes=([-1], [-1]))\n",
        "en_batch, zh_batch = next(iter(tmp_dataset))\n",
        "print(\"英文索引序列的 batch\")\n",
        "print(en_batch)\n",
        "print('-' * 20)\n",
        "print(\"中文索引序列的 batch\")\n",
        "print(zh_batch)"
      ],
      "metadata": {
        "colab": {
          "base_uri": "https://localhost:8080/"
        },
        "id": "svth2q8Km5ZY",
        "outputId": "24abdf52-cb8f-42d2-cd00-1561fae9d2ea"
      },
      "execution_count": 22,
      "outputs": [
        {
          "output_type": "stream",
          "name": "stdout",
          "text": [
            "英文索引序列的 batch\n",
            "tf.Tensor(\n",
            "[[8113   16 1284 ...    0    0    0]\n",
            " [8113   44  369 ...    0    0    0]\n",
            " [8113 1894 1302 ...    0    0    0]\n",
            " ...\n",
            " [8113 1668    1 ... 4024 7903 8114]\n",
            " [8113 5751 1538 ...    0    0    0]\n",
            " [8113 1809 5706 ...    0    0    0]], shape=(64, 71), dtype=int64)\n",
            "--------------------\n",
            "中文索引序列的 batch\n",
            "tf.Tensor(\n",
            "[[4205   10  151 ...    0    0    0]\n",
            " [4205  109   55 ...    0    0    0]\n",
            " [4205  206  275 ...    0    0    0]\n",
            " ...\n",
            " [4205   73   76 ...    0    0    0]\n",
            " [4205    5  115 ...    0    0    0]\n",
            " [4205    9  270 ...    0    0    0]], shape=(64, 116), dtype=int64)\n"
          ]
        }
      ]
    },
    {
      "cell_type": "code",
      "source": [
        "MAX_LENGTH = 40\n",
        "BATCH_SIZE = 128\n",
        "BUFFER_SIZE = 15000\n",
        "\n",
        "# Training\n",
        "train_dataset = (train_examples # input: En/Zh, Output En/Zh\n",
        "                 .map(tf_add_bos_eos) # Add BOS and EOS\n",
        "                 .filter(filter_max_length) #Length <40\n",
        "                 .cache() #Speed up the process\n",
        "                 .shuffle(BUFFER_SIZE) # Shuffle the data\n",
        "                 .padded_batch(BATCH_SIZE, padded_shapes=([-1], [-1])) # Pad to same size of example\n",
        "                 .prefetch(tf.data.experimental.AUTOTUNE)) # 加速\n",
        "# validation\n",
        "val_dataset = (val_examples\n",
        "               .map(tf_add_bos_eos)\n",
        "               .filter(filter_max_length)\n",
        "               .padded_batch(BATCH_SIZE, padded_shapes=([-1], [-1])))"
      ],
      "metadata": {
        "id": "i2uYQzDvnDVj"
      },
      "execution_count": 23,
      "outputs": []
    },
    {
      "cell_type": "code",
      "source": [
        "en_batch, zh_batch = next(iter(train_dataset))\n",
        "print(\"英文索引序列的 batch\")\n",
        "print(en_batch)\n",
        "print('-' * 20)\n",
        "print(\"中文索引序列的 batch\")\n",
        "print(zh_batch)"
      ],
      "metadata": {
        "colab": {
          "base_uri": "https://localhost:8080/"
        },
        "id": "ME__uxI_nHvb",
        "outputId": "c631e3f3-7462-467b-c6aa-01a80fcffe28"
      },
      "execution_count": 24,
      "outputs": [
        {
          "output_type": "stream",
          "name": "stdout",
          "text": [
            "英文索引序列的 batch\n",
            "tf.Tensor(\n",
            "[[8113  122  130 ...    0    0    0]\n",
            " [8113  330  510 ...    0    0    0]\n",
            " [8113   41  189 ...    0    0    0]\n",
            " ...\n",
            " [8113   16 1128 ...    0    0    0]\n",
            " [8113  420 7395 ...    0    0    0]\n",
            " [8113 5983 1176 ...    0    0    0]], shape=(128, 39), dtype=int64)\n",
            "--------------------\n",
            "中文索引序列的 batch\n",
            "tf.Tensor(\n",
            "[[4205   29    5 ...    0    0    0]\n",
            " [4205   34  614 ...    0    0    0]\n",
            " [4205   34    6 ...    0    0    0]\n",
            " ...\n",
            " [4205   10  151 ...    0    0    0]\n",
            " [4205  917  407 ...    0    0    0]\n",
            " [4205   96  231 ...    0    0    0]], shape=(128, 40), dtype=int64)\n"
          ]
        }
      ]
    },
    {
      "cell_type": "code",
      "source": [
        "demo_examples = [\n",
        "    (\"It is important.\", \"这很重要。\"),\n",
        "    (\"The numbers speak for themselves.\", \"数字证明了一切。\"),\n",
        "]\n",
        "pprint(demo_examples)"
      ],
      "metadata": {
        "colab": {
          "base_uri": "https://localhost:8080/"
        },
        "id": "8GY4jTq0nWBd",
        "outputId": "2ee9f64d-8c50-40d4-93ba-daf2a900a7bf"
      },
      "execution_count": 25,
      "outputs": [
        {
          "output_type": "stream",
          "name": "stdout",
          "text": [
            "[('It is important.', '这很重要。'),\n",
            " ('The numbers speak for themselves.', '数字证明了一切。')]\n"
          ]
        }
      ]
    },
    {
      "cell_type": "code",
      "source": [
        "batch_size = 2\n",
        "demo_examples = tf.data.Dataset.from_tensor_slices((\n",
        "    [en for en, _ in demo_examples], [zh for _, zh in demo_examples]\n",
        "))\n",
        "\n",
        "# 將兩個句子透過之前定義的字典轉換成子詞的序列（sequence of subwords）\n",
        "# 並添加 padding token: <pad> 來確保 batch 裡的句子有一樣長度\n",
        "demo_dataset = demo_examples.map(tf_add_bos_eos)\\\n",
        "  .padded_batch(batch_size, padded_shapes=([-1], [-1]))\n",
        "\n",
        "# 取出這個 demo dataset 裡唯一一個 batch\n",
        "inp, tar = next(iter(demo_dataset))\n",
        "print('inp:', inp)\n",
        "print('' * 10)\n",
        "print('tar:', tar)"
      ],
      "metadata": {
        "colab": {
          "base_uri": "https://localhost:8080/"
        },
        "id": "VrdNMrOKnc9J",
        "outputId": "d031eba6-c7a9-4a7f-e5f8-dce7a58d3baf"
      },
      "execution_count": 26,
      "outputs": [
        {
          "output_type": "stream",
          "name": "stdout",
          "text": [
            "inp: tf.Tensor(\n",
            "[[8113  103    9 1066 7903 8114    0    0]\n",
            " [8113   16 4111 6735   12 2750 7903 8114]], shape=(2, 8), dtype=int64)\n",
            "\n",
            "tar: tf.Tensor(\n",
            "[[4205   10  241   86   27    3 4206    0    0    0]\n",
            " [4205  165  489  398  191   14    7  560    3 4206]], shape=(2, 10), dtype=int64)\n"
          ]
        }
      ]
    },
    {
      "cell_type": "code",
      "source": [
        "# + 2 是因為我們額外加了 <start> 以及 <end> tokens\n",
        "vocab_size_en = subword_encoder_en.vocab_size + 2\n",
        "vocab_size_zh = subword_encoder_zh.vocab_size + 2\n",
        "\n",
        "# 為了方便 demo, 將詞彙轉換到一個 4 維的詞嵌入空間\n",
        "d_model = 4\n",
        "embedding_layer_en = tf.keras.layers.Embedding(vocab_size_en, d_model)\n",
        "embedding_layer_zh = tf.keras.layers.Embedding(vocab_size_zh, d_model)\n",
        "\n",
        "emb_inp = embedding_layer_en(inp)\n",
        "emb_tar = embedding_layer_zh(tar)\n",
        "emb_inp, emb_tar\n",
        "\n",
        "#(2, 8, 4), 2 sentences, 8 tokens, 4 embedding dimensions.\n",
        "#Demo only here"
      ],
      "metadata": {
        "colab": {
          "base_uri": "https://localhost:8080/"
        },
        "id": "g19vVT_Lnd5V",
        "outputId": "7b7b2411-1177-4811-e96b-3a5c8471363e"
      },
      "execution_count": 27,
      "outputs": [
        {
          "output_type": "execute_result",
          "data": {
            "text/plain": [
              "(<tf.Tensor: shape=(2, 8, 4), dtype=float32, numpy=\n",
              " array([[[ 0.02036048, -0.01640828,  0.01218457,  0.04325655],\n",
              "         [ 0.04816287, -0.0052672 , -0.01734619, -0.00837622],\n",
              "         [-0.00011305,  0.00515537, -0.03798722,  0.01274326],\n",
              "         [ 0.00099773,  0.00214062, -0.03265796, -0.01519186],\n",
              "         [ 0.0038381 , -0.03503789, -0.04649404,  0.03371631],\n",
              "         [-0.02609479, -0.01476694,  0.01767704, -0.00013995],\n",
              "         [-0.0470683 ,  0.03534856, -0.01568234, -0.03975261],\n",
              "         [-0.0470683 ,  0.03534856, -0.01568234, -0.03975261]],\n",
              " \n",
              "        [[ 0.02036048, -0.01640828,  0.01218457,  0.04325655],\n",
              "         [ 0.03625866, -0.04454783,  0.01512885,  0.01075666],\n",
              "         [ 0.01096677,  0.00795402, -0.02324426, -0.03262394],\n",
              "         [-0.02881119, -0.02232167, -0.04458848, -0.02766268],\n",
              "         [ 0.03149874,  0.0052125 , -0.01925832, -0.04756926],\n",
              "         [ 0.02321979,  0.02937884,  0.03987649,  0.0045434 ],\n",
              "         [ 0.0038381 , -0.03503789, -0.04649404,  0.03371631],\n",
              "         [-0.02609479, -0.01476694,  0.01767704, -0.00013995]]],\n",
              "       dtype=float32)>,\n",
              " <tf.Tensor: shape=(2, 10, 4), dtype=float32, numpy=\n",
              " array([[[-0.00003809,  0.02078814,  0.0123027 , -0.0413463 ],\n",
              "         [-0.01186466, -0.00718495,  0.02061463,  0.03145773],\n",
              "         [ 0.03343013, -0.02533985, -0.03888715, -0.00947666],\n",
              "         [-0.04088186,  0.03472645, -0.04847019, -0.03156561],\n",
              "         [ 0.00073323,  0.00582252,  0.04584754,  0.04327263],\n",
              "         [-0.02272474, -0.03037575, -0.02887456, -0.04825801],\n",
              "         [ 0.00737081, -0.02178725,  0.00632911, -0.03753779],\n",
              "         [-0.01153268,  0.04393265, -0.02898805,  0.01991346],\n",
              "         [-0.01153268,  0.04393265, -0.02898805,  0.01991346],\n",
              "         [-0.01153268,  0.04393265, -0.02898805,  0.01991346]],\n",
              " \n",
              "        [[-0.00003809,  0.02078814,  0.0123027 , -0.0413463 ],\n",
              "         [-0.01225784, -0.00463336, -0.02306047, -0.03860406],\n",
              "         [-0.02950935,  0.00111842,  0.03840322,  0.04580555],\n",
              "         [-0.0413953 , -0.00827926, -0.00790225, -0.00803288],\n",
              "         [-0.007319  ,  0.00773299,  0.01871021,  0.01959158],\n",
              "         [ 0.02734912, -0.04120228,  0.00704892, -0.01005193],\n",
              "         [ 0.04651746, -0.03131707, -0.03748842,  0.04601295],\n",
              "         [ 0.03838119,  0.01310394,  0.04108498,  0.02070406],\n",
              "         [-0.02272474, -0.03037575, -0.02887456, -0.04825801],\n",
              "         [ 0.00737081, -0.02178725,  0.00632911, -0.03753779]]],\n",
              "       dtype=float32)>)"
            ]
          },
          "metadata": {},
          "execution_count": 27
        }
      ]
    },
    {
      "cell_type": "markdown",
      "source": [
        "# Attention\n",
        "1. Embedding as input\n",
        "2. padding mask and look ahead mask\n",
        "3. Self attention q,k,v\n",
        "4. Split heads\n",
        "5. Customized the self attention layers"
      ],
      "metadata": {
        "id": "J8abWyXMiosN"
      }
    },
    {
      "cell_type": "code",
      "source": [
        "def create_padding_mask(seq):\n",
        "  # padding mask 的工作就是把索引序列中為 0 的位置設為 1\n",
        "  mask = tf.cast(tf.equal(seq, 0), tf.float32)\n",
        "  return mask[:, tf.newaxis, tf.newaxis, :] #　broadcasting\n",
        "\n",
        "inp_mask = create_padding_mask(inp)\n",
        "inp_mask"
      ],
      "metadata": {
        "colab": {
          "base_uri": "https://localhost:8080/"
        },
        "id": "AwQhBT7xobi1",
        "outputId": "ce71ffb4-987e-4e76-c39a-bef200f34233"
      },
      "execution_count": 28,
      "outputs": [
        {
          "output_type": "execute_result",
          "data": {
            "text/plain": [
              "<tf.Tensor: shape=(2, 1, 1, 8), dtype=float32, numpy=\n",
              "array([[[[0., 0., 0., 0., 0., 0., 1., 1.]]],\n",
              "\n",
              "\n",
              "       [[[0., 0., 0., 0., 0., 0., 0., 0.]]]], dtype=float32)>"
            ]
          },
          "metadata": {},
          "execution_count": 28
        }
      ]
    },
    {
      "cell_type": "code",
      "source": [
        "print(\"inp:\", inp)\n",
        "print(\"-\" * 20)\n",
        "print(\"tf.squeeze(inp_mask):\", tf.squeeze(inp_mask))"
      ],
      "metadata": {
        "colab": {
          "base_uri": "https://localhost:8080/"
        },
        "id": "OlbEMTQxo0zn",
        "outputId": "f6b00f7a-5c23-49d2-cebf-71bebbda6a24"
      },
      "execution_count": 29,
      "outputs": [
        {
          "output_type": "stream",
          "name": "stdout",
          "text": [
            "inp: tf.Tensor(\n",
            "[[8113  103    9 1066 7903 8114    0    0]\n",
            " [8113   16 4111 6735   12 2750 7903 8114]], shape=(2, 8), dtype=int64)\n",
            "--------------------\n",
            "tf.squeeze(inp_mask): tf.Tensor(\n",
            "[[0. 0. 0. 0. 0. 0. 1. 1.]\n",
            " [0. 0. 0. 0. 0. 0. 0. 0.]], shape=(2, 8), dtype=float32)\n"
          ]
        }
      ]
    },
    {
      "cell_type": "code",
      "source": [
        "# 設定一個 seed 確保我們每次都拿到一樣的隨機結果\n",
        "tf.random.set_seed(9527)\n",
        "\n",
        "# 自注意力機制：查詢 `q` 跟鍵值 `k` 都是 `emb_inp`\n",
        "q = emb_inp\n",
        "k = emb_inp\n",
        "# 簡單產生一個跟 `emb_inp` 同樣 shape 的 binary vector\n",
        "v = tf.cast(tf.math.greater(tf.random.uniform(shape=emb_inp.shape), 0.5), tf.float32)\n",
        "v"
      ],
      "metadata": {
        "colab": {
          "base_uri": "https://localhost:8080/"
        },
        "id": "NEU9Rv6Uo6kD",
        "outputId": "d148f83d-5344-4263-a85c-e9e5bd885a70"
      },
      "execution_count": 30,
      "outputs": [
        {
          "output_type": "execute_result",
          "data": {
            "text/plain": [
              "<tf.Tensor: shape=(2, 8, 4), dtype=float32, numpy=\n",
              "array([[[1., 0., 0., 0.],\n",
              "        [0., 1., 0., 1.],\n",
              "        [0., 0., 0., 1.],\n",
              "        [1., 0., 1., 0.],\n",
              "        [1., 0., 1., 0.],\n",
              "        [0., 1., 0., 1.],\n",
              "        [0., 0., 1., 0.],\n",
              "        [0., 1., 0., 1.]],\n",
              "\n",
              "       [[1., 0., 1., 1.],\n",
              "        [1., 0., 1., 0.],\n",
              "        [1., 0., 0., 0.],\n",
              "        [1., 0., 1., 0.],\n",
              "        [0., 1., 0., 1.],\n",
              "        [1., 1., 1., 1.],\n",
              "        [0., 0., 0., 0.],\n",
              "        [0., 0., 1., 0.]]], dtype=float32)>"
            ]
          },
          "metadata": {},
          "execution_count": 30
        }
      ]
    },
    {
      "cell_type": "code",
      "source": [
        "def scaled_dot_product_attention(q, k, v, mask):\n",
        "  \"\"\"Calculate the attention weights.\n",
        "  q, k, v must have matching leading dimensions.\n",
        "  k, v must have matching penultimate dimension, i.e.: seq_len_k = seq_len_v.\n",
        "  The mask has different shapes depending on its type(padding or look ahead)\n",
        "  but it must be broadcastable for addition.\n",
        "\n",
        "  Args:\n",
        "    q: query shape == (..., seq_len_q, depth)\n",
        "    k: key shape == (..., seq_len_k, depth)\n",
        "    v: value shape == (..., seq_len_v, depth_v)\n",
        "    mask: Float tensor with shape broadcastable\n",
        "          to (..., seq_len_q, seq_len_k). Defaults to None.\n",
        "\n",
        "  Returns:\n",
        "    output, attention_weights\n",
        "  \"\"\"\n",
        "  # 將 `q`、 `k` 做點積再 scale\n",
        "  # 2D np.dot = tf.matmul\n",
        "  matmul_qk = tf.matmul(q, k, transpose_b=True)  # (..., seq_len_q, seq_len_k)\n",
        "\n",
        "  dk = tf.cast(tf.shape(k)[-1], tf.float32)  # 取得 seq_k 的序列長度\n",
        "  scaled_attention_logits = matmul_qk / tf.math.sqrt(dk)  # scale by sqrt(dk)\n",
        "\n",
        "  # 將遮罩「加」到被丟入 softmax 前的 logits\n",
        "  # in this case, scaled_attention_logits a tensor with size of (2,8,8) and mask size of (2,1,8), the mask would atuo expand to (2,8,8). It's broadcasting\n",
        "  if mask is not None:\n",
        "    scaled_attention_logits += (mask * -1e9)\n",
        "\n",
        "  # 取 softmax 是為了得到總和為 1 的比例之後對 `v` 做加權平均\n",
        "  attention_weights = tf.nn.softmax(scaled_attention_logits, axis=-1)  # (..., seq_len_q, seq_len_k)\n",
        "\n",
        "  # 以注意權重對 v 做加權平均（weighted average）\n",
        "  output = tf.matmul(attention_weights, v)  # (..., seq_len_q, depth_v)\n",
        "\n",
        "  return output, attention_weights"
      ],
      "metadata": {
        "id": "BCwhyenso7uy"
      },
      "execution_count": 31,
      "outputs": []
    },
    {
      "cell_type": "code",
      "source": [
        "mask = None\n",
        "output, attention_weights = scaled_dot_product_attention(q, k, v, mask)\n",
        "print(\"output:\", output)\n",
        "print(\"-\" * 20)\n",
        "print(\"attention_weights:\", attention_weights)\n",
        "\n",
        "#the shape of out still remain (2,8,4). 2 sentences, 8 token long for each sentence and embedding dimension 4. But right now, it has the context and was distilled to a abstract concept of language."
      ],
      "metadata": {
        "colab": {
          "base_uri": "https://localhost:8080/"
        },
        "id": "LE3PR6MCo-7Q",
        "outputId": "d18e8093-ae74-4397-d340-6c0eb92f6772"
      },
      "execution_count": 32,
      "outputs": [
        {
          "output_type": "stream",
          "name": "stdout",
          "text": [
            "output: tf.Tensor(\n",
            "[[[0.37527612 0.3748877  0.37489158 0.4999135 ]\n",
            "  [0.37512815 0.37495762 0.37498188 0.4999887 ]\n",
            "  [0.37507418 0.37488514 0.3750914  0.49994785]\n",
            "  [0.3749649  0.37496954 0.3751033  0.49999964]\n",
            "  [0.3753109  0.37477538 0.3750876  0.49985862]\n",
            "  [0.3749597  0.37503996 0.37499183 0.5000032 ]\n",
            "  [0.37460923 0.37512258 0.37515557 0.5000998 ]\n",
            "  [0.37460923 0.37512258 0.37515557 0.5000998 ]]\n",
            "\n",
            " [[0.62505597 0.24990752 0.62515104 0.37506354]\n",
            "  [0.62504375 0.249929   0.6250835  0.3750168 ]\n",
            "  [0.6249575  0.25008583 0.6247951  0.3749724 ]\n",
            "  [0.6248568  0.24982996 0.62478507 0.37468734]\n",
            "  [0.6249778  0.25016814 0.6247516  0.37503263]\n",
            "  [0.62512153 0.25022936 0.6251372  0.37529498]\n",
            "  [0.62491125 0.24970594 0.62490165 0.374762  ]\n",
            "  [0.6249945  0.24992359 0.62512094 0.3749294 ]]], shape=(2, 8, 4), dtype=float32)\n",
            "--------------------\n",
            "attention_weights: tf.Tensor(\n",
            "[[[0.12519486 0.1250566  0.12502584 0.12495888 0.12512237 0.12502077\n",
            "   0.12481032 0.12481032]\n",
            "  [0.12502943 0.12516862 0.12503108 0.12504427 0.12505446 0.12490585\n",
            "   0.12488315 0.12488315]\n",
            "  [0.12496077 0.12499314 0.12506269 0.12502679 0.12508662 0.12491404\n",
            "   0.12497797 0.12497797]\n",
            "  [0.12489713 0.12500961 0.12503007 0.12504539 0.1250224  0.12492441\n",
            "   0.12503551 0.12503551]\n",
            "  [0.12505385 0.12501314 0.12508324 0.12501574 0.12524132 0.12493172\n",
            "   0.12483051 0.12483051]\n",
            "  [0.12500496 0.12491718 0.12496329 0.12497039 0.12498435 0.12508568\n",
            "   0.1250371  0.1250371 ]\n",
            "  [0.12474462 0.12484452 0.12497723 0.12503149 0.12483314 0.1249871\n",
            "   0.12529096 0.12529096]\n",
            "  [0.12474462 0.12484452 0.12497723 0.12503149 0.12483314 0.1249871\n",
            "   0.12529096 0.12529096]]\n",
            "\n",
            " [[0.12515603 0.12511945 0.12488692 0.12486453 0.12487849 0.12502903\n",
            "   0.12508355 0.12498198]\n",
            "  [0.12508783 0.12518322 0.12491418 0.12489151 0.12496205 0.12496695\n",
            "   0.12504032 0.12495397]\n",
            "  [0.12488658 0.12494545 0.12509844 0.12507701 0.12513587 0.12494998\n",
            "   0.12497066 0.12493604]\n",
            "  [0.12485737 0.12491594 0.12507017 0.12523514 0.12505174 0.12477823\n",
            "   0.12509309 0.12499838]\n",
            "  [0.12486448 0.12497962 0.12512214 0.12504487 0.12520142 0.12496672\n",
            "   0.12492482 0.12489595]\n",
            "  [0.12506562 0.12503512 0.12498686 0.12482189 0.12501732 0.12521203\n",
            "   0.12485855 0.12500256]\n",
            "  [0.12505604 0.12504444 0.12494349 0.12507273 0.12491137 0.12479457\n",
            "   0.12524351 0.1249339 ]\n",
            "  [0.12500581 0.12500937 0.12496017 0.12502936 0.12493376 0.12498982\n",
            "   0.1249852  0.12508653]]], shape=(2, 8, 8), dtype=float32)\n"
          ]
        }
      ]
    },
    {
      "cell_type": "code",
      "source": [
        "# 這次讓我們將 padding mask 放入注意函式並觀察\n",
        "# 注意權重的變化\n",
        "mask = tf.squeeze(inp_mask, axis=1) # (batch_size, 1, seq_len_q)\n",
        "_, attention_weights = scaled_dot_product_attention(q, k, v, mask)\n",
        "print(\"attention_weights:\", attention_weights)\n",
        "\n",
        "#the shape of out still remain (2,8,4). 2 sentences, 8 token long for each sentence and embedding dimension 4. But right now, it has the context and was distilled to a abstract concept of language."
      ],
      "metadata": {
        "colab": {
          "base_uri": "https://localhost:8080/"
        },
        "id": "aj3pdz1YpayS",
        "outputId": "d3425ddd-9db6-4a65-fd48-c4b8619ed11d"
      },
      "execution_count": 33,
      "outputs": [
        {
          "output_type": "stream",
          "name": "stdout",
          "text": [
            "attention_weights: tf.Tensor(\n",
            "[[[0.16684209 0.16665784 0.16661684 0.16652761 0.16674548 0.16661008\n",
            "   0.         0.        ]\n",
            "  [0.16665398 0.1668395  0.16665618 0.16667375 0.16668734 0.16648926\n",
            "   0.         0.        ]\n",
            "  [0.16660458 0.16664773 0.16674046 0.1666926  0.16677237 0.16654228\n",
            "   0.         0.        ]\n",
            "  [0.16654527 0.16669525 0.16672255 0.16674297 0.16671231 0.16658166\n",
            "   0.         0.        ]\n",
            "  [0.16666315 0.16660888 0.16670232 0.16661234 0.166913   0.16650037\n",
            "   0.         0.        ]\n",
            "  [0.16668975 0.1665727  0.16663419 0.16664366 0.16666228 0.1667974\n",
            "   0.         0.        ]\n",
            "  [0.16645533 0.1665886  0.1667657  0.1668381  0.16657345 0.16677886\n",
            "   0.         0.        ]\n",
            "  [0.16645533 0.1665886  0.1667657  0.1668381  0.16657345 0.16677886\n",
            "   0.         0.        ]]\n",
            "\n",
            " [[0.12515603 0.12511945 0.12488692 0.12486453 0.12487849 0.12502903\n",
            "   0.12508355 0.12498198]\n",
            "  [0.12508783 0.12518322 0.12491418 0.12489151 0.12496205 0.12496695\n",
            "   0.12504032 0.12495397]\n",
            "  [0.12488658 0.12494545 0.12509844 0.12507701 0.12513587 0.12494998\n",
            "   0.12497066 0.12493604]\n",
            "  [0.12485737 0.12491594 0.12507017 0.12523514 0.12505174 0.12477823\n",
            "   0.12509309 0.12499838]\n",
            "  [0.12486448 0.12497962 0.12512214 0.12504487 0.12520142 0.12496672\n",
            "   0.12492482 0.12489595]\n",
            "  [0.12506562 0.12503512 0.12498686 0.12482189 0.12501732 0.12521203\n",
            "   0.12485855 0.12500256]\n",
            "  [0.12505604 0.12504444 0.12494349 0.12507273 0.12491137 0.12479457\n",
            "   0.12524351 0.1249339 ]\n",
            "  [0.12500581 0.12500937 0.12496017 0.12502936 0.12493376 0.12498982\n",
            "   0.1249852  0.12508653]]], shape=(2, 8, 8), dtype=float32)\n"
          ]
        }
      ]
    },
    {
      "cell_type": "code",
      "source": [
        "# 建立一個 2 維矩陣，維度為 (size, size)，\n",
        "# 其遮罩為一個右上角的三角形\n",
        "def create_look_ahead_mask(size):\n",
        "  mask = 1 - tf.linalg.band_part(tf.ones((size, size)), -1, 0)\n",
        "  return mask  # (seq_len, seq_len)\n",
        "\n",
        "seq_len = emb_tar.shape[1] # 注意這次我們用中文的詞嵌入張量 `emb_tar`\n",
        "look_ahead_mask = create_look_ahead_mask(seq_len)\n",
        "print(\"emb_tar:\", emb_tar)\n",
        "print(\"-\" * 20)\n",
        "print(\"look_ahead_mask\", look_ahead_mask)"
      ],
      "metadata": {
        "colab": {
          "base_uri": "https://localhost:8080/"
        },
        "id": "igmroCsKpfbs",
        "outputId": "2bb38809-aeac-4ba8-c598-643ec0677588"
      },
      "execution_count": 34,
      "outputs": [
        {
          "output_type": "stream",
          "name": "stdout",
          "text": [
            "emb_tar: tf.Tensor(\n",
            "[[[-0.00003809  0.02078814  0.0123027  -0.0413463 ]\n",
            "  [-0.01186466 -0.00718495  0.02061463  0.03145773]\n",
            "  [ 0.03343013 -0.02533985 -0.03888715 -0.00947666]\n",
            "  [-0.04088186  0.03472645 -0.04847019 -0.03156561]\n",
            "  [ 0.00073323  0.00582252  0.04584754  0.04327263]\n",
            "  [-0.02272474 -0.03037575 -0.02887456 -0.04825801]\n",
            "  [ 0.00737081 -0.02178725  0.00632911 -0.03753779]\n",
            "  [-0.01153268  0.04393265 -0.02898805  0.01991346]\n",
            "  [-0.01153268  0.04393265 -0.02898805  0.01991346]\n",
            "  [-0.01153268  0.04393265 -0.02898805  0.01991346]]\n",
            "\n",
            " [[-0.00003809  0.02078814  0.0123027  -0.0413463 ]\n",
            "  [-0.01225784 -0.00463336 -0.02306047 -0.03860406]\n",
            "  [-0.02950935  0.00111842  0.03840322  0.04580555]\n",
            "  [-0.0413953  -0.00827926 -0.00790225 -0.00803288]\n",
            "  [-0.007319    0.00773299  0.01871021  0.01959158]\n",
            "  [ 0.02734912 -0.04120228  0.00704892 -0.01005193]\n",
            "  [ 0.04651746 -0.03131707 -0.03748842  0.04601295]\n",
            "  [ 0.03838119  0.01310394  0.04108498  0.02070406]\n",
            "  [-0.02272474 -0.03037575 -0.02887456 -0.04825801]\n",
            "  [ 0.00737081 -0.02178725  0.00632911 -0.03753779]]], shape=(2, 10, 4), dtype=float32)\n",
            "--------------------\n",
            "look_ahead_mask tf.Tensor(\n",
            "[[0. 1. 1. 1. 1. 1. 1. 1. 1. 1.]\n",
            " [0. 0. 1. 1. 1. 1. 1. 1. 1. 1.]\n",
            " [0. 0. 0. 1. 1. 1. 1. 1. 1. 1.]\n",
            " [0. 0. 0. 0. 1. 1. 1. 1. 1. 1.]\n",
            " [0. 0. 0. 0. 0. 1. 1. 1. 1. 1.]\n",
            " [0. 0. 0. 0. 0. 0. 1. 1. 1. 1.]\n",
            " [0. 0. 0. 0. 0. 0. 0. 1. 1. 1.]\n",
            " [0. 0. 0. 0. 0. 0. 0. 0. 1. 1.]\n",
            " [0. 0. 0. 0. 0. 0. 0. 0. 0. 1.]\n",
            " [0. 0. 0. 0. 0. 0. 0. 0. 0. 0.]], shape=(10, 10), dtype=float32)\n"
          ]
        }
      ]
    },
    {
      "cell_type": "code",
      "source": [
        "# 讓我們用目標語言（中文）的 batch\n",
        "# 來模擬 Decoder 處理的情況\n",
        "temp_q = temp_k = emb_tar\n",
        "temp_v = tf.cast(tf.math.greater(\n",
        "    tf.random.uniform(shape=emb_tar.shape), 0.5), tf.float32)\n",
        "\n",
        "# 將 look_ahead_mask 放入注意函式\n",
        "_, attention_weights = scaled_dot_product_attention(\n",
        "    temp_q, temp_k, temp_v, look_ahead_mask)\n",
        "\n",
        "print(\"attention_weights:\", attention_weights)"
      ],
      "metadata": {
        "colab": {
          "base_uri": "https://localhost:8080/"
        },
        "id": "vVwnbxJ_pl2R",
        "outputId": "8e4ebe8e-e7f5-4283-834e-3d72b51bfaf3"
      },
      "execution_count": 35,
      "outputs": [
        {
          "output_type": "stream",
          "name": "stdout",
          "text": [
            "attention_weights: tf.Tensor(\n",
            "[[[1.         0.         0.         0.         0.         0.\n",
            "   0.         0.         0.         0.        ]\n",
            "  [0.49964964 0.50035036 0.         0.         0.         0.\n",
            "   0.         0.         0.         0.        ]\n",
            "  [0.33315116 0.33303463 0.33381417 0.         0.         0.\n",
            "   0.         0.         0.         0.        ]\n",
            "  [0.24999638 0.24959809 0.2498096  0.25059593 0.         0.\n",
            "   0.         0.         0.         0.        ]\n",
            "  [0.19990084 0.20023696 0.19977976 0.19966991 0.20041256 0.\n",
            "   0.         0.         0.         0.        ]\n",
            "  [0.16668442 0.16646495 0.16673282 0.16683346 0.16630022 0.16698407\n",
            "   0.         0.         0.         0.        ]\n",
            "  [0.14290474 0.14275064 0.14288555 0.14280786 0.14271678 0.14297238\n",
            "   0.14296202 0.         0.         0.        ]\n",
            "  [0.12496997 0.12497724 0.1249516  0.12516007 0.12497286 0.12491187\n",
            "   0.12486337 0.125193   0.         0.        ]\n",
            "  [0.11106536 0.11107182 0.11104903 0.11123431 0.11106793 0.11101373\n",
            "   0.11097062 0.11126358 0.11126358 0.        ]\n",
            "  [0.09994511 0.09995092 0.09993041 0.10009714 0.09994742 0.09989864\n",
            "   0.09985986 0.10012348 0.10012348 0.10012348]]\n",
            "\n",
            " [[1.         0.         0.         0.         0.         0.\n",
            "   0.         0.         0.         0.        ]\n",
            "  [0.49987787 0.5001222  0.         0.         0.         0.\n",
            "   0.         0.         0.         0.        ]\n",
            "  [0.33305854 0.33290863 0.33403283 0.         0.         0.\n",
            "   0.         0.         0.         0.        ]\n",
            "  [0.24989705 0.25001875 0.2499566  0.25012764 0.         0.\n",
            "   0.         0.         0.         0.        ]\n",
            "  [0.19993672 0.19986525 0.20016271 0.19997197 0.20006333 0.\n",
            "   0.         0.         0.         0.        ]\n",
            "  [0.16663802 0.16667436 0.16658074 0.16660379 0.16661896 0.16688411\n",
            "   0.         0.         0.         0.        ]\n",
            "  [0.14262857 0.1427484  0.14279102 0.14271964 0.14281653 0.14297502\n",
            "   0.14332083 0.         0.         0.        ]\n",
            "  [0.12497156 0.12483427 0.12506455 0.12483986 0.1250387  0.12501349\n",
            "   0.12502575 0.1252118  0.         0.        ]\n",
            "  [0.11115266 0.11126045 0.11094765 0.11119705 0.11101026 0.11114722\n",
            "   0.1110275  0.11090478 0.11135248 0.        ]\n",
            "  [0.10003771 0.10004456 0.09989302 0.09998521 0.09993691 0.10005495\n",
            "   0.09993193 0.09995289 0.10008506 0.10007781]]], shape=(2, 10, 10), dtype=float32)\n"
          ]
        }
      ]
    },
    {
      "cell_type": "code",
      "source": [
        "#multi-head split the demension of embedding, process them seperately\n",
        "\n",
        "def split_heads(x, d_model, num_heads):\n",
        "  # x.shape: (batch_size, seq_len, d_model)\n",
        "  batch_size = tf.shape(x)[0]\n",
        "\n",
        "  # 我們要確保維度 `d_model` 可以被平分成 `num_heads` 個 `depth` 維度\n",
        "  assert d_model % num_heads == 0\n",
        "  depth = d_model // num_heads  # 這是分成多頭以後每個向量的維度\n",
        "\n",
        "  # 將最後一個 d_model 維度分成 num_heads 個 depth 維度。\n",
        "  # 最後一個維度變成兩個維度，張量 x 從 3 維到 4 維\n",
        "  # fill in the rest to -1 dimenstion\n",
        "  # (batch_size, seq_len, num_heads, depth)\n",
        "  reshaped_x = tf.reshape(x, shape=(batch_size, -1, num_heads, depth))\n",
        "\n",
        "  # 將 head 的維度拉前使得最後兩個維度為子詞以及其對應的 depth 向量\n",
        "  # change the sequence of dimension for better understanding.\n",
        "  # (batch_size, num_heads, seq_len, depth)\n",
        "  output = tf.transpose(reshaped_x, perm=[0, 2, 1, 3])\n",
        "\n",
        "  return output\n",
        "\n",
        "# 我們的 `emb_inp` 裡頭的子詞本來就是 4 維的詞嵌入向量\n",
        "d_model = 4\n",
        "# 將 4 維詞嵌入向量分為 2 個 head 的 2 維矩陣\n",
        "num_heads = 2\n",
        "x = emb_inp\n",
        "\n",
        "output = split_heads(x, d_model, num_heads)\n",
        "print(\"x:\", x)\n",
        "print(\"output:\", output)"
      ],
      "metadata": {
        "colab": {
          "base_uri": "https://localhost:8080/"
        },
        "id": "wAq54KzbpmrA",
        "outputId": "f73678a9-d2a2-4f63-e9f6-e62970f3887c"
      },
      "execution_count": 36,
      "outputs": [
        {
          "output_type": "stream",
          "name": "stdout",
          "text": [
            "x: tf.Tensor(\n",
            "[[[ 0.02036048 -0.01640828  0.01218457  0.04325655]\n",
            "  [ 0.04816287 -0.0052672  -0.01734619 -0.00837622]\n",
            "  [-0.00011305  0.00515537 -0.03798722  0.01274326]\n",
            "  [ 0.00099773  0.00214062 -0.03265796 -0.01519186]\n",
            "  [ 0.0038381  -0.03503789 -0.04649404  0.03371631]\n",
            "  [-0.02609479 -0.01476694  0.01767704 -0.00013995]\n",
            "  [-0.0470683   0.03534856 -0.01568234 -0.03975261]\n",
            "  [-0.0470683   0.03534856 -0.01568234 -0.03975261]]\n",
            "\n",
            " [[ 0.02036048 -0.01640828  0.01218457  0.04325655]\n",
            "  [ 0.03625866 -0.04454783  0.01512885  0.01075666]\n",
            "  [ 0.01096677  0.00795402 -0.02324426 -0.03262394]\n",
            "  [-0.02881119 -0.02232167 -0.04458848 -0.02766268]\n",
            "  [ 0.03149874  0.0052125  -0.01925832 -0.04756926]\n",
            "  [ 0.02321979  0.02937884  0.03987649  0.0045434 ]\n",
            "  [ 0.0038381  -0.03503789 -0.04649404  0.03371631]\n",
            "  [-0.02609479 -0.01476694  0.01767704 -0.00013995]]], shape=(2, 8, 4), dtype=float32)\n",
            "output: tf.Tensor(\n",
            "[[[[ 0.02036048 -0.01640828]\n",
            "   [ 0.04816287 -0.0052672 ]\n",
            "   [-0.00011305  0.00515537]\n",
            "   [ 0.00099773  0.00214062]\n",
            "   [ 0.0038381  -0.03503789]\n",
            "   [-0.02609479 -0.01476694]\n",
            "   [-0.0470683   0.03534856]\n",
            "   [-0.0470683   0.03534856]]\n",
            "\n",
            "  [[ 0.01218457  0.04325655]\n",
            "   [-0.01734619 -0.00837622]\n",
            "   [-0.03798722  0.01274326]\n",
            "   [-0.03265796 -0.01519186]\n",
            "   [-0.04649404  0.03371631]\n",
            "   [ 0.01767704 -0.00013995]\n",
            "   [-0.01568234 -0.03975261]\n",
            "   [-0.01568234 -0.03975261]]]\n",
            "\n",
            "\n",
            " [[[ 0.02036048 -0.01640828]\n",
            "   [ 0.03625866 -0.04454783]\n",
            "   [ 0.01096677  0.00795402]\n",
            "   [-0.02881119 -0.02232167]\n",
            "   [ 0.03149874  0.0052125 ]\n",
            "   [ 0.02321979  0.02937884]\n",
            "   [ 0.0038381  -0.03503789]\n",
            "   [-0.02609479 -0.01476694]]\n",
            "\n",
            "  [[ 0.01218457  0.04325655]\n",
            "   [ 0.01512885  0.01075666]\n",
            "   [-0.02324426 -0.03262394]\n",
            "   [-0.04458848 -0.02766268]\n",
            "   [-0.01925832 -0.04756926]\n",
            "   [ 0.03987649  0.0045434 ]\n",
            "   [-0.04649404  0.03371631]\n",
            "   [ 0.01767704 -0.00013995]]]], shape=(2, 2, 8, 2), dtype=float32)\n"
          ]
        }
      ]
    },
    {
      "cell_type": "code",
      "source": [
        "# Implement a multi-head attention layer by inheriting tf.keras.layers.Layer\n",
        "# initialize by dimension of model\n",
        "# initialize q, k, v using tf.keras.layers.Dense\n",
        "# ouput a attension result and attension weights matrix\n",
        "# output.shape = (batch_size, seq_len_q, d_model)\n",
        "# attention_weights.shape = (batch_size, num_heads, seq_len_q, seq_len_k)\n",
        "class MultiHeadAttention(tf.keras.layers.Layer):\n",
        "  def __init__(self, d_model, num_heads):\n",
        "    super().__init__()\n",
        "    self.num_heads = num_heads\n",
        "    self.d_model = d_model\n",
        "\n",
        "    assert d_model % self.num_heads == 0  #make sure dimenstions of embedding can be divided.\n",
        "\n",
        "    self.depth = d_model // self.num_heads  #depth in every head\n",
        "\n",
        "    self.wq = tf.keras.layers.Dense(d_model)  # input of q matual wq.\n",
        "    self.wk = tf.keras.layers.Dense(d_model)  # No activation func\n",
        "    self.wv = tf.keras.layers.Dense(d_model)\n",
        "\n",
        "    self.dense = tf.keras.layers.Dense(d_model)  # for combining mutiple heads.\n",
        "\n",
        "  def split_heads(self, x, batch_size):\n",
        "    \"\"\"Split the last dimension into (num_heads, depth).\n",
        "    Transpose the result such that the shape is (batch_size, num_heads, seq_len, depth)\n",
        "    \"\"\"\n",
        "    x = tf.reshape(x, (batch_size, -1, self.num_heads, self.depth))\n",
        "    return tf.transpose(x, perm=[0, 2, 1, 3])\n",
        "\n",
        "\n",
        "  def call(self, v, k, q, mask):\n",
        "    batch_size = tf.shape(q)[0] #number of examples\n",
        "\n",
        "    # project q, k, v to embedding dimensions for example (2,8,4). 2 sentences, 8 tokens, 4 dimensions\n",
        "    q = self.wq(q)  # (batch_size, seq_len, d_model)\n",
        "    k = self.wk(k)  # (batch_size, seq_len, d_model)\n",
        "    v = self.wv(v)  # (batch_size, seq_len, d_model)\n",
        "\n",
        "    # split heads from (2,8,4) to (2,2,8,2)\n",
        "    q = self.split_heads(q, batch_size)  # (batch_size, num_heads, seq_len_q, depth)\n",
        "    k = self.split_heads(k, batch_size)  # (batch_size, num_heads, seq_len_k, depth)\n",
        "    v = self.split_heads(v, batch_size)  # (batch_size, num_heads, seq_len_v, depth)\n",
        "\n",
        "    #pass q, k, v and mask to self attention.\n",
        "    scaled_attention, attention_weights = scaled_dot_product_attention(\n",
        "        q, k, v, mask)\n",
        "    # scaled_attention.shape == (batch_size, num_heads, seq_len_q, depth)\n",
        "    # attention_weights.shape == (batch_size, num_heads, seq_len_q, seq_len_k)\n",
        "\n",
        "    # Reverse the process of splitting heads.\n",
        "    scaled_attention = tf.transpose(scaled_attention, perm=[0, 2, 1, 3])\n",
        "    # (batch_size, seq_len_q, num_heads, depth)\n",
        "    concat_attention = tf.reshape(scaled_attention, (batch_size, -1, self.d_model))\n",
        "    # (batch_size, seq_len_q, d_model)\n",
        "\n",
        "    # final layer\n",
        "    output = self.dense(concat_attention)  # (batch_size, seq_len_q, d_model)\n",
        "\n",
        "    return output, attention_weights"
      ],
      "metadata": {
        "id": "wb57O1-mpt8J"
      },
      "execution_count": 37,
      "outputs": []
    },
    {
      "cell_type": "code",
      "source": [
        "# emb_inp.shape = (batch_size, seq_len, d_model) = (2, 8, 4)\n",
        "assert d_model == emb_inp.shape[-1]  == 4\n",
        "num_heads = 2\n",
        "\n",
        "print(f\"d_model: {d_model}\")\n",
        "print(f\"num_heads: {num_heads}\\n\")\n",
        "\n",
        "# 初始化一個 multi-head attention layer\n",
        "mha = MultiHeadAttention(d_model, num_heads)\n",
        "\n",
        "# set v = k = q = embedded examples (2,8,4), 2 examples, 8 tokens, and 4 dimensions of embedding.\n",
        "# shape of inp: (2,8) shape of imp_inp = (2,8,4)\n",
        "# padding mask\n",
        "# The last tokens of en embedding is <pad>\n",
        "v = k = q = emb_inp\n",
        "padding_mask = create_padding_mask(inp)\n",
        "print(\"q.shape:\", q.shape)\n",
        "print(\"k.shape:\", k.shape)\n",
        "print(\"v.shape:\", v.shape)\n",
        "print(\"padding_mask.shape:\", padding_mask.shape)\n",
        "\n",
        "output, attention_weights = mha(v, k, q, padding_mask)\n",
        "print(\"output.shape:\", output.shape)\n",
        "print(\"attention_weights.shape:\", attention_weights.shape) # (..., seq_len_q, seq_len_k)\n",
        "\n",
        "print(\"\\noutput:\", output)\n",
        "\n",
        "# attention_weights.shape: (2, 2, 8, 8): 2 batches, 2 heads, 8 words (attention: 8x8)\n",
        "# mask shape=(2, 1, 8)\n",
        "# it's a demonstration with 2 sentences as inputs"
      ],
      "metadata": {
        "colab": {
          "base_uri": "https://localhost:8080/"
        },
        "id": "ZlaUvaTPp0Iy",
        "outputId": "085a4436-9b46-493e-a453-12f0fdd00947"
      },
      "execution_count": 38,
      "outputs": [
        {
          "output_type": "stream",
          "name": "stdout",
          "text": [
            "d_model: 4\n",
            "num_heads: 2\n",
            "\n",
            "q.shape: (2, 8, 4)\n",
            "k.shape: (2, 8, 4)\n",
            "v.shape: (2, 8, 4)\n",
            "padding_mask.shape: (2, 1, 1, 8)\n",
            "output.shape: (2, 8, 4)\n",
            "attention_weights.shape: (2, 2, 8, 8)\n",
            "\n",
            "output: tf.Tensor(\n",
            "[[[ 0.01943418  0.01492455 -0.01133173  0.00566184]\n",
            "  [ 0.01942845  0.0149345  -0.01133365  0.00566607]\n",
            "  [ 0.01943423  0.01492351 -0.0113328   0.0056646 ]\n",
            "  [ 0.01943006  0.0149283  -0.0113328   0.00566612]\n",
            "  [ 0.01943646  0.0149101  -0.01132837  0.00566153]\n",
            "  [ 0.0194295   0.01492632 -0.01133089  0.0056637 ]\n",
            "  [ 0.01942803  0.01493593 -0.01133532  0.00566828]\n",
            "  [ 0.01942803  0.01493593 -0.01133532  0.00566828]]\n",
            "\n",
            " [[ 0.01569175 -0.00030142 -0.00823727 -0.00749162]\n",
            "  [ 0.01568969 -0.00029713 -0.008238   -0.00748959]\n",
            "  [ 0.01568775 -0.00025613 -0.00825429 -0.00748615]\n",
            "  [ 0.01568913 -0.00028356 -0.00824393 -0.00748797]\n",
            "  [ 0.01568655 -0.00024629 -0.00825767 -0.00748472]\n",
            "  [ 0.01568835 -0.00025425 -0.00825493 -0.00748796]\n",
            "  [ 0.0156928  -0.00031582 -0.00823224 -0.00749175]\n",
            "  [ 0.01568932 -0.00028587 -0.0082427  -0.0074896 ]]], shape=(2, 8, 4), dtype=float32)\n"
          ]
        }
      ]
    },
    {
      "cell_type": "markdown",
      "source": [
        "Model building\n",
        "1. Define the feed foward layer after attension\n",
        "2. Define the Encoder layer\n",
        "3. Define positional encoding layer\n",
        "4. Stack up the encoder\n",
        "5. repeat steps above, build up a decoder, only the decoder has two layers of mha\n",
        "6. combine encoder layers and decoder layers into transformer.\n",
        "\n"
      ],
      "metadata": {
        "id": "ZTExr5wnOfqg"
      }
    },
    {
      "cell_type": "code",
      "source": [
        "# Feed foward layer after attention layer.\n",
        "def point_wise_feed_forward_network(d_model, dff):\n",
        "  #d_model: demensions of the embedding\n",
        "  #dff neurons in the middle layer.\n",
        "\n",
        "  # relu in the middle layer: FNN with one layer.\n",
        "  return tf.keras.Sequential([\n",
        "      tf.keras.layers.Dense(dff, activation='relu'),  # (batch_size, seq_len, dff)\n",
        "      tf.keras.layers.Dense(d_model)  # (batch_size, seq_len, d_model)\n",
        "  ])"
      ],
      "metadata": {
        "id": "ANM7EzhVOkGc"
      },
      "execution_count": 39,
      "outputs": []
    },
    {
      "cell_type": "code",
      "source": [
        "batch_size = 64\n",
        "seq_len = 10\n",
        "d_model = 512\n",
        "dff = 2048\n",
        "\n",
        "x = tf.random.uniform((batch_size, seq_len, d_model))\n",
        "ffn = point_wise_feed_forward_network(d_model, dff)\n",
        "out = ffn(x)\n",
        "print(\"x.shape:\", x.shape)\n",
        "print(\"out.shape:\", out.shape)\n",
        "\n",
        "#64 examples, 10 tokens, 512 dimensions of embeddin."
      ],
      "metadata": {
        "id": "h5j9VHYVYG2H",
        "colab": {
          "base_uri": "https://localhost:8080/"
        },
        "outputId": "d54970c3-31c5-4c92-af81-a0c89de82725"
      },
      "execution_count": 40,
      "outputs": [
        {
          "output_type": "stream",
          "name": "stdout",
          "text": [
            "x.shape: (64, 10, 512)\n",
            "out.shape: (64, 10, 512)\n"
          ]
        }
      ]
    },
    {
      "cell_type": "code",
      "source": [
        "d_model = 4 # FFN 的輸入輸出張量的最後一維皆為 `d_model`\n",
        "dff = 6\n",
        "\n",
        "# 建立一個小 FFN\n",
        "small_ffn = point_wise_feed_forward_network(d_model, dff)\n",
        "# 懂子詞梗的站出來\n",
        "dummy_sentence = tf.constant([[5, 5, 6, 6],\n",
        "                              [5, 5, 6, 6],\n",
        "                              [9, 5, 2, 7],\n",
        "                              [9, 5, 2, 7],\n",
        "                              [9, 5, 2, 7]], dtype=tf.float32)\n",
        "small_ffn(dummy_sentence)"
      ],
      "metadata": {
        "id": "PZMQbLsttkZZ",
        "colab": {
          "base_uri": "https://localhost:8080/"
        },
        "outputId": "745b3387-8540-4035-ec57-3d7dfcda046a"
      },
      "execution_count": 41,
      "outputs": [
        {
          "output_type": "execute_result",
          "data": {
            "text/plain": [
              "<tf.Tensor: shape=(5, 4), dtype=float32, numpy=\n",
              "array([[1.1989949, 4.4507575, 2.7113478, 3.5615683],\n",
              "       [1.1989949, 4.4507575, 2.7113478, 3.5615683],\n",
              "       [6.0208206, 5.107947 , 6.76421  , 4.80589  ],\n",
              "       [6.0208206, 5.107947 , 6.76421  , 4.80589  ],\n",
              "       [6.0208206, 5.107947 , 6.76421  , 4.80589  ]], dtype=float32)>"
            ]
          },
          "metadata": {},
          "execution_count": 41
        }
      ]
    },
    {
      "cell_type": "code",
      "source": [
        "# An encoder incoperates 2 sub-layers: MHA & FFN\n",
        "class EncoderLayer(tf.keras.layers.Layer):\n",
        "  # Default dropout rate is 0.1\n",
        "  def __init__(self, d_model, num_heads, dff, rate=0.1):\n",
        "    super().__init__()\n",
        "\n",
        "    self.mha = MultiHeadAttention(d_model, num_heads)\n",
        "    self.ffn = point_wise_feed_forward_network(d_model, dff)\n",
        "\n",
        "    # layer normalization to normalized the attention from a sentence.\n",
        "    self.layernorm1 = tf.keras.layers.LayerNormalization(epsilon=1e-6)\n",
        "    self.layernorm2 = tf.keras.layers.LayerNormalization(epsilon=1e-6)\n",
        "\n",
        "    # One layer should have one dropout layer\n",
        "    self.dropout1 = tf.keras.layers.Dropout(rate)\n",
        "    self.dropout2 = tf.keras.layers.Dropout(rate)\n",
        "\n",
        "  # training argument to decide whether on training or not.\n",
        "  def call(self, x, training, mask):\n",
        "\n",
        "    # x is embedding + positional encoding with shape (batch_size, input_seq_len, d_model)\n",
        "    # attn shape = (batch_size, num_heads, input_seq_len, input_seq_len)\n",
        "    # sub-layer 1: MHA\n",
        "    # set q, k, v as x\n",
        "    # padding mask to mask <pad>\n",
        "    attn_output, attn = self.mha(x, x, x, mask)\n",
        "    attn_output = self.dropout1(attn_output, training=training)\n",
        "    out1 = self.layernorm1(x + attn_output)\n",
        "\n",
        "    # sub-layer 2: FFN\n",
        "    ffn_output = self.ffn(out1)\n",
        "    ffn_output = self.dropout2(ffn_output, training=training)  # 記得 training\n",
        "    out2 = self.layernorm2(out1 + ffn_output)\n",
        "\n",
        "    return out2"
      ],
      "metadata": {
        "id": "hdAlg4mrYRZt"
      },
      "execution_count": 42,
      "outputs": []
    },
    {
      "cell_type": "code",
      "source": [
        "d_model = 4\n",
        "num_heads = 2\n",
        "dff = 8\n",
        "\n",
        "enc_layer = EncoderLayer(d_model, num_heads, dff)\n",
        "padding_mask = create_padding_mask(inp) #inp = (2,8), 2 examples, 8 tokens\n",
        "enc_out = enc_layer(emb_inp, training=False, mask=padding_mask)  # (batch_size, seq_len, d_model)\n",
        "\n",
        "print(\"inp:\", inp)\n",
        "print(\"-\" * 20)\n",
        "print(\"padding_mask:\", padding_mask)\n",
        "print(\"-\" * 20)\n",
        "print(\"emb_inp:\", emb_inp)\n",
        "print(\"-\" * 20)\n",
        "print(\"enc_out:\", enc_out)\n",
        "assert emb_inp.shape == enc_out.shape\n",
        "\n",
        "#encoder needs only padding mask. Input a whole sentence of English (inp: (2,8)), transfer it using embedding (emb_inp: (2,8,4)), and transfer it to a vector of represent (enc_out, (2,8,4))\n",
        "#And the vector that incorperates the meaning of the sentence would diliver it to the decoder\n",
        "#Shape of enc_out = (2,8,4), (batch_size, seq_len_q, num_heads * depth). 2 examples, 8 sums of attentions by each token to other tokens in the sentences, attentions from mutiheads."
      ],
      "metadata": {
        "id": "Z_aNbMCGbcRg",
        "colab": {
          "base_uri": "https://localhost:8080/"
        },
        "outputId": "64121545-0248-4ed0-af32-9da82b16aeb6"
      },
      "execution_count": 43,
      "outputs": [
        {
          "output_type": "stream",
          "name": "stdout",
          "text": [
            "inp: tf.Tensor(\n",
            "[[8113  103    9 1066 7903 8114    0    0]\n",
            " [8113   16 4111 6735   12 2750 7903 8114]], shape=(2, 8), dtype=int64)\n",
            "--------------------\n",
            "padding_mask: tf.Tensor(\n",
            "[[[[0. 0. 0. 0. 0. 0. 1. 1.]]]\n",
            "\n",
            "\n",
            " [[[0. 0. 0. 0. 0. 0. 0. 0.]]]], shape=(2, 1, 1, 8), dtype=float32)\n",
            "--------------------\n",
            "emb_inp: tf.Tensor(\n",
            "[[[ 0.02036048 -0.01640828  0.01218457  0.04325655]\n",
            "  [ 0.04816287 -0.0052672  -0.01734619 -0.00837622]\n",
            "  [-0.00011305  0.00515537 -0.03798722  0.01274326]\n",
            "  [ 0.00099773  0.00214062 -0.03265796 -0.01519186]\n",
            "  [ 0.0038381  -0.03503789 -0.04649404  0.03371631]\n",
            "  [-0.02609479 -0.01476694  0.01767704 -0.00013995]\n",
            "  [-0.0470683   0.03534856 -0.01568234 -0.03975261]\n",
            "  [-0.0470683   0.03534856 -0.01568234 -0.03975261]]\n",
            "\n",
            " [[ 0.02036048 -0.01640828  0.01218457  0.04325655]\n",
            "  [ 0.03625866 -0.04454783  0.01512885  0.01075666]\n",
            "  [ 0.01096677  0.00795402 -0.02324426 -0.03262394]\n",
            "  [-0.02881119 -0.02232167 -0.04458848 -0.02766268]\n",
            "  [ 0.03149874  0.0052125  -0.01925832 -0.04756926]\n",
            "  [ 0.02321979  0.02937884  0.03987649  0.0045434 ]\n",
            "  [ 0.0038381  -0.03503789 -0.04649404  0.03371631]\n",
            "  [-0.02609479 -0.01476694  0.01767704 -0.00013995]]], shape=(2, 8, 4), dtype=float32)\n",
            "--------------------\n",
            "enc_out: tf.Tensor(\n",
            "[[[ 0.30666798 -1.3221676  -0.3983968   1.4138966 ]\n",
            "  [ 1.6893919  -0.28501302 -0.9004005  -0.5039783 ]\n",
            "  [ 0.3597424   0.79829025 -1.7110049   0.5529722 ]\n",
            "  [ 1.0715121   0.81042695 -1.4015235  -0.48041523]\n",
            "  [ 0.2903098  -0.32634267 -1.3619415   1.3979745 ]\n",
            "  [-0.89717185 -0.8425176   1.5669752   0.17271431]\n",
            "  [-0.5335652   1.6840563  -0.24551418 -0.9049768 ]\n",
            "  [-0.5335652   1.6840563  -0.24551418 -0.9049768 ]]\n",
            "\n",
            " [[ 0.24704199 -1.0909289  -0.6718501   1.5157369 ]\n",
            "  [ 1.043848   -1.630538    0.09382248  0.49286753]\n",
            "  [ 1.1767896   0.7998934  -0.88418853 -1.0924942 ]\n",
            "  [ 0.5075288   1.0003682  -1.649716    0.14181906]\n",
            "  [ 1.3723525   0.45400566 -0.56480396 -1.2615542 ]\n",
            "  [ 0.5234019   0.40788615  0.7845609  -1.7158489 ]\n",
            "  [ 0.26342946 -0.170407   -1.4424404   1.349418  ]\n",
            "  [-1.1070722  -0.7696563   1.3971456   0.4795828 ]]], shape=(2, 8, 4), dtype=float32)\n"
          ]
        }
      ]
    },
    {
      "cell_type": "code",
      "source": [
        "# postitional encoding\n",
        "def get_angles(pos, i, d_model):\n",
        "  angle_rates = 1 / np.power(10000, (2 * (i//2)) / np.float32(d_model))\n",
        "  return pos * angle_rates\n",
        "\n",
        "def positional_encoding(position, d_model):\n",
        "  angle_rads = get_angles(np.arange(position)[:, np.newaxis],\n",
        "                          np.arange(d_model)[np.newaxis, :],\n",
        "                          d_model)\n",
        "\n",
        "  # apply sin to even indices in the array; 2i\n",
        "  sines = np.sin(angle_rads[:, 0::2])\n",
        "\n",
        "  # apply cos to odd indices in the array; 2i+1\n",
        "  cosines = np.cos(angle_rads[:, 1::2])\n",
        "\n",
        "  pos_encoding = np.concatenate([sines, cosines], axis=-1)\n",
        "\n",
        "  pos_encoding = pos_encoding[np.newaxis, ...]\n",
        "\n",
        "  return tf.cast(pos_encoding, dtype=tf.float32)\n",
        "\n",
        "\n",
        "seq_len = 50\n",
        "d_model = 512\n",
        "\n",
        "pos_encoding = positional_encoding(seq_len, d_model)\n",
        "pos_encoding"
      ],
      "metadata": {
        "colab": {
          "base_uri": "https://localhost:8080/"
        },
        "id": "3x-cXWLCUsys",
        "outputId": "2504374e-b8c0-4042-c52e-3c4cf07c272f"
      },
      "execution_count": 44,
      "outputs": [
        {
          "output_type": "execute_result",
          "data": {
            "text/plain": [
              "<tf.Tensor: shape=(1, 50, 512), dtype=float32, numpy=\n",
              "array([[[ 0.        ,  0.        ,  0.        , ...,  1.        ,\n",
              "          1.        ,  1.        ],\n",
              "        [ 0.84147096,  0.8218562 ,  0.8019618 , ...,  1.        ,\n",
              "          1.        ,  1.        ],\n",
              "        [ 0.9092974 ,  0.9364147 ,  0.95814437, ...,  1.        ,\n",
              "          1.        ,  1.        ],\n",
              "        ...,\n",
              "        [ 0.12357312,  0.97718984, -0.24295525, ...,  0.9999863 ,\n",
              "          0.99998724,  0.99998814],\n",
              "        [-0.76825464,  0.7312359 ,  0.63279754, ...,  0.9999857 ,\n",
              "          0.9999867 ,  0.9999876 ],\n",
              "        [-0.95375264, -0.14402692,  0.99899054, ...,  0.9999851 ,\n",
              "          0.9999861 ,  0.9999871 ]]], dtype=float32)>"
            ]
          },
          "metadata": {},
          "execution_count": 44
        }
      ]
    },
    {
      "cell_type": "code",
      "source": [
        "class Encoder(tf.keras.layers.Layer):\n",
        "  # An encoder incorperates embedding layer, postional encoding layer, layers of encoder layer\n",
        "  # num_layers: layers of encoder layer\n",
        "  # input_vocab_size: size of dictionary\n",
        "  def __init__(self, num_layers, d_model, num_heads, dff, input_vocab_size,\n",
        "          rate=0.1):\n",
        "    super().__init__()\n",
        "\n",
        "    self.d_model = d_model\n",
        "    self.embedding = tf.keras.layers.Embedding(input_vocab_size, self.d_model)\n",
        "    self.pos_encoding = positional_encoding(input_vocab_size, self.d_model)\n",
        "\n",
        "    # How many encoder layers in a list.\n",
        "    self.enc_layers = [EncoderLayer(d_model, num_heads, dff, rate)\n",
        "               for _ in range(num_layers)]\n",
        "\n",
        "    self.dropout = tf.keras.layers.Dropout(rate)\n",
        "\n",
        "  def call(self, x, training, mask):\n",
        "    # x.shape == (batch_size, input_seq_len)\n",
        "    # output of following layers (batch_size, input_seq_len, d_model)\n",
        "    input_seq_len = tf.shape(x)[1]\n",
        "\n",
        "    # embedding + regularization + postional encoding + dropout\n",
        "    x = self.embedding(x)\n",
        "    x *= tf.math.sqrt(tf.cast(self.d_model, tf.float32))\n",
        "    x += self.pos_encoding[:, :input_seq_len, :]\n",
        "    x = self.dropout(x, training=training)\n",
        "\n",
        "    # N layers of encoder layer\n",
        "    for enc_layer in self.enc_layers:\n",
        "      x = enc_layer(x, training, mask)\n",
        "    return x"
      ],
      "metadata": {
        "id": "DfjrENUfU8xy"
      },
      "execution_count": 45,
      "outputs": []
    },
    {
      "cell_type": "code",
      "source": [
        "#hyperparameters\n",
        "num_layers = 2 # encoder with 2 layers of encoder layer\n",
        "d_model = 4\n",
        "num_heads = 2\n",
        "dff = 8\n",
        "input_vocab_size = subword_encoder_en.vocab_size + 2 # size of en dictionary + 2 (<BOS> and <EOS>)\n",
        "\n",
        "# Initialize an encoder\n",
        "encoder = Encoder(num_layers, d_model, num_heads, dff, input_vocab_size)\n",
        "\n",
        "# it's a demo, inp = (2,8)\n",
        "enc_out = encoder(inp, training=False, mask=None)\n",
        "print(\"inp:\", inp)\n",
        "print(\"-\" * 20)\n",
        "print(\"enc_out:\", enc_out)"
      ],
      "metadata": {
        "colab": {
          "base_uri": "https://localhost:8080/"
        },
        "id": "YNV06agNXLTz",
        "outputId": "0223cae0-1789-4c1f-9769-855899c4caa4"
      },
      "execution_count": 46,
      "outputs": [
        {
          "output_type": "stream",
          "name": "stdout",
          "text": [
            "inp: tf.Tensor(\n",
            "[[8113  103    9 1066 7903 8114    0    0]\n",
            " [8113   16 4111 6735   12 2750 7903 8114]], shape=(2, 8), dtype=int64)\n",
            "--------------------\n",
            "enc_out: tf.Tensor(\n",
            "[[[-0.45686638 -0.8393616   1.7079813  -0.41175342]\n",
            "  [-0.2950113  -1.4189955   1.3209585   0.3930482 ]\n",
            "  [-0.34067458  0.03478408 -1.2319627   1.5378532 ]\n",
            "  [-0.833727    1.2468072  -1.1189682   0.7058879 ]\n",
            "  [-1.2866867   1.3791683  -0.5142436   0.4217617 ]\n",
            "  [-1.2922702   0.13546768  1.4846532  -0.32785073]\n",
            "  [-0.4533368  -0.71503425  1.7245061  -0.55613506]\n",
            "  [-0.30388275 -1.2746067   1.5093889   0.06910065]]\n",
            "\n",
            " [[-0.48948804 -0.73142445  1.7240318  -0.50311935]\n",
            "  [-0.3522867  -1.296598    1.4707067   0.1781781 ]\n",
            "  [-0.4410661  -0.3201995  -0.9257293   1.6869948 ]\n",
            "  [-0.82980764  1.1963218  -1.1353768   0.7688626 ]\n",
            "  [-1.4434403   1.2967441  -0.261444    0.4081403 ]\n",
            "  [-1.0381074  -0.15711333  1.6424468  -0.44722617]\n",
            "  [-0.54026175 -0.54983324  1.7307208  -0.6406257 ]\n",
            "  [-0.37507418 -1.1826677   1.5685968  -0.01085505]]], shape=(2, 8, 4), dtype=float32)\n"
          ]
        }
      ]
    },
    {
      "cell_type": "code",
      "source": [
        "# Decoder incorperates N DecoderLayer，\n",
        "# and DecoderLayer has 3 sub-layers: self attention MHA, attention of Encoder MHA and FFN\n",
        "class DecoderLayer(tf.keras.layers.Layer):\n",
        "  def __init__(self, d_model, num_heads, dff, rate=0.1):\n",
        "    super().__init__()\n",
        "\n",
        "    # 3 types of sublayer in the decoder layer\n",
        "    self.mha1 = MultiHeadAttention(d_model, num_heads)\n",
        "    self.mha2 = MultiHeadAttention(d_model, num_heads)\n",
        "    self.ffn = point_wise_feed_forward_network(d_model, dff)\n",
        "\n",
        "    # LayerNorm for every sub layer\n",
        "    self.layernorm1 = tf.keras.layers.LayerNormalization(epsilon=1e-6)\n",
        "    self.layernorm2 = tf.keras.layers.LayerNormalization(epsilon=1e-6)\n",
        "    self.layernorm3 = tf.keras.layers.LayerNormalization(epsilon=1e-6)\n",
        "\n",
        "    # drop for every sub-layer\n",
        "    self.dropout1 = tf.keras.layers.Dropout(rate)\n",
        "    self.dropout2 = tf.keras.layers.Dropout(rate)\n",
        "    self.dropout3 = tf.keras.layers.Dropout(rate)\n",
        "\n",
        "\n",
        "  def call(self, x, enc_output, training,\n",
        "           combined_mask, inp_padding_mask):\n",
        "    # shape of output of all sublayers are (batch_size, target_seq_len, d_model)\n",
        "    # enc_output is the ouput of Encoder with shape (batch_size, input_seq_len, d_model)\n",
        "    # shape of attn_weights_block_1: (batch_size, num_heads, target_seq_len, target_seq_len)\n",
        "    # shape of attn_weights_block_2: (batch_size, num_heads, target_seq_len, input_seq_len)\n",
        "\n",
        "    # sub-layer 1: Decoder layer, self attention of the decoder input\n",
        "    # Need look ahead mask and padding mask: conbined_mask\n",
        "    # x: cn input. tokens before the next one\n",
        "    attn1, attn_weights_block1 = self.mha1(x, x, x, combined_mask)\n",
        "    attn1 = self.dropout1(attn1, training=training)\n",
        "    out1 = self.layernorm1(attn1 + x)\n",
        "\n",
        "    # sub-layer 2: Decoder layer: attention of encoder.\n",
        "    # Need padding mask only.\n",
        "    attn2, attn_weights_block2 = self.mha2(enc_output, enc_output,\n",
        "                          out1, inp_padding_mask)  # (batch_size, target_seq_len, d_model)\n",
        "    attn2 = self.dropout2(attn2, training=training)\n",
        "    out2 = self.layernorm2(attn2 + out1)  # (batch_size, target_seq_len, d_model)\n",
        "\n",
        "    # sub-layer 3: FFN\n",
        "    ffn_output = self.ffn(out2)  # (batch_size, target_seq_len, d_model)\n",
        "    ffn_output = self.dropout3(ffn_output, training=training)\n",
        "    out3 = self.layernorm3(ffn_output + out2)  # (batch_size, target_seq_len, d_model)\n",
        "\n",
        "    return out3, attn_weights_block1, attn_weights_block2"
      ],
      "metadata": {
        "id": "zlsCOMSdesbB"
      },
      "execution_count": 47,
      "outputs": []
    },
    {
      "cell_type": "code",
      "source": [
        "tar_padding_mask = create_padding_mask(tar)\n",
        "look_ahead_mask = create_look_ahead_mask(tar.shape[-1])\n",
        "combined_mask = tf.maximum(tar_padding_mask, look_ahead_mask)\n",
        "# stack up two masks for decoder\n",
        "\n",
        "print(\"tar:\", tar)\n",
        "print(\"-\" * 20)\n",
        "print(\"tar_padding_mask:\", tar_padding_mask)\n",
        "print(\"-\" * 20)\n",
        "print(\"look_ahead_mask:\", look_ahead_mask)\n",
        "print(\"-\" * 20)\n",
        "print(\"combined_mask:\", combined_mask)"
      ],
      "metadata": {
        "id": "GmV8g4AGgOPL",
        "colab": {
          "base_uri": "https://localhost:8080/"
        },
        "outputId": "523cc8b9-947f-45e5-81fb-b3e6f9c5efff"
      },
      "execution_count": 48,
      "outputs": [
        {
          "output_type": "stream",
          "name": "stdout",
          "text": [
            "tar: tf.Tensor(\n",
            "[[4205   10  241   86   27    3 4206    0    0    0]\n",
            " [4205  165  489  398  191   14    7  560    3 4206]], shape=(2, 10), dtype=int64)\n",
            "--------------------\n",
            "tar_padding_mask: tf.Tensor(\n",
            "[[[[0. 0. 0. 0. 0. 0. 0. 1. 1. 1.]]]\n",
            "\n",
            "\n",
            " [[[0. 0. 0. 0. 0. 0. 0. 0. 0. 0.]]]], shape=(2, 1, 1, 10), dtype=float32)\n",
            "--------------------\n",
            "look_ahead_mask: tf.Tensor(\n",
            "[[0. 1. 1. 1. 1. 1. 1. 1. 1. 1.]\n",
            " [0. 0. 1. 1. 1. 1. 1. 1. 1. 1.]\n",
            " [0. 0. 0. 1. 1. 1. 1. 1. 1. 1.]\n",
            " [0. 0. 0. 0. 1. 1. 1. 1. 1. 1.]\n",
            " [0. 0. 0. 0. 0. 1. 1. 1. 1. 1.]\n",
            " [0. 0. 0. 0. 0. 0. 1. 1. 1. 1.]\n",
            " [0. 0. 0. 0. 0. 0. 0. 1. 1. 1.]\n",
            " [0. 0. 0. 0. 0. 0. 0. 0. 1. 1.]\n",
            " [0. 0. 0. 0. 0. 0. 0. 0. 0. 1.]\n",
            " [0. 0. 0. 0. 0. 0. 0. 0. 0. 0.]], shape=(10, 10), dtype=float32)\n",
            "--------------------\n",
            "combined_mask: tf.Tensor(\n",
            "[[[[0. 1. 1. 1. 1. 1. 1. 1. 1. 1.]\n",
            "   [0. 0. 1. 1. 1. 1. 1. 1. 1. 1.]\n",
            "   [0. 0. 0. 1. 1. 1. 1. 1. 1. 1.]\n",
            "   [0. 0. 0. 0. 1. 1. 1. 1. 1. 1.]\n",
            "   [0. 0. 0. 0. 0. 1. 1. 1. 1. 1.]\n",
            "   [0. 0. 0. 0. 0. 0. 1. 1. 1. 1.]\n",
            "   [0. 0. 0. 0. 0. 0. 0. 1. 1. 1.]\n",
            "   [0. 0. 0. 0. 0. 0. 0. 1. 1. 1.]\n",
            "   [0. 0. 0. 0. 0. 0. 0. 1. 1. 1.]\n",
            "   [0. 0. 0. 0. 0. 0. 0. 1. 1. 1.]]]\n",
            "\n",
            "\n",
            " [[[0. 1. 1. 1. 1. 1. 1. 1. 1. 1.]\n",
            "   [0. 0. 1. 1. 1. 1. 1. 1. 1. 1.]\n",
            "   [0. 0. 0. 1. 1. 1. 1. 1. 1. 1.]\n",
            "   [0. 0. 0. 0. 1. 1. 1. 1. 1. 1.]\n",
            "   [0. 0. 0. 0. 0. 1. 1. 1. 1. 1.]\n",
            "   [0. 0. 0. 0. 0. 0. 1. 1. 1. 1.]\n",
            "   [0. 0. 0. 0. 0. 0. 0. 1. 1. 1.]\n",
            "   [0. 0. 0. 0. 0. 0. 0. 0. 1. 1.]\n",
            "   [0. 0. 0. 0. 0. 0. 0. 0. 0. 1.]\n",
            "   [0. 0. 0. 0. 0. 0. 0. 0. 0. 0.]]]], shape=(2, 1, 10, 10), dtype=float32)\n"
          ]
        }
      ]
    },
    {
      "cell_type": "code",
      "source": [
        "# hyperparameters\n",
        "d_model = 4\n",
        "num_heads = 2\n",
        "dff = 8\n",
        "dec_layer = DecoderLayer(d_model, num_heads, dff)\n",
        "\n",
        "# Both inp and tar (en for encoder and ch for decoder) need padding mask\n",
        "inp_padding_mask = create_padding_mask(inp)\n",
        "tar_padding_mask = create_padding_mask(tar)\n",
        "\n",
        "# lood ahead mask + padding mask for target input.\n",
        "look_ahead_mask = create_look_ahead_mask(tar.shape[-1])\n",
        "combined_mask = tf.maximum(tar_padding_mask, look_ahead_mask)\n",
        "\n",
        "# enc_out from encoder. emb_tar hasn't applying positional encoding yet.\n",
        "dec_out, dec_self_attn_weights, dec_enc_attn_weights = dec_layer(\n",
        "                                     emb_tar, enc_out, False, combined_mask, inp_padding_mask)\n",
        "\n",
        "print(\"emb_tar:\", emb_tar)\n",
        "print(\"-\" * 20)\n",
        "print(\"enc_out:\", enc_out)\n",
        "print(\"-\" * 20)\n",
        "print(\"dec_out:\", dec_out)\n",
        "assert emb_tar.shape == dec_out.shape\n",
        "print(\"-\" * 20)\n",
        "print(\"dec_self_attn_weights.shape:\", dec_self_attn_weights.shape)\n",
        "print(\"dec_enc_attn_weights:\", dec_enc_attn_weights.shape)\n",
        "\n",
        "\n",
        "#shape of emb_tar: (2, 10, 4). 2 examples, 10 tokens, 4 embedding dimensions of zh embedding\n",
        "#shape of enc_out: (2, 8, 4). 2 examples, 8 tokens, 4 embedding dimensions of en embedding\n",
        "#shape of dec_out: (2, 10 , 4). 2 examples, 8 sums of attention from other tokens, 2 heads * 2 depth (multi heads)\n",
        "#shape of dec_self_attn_weights (2, 2, 10, 10): 2 examples, 2 heads. 10 x 10 attentions. 10 tokens and their attentions on each others\n",
        "#shape of dec_enc_attn_weights (2, 2, 10, 8): 2 examples, 2 heads, 10 x 8 attentions. 10 tokens and their attentions on encoder."
      ],
      "metadata": {
        "id": "LzSV1u4AgQWZ",
        "colab": {
          "base_uri": "https://localhost:8080/"
        },
        "outputId": "6e717f45-eac1-4d77-fb94-bc64242cb68b"
      },
      "execution_count": 49,
      "outputs": [
        {
          "output_type": "stream",
          "name": "stdout",
          "text": [
            "emb_tar: tf.Tensor(\n",
            "[[[-0.00003809  0.02078814  0.0123027  -0.0413463 ]\n",
            "  [-0.01186466 -0.00718495  0.02061463  0.03145773]\n",
            "  [ 0.03343013 -0.02533985 -0.03888715 -0.00947666]\n",
            "  [-0.04088186  0.03472645 -0.04847019 -0.03156561]\n",
            "  [ 0.00073323  0.00582252  0.04584754  0.04327263]\n",
            "  [-0.02272474 -0.03037575 -0.02887456 -0.04825801]\n",
            "  [ 0.00737081 -0.02178725  0.00632911 -0.03753779]\n",
            "  [-0.01153268  0.04393265 -0.02898805  0.01991346]\n",
            "  [-0.01153268  0.04393265 -0.02898805  0.01991346]\n",
            "  [-0.01153268  0.04393265 -0.02898805  0.01991346]]\n",
            "\n",
            " [[-0.00003809  0.02078814  0.0123027  -0.0413463 ]\n",
            "  [-0.01225784 -0.00463336 -0.02306047 -0.03860406]\n",
            "  [-0.02950935  0.00111842  0.03840322  0.04580555]\n",
            "  [-0.0413953  -0.00827926 -0.00790225 -0.00803288]\n",
            "  [-0.007319    0.00773299  0.01871021  0.01959158]\n",
            "  [ 0.02734912 -0.04120228  0.00704892 -0.01005193]\n",
            "  [ 0.04651746 -0.03131707 -0.03748842  0.04601295]\n",
            "  [ 0.03838119  0.01310394  0.04108498  0.02070406]\n",
            "  [-0.02272474 -0.03037575 -0.02887456 -0.04825801]\n",
            "  [ 0.00737081 -0.02178725  0.00632911 -0.03753779]]], shape=(2, 10, 4), dtype=float32)\n",
            "--------------------\n",
            "enc_out: tf.Tensor(\n",
            "[[[-0.45686638 -0.8393616   1.7079813  -0.41175342]\n",
            "  [-0.2950113  -1.4189955   1.3209585   0.3930482 ]\n",
            "  [-0.34067458  0.03478408 -1.2319627   1.5378532 ]\n",
            "  [-0.833727    1.2468072  -1.1189682   0.7058879 ]\n",
            "  [-1.2866867   1.3791683  -0.5142436   0.4217617 ]\n",
            "  [-1.2922702   0.13546768  1.4846532  -0.32785073]\n",
            "  [-0.4533368  -0.71503425  1.7245061  -0.55613506]\n",
            "  [-0.30388275 -1.2746067   1.5093889   0.06910065]]\n",
            "\n",
            " [[-0.48948804 -0.73142445  1.7240318  -0.50311935]\n",
            "  [-0.3522867  -1.296598    1.4707067   0.1781781 ]\n",
            "  [-0.4410661  -0.3201995  -0.9257293   1.6869948 ]\n",
            "  [-0.82980764  1.1963218  -1.1353768   0.7688626 ]\n",
            "  [-1.4434403   1.2967441  -0.261444    0.4081403 ]\n",
            "  [-1.0381074  -0.15711333  1.6424468  -0.44722617]\n",
            "  [-0.54026175 -0.54983324  1.7307208  -0.6406257 ]\n",
            "  [-0.37507418 -1.1826677   1.5685968  -0.01085505]]], shape=(2, 8, 4), dtype=float32)\n",
            "--------------------\n",
            "dec_out: tf.Tensor(\n",
            "[[[-0.3065005   1.686473   -0.9241887  -0.45578384]\n",
            "  [-1.3162103   0.30571914 -0.40677917  1.4172702 ]\n",
            "  [ 0.9438807  -0.8264886  -1.1584942   1.0411023 ]\n",
            "  [-0.37502784  1.5565609  -1.1984092   0.01687619]\n",
            "  [-0.8524297  -1.0222517   0.4519812   1.4227002 ]\n",
            "  [ 1.473952   -1.3232523  -0.25577992  0.10508031]\n",
            "  [ 1.0841694  -1.6346655   0.29668224  0.25381365]\n",
            "  [-0.6171729   1.2673491  -1.2741814   0.6240052 ]\n",
            "  [-0.6171729   1.2673491  -1.2741814   0.6240052 ]\n",
            "  [-0.6171729   1.2673491  -1.2741814   0.6240052 ]]\n",
            "\n",
            " [[-0.35785127  1.7086507  -0.81703836 -0.533761  ]\n",
            "  [-0.21321996  1.6200336  -1.1159981  -0.2908155 ]\n",
            "  [-1.5983863   0.6353278  -0.05595374  1.0190122 ]\n",
            "  [-1.4684594   1.0150654  -0.3693248   0.8227188 ]\n",
            "  [-1.3569727   0.15562615 -0.23979858  1.4411453 ]\n",
            "  [ 0.9690157  -1.5280564  -0.25423354  0.81327415]\n",
            "  [ 0.3167007  -0.78135216 -1.0288714   1.4935229 ]\n",
            "  [ 0.8425417  -1.6148659   0.8243883  -0.05206418]\n",
            "  [ 1.3402573   0.20037714 -0.0714688  -1.4691654 ]\n",
            "  [ 1.1985931  -1.0815387   0.7741769  -0.89123136]]], shape=(2, 10, 4), dtype=float32)\n",
            "--------------------\n",
            "dec_self_attn_weights.shape: (2, 2, 10, 10)\n",
            "dec_enc_attn_weights: (2, 2, 10, 8)\n"
          ]
        }
      ]
    },
    {
      "cell_type": "code",
      "source": [
        "class Decoder(tf.keras.layers.Layer):\n",
        "  #applying target_vocab_size as input\n",
        "  def __init__(self, num_layers, d_model, num_heads, dff, target_vocab_size,\n",
        "             rate=0.1):\n",
        "    super().__init__()\n",
        "\n",
        "    self.d_model = d_model\n",
        "    #cn dictionary as input\n",
        "    self.embedding = tf.keras.layers.Embedding(target_vocab_size, d_model)\n",
        "    self.pos_encoding = positional_encoding(target_vocab_size, self.d_model)\n",
        "    self.dec_layers = [DecoderLayer(d_model, num_heads, dff, rate)\n",
        "               for _ in range(num_layers)]\n",
        "    self.dropout = tf.keras.layers.Dropout(rate)\n",
        "\n",
        "  def call(self, x, enc_output, training,\n",
        "           combined_mask, inp_padding_mask):\n",
        "\n",
        "    tar_seq_len = tf.shape(x)[1]\n",
        "    attention_weights = {}  #for attentions of decoder itself.\n",
        "\n",
        "    # same process as encoder.\n",
        "    x = self.embedding(x)  # (batch_size, tar_seq_len, d_model)\n",
        "    x *= tf.math.sqrt(tf.cast(self.d_model, tf.float32))\n",
        "    x += self.pos_encoding[:, :tar_seq_len, :]\n",
        "    x = self.dropout(x, training=training)\n",
        "\n",
        "    for i, dec_layer in enumerate(self.dec_layers):\n",
        "      x, block1, block2 = dec_layer(x, enc_output, training,\n",
        "                        combined_mask, inp_padding_mask)\n",
        "\n",
        "      # save the weighting of attention layers of the decoder.\n",
        "      attention_weights['decoder_layer{}_block1'.format(i + 1)] = block1\n",
        "      attention_weights['decoder_layer{}_block2'.format(i + 1)] = block2\n",
        "\n",
        "    # x.shape = (batch_size, tar_seq_len, d_model)\n",
        "    return x, attention_weights"
      ],
      "metadata": {
        "id": "QQI2IiUXlaiY"
      },
      "execution_count": 50,
      "outputs": []
    },
    {
      "cell_type": "code",
      "source": [
        "# hyperparameters\n",
        "num_layers = 2 # 2 layers of decoder layers\n",
        "d_model = 4\n",
        "num_heads = 2\n",
        "dff = 8\n",
        "target_vocab_size = subword_encoder_zh.vocab_size + 2 # cn dictionary + 2 (<BOS>,<EOS>)\n",
        "\n",
        "# decoder need both look ahead and padding\n",
        "inp_padding_mask = create_padding_mask(inp)\n",
        "tar_padding_mask = create_padding_mask(tar)\n",
        "look_ahead_mask = create_look_ahead_mask(tar.shape[1])\n",
        "combined_mask = tf.math.maximum(tar_padding_mask, look_ahead_mask)\n",
        "\n",
        "# intial a decoder\n",
        "decoder = Decoder(num_layers, d_model, num_heads, dff, target_vocab_size)\n",
        "\n",
        "# it's an example, set input as tar (2,10)\n",
        "print(\"tar:\", tar)\n",
        "print(\"-\" * 20)\n",
        "print(\"combined_mask:\", combined_mask)\n",
        "print(\"-\" * 20)\n",
        "print(\"enc_out:\", enc_out)\n",
        "print(\"-\" * 20)\n",
        "print(\"inp_padding_mask:\", inp_padding_mask)\n",
        "print(\"-\" * 20)\n",
        "dec_out, attn = decoder(tar, enc_out, training=False,\n",
        "                        combined_mask=combined_mask,\n",
        "                        inp_padding_mask=inp_padding_mask)\n",
        "print(\"dec_out:\", dec_out)\n",
        "print(\"-\" * 20)\n",
        "for block_name, attn_weights in attn.items():\n",
        "  print(f\"{block_name}.shape: {attn_weights.shape}\")\n",
        "\n",
        "#shape of tar: (2, 10). 2 examples, 10 tokens\n",
        "#shape of enc_out: (2, 8, 4). 2 examples, 8 tokens, 4 embedding dimensions of en embedding\n",
        "#shape of dec_out: (2, 10, 4). 2 examples, 8 sums of attention from other tokens, 2 heads * 2 depth (multi heads)\n",
        "#shape of decoder_layer1_block1 (2, 2, 10, 10): 2 examples, 2 heads. 10 x 10 attentions. 10 tokens and their attentions on each others\n",
        "#shape of decoder_layer1_block2 (2, 2, 10, 8): 2 examples, 2 heads, 10 x 8 attentions. 10 tokens and their attentions on encoder.\n",
        "#shape of decoder_layer2_block1 (2, 2, 10, 10)\n",
        "#shape of decoder_layer2_block2 (2, 2, 10, 8)\n"
      ],
      "metadata": {
        "id": "fnNmeo21n0SX",
        "colab": {
          "base_uri": "https://localhost:8080/"
        },
        "outputId": "892e282d-1b27-4b65-fda8-dc7b8628d0db"
      },
      "execution_count": 51,
      "outputs": [
        {
          "output_type": "stream",
          "name": "stdout",
          "text": [
            "tar: tf.Tensor(\n",
            "[[4205   10  241   86   27    3 4206    0    0    0]\n",
            " [4205  165  489  398  191   14    7  560    3 4206]], shape=(2, 10), dtype=int64)\n",
            "--------------------\n",
            "combined_mask: tf.Tensor(\n",
            "[[[[0. 1. 1. 1. 1. 1. 1. 1. 1. 1.]\n",
            "   [0. 0. 1. 1. 1. 1. 1. 1. 1. 1.]\n",
            "   [0. 0. 0. 1. 1. 1. 1. 1. 1. 1.]\n",
            "   [0. 0. 0. 0. 1. 1. 1. 1. 1. 1.]\n",
            "   [0. 0. 0. 0. 0. 1. 1. 1. 1. 1.]\n",
            "   [0. 0. 0. 0. 0. 0. 1. 1. 1. 1.]\n",
            "   [0. 0. 0. 0. 0. 0. 0. 1. 1. 1.]\n",
            "   [0. 0. 0. 0. 0. 0. 0. 1. 1. 1.]\n",
            "   [0. 0. 0. 0. 0. 0. 0. 1. 1. 1.]\n",
            "   [0. 0. 0. 0. 0. 0. 0. 1. 1. 1.]]]\n",
            "\n",
            "\n",
            " [[[0. 1. 1. 1. 1. 1. 1. 1. 1. 1.]\n",
            "   [0. 0. 1. 1. 1. 1. 1. 1. 1. 1.]\n",
            "   [0. 0. 0. 1. 1. 1. 1. 1. 1. 1.]\n",
            "   [0. 0. 0. 0. 1. 1. 1. 1. 1. 1.]\n",
            "   [0. 0. 0. 0. 0. 1. 1. 1. 1. 1.]\n",
            "   [0. 0. 0. 0. 0. 0. 1. 1. 1. 1.]\n",
            "   [0. 0. 0. 0. 0. 0. 0. 1. 1. 1.]\n",
            "   [0. 0. 0. 0. 0. 0. 0. 0. 1. 1.]\n",
            "   [0. 0. 0. 0. 0. 0. 0. 0. 0. 1.]\n",
            "   [0. 0. 0. 0. 0. 0. 0. 0. 0. 0.]]]], shape=(2, 1, 10, 10), dtype=float32)\n",
            "--------------------\n",
            "enc_out: tf.Tensor(\n",
            "[[[-0.45686638 -0.8393616   1.7079813  -0.41175342]\n",
            "  [-0.2950113  -1.4189955   1.3209585   0.3930482 ]\n",
            "  [-0.34067458  0.03478408 -1.2319627   1.5378532 ]\n",
            "  [-0.833727    1.2468072  -1.1189682   0.7058879 ]\n",
            "  [-1.2866867   1.3791683  -0.5142436   0.4217617 ]\n",
            "  [-1.2922702   0.13546768  1.4846532  -0.32785073]\n",
            "  [-0.4533368  -0.71503425  1.7245061  -0.55613506]\n",
            "  [-0.30388275 -1.2746067   1.5093889   0.06910065]]\n",
            "\n",
            " [[-0.48948804 -0.73142445  1.7240318  -0.50311935]\n",
            "  [-0.3522867  -1.296598    1.4707067   0.1781781 ]\n",
            "  [-0.4410661  -0.3201995  -0.9257293   1.6869948 ]\n",
            "  [-0.82980764  1.1963218  -1.1353768   0.7688626 ]\n",
            "  [-1.4434403   1.2967441  -0.261444    0.4081403 ]\n",
            "  [-1.0381074  -0.15711333  1.6424468  -0.44722617]\n",
            "  [-0.54026175 -0.54983324  1.7307208  -0.6406257 ]\n",
            "  [-0.37507418 -1.1826677   1.5685968  -0.01085505]]], shape=(2, 8, 4), dtype=float32)\n",
            "--------------------\n",
            "inp_padding_mask: tf.Tensor(\n",
            "[[[[0. 0. 0. 0. 0. 0. 1. 1.]]]\n",
            "\n",
            "\n",
            " [[[0. 0. 0. 0. 0. 0. 0. 0.]]]], shape=(2, 1, 1, 8), dtype=float32)\n",
            "--------------------\n",
            "dec_out: tf.Tensor(\n",
            "[[[-0.99324566 -0.10650106 -0.544977    1.6447238 ]\n",
            "  [-0.7967876   0.6802678  -1.1449801   1.2614999 ]\n",
            "  [-0.83829457  1.1396408  -1.1388719   0.8375257 ]\n",
            "  [-0.9584273   1.2913854  -0.99058706  0.65762895]\n",
            "  [-1.100824    1.3428475  -0.8122633   0.5702399 ]\n",
            "  [-1.0520995   1.5293264  -0.70785403  0.23062703]\n",
            "  [-1.2791064   1.0753472  -0.66843     0.8721891 ]\n",
            "  [-1.0815125   1.4936868  -0.7131791   0.30100465]\n",
            "  [-1.0568857   1.4955204  -0.74382186  0.30518708]\n",
            "  [-0.95508033  1.3307662  -0.977245    0.60155904]]\n",
            "\n",
            " [[-1.3386267   1.1128421  -0.5741918   0.79997647]\n",
            "  [-1.1315401   1.1559451  -0.84379965  0.8193946 ]\n",
            "  [-1.0488695   1.2350686  -0.91685337  0.7306543 ]\n",
            "  [-1.107984    1.2817768  -0.83332664  0.6595338 ]\n",
            "  [-1.2234844   1.3219887  -0.6618606   0.56335616]\n",
            "  [-1.2810345   1.4404402  -0.44806165  0.28865603]\n",
            "  [-1.3680735   1.29968    -0.4331713   0.5015648 ]\n",
            "  [-1.1144255   1.2092922  -0.850915    0.75604844]\n",
            "  [-0.9952911   1.2325752  -0.97362757  0.7363436 ]\n",
            "  [-1.0738013   1.2511706  -0.8842318   0.70686245]]], shape=(2, 10, 4), dtype=float32)\n",
            "--------------------\n",
            "decoder_layer1_block1.shape: (2, 2, 10, 10)\n",
            "decoder_layer1_block2.shape: (2, 2, 10, 8)\n",
            "decoder_layer2_block1.shape: (2, 2, 10, 10)\n",
            "decoder_layer2_block2.shape: (2, 2, 10, 8)\n"
          ]
        }
      ]
    },
    {
      "cell_type": "code",
      "source": [
        "# Inherited from tf.keras.Model\n",
        "class Transformer(tf.keras.Model):\n",
        "  # arguments comprise argements of encoder, decoder and size of both en and ch dictionary.\n",
        "  def __init__(self, num_layers, d_model, num_heads, dff, input_vocab_size,\n",
        "               target_vocab_size, rate=0.1):\n",
        "    super().__init__()\n",
        "\n",
        "    self.encoder = Encoder(num_layers, d_model, num_heads, dff,\n",
        "                input_vocab_size, rate)\n",
        "\n",
        "    self.decoder = Decoder(num_layers, d_model, num_heads, dff,\n",
        "                target_vocab_size, rate)\n",
        "    # the size of ffn is euqal to ch dictionary. So when passing through softmax layer, it would generate the probability of each tokens.\n",
        "    self.final_layer = tf.keras.layers.Dense(target_vocab_size)\n",
        "\n",
        "  # enc_padding_mask and dec_padding_mask are both padding mask generated from en，\n",
        "  # One is for Encoder layer's MHA and the other is for Decoder layer's MHA 2\n",
        "  def call(self, inp, tar, training, enc_padding_mask,\n",
        "           combined_mask, dec_padding_mask):\n",
        "\n",
        "    enc_output = self.encoder(inp, training, enc_padding_mask)  # (batch_size, inp_seq_len, d_model)\n",
        "\n",
        "    # dec_output.shape = (batch_size, tar_seq_len, d_model)\n",
        "    dec_output, attention_weights = self.decoder(tar, enc_output, training,\n",
        "                            combined_mask, dec_padding_mask)\n",
        "\n",
        "    # last fnn layer before softmax.\n",
        "    final_output = self.final_layer(dec_output)  # (batch_size, tar_seq_len, target_vocab_size)\n",
        "\n",
        "    return final_output, attention_weights"
      ],
      "metadata": {
        "id": "OsSlGoPun3ag"
      },
      "execution_count": 116,
      "outputs": []
    },
    {
      "cell_type": "code",
      "source": [
        "tar[:,:-1]"
      ],
      "metadata": {
        "colab": {
          "base_uri": "https://localhost:8080/"
        },
        "id": "pLE1rjNOesD6",
        "outputId": "64878ec3-7e5a-4e21-f2d0-c47422eee374"
      },
      "execution_count": 53,
      "outputs": [
        {
          "output_type": "execute_result",
          "data": {
            "text/plain": [
              "<tf.Tensor: shape=(2, 9), dtype=int64, numpy=\n",
              "array([[4205,   10,  241,   86,   27,    3, 4206,    0,    0],\n",
              "       [4205,  165,  489,  398,  191,   14,    7,  560,    3]])>"
            ]
          },
          "metadata": {},
          "execution_count": 53
        }
      ]
    },
    {
      "cell_type": "code",
      "source": [
        "# hyperparameter\n",
        "num_layers = 1\n",
        "d_model = 4\n",
        "num_heads = 2\n",
        "dff = 8\n",
        "\n",
        "# + 2 for <BOS> & <EOS> token\n",
        "input_vocab_size = subword_encoder_en.vocab_size + 2\n",
        "output_vocab_size = subword_encoder_zh.vocab_size + 2\n",
        "\n",
        "# For predicting next word.\n",
        "# size of tar is (2,10),\n",
        "# tar[:, :-1] (2,9) the first token to 2 from the last. skip the last token. it's something the docoder read\n",
        "# and tar[:, 1:] from the second to the last. this is somthing we hope that decoder can generate.\n",
        "tar_inp = tar[:, :-1] # input of decoder.\n",
        "tar_real = tar[:, 1:] # it's the next token of tar_inp. tar[:, 0] vs. tar[:, 1]\n",
        "\n",
        "# combined mask for decoder to generate next work.\n",
        "inp_padding_mask = create_padding_mask(inp)\n",
        "tar_padding_mask = create_padding_mask(tar_inp)\n",
        "look_ahead_mask = create_look_ahead_mask(tar_inp.shape[1])\n",
        "combined_mask = tf.math.maximum(tar_padding_mask, look_ahead_mask)\n",
        "\n",
        "# intialize the transformer\n",
        "transformer = Transformer(num_layers, d_model, num_heads, dff,\n",
        "              input_vocab_size, output_vocab_size)\n",
        "\n",
        "# call the transformer\n",
        "predictions, attn_weights = transformer(inp, tar_inp, False, inp_padding_mask,\n",
        "                      combined_mask, inp_padding_mask)\n",
        "\n",
        "print(\"tar:\", tar)\n",
        "print(\"-\" * 20)\n",
        "print(\"tar_inp:\", tar_inp)\n",
        "print(\"-\" * 20)\n",
        "print(\"tar_real:\", tar_real)\n",
        "print(\"-\" * 20)\n",
        "print(\"predictions:\", predictions)\n",
        "\n",
        "#when decoder recieve first token from tar[:, 0] (<BOS> here), with the help of encoder,\n",
        "#the target of decoder is tar[:, 1]. (10 here)\n",
        "# the size of tar_real is (2,9) and the ouput size of prediction is (2,9,4107) where 4107 is the size of ch dictionary.\n",
        "# 2 examples, 9 next tokens (start from <BOS>), 4107 options in the ch dictionary for decoder."
      ],
      "metadata": {
        "id": "l1-vJi5ToQWy",
        "colab": {
          "base_uri": "https://localhost:8080/"
        },
        "outputId": "b5f913fd-2b08-42ca-d907-bf8a5569deea"
      },
      "execution_count": 54,
      "outputs": [
        {
          "output_type": "stream",
          "name": "stdout",
          "text": [
            "tar: tf.Tensor(\n",
            "[[4205   10  241   86   27    3 4206    0    0    0]\n",
            " [4205  165  489  398  191   14    7  560    3 4206]], shape=(2, 10), dtype=int64)\n",
            "--------------------\n",
            "tar_inp: tf.Tensor(\n",
            "[[4205   10  241   86   27    3 4206    0    0]\n",
            " [4205  165  489  398  191   14    7  560    3]], shape=(2, 9), dtype=int64)\n",
            "--------------------\n",
            "tar_real: tf.Tensor(\n",
            "[[  10  241   86   27    3 4206    0    0    0]\n",
            " [ 165  489  398  191   14    7  560    3 4206]], shape=(2, 9), dtype=int64)\n",
            "--------------------\n",
            "predictions: tf.Tensor(\n",
            "[[[-0.05528152  0.06290096  0.01011402 ...  0.02043662 -0.01187914\n",
            "   -0.01241975]\n",
            "  [ 0.01190244  0.02488848  0.0181387  ...  0.01180054  0.00191411\n",
            "    0.03780356]\n",
            "  [ 0.05305054 -0.02048023 -0.00167435 ... -0.00253333  0.0179859\n",
            "    0.04105541]\n",
            "  ...\n",
            "  [-0.03011649  0.05489373  0.00015077 ...  0.02016029  0.00222181\n",
            "    0.00296855]\n",
            "  [ 0.01319736  0.04381273  0.00933154 ...  0.02031524  0.01260706\n",
            "    0.04588727]\n",
            "  [ 0.06249398 -0.03151139 -0.00996228 ... -0.00601428  0.02358194\n",
            "    0.03932164]]\n",
            "\n",
            " [[-0.05479728  0.0627923   0.00985205 ...  0.02045237 -0.01155618\n",
            "   -0.01213498]\n",
            "  [ 0.00161882  0.03684713  0.02106856 ...  0.01569221 -0.00080699\n",
            "    0.03624023]\n",
            "  [ 0.04768933 -0.01556457  0.00194348 ... -0.00111728  0.01504009\n",
            "    0.04059804]\n",
            "  ...\n",
            "  [-0.02717381  0.05338851 -0.00085949 ...  0.01987886  0.00362705\n",
            "    0.0045034 ]\n",
            "  [ 0.0051162   0.05029279  0.01299925 ...  0.02208429  0.0089016\n",
            "    0.04362247]\n",
            "  [ 0.05619376 -0.02387699 -0.00405207 ... -0.00358087  0.01971301\n",
            "    0.04086172]]], shape=(2, 9, 4207), dtype=float32)\n"
          ]
        }
      ]
    },
    {
      "cell_type": "markdown",
      "source": [
        "Training process\n",
        "1. Define loss function, and it's metrics\n",
        "2. Get rid of the loss of padding\n",
        "3. Define the optimizer using schedule"
      ],
      "metadata": {
        "id": "x7BviA9Gi2WV"
      }
    },
    {
      "cell_type": "code",
      "source": [
        "loss_object = tf.keras.losses.SparseCategoricalCrossentropy(\n",
        "    from_logits=True, reduction='none')\n",
        "\n",
        "#logits mean the sum of input is not equal to one. Haven't gone through the softmax layer\n",
        "#reduction = none means don't add up all the error here because we intent to get rid of padding loss later.\n",
        "\n",
        "real = tf.constant([1, 1, 0], shape=(1, 3), dtype=tf.float32)\n",
        "pred = tf.constant([[0, 1], [0, 1], [0, 1]], dtype=tf.float32)\n",
        "loss_object(real, pred)"
      ],
      "metadata": {
        "id": "eIdl5qwsoVrH",
        "colab": {
          "base_uri": "https://localhost:8080/"
        },
        "outputId": "5c173a12-8153-4401-804f-2df6c93650fc"
      },
      "execution_count": 56,
      "outputs": [
        {
          "output_type": "execute_result",
          "data": {
            "text/plain": [
              "<tf.Tensor: shape=(3,), dtype=float32, numpy=array([0.31326175, 0.31326175, 1.3132617 ], dtype=float32)>"
            ]
          },
          "metadata": {},
          "execution_count": 56
        }
      ]
    },
    {
      "cell_type": "code",
      "source": [
        "print(\"predictions:\", predictions)\n",
        "print(\"-\" * 20)\n",
        "print(tf.reduce_sum(predictions, axis=-1))"
      ],
      "metadata": {
        "colab": {
          "base_uri": "https://localhost:8080/"
        },
        "id": "66epy8FujW7X",
        "outputId": "d9019bc3-1cac-42a3-cfc8-a65c7673b3c0"
      },
      "execution_count": 57,
      "outputs": [
        {
          "output_type": "stream",
          "name": "stdout",
          "text": [
            "predictions: tf.Tensor(\n",
            "[[[-0.05528152  0.06290096  0.01011402 ...  0.02043662 -0.01187914\n",
            "   -0.01241975]\n",
            "  [ 0.01190244  0.02488848  0.0181387  ...  0.01180054  0.00191411\n",
            "    0.03780356]\n",
            "  [ 0.05305054 -0.02048023 -0.00167435 ... -0.00253333  0.0179859\n",
            "    0.04105541]\n",
            "  ...\n",
            "  [-0.03011649  0.05489373  0.00015077 ...  0.02016029  0.00222181\n",
            "    0.00296855]\n",
            "  [ 0.01319736  0.04381273  0.00933154 ...  0.02031524  0.01260706\n",
            "    0.04588727]\n",
            "  [ 0.06249398 -0.03151139 -0.00996228 ... -0.00601428  0.02358194\n",
            "    0.03932164]]\n",
            "\n",
            " [[-0.05479728  0.0627923   0.00985205 ...  0.02045237 -0.01155618\n",
            "   -0.01213498]\n",
            "  [ 0.00161882  0.03684713  0.02106856 ...  0.01569221 -0.00080699\n",
            "    0.03624023]\n",
            "  [ 0.04768933 -0.01556457  0.00194348 ... -0.00111728  0.01504009\n",
            "    0.04059804]\n",
            "  ...\n",
            "  [-0.02717381  0.05338851 -0.00085949 ...  0.01987886  0.00362705\n",
            "    0.0045034 ]\n",
            "  [ 0.0051162   0.05029279  0.01299925 ...  0.02208429  0.0089016\n",
            "    0.04362247]\n",
            "  [ 0.05619376 -0.02387699 -0.00405207 ... -0.00358087  0.01971301\n",
            "    0.04086172]]], shape=(2, 9, 4207), dtype=float32)\n",
            "--------------------\n",
            "tf.Tensor(\n",
            "[[ 4.1479416 -6.9233875 -6.0759444 -2.1058009  4.733883   5.142081\n",
            "   4.209957  -4.048899  -4.695629 ]\n",
            " [ 4.1720686 -6.483134  -6.5285187 -1.3133979  4.451954   5.3212357\n",
            "   4.1611924 -4.1724744 -5.7347703]], shape=(2, 9), dtype=float32)\n"
          ]
        }
      ]
    },
    {
      "cell_type": "code",
      "source": [
        "def loss_function(real, pred):\n",
        "  # tar[:, :-1] as real, output of decoder as pred\n",
        "  # mask out the the padding where is 0 in the tar[:, :-1]\n",
        "  mask = tf.math.logical_not(tf.math.equal(real, 0))\n",
        "  # loss of all postiion in (2,9)\n",
        "  loss_ = loss_object(real, pred)\n",
        "  mask = tf.cast(mask, dtype=loss_.dtype)\n",
        "  loss_ *= mask  # mask out <pad>\n",
        "\n",
        "  return tf.reduce_mean(loss_)\n",
        "\n",
        "def masked_accuracy(real, pred):\n",
        "  pred = tf.argmax(pred, axis=2)\n",
        "  label = tf.cast(real, pred.dtype)\n",
        "  match = real == pred\n",
        "\n",
        "  mask = real != 0\n",
        "\n",
        "  match = match & mask\n",
        "\n",
        "  match = tf.cast(match, dtype=tf.float32)\n",
        "  mask = tf.cast(mask, dtype=tf.float32)\n",
        "  return tf.reduce_sum(match)/tf.reduce_sum(mask)"
      ],
      "metadata": {
        "id": "8HyD3HlYjPae"
      },
      "execution_count": 117,
      "outputs": []
    },
    {
      "cell_type": "code",
      "source": [
        "train_loss = tf.keras.metrics.Mean(name='train_loss')\n",
        "train_accuracy = tf.keras.metrics.SparseCategoricalAccuracy(\n",
        "                               name='train_accuracy')"
      ],
      "metadata": {
        "id": "i4kQlJW4jSwu"
      },
      "execution_count": 60,
      "outputs": []
    },
    {
      "cell_type": "code",
      "source": [
        "num_layers = 4\n",
        "d_model = 128\n",
        "dff = 512\n",
        "num_heads = 8\n",
        "\n",
        "input_vocab_size = subword_encoder_en.vocab_size + 2\n",
        "target_vocab_size = subword_encoder_zh.vocab_size + 2\n",
        "dropout_rate = 0.1  # default\n",
        "\n",
        "print(\"input_vocab_size:\", input_vocab_size)\n",
        "print(\"target_vocab_size:\", target_vocab_size)"
      ],
      "metadata": {
        "id": "JsCM_gk_je6y",
        "outputId": "4cd8cba8-129c-4f09-e9af-f7164ac94b79",
        "colab": {
          "base_uri": "https://localhost:8080/"
        }
      },
      "execution_count": 118,
      "outputs": [
        {
          "output_type": "stream",
          "name": "stdout",
          "text": [
            "input_vocab_size: 8115\n",
            "target_vocab_size: 4207\n"
          ]
        }
      ]
    },
    {
      "cell_type": "code",
      "source": [
        "class CustomSchedule(tf.keras.optimizers.schedules.LearningRateSchedule):\n",
        "  # default `warmup_steps` = 4000\n",
        "  def __init__(self, d_model, warmup_steps=4000):\n",
        "    super().__init__()\n",
        "\n",
        "    self.d_model = d_model\n",
        "    self.d_model = tf.cast(self.d_model, tf.float32)\n",
        "    self.warmup_steps = warmup_steps\n",
        "\n",
        "  def __call__(self, step):\n",
        "    step = tf.cast(step, tf.float32)\n",
        "    arg1 = tf.math.rsqrt(step)\n",
        "    arg2 = step * (self.warmup_steps ** -1.5)\n",
        "\n",
        "    return tf.math.rsqrt(self.d_model) * tf.math.minimum(arg1, arg2)\n",
        "\n",
        "# Put learning rate schdeule into Adam opt.\n",
        "# Adam opt. 的參數都跟論文相同\n",
        "learning_rate = CustomSchedule(d_model)\n",
        "optimizer = tf.keras.optimizers.Adam(learning_rate, beta_1=0.9, beta_2=0.98,\n",
        "                                     epsilon=1e-9)"
      ],
      "metadata": {
        "id": "RKdLEXS0jhw-"
      },
      "execution_count": 119,
      "outputs": []
    },
    {
      "cell_type": "code",
      "source": [
        "d_models = [128, 256, 512]\n",
        "warmup_steps = [1000 * i for i in range(1, 4)]\n",
        "\n",
        "schedules = []\n",
        "labels = []\n",
        "colors = [\"blue\", \"red\", \"black\"]\n",
        "for d in d_models:\n",
        "  schedules += [CustomSchedule(d, s) for s in warmup_steps]\n",
        "  labels += [f\"d_model: {d}, warm: {s}\" for s in warmup_steps]\n",
        "\n",
        "for i, (schedule, label) in enumerate(zip(schedules, labels)):\n",
        "  plt.plot(schedule(tf.range(10000, dtype=tf.float32)),\n",
        "           label=label, color=colors[i // 3])\n",
        "\n",
        "plt.legend()\n",
        "\n",
        "plt.ylabel(\"Learning Rate\")\n",
        "plt.xlabel(\"Train Step\")"
      ],
      "metadata": {
        "id": "fw6NHTQsj63O",
        "outputId": "f298e559-38c0-4d6c-862a-45b219661d6c",
        "colab": {
          "base_uri": "https://localhost:8080/",
          "height": 466
        }
      },
      "execution_count": 63,
      "outputs": [
        {
          "output_type": "execute_result",
          "data": {
            "text/plain": [
              "Text(0.5, 0, 'Train Step')"
            ]
          },
          "metadata": {},
          "execution_count": 63
        },
        {
          "output_type": "display_data",
          "data": {
            "text/plain": [
              "<Figure size 640x480 with 1 Axes>"
            ],
            "image/png": "[encoded data removed]"
          },
          "metadata": {}
        }
      ]
    },
    {
      "cell_type": "code",
      "source": [
        "transformer = Transformer(num_layers, d_model, num_heads, dff,\n",
        "                          input_vocab_size, target_vocab_size, dropout_rate)\n",
        "\n",
        "print(f\"\"\"This Transformer incorperates {num_layers}  Encoder / Decoder layers\n",
        "d_model: {d_model}\n",
        "num_heads: {num_heads}\n",
        "dff: {dff}\n",
        "input_vocab_size: {input_vocab_size}\n",
        "target_vocab_size: {target_vocab_size}\n",
        "dropout_rate: {dropout_rate}\n",
        "\n",
        "\"\"\")"
      ],
      "metadata": {
        "id": "9hTSd191mz_J",
        "outputId": "b669f188-8ad7-4285-c23c-4fd2a178f5db",
        "colab": {
          "base_uri": "https://localhost:8080/"
        }
      },
      "execution_count": 122,
      "outputs": [
        {
          "output_type": "stream",
          "name": "stdout",
          "text": [
            "This Transformer incorperates 4  Encoder / Decoder layers\n",
            "d_model: 128\n",
            "num_heads: 8\n",
            "dff: 512\n",
            "input_vocab_size: 8115\n",
            "target_vocab_size: 4207\n",
            "dropout_rate: 0.1\n",
            "\n",
            "\n"
          ]
        }
      ]
    },
    {
      "cell_type": "code",
      "source": [
        "# transformer.compile(\n",
        "#     loss=loss_function,\n",
        "#     optimizer=optimizer,\n",
        "#     metrics=[masked_accuracy])"
      ],
      "metadata": {
        "id": "oPQeSQkNYsIO"
      },
      "execution_count": 121,
      "outputs": []
    },
    {
      "cell_type": "code",
      "source": [
        "# transformer.fit(train_examples,\n",
        "#                 epochs=20,\n",
        "#                 validation_data=val_examples)\n",
        "# Need custom training process"
      ],
      "metadata": {
        "id": "R1jBiiwTZcDP",
        "outputId": "c366dd6f-cc73-499d-b5c2-688ad31274db",
        "colab": {
          "base_uri": "https://localhost:8080/",
          "height": 359
        }
      },
      "execution_count": 114,
      "outputs": [
        {
          "output_type": "error",
          "ename": "ValueError",
          "evalue": "ignored",
          "traceback": [
            "\u001b[0;31m---------------------------------------------------------------------------\u001b[0m",
            "\u001b[0;31mValueError\u001b[0m                                Traceback (most recent call last)",
            "\u001b[0;32m<ipython-input-114-bccab925a275>\u001b[0m in \u001b[0;36m<cell line: 1>\u001b[0;34m()\u001b[0m\n\u001b[0;32m----> 1\u001b[0;31m transformer.fit(train_examples,\n\u001b[0m\u001b[1;32m      2\u001b[0m                 \u001b[0mepochs\u001b[0m\u001b[0;34m=\u001b[0m\u001b[0;36m20\u001b[0m\u001b[0;34m,\u001b[0m\u001b[0;34m\u001b[0m\u001b[0;34m\u001b[0m\u001b[0m\n\u001b[1;32m      3\u001b[0m                 validation_data=val_examples)\n",
            "\u001b[0;32m/usr/local/lib/python3.10/dist-packages/keras/utils/traceback_utils.py\u001b[0m in \u001b[0;36merror_handler\u001b[0;34m(*args, **kwargs)\u001b[0m\n\u001b[1;32m     68\u001b[0m             \u001b[0;31m# To get the full stack trace, call:\u001b[0m\u001b[0;34m\u001b[0m\u001b[0;34m\u001b[0m\u001b[0m\n\u001b[1;32m     69\u001b[0m             \u001b[0;31m# `tf.debugging.disable_traceback_filtering()`\u001b[0m\u001b[0;34m\u001b[0m\u001b[0;34m\u001b[0m\u001b[0m\n\u001b[0;32m---> 70\u001b[0;31m             \u001b[0;32mraise\u001b[0m \u001b[0me\u001b[0m\u001b[0;34m.\u001b[0m\u001b[0mwith_traceback\u001b[0m\u001b[0;34m(\u001b[0m\u001b[0mfiltered_tb\u001b[0m\u001b[0;34m)\u001b[0m \u001b[0;32mfrom\u001b[0m \u001b[0;32mNone\u001b[0m\u001b[0;34m\u001b[0m\u001b[0;34m\u001b[0m\u001b[0m\n\u001b[0m\u001b[1;32m     71\u001b[0m         \u001b[0;32mfinally\u001b[0m\u001b[0;34m:\u001b[0m\u001b[0;34m\u001b[0m\u001b[0;34m\u001b[0m\u001b[0m\n\u001b[1;32m     72\u001b[0m             \u001b[0;32mdel\u001b[0m \u001b[0mfiltered_tb\u001b[0m\u001b[0;34m\u001b[0m\u001b[0;34m\u001b[0m\u001b[0m\n",
            "\u001b[0;32m/usr/local/lib/python3.10/dist-packages/keras/engine/training.py\u001b[0m in \u001b[0;36m_check_call_args\u001b[0;34m(self, method_name)\u001b[0m\n\u001b[1;32m   3559\u001b[0m         \u001b[0;32mif\u001b[0m \u001b[0mlen\u001b[0m\u001b[0;34m(\u001b[0m\u001b[0mpositional_args\u001b[0m\u001b[0;34m)\u001b[0m \u001b[0;34m>\u001b[0m \u001b[0;36m2\u001b[0m\u001b[0;34m:\u001b[0m\u001b[0;34m\u001b[0m\u001b[0;34m\u001b[0m\u001b[0m\n\u001b[1;32m   3560\u001b[0m             \u001b[0mextra_args\u001b[0m \u001b[0;34m=\u001b[0m \u001b[0mpositional_args\u001b[0m\u001b[0;34m[\u001b[0m\u001b[0;36m2\u001b[0m\u001b[0;34m:\u001b[0m\u001b[0;34m]\u001b[0m\u001b[0;34m\u001b[0m\u001b[0;34m\u001b[0m\u001b[0m\n\u001b[0;32m-> 3561\u001b[0;31m             raise ValueError(\n\u001b[0m\u001b[1;32m   3562\u001b[0m                 \u001b[0;34mf\"Models passed to `{method_name}` can only have `training` \"\u001b[0m\u001b[0;34m\u001b[0m\u001b[0;34m\u001b[0m\u001b[0m\n\u001b[1;32m   3563\u001b[0m                 \u001b[0;34m\"and the first argument in `call()` as positional arguments, \"\u001b[0m\u001b[0;34m\u001b[0m\u001b[0;34m\u001b[0m\u001b[0m\n",
            "\u001b[0;31mValueError\u001b[0m: Models passed to `fit` can only have `training` and the first argument in `call()` as positional arguments, found: ['tar', 'enc_padding_mask', 'combined_mask', 'dec_padding_mask']."
          ]
        }
      ]
    },
    {
      "cell_type": "code",
      "source": [
        "def create_masks(inp, tar):\n",
        "  enc_padding_mask = create_padding_mask(inp)\n",
        "  dec_padding_mask = create_padding_mask(inp)\n",
        "  look_ahead_mask = create_look_ahead_mask(tf.shape(tar)[1])\n",
        "  dec_target_padding_mask = create_padding_mask(tar)\n",
        "  combined_mask = tf.maximum(dec_target_padding_mask, look_ahead_mask)\n",
        "\n",
        "  return enc_padding_mask, combined_mask, dec_padding_mask"
      ],
      "metadata": {
        "id": "5GgoC14Hm2Ps"
      },
      "execution_count": 124,
      "outputs": []
    },
    {
      "cell_type": "code",
      "source": [
        "@tf.function  # engar mode to speed up training\n",
        "def train_step(inp, tar):\n",
        "\n",
        "  tar_inp = tar[:, :-1]\n",
        "  tar_real = tar[:, 1:]\n",
        "  #create masks\n",
        "  enc_padding_mask, combined_mask, dec_padding_mask = create_masks(inp, tar_inp)\n",
        "\n",
        "   # start the scope of gradient\n",
        "  with tf.GradientTape() as tape:\n",
        "    # forward pass, use tar_inp instead of tar, setting training as True\n",
        "    predictions, _ = transformer(inp, tar_inp,\n",
        "                                 True,\n",
        "                                 enc_padding_mask,\n",
        "                                 combined_mask,\n",
        "                                 dec_padding_mask)\n",
        "    # calculate the loss\n",
        "    loss = loss_function(tar_real, predictions)\n",
        "\n",
        "  # calculate the gradient, and update tranable variables in the transformer\n",
        "  gradients = tape.gradient(loss, transformer.trainable_variables)\n",
        "  optimizer.apply_gradients(zip(gradients, transformer.trainable_variables))\n",
        "\n",
        "  # tensor board\n",
        "  train_loss(loss)\n",
        "  train_accuracy(tar_real, predictions)"
      ],
      "metadata": {
        "id": "0AJmK1QznJea"
      },
      "execution_count": 125,
      "outputs": []
    },
    {
      "cell_type": "code",
      "source": [
        "EPOCHS = 30\n",
        "\n",
        "# 比對設定的 `EPOCHS` 以及已訓練的 `last_epoch` 來決定還要訓練多少 epochs\n",
        "for epoch in range(EPOCHS):\n",
        "  start = time.time()\n",
        "\n",
        "  # reset TensorBoard metrics\n",
        "  train_loss.reset_states()\n",
        "  train_accuracy.reset_states()\n",
        "\n",
        "  # training steps and train data\n",
        "  for (step_idx, (inp, tar)) in enumerate(train_dataset):\n",
        "    train_step(inp, tar)\n",
        "\n",
        "  print('Epoch {} Loss {:.4f} Accuracy {:.4f}'.format(epoch + 1,\n",
        "                                                train_loss.result(),\n",
        "                                                train_accuracy.result()))\n",
        "  print('Time taken for 1 epoch: {} secs\\n'.format(time.time() - start))\n",
        "\n"
      ],
      "metadata": {
        "id": "HVLXkMpYnTsX",
        "outputId": "4a8367dc-28e9-4b5f-8aca-4464cd2f14db",
        "colab": {
          "base_uri": "https://localhost:8080/"
        }
      },
      "execution_count": 144,
      "outputs": [
        {
          "output_type": "stream",
          "name": "stdout",
          "text": [
            "Epoch 1 Loss 1.4830 Accuracy 0.3620\n",
            "Time taken for 1 epoch: 25.76222062110901 secs\n",
            "\n",
            "Epoch 2 Loss 1.4306 Accuracy 0.3694\n",
            "Time taken for 1 epoch: 15.09987187385559 secs\n",
            "\n",
            "Epoch 3 Loss 1.3839 Accuracy 0.3766\n",
            "Time taken for 1 epoch: 15.678091287612915 secs\n",
            "\n",
            "Epoch 4 Loss 1.3420 Accuracy 0.3828\n",
            "Time taken for 1 epoch: 16.24576711654663 secs\n",
            "\n",
            "Epoch 5 Loss 1.3032 Accuracy 0.3887\n",
            "Time taken for 1 epoch: 16.471293687820435 secs\n",
            "\n",
            "Epoch 6 Loss 1.2658 Accuracy 0.3943\n",
            "Time taken for 1 epoch: 15.99833369255066 secs\n",
            "\n",
            "Epoch 7 Loss 1.2331 Accuracy 0.3992\n",
            "Time taken for 1 epoch: 16.511935234069824 secs\n",
            "\n",
            "Epoch 8 Loss 1.2027 Accuracy 0.4038\n",
            "Time taken for 1 epoch: 16.205184936523438 secs\n",
            "\n",
            "Epoch 9 Loss 1.1741 Accuracy 0.4082\n",
            "Time taken for 1 epoch: 16.25140619277954 secs\n",
            "\n",
            "Epoch 10 Loss 1.1476 Accuracy 0.4127\n",
            "Time taken for 1 epoch: 15.98979115486145 secs\n",
            "\n"
          ]
        }
      ]
    },
    {
      "cell_type": "code",
      "source": [
        "def evaluate(inp_sentence):\n",
        "\n",
        "  # find position of <BOS>, <EOS>\n",
        "  start_token = [subword_encoder_en.vocab_size]\n",
        "  end_token = [subword_encoder_en.vocab_size + 1]\n",
        "\n",
        "  # subword_encoder_en.encode(inp_sentence) is the list of position in the dictionary of given sentences\n",
        "  # add <BOS>, <EOS> to the given sentence\n",
        "  inp_sentence = start_token + subword_encoder_en.encode(inp_sentence) + end_token\n",
        "  encoder_input = tf.expand_dims(inp_sentence, 0)\n",
        "  #print(inp_sentence)\n",
        "\n",
        "  # The input of decoder is zh with only <BOS>\n",
        "  decoder_input = [subword_encoder_zh.vocab_size]\n",
        "  output = tf.expand_dims(decoder_input, 0)\n",
        "\n",
        "\n",
        "  # auto-regressive，generate new token and feed it back to Transformer\n",
        "  for i in range(MAX_LENGTH):\n",
        "    # Create new mask for every new generated token\n",
        "    enc_padding_mask, combined_mask, dec_padding_mask = create_masks(\n",
        "        encoder_input, output)\n",
        "\n",
        "    # predictions.shape = (batch_size, seq_len, vocab_size)\n",
        "    # forward pass\n",
        "    predictions, attention_weights = transformer(encoder_input,\n",
        "                                                 output,\n",
        "                                                 False,\n",
        "                                                 enc_padding_mask,\n",
        "                                                 combined_mask,\n",
        "                                                 dec_padding_mask)\n",
        "\n",
        "    # 將序列中最後一個 distribution 取出，並將裡頭值最大的當作模型最新的預測字\n",
        "    # size of prediction go from (2, 1, 4207) to (2, 9, 4207). -1 means the next token\n",
        "    predictions = predictions[: , -1:, :]  # (batch_size, 1, vocab_size)\n",
        "\n",
        "    predicted_id = tf.cast(tf.argmax(predictions, axis=-1), tf.int32) #get max out of 4107\n",
        "\n",
        "    # if predicted_id = <EOS> then stop translating\n",
        "    if tf.equal(predicted_id, subword_encoder_zh.vocab_size + 1):\n",
        "      return tf.squeeze(output, axis=0), attention_weights\n",
        "\n",
        "    #add predicted_id to the out and feed it back to transformer.\n",
        "    # [<BOS>, predicted_id ....]\n",
        "    output = tf.concat([output, predicted_id], axis=-1)\n",
        "\n",
        "  # return output result and attention weighting\n",
        "  return tf.squeeze(output, axis=0), attention_weights"
      ],
      "metadata": {
        "id": "fSE6DHdlscTE"
      },
      "execution_count": 173,
      "outputs": []
    },
    {
      "cell_type": "code",
      "source": [
        "#pip install opencc-python-reimplemented"
      ],
      "metadata": {
        "id": "ycbxzRVQ1Ucu",
        "outputId": "f633fc2c-13ba-4161-c829-e72ea02b7310",
        "colab": {
          "base_uri": "https://localhost:8080/"
        }
      },
      "execution_count": 140,
      "outputs": [
        {
          "output_type": "stream",
          "name": "stdout",
          "text": [
            "Collecting opencc-python-reimplemented\n",
            "  Downloading opencc_python_reimplemented-0.1.7-py2.py3-none-any.whl (481 kB)\n",
            "\u001b[2K     \u001b[90m━━━━━━━━━━━━━━━━━━━━━━━━━━━━━━━━━━━━━━━\u001b[0m \u001b[32m481.8/481.8 kB\u001b[0m \u001b[31m5.7 MB/s\u001b[0m eta \u001b[36m0:00:00\u001b[0m\n",
            "\u001b[?25hInstalling collected packages: opencc-python-reimplemented\n",
            "Successfully installed opencc-python-reimplemented-0.1.7\n"
          ]
        }
      ]
    },
    {
      "cell_type": "code",
      "source": [
        "from opencc import OpenCC\n",
        "\n",
        "# simplified chinese to tranditional chinese\n",
        "def simplified_to_traditional(simplified_text):\n",
        "    cc = OpenCC('s2t')  # s2t: Simplified to Traditional\n",
        "    traditional_text = cc.convert(simplified_text)\n",
        "    return traditional_text"
      ],
      "metadata": {
        "id": "ES4J5yV21Zfn"
      },
      "execution_count": 141,
      "outputs": []
    },
    {
      "cell_type": "code",
      "source": [
        "# taret en sentence\n",
        "sentence = \"Many countries on earth are suffering from a great inflation\"\n",
        "\n",
        "# predicted seq, translated zh sentence\n",
        "predicted_seq, _ = evaluate(sentence)\n",
        "\n",
        "\n",
        "# filter out <BOS> & <EOS> tokens and transfer subword tokenizer to zh sentence\n",
        "target_vocab_size = subword_encoder_zh.vocab_size\n",
        "predicted_seq_without_bos_eos = [idx for idx in predicted_seq if idx < target_vocab_size]\n",
        "predicted_sentence = subword_encoder_zh.decode(predicted_seq_without_bos_eos)\n",
        "\n",
        "print(\"sentence:\", sentence)\n",
        "print(\"-\" * 20)\n",
        "print(\"predicted_seq:\", predicted_seq)\n",
        "print(\"-\" * 20)\n",
        "print(\"predicted_sentence:\", simplified_to_traditional(predicted_sentence))\n",
        "\n",
        "#If the en input is only one word 'good'. the predicted chinese token start with '好' but\n",
        "#the following word is not <EOS> instead it continuing to translate..\n",
        "#training materials if from newscommentary, so the model prone to speak political language."
      ],
      "metadata": {
        "id": "2kbe5xcesdyN",
        "outputId": "080eef18-5e52-48d6-db7f-d35f024e5c6d",
        "colab": {
          "base_uri": "https://localhost:8080/"
        }
      },
      "execution_count": 191,
      "outputs": [
        {
          "output_type": "stream",
          "name": "stdout",
          "text": [
            "sentence: Many countries on earth are suffering from a great inflation\n",
            "--------------------\n",
            "predicted_seq: tf.Tensor(\n",
            "[4205  215   53    4   33    5  189   40  482   18  170  607    1  403\n",
            "  571   16  189   40   14  482   18    1  170  607    3], shape=(25,), dtype=int32)\n",
            "--------------------\n",
            "predicted_sentence: 許多國家在受到巨大通脹的威脅中受到了巨大的通脹。\n"
          ]
        }
      ]
    },
    {
      "cell_type": "code",
      "source": [
        "transformer.summary()"
      ],
      "metadata": {
        "id": "Td18FI8xtBP1",
        "outputId": "f888062b-cec8-4fe5-9971-9359e3cc0714",
        "colab": {
          "base_uri": "https://localhost:8080/"
        }
      },
      "execution_count": 134,
      "outputs": [
        {
          "output_type": "stream",
          "name": "stdout",
          "text": [
            "Model: \"transformer_15\"\n",
            "_________________________________________________________________\n",
            " Layer (type)                Output Shape              Param #   \n",
            "=================================================================\n",
            " encoder_16 (Encoder)        multiple                  1831808   \n",
            "                                                                 \n",
            " decoder_16 (Decoder)        multiple                  1596800   \n",
            "                                                                 \n",
            " dense_1047 (Dense)          multiple                  542703    \n",
            "                                                                 \n",
            "=================================================================\n",
            "Total params: 3,971,311\n",
            "Trainable params: 3,971,311\n",
            "Non-trainable params: 0\n",
            "_________________________________________________________________\n"
          ]
        }
      ]
    },
    {
      "cell_type": "code",
      "source": [
        "predicted_seq, attention_weights = evaluate(sentence)\n",
        "\n",
        "# 在這邊我們自動選擇最後一個 Decoder layer 的 MHA 2，也就是 Decoder 關注 Encoder 的 MHA\n",
        "layer_name = f\"decoder_layer{num_layers}_block2\"\n",
        "\n",
        "print(\"sentence:\", sentence)\n",
        "print(\"-\" * 20)\n",
        "print(\"predicted_seq:\", predicted_seq)\n",
        "print(\"-\" * 20)\n",
        "print(\"attention_weights.keys():\")\n",
        "for layer_name, attn in attention_weights.items():\n",
        "  print(f\"{layer_name}.shape: {attn.shape}\")\n",
        "print(\"-\" * 20)\n",
        "print(\"layer_name:\", layer_name)"
      ],
      "metadata": {
        "id": "W3sAberwsltO",
        "outputId": "bedd8dac-46c5-485b-bb3d-f58f8a1acd1d",
        "colab": {
          "base_uri": "https://localhost:8080/"
        }
      },
      "execution_count": 135,
      "outputs": [
        {
          "output_type": "stream",
          "name": "stdout",
          "text": [
            "sentence: China, India, and others have enjoyed continuing economic growth.\n",
            "--------------------\n",
            "predicted_seq: tf.Tensor(\n",
            "[4205   16    4   36  378  100    8   35   32    4   33  111    5  530\n",
            "  294  556  632   22   49  105   83    3], shape=(22,), dtype=int32)\n",
            "--------------------\n",
            "attention_weights.keys():\n",
            "decoder_layer1_block1.shape: (1, 8, 22, 22)\n",
            "decoder_layer1_block2.shape: (1, 8, 22, 15)\n",
            "decoder_layer2_block1.shape: (1, 8, 22, 22)\n",
            "decoder_layer2_block2.shape: (1, 8, 22, 15)\n",
            "decoder_layer3_block1.shape: (1, 8, 22, 22)\n",
            "decoder_layer3_block2.shape: (1, 8, 22, 15)\n",
            "decoder_layer4_block1.shape: (1, 8, 22, 22)\n",
            "decoder_layer4_block2.shape: (1, 8, 22, 15)\n",
            "--------------------\n",
            "layer_name: decoder_layer4_block2\n"
          ]
        }
      ]
    },
    {
      "cell_type": "code",
      "source": [
        "!apt-get install -y fonts-wqy-zenhei\n",
        "!fc-cache -fv"
      ],
      "metadata": {
        "id": "53804PzZ5haC",
        "outputId": "6fd2de78-cb6d-4491-b67c-82167d661de9",
        "colab": {
          "base_uri": "https://localhost:8080/"
        }
      },
      "execution_count": 138,
      "outputs": [
        {
          "output_type": "stream",
          "name": "stdout",
          "text": [
            "Reading package lists... Done\n",
            "Building dependency tree... Done\n",
            "Reading state information... Done\n",
            "The following NEW packages will be installed:\n",
            "  fonts-wqy-zenhei\n",
            "0 upgraded, 1 newly installed, 0 to remove and 16 not upgraded.\n",
            "Need to get 7,472 kB of archives.\n",
            "After this operation, 16.8 MB of additional disk space will be used.\n",
            "Get:1 http://archive.ubuntu.com/ubuntu jammy/universe amd64 fonts-wqy-zenhei all 0.9.45-8 [7,472 kB]\n",
            "Fetched 7,472 kB in 1s (5,697 kB/s)\n",
            "Selecting previously unselected package fonts-wqy-zenhei.\n",
            "(Reading database ... 120831 files and directories currently installed.)\n",
            "Preparing to unpack .../fonts-wqy-zenhei_0.9.45-8_all.deb ...\n",
            "Unpacking fonts-wqy-zenhei (0.9.45-8) ...\n",
            "Setting up fonts-wqy-zenhei (0.9.45-8) ...\n",
            "Processing triggers for fontconfig (2.13.1-4.2ubuntu5) ...\n",
            "/usr/share/fonts: caching, new cache contents: 0 fonts, 1 dirs\n",
            "/usr/share/fonts/truetype: caching, new cache contents: 0 fonts, 3 dirs\n",
            "/usr/share/fonts/truetype/humor-sans: caching, new cache contents: 1 fonts, 0 dirs\n",
            "/usr/share/fonts/truetype/liberation: caching, new cache contents: 16 fonts, 0 dirs\n",
            "/usr/share/fonts/truetype/wqy: caching, new cache contents: 3 fonts, 0 dirs\n",
            "/usr/local/share/fonts: caching, new cache contents: 0 fonts, 0 dirs\n",
            "/root/.local/share/fonts: skipping, no such directory\n",
            "/root/.fonts: skipping, no such directory\n",
            "/usr/share/fonts/truetype: skipping, looped directory detected\n",
            "/usr/share/fonts/truetype/humor-sans: skipping, looped directory detected\n",
            "/usr/share/fonts/truetype/liberation: skipping, looped directory detected\n",
            "/usr/share/fonts/truetype/wqy: skipping, looped directory detected\n",
            "/var/cache/fontconfig: cleaning cache directory\n",
            "/root/.cache/fontconfig: not cleaning non-existent cache directory\n",
            "/root/.fontconfig: not cleaning non-existent cache directory\n",
            "fc-cache: succeeded\n"
          ]
        }
      ]
    },
    {
      "cell_type": "code",
      "source": [
        "import matplotlib as mpl\n",
        "# 你可能會需要自行下載一個中文字體檔案以讓 matplotlib 正確顯示中文\n",
        "zhfont = mpl.font_manager.FontProperties(fname='/usr/share/fonts/truetype/wqy/wqy-zenhei.ttc')\n",
        "plt.style.use(\"seaborn-whitegrid\")\n",
        "\n",
        "# 這個函式將英 -> 中翻譯的注意權重視覺化（注意：我們將注意權重 transpose 以最佳化渲染結果\n",
        "def plot_attention_weights(attention_weights, sentence, predicted_seq, layer_name, max_len_tar=None):\n",
        "    fig = plt.figure(figsize=(17, 7))\n",
        "\n",
        "    sentence = subword_encoder_en.encode(sentence)\n",
        "\n",
        "    if max_len_tar:\n",
        "        predicted_seq = predicted_seq[:max_len_tar]\n",
        "    else:\n",
        "        max_len_tar = len(predicted_seq)\n",
        "\n",
        "    attention_weights = tf.squeeze(attention_weights[layer_name], axis=0)\n",
        "\n",
        "    for head in range(attention_weights.shape[0]):\n",
        "        ax = fig.add_subplot(2, 4, head + 1)\n",
        "\n",
        "        attn_map = np.transpose(attention_weights[head][:max_len_tar, :])\n",
        "        ax.matshow(attn_map, cmap='viridis')\n",
        "\n",
        "        fontdict = {\"fontproperties\": zhfont}\n",
        "\n",
        "        ax.set_xticks(range(max_len_tar))\n",
        "        ax.set_xlim(-0.5, max_len_tar - 1.5)\n",
        "\n",
        "        # Use a consistent list of tick labels for the y-axis\n",
        "        y_tick_labels = ['<start>'] + [subword_encoder_en.decode([i]) for i in sentence] + ['<end>']\n",
        "        ax.set_yticks(range(len(y_tick_labels)))\n",
        "        ax.set_yticklabels(y_tick_labels, fontdict=fontdict)\n",
        "\n",
        "        ax.set_xlabel('Head {}'.format(head + 1))\n",
        "        ax.tick_params(axis=\"x\", labelsize=12)\n",
        "        ax.tick_params(axis=\"y\", labelsize=12)\n",
        "\n",
        "    plt.tight_layout()\n",
        "    plt.show()\n",
        "    plt.close(fig)"
      ],
      "metadata": {
        "id": "Eb-1G6QRspig",
        "outputId": "c44fb995-9e9c-4b5b-9e09-201113e0cef7",
        "colab": {
          "base_uri": "https://localhost:8080/"
        }
      },
      "execution_count": 136,
      "outputs": [
        {
          "output_type": "stream",
          "name": "stderr",
          "text": [
            "<ipython-input-136-facad4ff69b6>:4: MatplotlibDeprecationWarning: The seaborn styles shipped by Matplotlib are deprecated since 3.6, as they no longer correspond to the styles shipped by seaborn. However, they will remain available as 'seaborn-v0_8-<style>'. Alternatively, directly use the seaborn API instead.\n",
            "  plt.style.use(\"seaborn-whitegrid\")\n"
          ]
        }
      ]
    },
    {
      "cell_type": "code",
      "source": [
        "plot_attention_weights(attention_weights, sentence,\n",
        "                       predicted_seq, layer_name, max_len_tar=18)"
      ],
      "metadata": {
        "id": "TwPHJErrsr07",
        "outputId": "43ff2a2f-30a1-4832-ff1c-cfa784ec4f99",
        "colab": {
          "base_uri": "https://localhost:8080/",
          "height": 627
        }
      },
      "execution_count": 139,
      "outputs": [
        {
          "output_type": "display_data",
          "data": {
            "text/plain": [
              "<Figure size 1700x700 with 8 Axes>"
            ],
            "image/png": "[encoded data removed]"
          },
          "metadata": {}
        }
      ]
    },
    {
      "cell_type": "markdown",
      "source": [],
      "metadata": {
        "id": "VadCYB-ejCe1"
      }
    }
  ]
}